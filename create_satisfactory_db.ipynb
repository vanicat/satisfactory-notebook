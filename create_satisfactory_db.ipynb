{
 "cells": [
  {
   "cell_type": "markdown",
   "metadata": {},
   "source": [
    "# Create satisfactory db\n",
    "\n",
    "Using json from Tomáš Blatný [Satisfacroy Tools](https://github.com/greeny/SatisfactoryTools/tree/dev/data)\n",
    "Dowload data.json,\n",
    "Rename it satisfactory.json"
   ]
  },
  {
   "cell_type": "code",
   "execution_count": 1,
   "metadata": {},
   "outputs": [],
   "source": [
    "from satisfactory.create_db import create_db\n",
    "satisfactory_db = \"satisfactory.db\"\n",
    "json_path = 'satisfactory.json'"
   ]
  },
  {
   "source": [
    "The next one is not quickly done"
   ],
   "cell_type": "markdown",
   "metadata": {}
  },
  {
   "cell_type": "code",
   "execution_count": 2,
   "metadata": {},
   "outputs": [],
   "source": [
    "create_db(satisfactory_db, json_path)"
   ]
  },
  {
   "cell_type": "code",
   "execution_count": 13,
   "metadata": {},
   "outputs": [],
   "source": [
    "%load_ext sql\n",
    "%sql sqlite:///satisfactory.db"
   ]
  },
  {
   "cell_type": "code",
   "execution_count": 14,
   "metadata": {},
   "outputs": [],
   "source": [
    "#%sql SELECT * FROM recipes WHERE name LIKE '%oil%'"
   ]
  },
  {
   "cell_type": "code",
   "execution_count": 15,
   "metadata": {},
   "outputs": [],
   "source": [
    "#%sql SELECT * FROM recipe_products JOIN items ON items.id = recipe_products.item WHERE recipe = 418 "
   ]
  },
  {
   "cell_type": "code",
   "execution_count": null,
   "metadata": {},
   "outputs": [],
   "source": []
  }
 ],
 "metadata": {
  "kernelspec": {
   "name": "python3710jvsc74a57bd0bff19c9434c9638798f011a709599759553e2084fd45291eccbceb6c85ee4012",
   "display_name": "Python 3.7.10 64-bit (conda)"
  },
  "language_info": {
   "codemirror_mode": {
    "name": "ipython",
    "version": 3
   },
   "file_extension": ".py",
   "mimetype": "text/x-python",
   "name": "python",
   "nbconvert_exporter": "python",
   "pygments_lexer": "ipython3",
   "version": "3.7.10"
  }
 },
 "nbformat": 4,
 "nbformat_minor": 4
}