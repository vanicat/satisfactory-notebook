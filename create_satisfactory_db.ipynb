{
 "cells": [
  {
   "cell_type": "markdown",
   "metadata": {},
   "source": [
    "# Create satisfactory db\n",
    "\n",
    "Using json from Tomáš Blatný [Satisfacroy Tools](https://github.com/greeny/SatisfactoryTools/tree/dev/data)\n",
    "Dowload data.json,\n",
    "Rename it satisfactory.json"
   ]
  },
  {
   "cell_type": "code",
   "execution_count": 1,
   "metadata": {},
   "outputs": [],
   "source": [
    "import json\n",
    "import os\n",
    "\n",
    "from sqlalchemy import create_engine, Table, Column, Integer, String, Boolean, MetaData, Float"
   ]
  },
  {
   "cell_type": "code",
   "execution_count": 2,
   "metadata": {},
   "outputs": [
    {
     "name": "stdout",
     "output_type": "stream",
     "text": [
      "recipes\n",
      "items\n",
      "schematics\n",
      "generators\n",
      "resources\n",
      "miners\n",
      "buildings\n",
      "('BP_EqDescZipLine_C', {'slug': 'zipline', 'className': 'BP_EqDescZipLine_C', 'name': 'Zipline', 'sinkPoints': 5284, 'description': 'Slot: Hand\\n\\nProvides faster traversal in factories by allowing Pioneers to zip along Power lines.\\nActivate the Zipline and aim at a nearby Power Line to connect to it.', 'stackSize': 1, 'energyValue': 0, 'radioactiveDecay': 0, 'liquid': False, 'fluidColor': {'r': 0, 'g': 0, 'b': 0, 'a': 0}})\n",
      "('Recipe_AILimiter_C', {'slug': 'ai-limiter', 'name': 'AI Limiter', 'className': 'Recipe_AILimiter_C', 'alternate': False, 'time': 12, 'manualTimeMultiplier': 1, 'ingredients': [{'item': 'Desc_CopperSheet_C', 'amount': 5}, {'item': 'Desc_HighSpeedWire_C', 'amount': 20}], 'forBuilding': False, 'inMachine': True, 'inHand': True, 'inWorkshop': False, 'products': [{'item': 'Desc_CircuitBoardHighSpeed_C', 'amount': 1}], 'producedIn': ['Desc_AssemblerMk1_C']})\n",
      "{'slug': 'assembler', 'name': 'Assembler', 'className': 'Recipe_AssemblerMk1_C', 'alternate': False, 'time': 1, 'manualTimeMultiplier': 1, 'ingredients': [{'item': 'Desc_IronPlateReinforced_C', 'amount': 8}, {'item': 'Desc_Rotor_C', 'amount': 4}, {'item': 'Desc_Cable_C', 'amount': 10}], 'forBuilding': True, 'inMachine': False, 'inHand': False, 'inWorkshop': False, 'products': [{'item': 'Desc_AssemblerMk1_C', 'amount': 1}], 'producedIn': []}\n",
      "('Desc_AssemblerMk1_C', {'slug': 'assembler', 'name': 'Assembler', 'description': 'Crafts two parts into another part.\\n\\nCan be automated by feeding parts into it with a conveyor belt connected to the input. The produced parts can be automatically extracted by connecting a conveyor belt to the output.', 'categories': ['SC_Manufacturers_C'], 'buildMenuPriority': 2, 'className': 'Desc_AssemblerMk1_C', 'metadata': {'powerConsumption': 15, 'powerConsumptionExponent': 1.6, 'manufacturingSpeed': 1}, 'size': {'width': 0, 'length': 0, 'height': 0}})\n"
     ]
    }
   ],
   "source": [
    "with open('satisfactory.json') as datas:\n",
    "    datas = json.load(datas)\n",
    "    \n",
    "for i in datas:\n",
    "    print(i)\n",
    "    \n",
    "recipes_src = datas['recipes']\n",
    "items_src = datas['items']\n",
    "schematics_src = datas['schematics']\n",
    "generators_src = datas['generators']\n",
    "resources_src = datas['resources']\n",
    "miners_src = datas['miners']\n",
    "buildings_src = datas['buildings']\n",
    "\n",
    "for i in items_src.items():\n",
    "    print(i)\n",
    "    break\n",
    "    \n",
    "for i in recipes_src.items():\n",
    "    print(i)\n",
    "    break\n",
    "    \n",
    "for i in recipes_src.values():\n",
    "    if i['forBuilding']:\n",
    "        print(i)\n",
    "        break\n",
    "    \n",
    "for i in buildings_src.items():\n",
    "    print(i)\n",
    "    break"
   ]
  },
  {
   "cell_type": "code",
   "execution_count": 3,
   "metadata": {},
   "outputs": [],
   "source": [
    "satisfactory_db = \"satisfactory.db\"\n",
    "\n",
    "if os.path.exists(satisfactory_db):\n",
    "    os.unlink(satisfactory_db)"
   ]
  },
  {
   "cell_type": "code",
   "execution_count": 4,
   "metadata": {},
   "outputs": [],
   "source": [
    "engine = create_engine(f'sqlite:///{satisfactory_db}')"
   ]
  },
  {
   "cell_type": "code",
   "execution_count": 5,
   "metadata": {},
   "outputs": [],
   "source": [
    "meta = MetaData()\n",
    "\n",
    "recipes = Table(\n",
    "    'recipes', meta, \n",
    "    Column('id', Integer, primary_key = True), \n",
    "    Column('slug', String), \n",
    "    Column('name', String), \n",
    "    Column('className', String), \n",
    "    Column('alternate', Boolean), \n",
    "    Column('time', Float), \n",
    "    Column('manualTimeMultiplier', Integer), \n",
    "    Column('forBuilding', Boolean), \n",
    "    Column('inMachine', Boolean), \n",
    "    Column('inHand', Boolean), \n",
    "    Column('inWorkshop', Boolean),\n",
    "    Column('producedIn', String)\n",
    ")\n",
    "\n",
    "items = Table(\n",
    "    'items', meta,\n",
    "    Column('id', Integer, primary_key = True),\n",
    "    Column('slug', String), \n",
    "    Column('name', String), \n",
    "    Column('className', String), \n",
    "    Column('sinkPoints', Integer),\n",
    "    Column('description', String),\n",
    "    Column('stackSize', Integer),\n",
    "    Column('energyValue', Integer),\n",
    "    Column('radioactiveDecay', Integer),\n",
    "    Column('liquid', Boolean)\n",
    ")\n",
    "\n",
    "recipe_ingredients = Table(\n",
    "    'recipe_ingredients', meta,\n",
    "    Column('id', Integer, primary_key = True),\n",
    "    Column('recipe', Integer),\n",
    "    Column('item', Integer),\n",
    "    Column('amount', Integer)\n",
    ")\n",
    "\n",
    "recipe_products = Table(\n",
    "    'recipe_products', meta,\n",
    "    Column('id', Integer, primary_key = True),\n",
    "    Column('recipe', Integer),\n",
    "    Column('item', Integer),\n",
    "    Column('amount', Integer)\n",
    ")\n",
    "\n",
    "buildings = Table(\n",
    "    'buildings', meta,\n",
    "    Column('id', Integer, primary_key = True),\n",
    "    Column('slug', String), \n",
    "    Column('name', String), \n",
    "    Column('description', String), \n",
    "    # Not categories\n",
    "    Column('buildMenuPriority', Integer),\n",
    "    Column('className', String),\n",
    "    # Not metadata\n",
    "    # Not size but: (0 for now in source !) \n",
    "    Column('width', Integer),\n",
    "    Column('length', Integer),\n",
    "    Column('height', Integer),\n",
    "    Column('recipe', Integer)\n",
    ")\n",
    "\n",
    "meta.create_all(engine)"
   ]
  },
  {
   "cell_type": "code",
   "execution_count": 6,
   "metadata": {},
   "outputs": [
    {
     "data": {
      "text/plain": [
       "<sqlalchemy.engine.result.ResultProxy at 0x1ac6ee56c88>"
      ]
     },
     "execution_count": 6,
     "metadata": {},
     "output_type": "execute_result"
    }
   ],
   "source": [
    "def add_item(it):\n",
    "    if 'fluidColor' in it: del i['fluidColor']\n",
    "    ins = items.insert().values(it)\n",
    "    return engine.execute(ins)\n",
    "\n",
    "for i in items_src.values():\n",
    "    add_item(i)\n",
    "\n",
    "add_item({\n",
    "    \"slug\": \"plutonium-waste\",\n",
    "    \"className\": \"Desc_PlutoniumWaste_C\",\n",
    "    \"name\": \"Plutonium Waste\",\n",
    "    \"sinkPoints\": 0,\n",
    "    \"description\": \"The by-product of consuming Plutonium Fuel Rods in the Nuclear Power Plant.\\n\\nCaution: HIGHLY Radioactive.\",\n",
    "    \"stackSize\": 500,\n",
    "    \"energyValue\": 0,\n",
    "    \"radioactiveDecay\": 20,\n",
    "    \"liquid\": False\n",
    "})\n",
    "\n",
    "add_item({\n",
    "    'slug': 'electricity',\n",
    "    'className': 'BP_Electricity_C', \n",
    "    'name': 'electricity',\n",
    "    'sinkPoints': 0,\n",
    "    'description': 'to Power everything',\n",
    "    'stackSize': 0,\n",
    "    'energyValue': 1,\n",
    "    'radioactiveDecay': 0,\n",
    "    'liquid': False\n",
    "})"
   ]
  },
  {
   "cell_type": "code",
   "execution_count": 7,
   "metadata": {},
   "outputs": [],
   "source": [
    "for b in buildings_src.values():\n",
    "    if 'categories' in b:\n",
    "        del b['categories']\n",
    "    if 'metadata' in b:\n",
    "        del b['metadata']\n",
    "    if 'size' in b:\n",
    "        for desc in b['size']:\n",
    "            b[desc] = b['size'][desc]\n",
    "        del b['size']\n",
    "    \n",
    "    ins = buildings.insert().values(b)\n",
    "    \n",
    "    engine.execute(ins)"
   ]
  },
  {
   "cell_type": "code",
   "execution_count": 8,
   "metadata": {},
   "outputs": [],
   "source": [
    "for r in recipes_src.values():\n",
    "    \n",
    "    c = dict(r)\n",
    "    del c['ingredients']\n",
    "    del c['products']\n",
    "    if len(c['producedIn']) > 0:\n",
    "        if len(c['producedIn']) > 1:\n",
    "            print(c['slug'])\n",
    "        c['producedIn'] = c['producedIn'][0]\n",
    "    else:\n",
    "        c['producedIn'] = None\n",
    "    \n",
    "    ins = recipes.insert().values(c)\n",
    "    a = engine.execute(ins)\n",
    "    key = a.inserted_primary_key[0]\n",
    "    for ing in r['ingredients']:\n",
    "        it = engine.execute(items.select().where(items.c.className == ing['item'])).fetchone()\n",
    "        if it is not None:\n",
    "            ing_id = it[0]\n",
    "            ins = recipe_ingredients.insert().values(recipe = key, item = ing_id, amount = ing['amount'])\n",
    "            engine.execute(ins)\n",
    "        \n",
    "    if r['forBuilding']:\n",
    "        for prod in r['products']:\n",
    "            assert prod['amount'] == 1\n",
    "            ins = (buildings.update()\n",
    "                   .where(buildings.c.className == prod['item'])\n",
    "                   .values(recipe = key))\n",
    "            engine.execute(ins)\n",
    "    else:\n",
    "        for prod in r['products']:\n",
    "            it = engine.execute(items.select().where(items.c.className == prod['item'])).fetchone()\n",
    "            if it is not None:\n",
    "                prod_id = it[0]\n",
    "                ins = recipe_products.insert().values(recipe = key, item = prod_id, amount = prod['amount'])\n",
    "                engine.execute(ins)\n",
    "            \n",
    "    #if r['forBuilding']:\n",
    "    #    print(f'{key}: {r}')\n",
    "        \n"
   ]
  },
  {
   "cell_type": "code",
   "execution_count": 9,
   "metadata": {},
   "outputs": [
    {
     "name": "stdout",
     "output_type": "stream",
     "text": [
      "{'className': 'Build_GeneratorBiomass_C', 'fuel': ['Desc_Biofuel_C', 'Desc_GenericBiomass_C', 'Desc_Leaves_C', 'Desc_Wood_C', 'Desc_LiquidBiofuel_C', 'Desc_PackagedBiofuel_C', 'Desc_PackagedAlumina_C', 'Desc_Fabric_C', 'Desc_Mycelia_C', 'Desc_PackagedSulfuricAcid_C', 'Desc_PackagedNitrogenGas_C', 'Desc_PackagedNitricAcid_C', 'Desc_HogParts_C', 'Desc_SpitterParts_C', 'Desc_FlowerPetals_C'], 'powerProduction': 30, 'powerProductionExponent': 1.3, 'waterToPowerRatio': 0}\n"
     ]
    }
   ],
   "source": [
    "# Fake recipe for electricity\n",
    "\n",
    "special_case = {\n",
    "    'Build_GeneratorNuclear_C': {\n",
    "        'Desc_NuclearFuelRod_C': (\"Desc_NuclearWaste_C\", 50),\n",
    "        'Desc_PlutoniumFuelRod_C': (\"Desc_PlutoniumWaste_C\", 10)\n",
    "    }\n",
    "}\n",
    "\n",
    "for gen in generators_src.values():\n",
    "    print(gen)\n",
    "    break\n",
    "        \n",
    "for gen in generators_src.values():\n",
    "    desc_class = 'Desc_' + gen['className'][6:]\n",
    "    desc = buildings_src[desc_class]\n",
    "    gen_slug = desc['slug']\n",
    "    gen_name = desc['name']\n",
    "    for fuel in gen['fuel']:\n",
    "        desc_fuel = items_src[fuel]\n",
    "        if desc_fuel['energyValue'] == 0:\n",
    "            continue\n",
    "        time = desc_fuel['energyValue'] / gen['powerProduction']\n",
    "        fake_recipe = {\n",
    "            \"slug\": f\"{desc_fuel['slug']}-{desc['slug']}\",\n",
    "            \"name\": f\"{desc_fuel['name']} in {desc['name']}\",\n",
    "            \"className\": \"FakeClassName\",\n",
    "            \"alternate\": False,\n",
    "            \"time\": time,\n",
    "            \"manualTimeMultiplier\": 1,\n",
    "            \"forBuilding\": False,\n",
    "            \"inMachine\": True,\n",
    "            \"inHand\": False,\n",
    "            \"inWorkshop\": False,\n",
    "            \"producedIn\": desc_class\n",
    "        }\n",
    "        ins = recipes.insert().values(fake_recipe)\n",
    "        a = engine.execute(ins)\n",
    "        key = a.inserted_primary_key[0]\n",
    "        \n",
    "        it = engine.execute(items.select().where(items.c.className == fuel)).fetchone()\n",
    "        assert(it is not None)\n",
    "        ing_id = it[0]\n",
    "        ins = recipe_ingredients.insert().values(recipe = key, item = ing_id, amount = 1)\n",
    "        engine.execute(ins)\n",
    "        \n",
    "        it = engine.execute(items.select().where(items.c.className == 'BP_Electricity_C')).fetchone()\n",
    "        assert(it is not None)\n",
    "        prod_id = it[0]\n",
    "        ins = recipe_products.insert().values(recipe = key, item = prod_id, amount = desc_fuel['energyValue']/60)\n",
    "        engine.execute(ins)\n",
    "        \n",
    "\n",
    "        "
   ]
  },
  {
   "cell_type": "code",
   "execution_count": 10,
   "metadata": {},
   "outputs": [
    {
     "data": {
      "text/plain": [
       "{'slug': 'iron-rod',\n",
       " 'name': 'Iron Rod',\n",
       " 'className': 'Recipe_IronRod_C',\n",
       " 'alternate': False,\n",
       " 'time': 4,\n",
       " 'manualTimeMultiplier': 0.5,\n",
       " 'ingredients': [{'item': 'Desc_IronIngot_C', 'amount': 1}],\n",
       " 'forBuilding': False,\n",
       " 'inMachine': True,\n",
       " 'inHand': True,\n",
       " 'inWorkshop': False,\n",
       " 'products': [{'item': 'Desc_IronRod_C', 'amount': 1}],\n",
       " 'producedIn': ['Desc_ConstructorMk1_C']}"
      ]
     },
     "execution_count": 10,
     "metadata": {},
     "output_type": "execute_result"
    }
   ],
   "source": [
    "recipes_src[\"Recipe_IronRod_C\"]"
   ]
  },
  {
   "cell_type": "code",
   "execution_count": null,
   "metadata": {},
   "outputs": [],
   "source": []
  },
  {
   "cell_type": "code",
   "execution_count": 39,
   "metadata": {},
   "outputs": [],
   "source": [
    "def make_part(name, stackSize):\n",
    "    return {\n",
    "        'slug': name.lower().replace(' ','-'),\n",
    "        'className': 'Desc_' + name.replace(' ','') + '_C',\n",
    "        'name': name,\n",
    "        'sinkPoints': 0,\n",
    "        'description': 'no description',\n",
    "        'stackSize': stackSize,\n",
    "        'energyValue': 0,\n",
    "        'radioactiveDecay': 0,\n",
    "        'liquid': False,\n",
    "        'fluidColor': {'r': 0, 'g': 0, 'b': 0, 'a': 0}}\n",
    "\n",
    "def make_recipe(name, time):\n",
    "    return {\n",
    "        'slug': name.lower().replace(' ','-'),\n",
    "        'name': name,\n",
    "        'className': 'Desc_' + name.replace(' ','') + '_C',\n",
    "        'alternate': False,\n",
    "        'time': time,\n",
    "        'manualTimeMultiplier': 1 ,\n",
    "        'ingredients': [{'item': 'Desc_IronIngot_C', 'amount': 1}],\n",
    "        'forBuilding': False,\n",
    "        'inMachine': True,\n",
    "        'inHand': True,\n",
    "        'inWorkshop': False,\n",
    "        'products': [{'item': 'Desc_IronRod_C', 'amount': 1}],\n",
    "        'producedIn': ['Desc_ConstructorMk1_C']}"
   ]
  },
  {
   "cell_type": "code",
   "execution_count": 40,
   "metadata": {},
   "outputs": [],
   "source": [
    "xmas_parts = [ make_part(name, stack) for name, stack in\n",
    "    [\n",
    "        ('FICSMAS Gift', 500), ('Candy Cane', 500), ('Actual Snow', 500),\n",
    "        ('Red FICSMAS Ornament', 500), ('Blue FICSMAS Ornament', 500),\n",
    "        ('Copper FICSMAS Ornament', 200), ('Iron FICSMAS Ornament', 200),\n",
    "        ('FICSMAS Ornament Bundle', 100),\n",
    "        ('FICSMAS Bow', 500),\n",
    "        ('FICSMAS Tree Branch', 500),\n",
    "        ('FICSMAS Wonder Star', 50),\n",
    "        ('FICSMAS Decoration', 100),\n",
    "        ('Snowball', 500)\n",
    "    ]]"
   ]
  },
  {
   "cell_type": "code",
   "execution_count": 41,
   "metadata": {},
   "outputs": [],
   "source": [
    "xmas_recipes = [\n",
    "    {'slug': 'iron-rod',\n",
    " 'name': 'Iron Rod',\n",
    " 'className': 'Recipe_IronRod_C',\n",
    " 'alternate': False,\n",
    " 'time': 4,\n",
    " 'manualTimeMultiplier': 0.5,\n",
    " 'ingredients': [{'item': 'Desc_IronIngot_C', 'amount': 1}],\n",
    " 'forBuilding': False,\n",
    " 'inMachine': True,\n",
    " 'inHand': True,\n",
    " 'inWorkshop': False,\n",
    " 'products': [{'item': 'Desc_IronRod_C', 'amount': 1}],\n",
    " 'producedIn': ['Desc_ConstructorMk1_C']}\n",
    "]"
   ]
  },
  {
   "cell_type": "markdown",
   "metadata": {},
   "source": [
    "Correction"
   ]
  },
  {
   "cell_type": "code",
   "execution_count": null,
   "metadata": {},
   "outputs": [],
   "source": []
  },
  {
   "cell_type": "code",
   "execution_count": null,
   "metadata": {},
   "outputs": [],
   "source": []
  }
 ],
 "metadata": {
  "kernelspec": {
   "display_name": "Python 3",
   "language": "python",
   "name": "python3"
  },
  "language_info": {
   "codemirror_mode": {
    "name": "ipython",
    "version": 3
   },
   "file_extension": ".py",
   "mimetype": "text/x-python",
   "name": "python",
   "nbconvert_exporter": "python",
   "pygments_lexer": "ipython3",
   "version": "3.7.3"
  }
 },
 "nbformat": 4,
 "nbformat_minor": 4
}
