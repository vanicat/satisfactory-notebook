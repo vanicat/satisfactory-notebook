{
 "cells": [
  {
   "cell_type": "markdown",
   "metadata": {},
   "source": [
    "# Create satisfactory db\n",
    "\n",
    "Using json from Tomáš Blatný [Satisfacroy Tools](https://github.com/greeny/SatisfactoryTools/tree/dev/data)\n",
    "Dowload data.json,\n",
    "Rename it satisfactory.json"
   ]
  },
  {
   "cell_type": "code",
   "execution_count": 1,
   "metadata": {},
   "outputs": [],
   "source": [
    "from satisfactory.create_db import create_db\n",
    "satisfactory_db = \"satisfactory.db\"\n",
    "json_path = 'satisfactory.json'"
   ]
  },
  {
   "source": [
    "The next one is not quickly done"
   ],
   "cell_type": "markdown",
   "metadata": {}
  },
  {
   "cell_type": "code",
   "execution_count": 2,
   "metadata": {
    "tags": []
   },
   "outputs": [],
   "source": [
    "create_db(satisfactory_db, json_path)"
   ]
  },
  {
   "cell_type": "code",
   "execution_count": 3,
   "metadata": {},
   "outputs": [],
   "source": [
    "%load_ext sql\n",
    "%sql sqlite:///satisfactory.db"
   ]
  },
  {
   "cell_type": "code",
   "execution_count": 4,
   "metadata": {},
   "outputs": [
    {
     "output_type": "stream",
     "name": "stdout",
     "text": [
      " * sqlite:///satisfactory.db\nDone.\n"
     ]
    },
    {
     "output_type": "execute_result",
     "data": {
      "text/plain": [
       "[(10, 'water', 'Water', 'Desc_Water_C', 5, \"It's water.\", 50000, 0, 0, 1),\n",
       " (100, 'packaged-water', 'Packaged Water', 'Desc_PackagedWater_C', 130, 'Water, packaged for alternative transport.', 100, 0, 0, 0)]"
      ],
      "text/html": "<table>\n    <tr>\n        <th>id</th>\n        <th>slug</th>\n        <th>name</th>\n        <th>className</th>\n        <th>sinkPoints</th>\n        <th>description</th>\n        <th>stackSize</th>\n        <th>energyValue</th>\n        <th>radioactiveDecay</th>\n        <th>liquid</th>\n    </tr>\n    <tr>\n        <td>10</td>\n        <td>water</td>\n        <td>Water</td>\n        <td>Desc_Water_C</td>\n        <td>5</td>\n        <td>It&#x27;s water.</td>\n        <td>50000</td>\n        <td>0</td>\n        <td>0</td>\n        <td>1</td>\n    </tr>\n    <tr>\n        <td>100</td>\n        <td>packaged-water</td>\n        <td>Packaged Water</td>\n        <td>Desc_PackagedWater_C</td>\n        <td>130</td>\n        <td>Water, packaged for alternative transport.</td>\n        <td>100</td>\n        <td>0</td>\n        <td>0</td>\n        <td>0</td>\n    </tr>\n</table>"
     },
     "metadata": {},
     "execution_count": 4
    }
   ],
   "source": [
    "%sql SELECT * FROM items WHERE className LIKE '%water%'"
   ]
  },
  {
   "cell_type": "code",
   "execution_count": 5,
   "metadata": {},
   "outputs": [],
   "source": [
    "#%sql SELECT * FROM recipe_products JOIN items ON items.id = recipe_products.item WHERE recipe = 418 "
   ]
  },
  {
   "cell_type": "code",
   "execution_count": null,
   "metadata": {},
   "outputs": [],
   "source": []
  }
 ],
 "metadata": {
  "kernelspec": {
   "name": "python3710jvsc74a57bd0bff19c9434c9638798f011a709599759553e2084fd45291eccbceb6c85ee4012",
   "display_name": "Python 3.7.10 64-bit (conda)"
  },
  "language_info": {
   "codemirror_mode": {
    "name": "ipython",
    "version": 3
   },
   "file_extension": ".py",
   "mimetype": "text/x-python",
   "name": "python",
   "nbconvert_exporter": "python",
   "pygments_lexer": "ipython3",
   "version": "3.7.10"
  }
 },
 "nbformat": 4,
 "nbformat_minor": 4
}