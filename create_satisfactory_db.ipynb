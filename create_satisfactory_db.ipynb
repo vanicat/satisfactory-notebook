{
 "cells": [
  {
   "cell_type": "markdown",
   "metadata": {},
   "source": [
    "# Create satisfactory db\n",
    "\n",
    "Using json from Tomáš Blatný [Satisfacroy Tools](https://github.com/greeny/SatisfactoryTools/tree/dev/data)\n",
    "Dowload data.json,\n",
    "Rename it satisfactory.json"
   ]
  },
  {
   "cell_type": "code",
   "execution_count": 1,
   "metadata": {},
   "outputs": [],
   "source": [
    "import json\n",
    "import os\n",
    "\n",
    "from sqlalchemy import create_engine, Table, Column, Integer, String, Boolean, MetaData, Float"
   ]
  },
  {
   "cell_type": "code",
   "execution_count": 2,
   "metadata": {},
   "outputs": [
    {
     "output_type": "stream",
     "name": "stdout",
     "text": [
      "recipes\nitems\nschematics\ngenerators\nresources\nminers\nbuildings\n('BP_EqDescZipLine_C', {'slug': 'zipline', 'className': 'BP_EqDescZipLine_C', 'name': 'Zipline', 'sinkPoints': 5284, 'description': 'Slot: Hand\\n\\nProvides faster traversal in factories by allowing Pioneers to zip along Power lines.\\nActivate the Zipline and aim at a nearby Power Line to connect to it.', 'stackSize': 1, 'energyValue': 0, 'radioactiveDecay': 0, 'liquid': False, 'fluidColor': {'r': 0, 'g': 0, 'b': 0, 'a': 0}})\n('Recipe_AILimiter_C', {'slug': 'ai-limiter', 'name': 'AI Limiter', 'className': 'Recipe_AILimiter_C', 'alternate': False, 'time': 12, 'manualTimeMultiplier': 1, 'ingredients': [{'item': 'Desc_CopperSheet_C', 'amount': 5}, {'item': 'Desc_HighSpeedWire_C', 'amount': 20}], 'forBuilding': False, 'inMachine': True, 'inHand': True, 'inWorkshop': False, 'products': [{'item': 'Desc_CircuitBoardHighSpeed_C', 'amount': 1}], 'producedIn': ['Desc_AssemblerMk1_C']})\n{'slug': 'assembler', 'name': 'Assembler', 'className': 'Recipe_AssemblerMk1_C', 'alternate': False, 'time': 1, 'manualTimeMultiplier': 1, 'ingredients': [{'item': 'Desc_IronPlateReinforced_C', 'amount': 8}, {'item': 'Desc_Rotor_C', 'amount': 4}, {'item': 'Desc_Cable_C', 'amount': 10}], 'forBuilding': True, 'inMachine': False, 'inHand': False, 'inWorkshop': False, 'products': [{'item': 'Desc_AssemblerMk1_C', 'amount': 1}], 'producedIn': []}\n('Desc_AssemblerMk1_C', {'slug': 'assembler', 'name': 'Assembler', 'description': 'Crafts two parts into another part.\\n\\nCan be automated by feeding parts into it with a conveyor belt connected to the input. The produced parts can be automatically extracted by connecting a conveyor belt to the output.', 'categories': ['SC_Manufacturers_C'], 'buildMenuPriority': 2, 'className': 'Desc_AssemblerMk1_C', 'metadata': {'powerConsumption': 15, 'powerConsumptionExponent': 1.6, 'manufacturingSpeed': 1}, 'size': {'width': 0, 'length': 0, 'height': 0}})\n('Desc_Coal_C', {'item': 'Desc_Coal_C', 'pingColor': {'r': 12, 'g': 12, 'b': 12, 'a': 1}, 'speed': 1})\n{'className': 'Build_MinerMk1_C', 'allowedResources': ['Desc_Coal_C', 'Desc_OreBauxite_C', 'Desc_OreCopper_C', 'Desc_OreGold_C', 'Desc_OreIron_C', 'Desc_OreUranium_C', 'Desc_RawQuartz_C', 'Desc_Stone_C', 'Desc_Sulfur_C'], 'itemsPerCycle': 1, 'extractCycleTime': 1, 'allowLiquids': False, 'allowSolids': True}\n"
     ]
    }
   ],
   "source": [
    "with open('satisfactory.json') as datas:\n",
    "    datas = json.load(datas)\n",
    "    \n",
    "for i in datas:\n",
    "    print(i)\n",
    "    \n",
    "recipes_src = datas['recipes']\n",
    "items_src = datas['items']\n",
    "schematics_src = datas['schematics']\n",
    "generators_src = datas['generators']\n",
    "resources_src = datas['resources']\n",
    "miners_src = datas['miners']\n",
    "buildings_src = datas['buildings']\n",
    "\n",
    "for i in items_src.items():\n",
    "    print(i)\n",
    "    break\n",
    "    \n",
    "for i in recipes_src.items():\n",
    "    print(i)\n",
    "    break\n",
    "    \n",
    "for i in recipes_src.values():\n",
    "    if i['forBuilding']:\n",
    "        print(i)\n",
    "        break\n",
    "    \n",
    "for i in buildings_src.items():\n",
    "    print(i)\n",
    "    break\n",
    "\n",
    "for i in resources_src.items():\n",
    "    print(i)\n",
    "    break\n",
    "\n",
    "for i in resources_src.values():\n",
    "    if i['speed'] != 1:\n",
    "        print(i)\n",
    "        break\n",
    "\n",
    "for i in miners_src.values():\n",
    "    print(i)\n",
    "    break"
   ]
  },
  {
   "cell_type": "code",
   "execution_count": 3,
   "metadata": {},
   "outputs": [],
   "source": [
    "satisfactory_db = \"satisfactory.db\"\n",
    "\n",
    "if os.path.exists(satisfactory_db):\n",
    "    os.unlink(satisfactory_db)"
   ]
  },
  {
   "cell_type": "code",
   "execution_count": 4,
   "metadata": {},
   "outputs": [],
   "source": [
    "engine = create_engine(f'sqlite:///{satisfactory_db}')"
   ]
  },
  {
   "cell_type": "code",
   "execution_count": 5,
   "metadata": {},
   "outputs": [],
   "source": [
    "meta = MetaData()\n",
    "\n",
    "recipes = Table(\n",
    "    'recipes', meta, \n",
    "    Column('id', Integer, primary_key = True), \n",
    "    Column('slug', String), \n",
    "    Column('name', String), \n",
    "    Column('className', String), \n",
    "    Column('alternate', Boolean), \n",
    "    Column('time', Float), \n",
    "    Column('manualTimeMultiplier', Integer), \n",
    "    Column('forBuilding', Boolean), \n",
    "    Column('inMachine', Boolean), \n",
    "    Column('inHand', Boolean), \n",
    "    Column('inWorkshop', Boolean),\n",
    "    Column('producedIn', String)\n",
    ")\n",
    "\n",
    "items = Table(\n",
    "    'items', meta,\n",
    "    Column('id', Integer, primary_key = True),\n",
    "    Column('slug', String), \n",
    "    Column('name', String), \n",
    "    Column('className', String), \n",
    "    Column('sinkPoints', Integer),\n",
    "    Column('description', String),\n",
    "    Column('stackSize', Integer),\n",
    "    Column('energyValue', Integer),\n",
    "    Column('radioactiveDecay', Integer),\n",
    "    Column('liquid', Boolean)\n",
    ")\n",
    "\n",
    "recipe_ingredients = Table(\n",
    "    'recipe_ingredients', meta,\n",
    "    Column('id', Integer, primary_key = True),\n",
    "    Column('recipe', Integer),\n",
    "    Column('item', Integer),\n",
    "    Column('amount', Integer)\n",
    ")\n",
    "\n",
    "recipe_products = Table(\n",
    "    'recipe_products', meta,\n",
    "    Column('id', Integer, primary_key = True),\n",
    "    Column('recipe', Integer),\n",
    "    Column('item', Integer),\n",
    "    Column('amount', Integer)\n",
    ")\n",
    "\n",
    "buildings = Table(\n",
    "    'buildings', meta,\n",
    "    Column('id', Integer, primary_key = True),\n",
    "    Column('slug', String), \n",
    "    Column('name', String), \n",
    "    Column('description', String), \n",
    "    # Not categories\n",
    "    Column('buildMenuPriority', Integer),\n",
    "    Column('className', String),\n",
    "    # Not metadata\n",
    "    # Not size but: (0 for now in source !) \n",
    "    Column('width', Integer),\n",
    "    Column('length', Integer),\n",
    "    Column('height', Integer),\n",
    "    Column('recipe', Integer)\n",
    ")\n",
    "\n",
    "meta.create_all(engine)"
   ]
  },
  {
   "cell_type": "code",
   "execution_count": 6,
   "metadata": {},
   "outputs": [
    {
     "output_type": "execute_result",
     "data": {
      "text/plain": [
       "<sqlalchemy.engine.cursor.LegacyCursorResult at 0x24cfb55ab88>"
      ]
     },
     "metadata": {},
     "execution_count": 6
    }
   ],
   "source": [
    "def add_item(it):\n",
    "    if 'fluidColor' in it: del i['fluidColor']\n",
    "    if it['liquid']:\n",
    "        it['energyValue'] *= 1000\n",
    "    ins = items.insert().values(it)\n",
    "    return engine.execute(ins)\n",
    "\n",
    "for i in items_src.values():\n",
    "    add_item(i)\n",
    "\n",
    "add_item({\n",
    "    \"slug\": \"plutonium-waste\",\n",
    "    \"className\": \"Desc_PlutoniumWaste_C\",\n",
    "    \"name\": \"Plutonium Waste\",\n",
    "    \"sinkPoints\": 0,\n",
    "    \"description\": \"The by-product of consuming Plutonium Fuel Rods in the Nuclear Power Plant.\\n\\nCaution: HIGHLY Radioactive.\",\n",
    "    \"stackSize\": 500,\n",
    "    \"energyValue\": 0,\n",
    "    \"radioactiveDecay\": 20,\n",
    "    \"liquid\": False\n",
    "})\n",
    "\n",
    "add_item({\n",
    "    'slug': 'electricity',\n",
    "    'className': 'BP_Electricity_C', \n",
    "    'name': 'electricity',\n",
    "    'sinkPoints': 0,\n",
    "    'description': 'to Power everything',\n",
    "    'stackSize': 0,\n",
    "    'energyValue': 1,\n",
    "    'radioactiveDecay': 0,\n",
    "    'liquid': False\n",
    "})"
   ]
  },
  {
   "cell_type": "code",
   "execution_count": 7,
   "metadata": {},
   "outputs": [],
   "source": [
    "for b in buildings_src.values():\n",
    "    if 'categories' in b:\n",
    "        del b['categories']\n",
    "    if 'metadata' in b:\n",
    "        del b['metadata']\n",
    "    if 'size' in b:\n",
    "        for desc in b['size']:\n",
    "            b[desc] = b['size'][desc]\n",
    "        del b['size']\n",
    "    \n",
    "    ins = buildings.insert().values(b)\n",
    "    \n",
    "    engine.execute(ins)"
   ]
  },
  {
   "cell_type": "code",
   "execution_count": 8,
   "metadata": {},
   "outputs": [],
   "source": [
    "for r in recipes_src.values():\n",
    "    c = dict(r)\n",
    "    del c['ingredients']\n",
    "    del c['products']\n",
    "    if len(c['producedIn']) > 0:\n",
    "        if len(c['producedIn']) > 1:\n",
    "            print(c['slug'])\n",
    "        c['producedIn'] = c['producedIn'][0]\n",
    "    else:\n",
    "        c['producedIn'] = None\n",
    "    \n",
    "    ins = recipes.insert().values(c)\n",
    "    a = engine.execute(ins)\n",
    "    key = a.inserted_primary_key[0]\n",
    "    for ing in r['ingredients']:\n",
    "        it = engine.execute(items.select().where(items.c.className == ing['item'])).fetchone()\n",
    "        if it is not None:\n",
    "            ing_id = it[0]\n",
    "            ins = recipe_ingredients.insert().values(recipe = key, item = ing_id, amount = ing['amount'])\n",
    "            engine.execute(ins)\n",
    "        \n",
    "    if r['forBuilding']:\n",
    "        for prod in r['products']:\n",
    "            assert prod['amount'] == 1\n",
    "            ins = (buildings.update()\n",
    "                   .where(buildings.c.className == prod['item'])\n",
    "                   .values(recipe = key))\n",
    "            engine.execute(ins)\n",
    "    else:\n",
    "        for prod in r['products']:\n",
    "            it = engine.execute(items.select().where(items.c.className == prod['item'])).fetchone()\n",
    "            if it is not None:\n",
    "                prod_id = it[0]\n",
    "                ins = recipe_products.insert().values(recipe = key, item = prod_id, amount = prod['amount'])\n",
    "                engine.execute(ins)\n",
    "            \n",
    "    #if r['forBuilding']:\n",
    "    #    print(f'{key}: {r}')\n",
    "        \n"
   ]
  },
  {
   "cell_type": "code",
   "execution_count": 9,
   "metadata": {},
   "outputs": [
    {
     "output_type": "stream",
     "name": "stdout",
     "text": [
      "{'className': 'Build_GeneratorBiomass_C', 'fuel': ['Desc_Biofuel_C', 'Desc_GenericBiomass_C', 'Desc_Leaves_C', 'Desc_Wood_C', 'Desc_LiquidBiofuel_C', 'Desc_PackagedBiofuel_C', 'Desc_PackagedAlumina_C', 'Desc_Fabric_C', 'Desc_Mycelia_C', 'Desc_PackagedSulfuricAcid_C', 'Desc_PackagedNitrogenGas_C', 'Desc_PackagedNitricAcid_C', 'Desc_HogParts_C', 'Desc_SpitterParts_C', 'Desc_FlowerPetals_C'], 'powerProduction': 30, 'powerProductionExponent': 1.3, 'waterToPowerRatio': 0}\n"
     ]
    }
   ],
   "source": [
    "# Fake recipe for electricity\n",
    "\n",
    "special_case = {\n",
    "    'Build_GeneratorNuclear_C': {\n",
    "        'Desc_NuclearFuelRod_C': (\"Desc_NuclearWaste_C\", 50),\n",
    "        'Desc_PlutoniumFuelRod_C': (\"Desc_PlutoniumWaste_C\", 10)\n",
    "    }\n",
    "}\n",
    "\n",
    "for gen in generators_src.values():\n",
    "    print(gen)\n",
    "    break\n",
    "        \n",
    "for gen in generators_src.values():\n",
    "    desc_class = 'Desc_' + gen['className'][6:]\n",
    "    desc = buildings_src[desc_class]\n",
    "    gen_slug = desc['slug']\n",
    "    gen_name = desc['name']\n",
    "    for fuel in gen['fuel']:\n",
    "        desc_fuel = items_src[fuel]\n",
    "        if desc_fuel['energyValue'] == 0:\n",
    "            continue\n",
    "        time = desc_fuel['energyValue'] / gen['powerProduction']\n",
    "        fake_recipe = {\n",
    "            \"slug\": f\"{desc_fuel['slug']}-{desc['slug']}\",\n",
    "            \"name\": f\"{desc_fuel['name']} in {desc['name']}\",\n",
    "            \"className\": \"FakeClassName\",\n",
    "            \"alternate\": False,\n",
    "            \"time\": time,\n",
    "            \"manualTimeMultiplier\": 1,\n",
    "            \"forBuilding\": False,\n",
    "            \"inMachine\": True,\n",
    "            \"inHand\": False,\n",
    "            \"inWorkshop\": False,\n",
    "            \"producedIn\": desc_class\n",
    "        }\n",
    "        ins = recipes.insert().values(fake_recipe)\n",
    "        a = engine.execute(ins)\n",
    "        key = a.inserted_primary_key[0]\n",
    "        \n",
    "        it = engine.execute(items.select().where(items.c.className == fuel)).fetchone()\n",
    "        assert(it is not None)\n",
    "        ing_id = it[0]\n",
    "        ins = recipe_ingredients.insert().values(recipe = key, item = ing_id, amount = 1)\n",
    "        engine.execute(ins)\n",
    "        \n",
    "        if gen['waterToPowerRatio'] > 0:\n",
    "            water_cons = time * gen['powerProduction'] * gen['waterToPowerRatio'] / 1000\n",
    "            it = engine.execute(items.select().where(items.c.name == \"Water\")).fetchone()\n",
    "            assert(it is not None)\n",
    "            ing_id = it[0]\n",
    "            ins = recipe_ingredients.insert().values(recipe = key, item = ing_id, amount = water_cons)\n",
    "            engine.execute(ins)\n",
    "        \n",
    "        it = engine.execute(items.select().where(items.c.className == 'BP_Electricity_C')).fetchone()\n",
    "        assert(it is not None)\n",
    "        prod_id = it[0]\n",
    "        ins = recipe_products.insert().values(recipe = key, item = prod_id, amount = desc_fuel['energyValue']/60)\n",
    "        engine.execute(ins)\n",
    "        \n",
    "        if gen['className'] in special_case:\n",
    "            waste, amount = special_case[gen['className']][fuel]\n",
    "            it = engine.execute(items.select().where(items.c.className == waste)).fetchone()\n",
    "            assert(it is not None)\n",
    "            prod_id = it[0]\n",
    "            ins = recipe_products.insert().values(recipe = key, item = prod_id, amount = amount)\n",
    "            engine.execute(ins)\n",
    "        \n",
    "\n",
    "        "
   ]
  },
  {
   "cell_type": "markdown",
   "metadata": {},
   "source": [
    "# Fake recipe for nodes"
   ]
  },
  {
   "cell_type": "code",
   "execution_count": 10,
   "metadata": {
    "tags": []
   },
   "outputs": [],
   "source": [
    "qualities = { \n",
    "    'impure': 0.5, \n",
    "    'normal': 1,\n",
    "    'pure': 2\n",
    "}\n",
    "\n",
    "for miner in miners_src.values():\n",
    "    #print(miner)\n",
    "    for ressource in miner['allowedResources']:\n",
    "        ressource = items_src[ressource]\n",
    "        liquid_mult = 1000 if miner['allowLiquids'] else 1\n",
    "        for qua in qualities:\n",
    "            fake_recipe = {\n",
    "                \"slug\": f\"{miner['className'].lower()[6:-2]}-{ressource['slug']}-{qua}\",\n",
    "                \"name\": f\"{qua} {ressource['name']} with {miner['className'][6:-2]}\",\n",
    "                \"className\": f\"Recipe_{miner['className'][6:-2]}{ressource['className'][4:-1]}{qua}_C\",\n",
    "                \"alternate\": False,\n",
    "                \"time\": miner['extractCycleTime'] / qualities[qua] / (miner['itemsPerCycle'] / liquid_mult),\n",
    "                \"manualTimeMultiplier\": 1,\n",
    "                \"forBuilding\": False,\n",
    "                \"inMachine\": True,\n",
    "                \"inHand\": False,\n",
    "                \"inWorkshop\": False,\n",
    "                \"producedIn\": f\"Desc{miner['className'][5:]}\"\n",
    "            }\n",
    "    \n",
    "            ins = recipes.insert().values(fake_recipe)\n",
    "            a = engine.execute(ins)\n",
    "            key = a.inserted_primary_key[0]\n",
    "\n",
    "            it = engine.execute(items.select().where(items.c.className == ressource['className'])).fetchone()\n",
    "            assert(it is not None)\n",
    "            prod_id = it[0]\n",
    "            ins = recipe_products.insert().values(recipe = key, item = prod_id, amount = 1)\n",
    "            engine.execute(ins)"
   ]
  },
  {
   "cell_type": "code",
   "execution_count": null,
   "metadata": {},
   "outputs": [],
   "source": []
  },
  {
   "cell_type": "code",
   "execution_count": 11,
   "metadata": {},
   "outputs": [],
   "source": [
    "%load_ext sql\n",
    "%sql sqlite:///satisfactory.db"
   ]
  },
  {
   "cell_type": "code",
   "execution_count": 12,
   "metadata": {},
   "outputs": [
    {
     "output_type": "stream",
     "name": "stdout",
     "text": [
      " * sqlite:///satisfactory.db\nDone.\n"
     ]
    },
    {
     "output_type": "execute_result",
     "data": {
      "text/plain": [
       "[(40, 'alternate-heavy-oil-residue', 'Alternate: Heavy Oil Residue', 'Recipe_Alternate_HeavyOilResidue_C', 1, 6.0, 1, 0, 1, 0, 0, 'Desc_OilRefinery_C'),\n",
       " (208, 'oil-extractor', 'Oil Extractor', 'Recipe_OilPump_C', 0, 1.0, 1, 1, 0, 0, 0, None),\n",
       " (212, 'packaged-oil', 'Packaged Oil', 'Recipe_PackagedCrudeOil_C', 0, 4.0, 1, 0, 1, 0, 0, 'Desc_Packager_C'),\n",
       " (215, 'packaged-heavy-oil-residue', 'Packaged Heavy Oil Residue', 'Recipe_PackagedOilResidue_C', 0, 4.0, 1, 0, 1, 0, 0, 'Desc_Packager_C'),\n",
       " (339, 'unpackage-heavy-oil-residue', 'Unpackage Heavy Oil Residue', 'Recipe_UnpackageOilResidue_C', 0, 6.0, 1, 0, 1, 0, 0, 'Desc_Packager_C'),\n",
       " (340, 'unpackage-oil', 'Unpackage Oil', 'Recipe_UnpackageOil_C', 0, 2.0, 1, 0, 1, 0, 0, 'Desc_Packager_C'),\n",
       " (480, 'oilpump-crude-oil-impure', 'impure Crude Oil with OilPump', 'Recipe_OilPump_LiquidOil_impure_C', 0, 1.0, 1, 0, 1, 0, 0, 'Desc_OilPump_C'),\n",
       " (481, 'oilpump-crude-oil-normal', 'normal Crude Oil with OilPump', 'Recipe_OilPump_LiquidOil_normal_C', 0, 0.5, 1, 0, 1, 0, 0, 'Desc_OilPump_C'),\n",
       " (482, 'oilpump-crude-oil-pure', 'pure Crude Oil with OilPump', 'Recipe_OilPump_LiquidOil_pure_C', 0, 0.25, 1, 0, 1, 0, 0, 'Desc_OilPump_C')]"
      ],
      "text/html": "<table>\n    <tr>\n        <th>id</th>\n        <th>slug</th>\n        <th>name</th>\n        <th>className</th>\n        <th>alternate</th>\n        <th>time</th>\n        <th>manualTimeMultiplier</th>\n        <th>forBuilding</th>\n        <th>inMachine</th>\n        <th>inHand</th>\n        <th>inWorkshop</th>\n        <th>producedIn</th>\n    </tr>\n    <tr>\n        <td>40</td>\n        <td>alternate-heavy-oil-residue</td>\n        <td>Alternate: Heavy Oil Residue</td>\n        <td>Recipe_Alternate_HeavyOilResidue_C</td>\n        <td>1</td>\n        <td>6.0</td>\n        <td>1</td>\n        <td>0</td>\n        <td>1</td>\n        <td>0</td>\n        <td>0</td>\n        <td>Desc_OilRefinery_C</td>\n    </tr>\n    <tr>\n        <td>208</td>\n        <td>oil-extractor</td>\n        <td>Oil Extractor</td>\n        <td>Recipe_OilPump_C</td>\n        <td>0</td>\n        <td>1.0</td>\n        <td>1</td>\n        <td>1</td>\n        <td>0</td>\n        <td>0</td>\n        <td>0</td>\n        <td>None</td>\n    </tr>\n    <tr>\n        <td>212</td>\n        <td>packaged-oil</td>\n        <td>Packaged Oil</td>\n        <td>Recipe_PackagedCrudeOil_C</td>\n        <td>0</td>\n        <td>4.0</td>\n        <td>1</td>\n        <td>0</td>\n        <td>1</td>\n        <td>0</td>\n        <td>0</td>\n        <td>Desc_Packager_C</td>\n    </tr>\n    <tr>\n        <td>215</td>\n        <td>packaged-heavy-oil-residue</td>\n        <td>Packaged Heavy Oil Residue</td>\n        <td>Recipe_PackagedOilResidue_C</td>\n        <td>0</td>\n        <td>4.0</td>\n        <td>1</td>\n        <td>0</td>\n        <td>1</td>\n        <td>0</td>\n        <td>0</td>\n        <td>Desc_Packager_C</td>\n    </tr>\n    <tr>\n        <td>339</td>\n        <td>unpackage-heavy-oil-residue</td>\n        <td>Unpackage Heavy Oil Residue</td>\n        <td>Recipe_UnpackageOilResidue_C</td>\n        <td>0</td>\n        <td>6.0</td>\n        <td>1</td>\n        <td>0</td>\n        <td>1</td>\n        <td>0</td>\n        <td>0</td>\n        <td>Desc_Packager_C</td>\n    </tr>\n    <tr>\n        <td>340</td>\n        <td>unpackage-oil</td>\n        <td>Unpackage Oil</td>\n        <td>Recipe_UnpackageOil_C</td>\n        <td>0</td>\n        <td>2.0</td>\n        <td>1</td>\n        <td>0</td>\n        <td>1</td>\n        <td>0</td>\n        <td>0</td>\n        <td>Desc_Packager_C</td>\n    </tr>\n    <tr>\n        <td>480</td>\n        <td>oilpump-crude-oil-impure</td>\n        <td>impure Crude Oil with OilPump</td>\n        <td>Recipe_OilPump_LiquidOil_impure_C</td>\n        <td>0</td>\n        <td>1.0</td>\n        <td>1</td>\n        <td>0</td>\n        <td>1</td>\n        <td>0</td>\n        <td>0</td>\n        <td>Desc_OilPump_C</td>\n    </tr>\n    <tr>\n        <td>481</td>\n        <td>oilpump-crude-oil-normal</td>\n        <td>normal Crude Oil with OilPump</td>\n        <td>Recipe_OilPump_LiquidOil_normal_C</td>\n        <td>0</td>\n        <td>0.5</td>\n        <td>1</td>\n        <td>0</td>\n        <td>1</td>\n        <td>0</td>\n        <td>0</td>\n        <td>Desc_OilPump_C</td>\n    </tr>\n    <tr>\n        <td>482</td>\n        <td>oilpump-crude-oil-pure</td>\n        <td>pure Crude Oil with OilPump</td>\n        <td>Recipe_OilPump_LiquidOil_pure_C</td>\n        <td>0</td>\n        <td>0.25</td>\n        <td>1</td>\n        <td>0</td>\n        <td>1</td>\n        <td>0</td>\n        <td>0</td>\n        <td>Desc_OilPump_C</td>\n    </tr>\n</table>"
     },
     "metadata": {},
     "execution_count": 12
    }
   ],
   "source": [
    "%sql SELECT * FROM recipes WHERE name LIKE '%oil%'"
   ]
  },
  {
   "cell_type": "code",
   "execution_count": 13,
   "metadata": {},
   "outputs": [
    {
     "output_type": "stream",
     "name": "stdout",
     "text": [
      " * sqlite:///satisfactory.db\nDone.\n"
     ]
    },
    {
     "output_type": "execute_result",
     "data": {
      "text/plain": [
       "[(281, 418, 108, 1, 108, 'raw-quartz', 'Raw Quartz', 'Desc_RawQuartz_C', 15, 'Raw Quartz is processed into Quartz Crystals which are used for radar and quantum technology.', 100, 0, 0, 0)]"
      ],
      "text/html": "<table>\n    <tr>\n        <th>id</th>\n        <th>recipe</th>\n        <th>item</th>\n        <th>amount</th>\n        <th>id_1</th>\n        <th>slug</th>\n        <th>name</th>\n        <th>className</th>\n        <th>sinkPoints</th>\n        <th>description</th>\n        <th>stackSize</th>\n        <th>energyValue</th>\n        <th>radioactiveDecay</th>\n        <th>liquid</th>\n    </tr>\n    <tr>\n        <td>281</td>\n        <td>418</td>\n        <td>108</td>\n        <td>1</td>\n        <td>108</td>\n        <td>raw-quartz</td>\n        <td>Raw Quartz</td>\n        <td>Desc_RawQuartz_C</td>\n        <td>15</td>\n        <td>Raw Quartz is processed into Quartz Crystals which are used for radar and quantum technology.</td>\n        <td>100</td>\n        <td>0</td>\n        <td>0</td>\n        <td>0</td>\n    </tr>\n</table>"
     },
     "metadata": {},
     "execution_count": 13
    }
   ],
   "source": [
    "%sql SELECT * FROM recipe_products JOIN items ON items.id = recipe_products.item WHERE recipe = 418 "
   ]
  },
  {
   "cell_type": "code",
   "execution_count": null,
   "metadata": {},
   "outputs": [],
   "source": []
  }
 ],
 "metadata": {
  "kernelspec": {
   "name": "python3710jvsc74a57bd0bff19c9434c9638798f011a709599759553e2084fd45291eccbceb6c85ee4012",
   "display_name": "Python 3.7.3 64-bit ('base': conda)"
  },
  "language_info": {
   "codemirror_mode": {
    "name": "ipython",
    "version": 3
   },
   "file_extension": ".py",
   "mimetype": "text/x-python",
   "name": "python",
   "nbconvert_exporter": "python",
   "pygments_lexer": "ipython3",
   "version": "3.7.10"
  }
 },
 "nbformat": 4,
 "nbformat_minor": 4
}