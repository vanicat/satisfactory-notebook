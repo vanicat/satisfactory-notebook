{
 "cells": [
  {
   "cell_type": "code",
   "execution_count": 1,
   "metadata": {},
   "outputs": [],
   "source": [
    "from sqlalchemy import create_engine, Table, select, MetaData, and_\n",
    "import math\n",
    "from IPython.display import display, Markdown, clear_output\n",
    "import ipywidgets as widgets\n",
    "from collections import OrderedDict, namedtuple\n",
    "import networkx as nx\n",
    "#import matplotlib.pyplot as plt\n",
    "import random as rd\n",
    "import plotly.graph_objects as go\n",
    "import importlib\n",
    "from sympy import var, solve, Eq"
   ]
  },
  {
   "cell_type": "code",
   "execution_count": 2,
   "metadata": {},
   "outputs": [
    {
     "name": "stdout",
     "output_type": "stream",
     "text": [
      "Wall 8m x 4m déjà là: Recipe(name='Wall 8m x 4m', alternate=False, time=0.016666666666666666, ingredient=[('Iron Plate', 3), ('Concrete', 3)], product=[], producedIn=None) et ('Wall 8m x 4m', False, 1, [('Iron Plate', 3), ('Concrete', 3)], [], None) \n",
      "Wall Conveyor x3 déjà là: Recipe(name='Wall Conveyor x3', alternate=False, time=0.016666666666666666, ingredient=[('Iron Plate', 3), ('Concrete', 3)], product=[], producedIn=None) et ('Wall Conveyor x3', False, 1, [('Iron Plate', 3), ('Concrete', 3)], [], None) \n",
      "Wall Conveyor x2 déjà là: Recipe(name='Wall Conveyor x2', alternate=False, time=0.016666666666666666, ingredient=[('Iron Plate', 3), ('Concrete', 3)], product=[], producedIn=None) et ('Wall Conveyor x2', False, 1, [('Iron Plate', 3), ('Concrete', 3)], [], None) \n",
      "Wall Conveyor x1 déjà là: Recipe(name='Wall Conveyor x1', alternate=False, time=0.016666666666666666, ingredient=[('Iron Plate', 3), ('Concrete', 3)], product=[], producedIn=None) et ('Wall Conveyor x1', False, 1, [('Iron Plate', 3), ('Concrete', 3)], [], None) \n",
      "Wall Conveyor Perpendicular déjà là: Recipe(name='Wall Conveyor Perpendicular', alternate=False, time=0.016666666666666666, ingredient=[('Iron Plate', 3), ('Concrete', 3)], product=[], producedIn=None) et ('Wall Conveyor Perpendicular', False, 1, [('Iron Plate', 3), ('Concrete', 3)], [], None) \n",
      "Center Door Wall déjà là: Recipe(name='Center Door Wall', alternate=False, time=0.016666666666666666, ingredient=[('Iron Plate', 3), ('Concrete', 3)], product=[], producedIn=None) et ('Center Door Wall', False, 1, [('Iron Plate', 3), ('Concrete', 3)], [], None) \n",
      "Left Door Wall déjà là: Recipe(name='Left Door Wall', alternate=False, time=0.016666666666666666, ingredient=[('Iron Plate', 3), ('Concrete', 3)], product=[], producedIn=None) et ('Left Door Wall', False, 1, [('Iron Plate', 3), ('Concrete', 3)], [], None) \n",
      "Right Door Wall déjà là: Recipe(name='Right Door Wall', alternate=False, time=0.016666666666666666, ingredient=[('Iron Plate', 3), ('Concrete', 3)], product=[], producedIn=None) et ('Right Door Wall', False, 1, [('Iron Plate', 3), ('Concrete', 3)], [], None) \n",
      "Panel Window déjà là: Recipe(name='Panel Window', alternate=False, time=0.016666666666666666, ingredient=[('Iron Plate', 3), ('Concrete', 3)], product=[], producedIn=None) et ('Panel Window', False, 1, [('Iron Plate', 3), ('Concrete', 3)], [], None) \n"
     ]
    },
    {
     "data": {
      "application/vnd.jupyter.widget-view+json": {
       "model_id": "86d013a6428d43b7b4e1c3f8631df475",
       "version_major": 2,
       "version_minor": 0
      },
      "text/plain": [
       "VBox(children=(HBox(children=(VBox(children=(Label(value='Items'), VBox(children=(HBox(children=(Text(value=''…"
      ]
     },
     "metadata": {},
     "output_type": "display_data"
    },
    {
     "data": {
      "text/plain": [
       "['Iron Ingot']"
      ]
     },
     "execution_count": 2,
     "metadata": {},
     "output_type": "execute_result"
    }
   ],
   "source": [
    "import interactive_satisfactory\n",
    "# importlib.reload(interactive_satisfactory)\n",
    "from interactive_satisfactory import (ResultOfProd, interactive_search, ResultFromProd, ResultOfProd, \n",
    "    draw_dependency_graph, Recipe, interactiveOfProduction, search_products_by_recipes)\n",
    "\n",
    "with ResultOfProd() as ref:\n",
    "    pass\n",
    "\n",
    "search_products_by_recipes(\"Iron Ingot\")"
   ]
  },
  {
   "cell_type": "code",
   "execution_count": 3,
   "metadata": {},
   "outputs": [
    {
     "name": "stdout",
     "output_type": "stream",
     "text": [
      "Wall 8m x 4m déjà là: Recipe(name='Wall 8m x 4m', alternate=False, time=0.016666666666666666, ingredient=[('Iron Plate', 3), ('Concrete', 3)], product=[], producedIn=None) et ('Wall 8m x 4m', False, 1, [('Iron Plate', 3), ('Concrete', 3)], [], None) \n",
      "Wall Conveyor x3 déjà là: Recipe(name='Wall Conveyor x3', alternate=False, time=0.016666666666666666, ingredient=[('Iron Plate', 3), ('Concrete', 3)], product=[], producedIn=None) et ('Wall Conveyor x3', False, 1, [('Iron Plate', 3), ('Concrete', 3)], [], None) \n",
      "Wall Conveyor x2 déjà là: Recipe(name='Wall Conveyor x2', alternate=False, time=0.016666666666666666, ingredient=[('Iron Plate', 3), ('Concrete', 3)], product=[], producedIn=None) et ('Wall Conveyor x2', False, 1, [('Iron Plate', 3), ('Concrete', 3)], [], None) \n",
      "Wall Conveyor x1 déjà là: Recipe(name='Wall Conveyor x1', alternate=False, time=0.016666666666666666, ingredient=[('Iron Plate', 3), ('Concrete', 3)], product=[], producedIn=None) et ('Wall Conveyor x1', False, 1, [('Iron Plate', 3), ('Concrete', 3)], [], None) \n",
      "Wall Conveyor Perpendicular déjà là: Recipe(name='Wall Conveyor Perpendicular', alternate=False, time=0.016666666666666666, ingredient=[('Iron Plate', 3), ('Concrete', 3)], product=[], producedIn=None) et ('Wall Conveyor Perpendicular', False, 1, [('Iron Plate', 3), ('Concrete', 3)], [], None) \n",
      "Center Door Wall déjà là: Recipe(name='Center Door Wall', alternate=False, time=0.016666666666666666, ingredient=[('Iron Plate', 3), ('Concrete', 3)], product=[], producedIn=None) et ('Center Door Wall', False, 1, [('Iron Plate', 3), ('Concrete', 3)], [], None) \n",
      "Left Door Wall déjà là: Recipe(name='Left Door Wall', alternate=False, time=0.016666666666666666, ingredient=[('Iron Plate', 3), ('Concrete', 3)], product=[], producedIn=None) et ('Left Door Wall', False, 1, [('Iron Plate', 3), ('Concrete', 3)], [], None) \n",
      "Right Door Wall déjà là: Recipe(name='Right Door Wall', alternate=False, time=0.016666666666666666, ingredient=[('Iron Plate', 3), ('Concrete', 3)], product=[], producedIn=None) et ('Right Door Wall', False, 1, [('Iron Plate', 3), ('Concrete', 3)], [], None) \n",
      "Panel Window déjà là: Recipe(name='Panel Window', alternate=False, time=0.016666666666666666, ingredient=[('Iron Plate', 3), ('Concrete', 3)], product=[], producedIn=None) et ('Panel Window', False, 1, [('Iron Plate', 3), ('Concrete', 3)], [], None) \n"
     ]
    },
    {
     "data": {
      "text/plain": [
       "<module 'interactive_satisfactory' from 'C:\\\\Users\\\\utilisateur1\\\\Documents\\\\Python Scripts\\\\interactive_satisfactory.py'>"
      ]
     },
     "execution_count": 3,
     "metadata": {},
     "output_type": "execute_result"
    }
   ],
   "source": [
    "importlib.reload(interactive_satisfactory)"
   ]
  },
  {
   "cell_type": "code",
   "execution_count": 8,
   "metadata": {},
   "outputs": [
    {
     "data": {
      "application/vnd.jupyter.widget-view+json": {
       "model_id": "a7803e3be1cb412b95effcf5b40669fb",
       "version_major": 2,
       "version_minor": 0
      },
      "text/plain": [
       "VBox(children=(HBox(children=(VBox(children=(Label(value='Items'), VBox(children=(HBox(children=(Text(value=''…"
      ]
     },
     "metadata": {},
     "output_type": "display_data"
    },
    {
     "data": {
      "application/vnd.jupyter.widget-view+json": {
       "model_id": "daafcca08b5244fbaa6612b2aa8aaddb",
       "version_major": 2,
       "version_minor": 0
      },
      "text/plain": [
       "VBox(children=(HBox(children=(VBox(children=(Label(value='Items'), VBox(children=(HBox(children=(Text(value=''…"
      ]
     },
     "metadata": {},
     "output_type": "display_data"
    }
   ],
   "source": [
    "with ResultOfProd(\"myTest\") as myTest:\n",
    "    pass\n",
    "\n",
    "\n",
    "interactiveOfProduction(myTest, \"    myTest\")"
   ]
  },
  {
   "cell_type": "code",
   "execution_count": 5,
   "metadata": {},
   "outputs": [
    {
     "data": {
      "text/plain": [
       "[480, 120, 120]"
      ]
     },
     "execution_count": 5,
     "metadata": {},
     "output_type": "execute_result"
    }
   ],
   "source": [
    "BELTS = [780, 480, 270, 120, 60]\n",
    "\n",
    "def limitter(x):\n",
    "    x = int(math.ceil(x/30) * 30)        # que des multiples de 30!\n",
    "    \n",
    "    results = {}\n",
    "    \n",
    "    def compute(x):\n",
    "        if x in results:\n",
    "            return results[x]\n",
    "        if x == 0:\n",
    "            return []\n",
    "        \n",
    "        size = x//30\n",
    "        result = None\n",
    "        for belt in BELTS:\n",
    "            if belt <= x and (result is None or belt not in result):\n",
    "                reste = compute(x - belt)\n",
    "                if reste is not None and len(reste) + 1 < size:\n",
    "                    size = len(reste) + 1\n",
    "                    result = [belt] + reste\n",
    "        \n",
    "        results[x] = result\n",
    "        return result\n",
    "    \n",
    "    return compute(x)\n",
    "\n",
    "limitter(720)\n",
    "        \n",
    "        "
   ]
  },
  {
   "cell_type": "markdown",
   "metadata": {},
   "source": [
    "# nouvelle partie"
   ]
  },
  {
   "cell_type": "markdown",
   "metadata": {},
   "source": [
    "## usine à fer"
   ]
  },
  {
   "cell_type": "code",
   "execution_count": 38,
   "metadata": {},
   "outputs": [
    {
     "data": {
      "application/vnd.jupyter.widget-view+json": {
       "model_id": "98deb6593f324259a22e5b21f1d93f9a",
       "version_major": 2,
       "version_minor": 0
      },
      "text/plain": [
       "VBox(children=(HBox(children=(VBox(children=(Label(value='Items'), VBox(children=(HBox(children=(Text(value=''…"
      ]
     },
     "metadata": {},
     "output_type": "display_data"
    }
   ],
   "source": [
    "with ResultOfProd(\"ref\") as ref:\n",
    "    ref.add_product('Iron Ore', 4 * 120)\n",
    "    ref.produce_with_recipe('Iron Ingot', 'Iron Ingot', 2 * 120)\n",
    "\n",
    "    ref.add_recipe('Iron Plate', 4)\n",
    "    ref.add_recipe('Iron Rod', 6)\n",
    "    ref.add_recipe('Screw', 4)\n",
    "    ref.add_recipe('Reinforced Iron Plate', 2)\n",
    "    ref.add_recipe('Modular Frame', 1)\n",
    "\n",
    "    #bla\n",
    "    ref.add_recipe('Rotor', 1.0)\n",
    "    ref.produce_with_recipe('Screw', 'Screw', 4.0)\n",
    "    ref.produce_with_recipe('Screw', 'Screw', 56.0)\n",
    "    ref.produce_with_recipe('Iron Rod', 'Iron Rod', 9.0)\n",
    "    ref.produce_with_recipe('Iron Rod', 'Iron Rod', 3.0)\n",
    "    ref.produce_with_recipe('Iron Rod', 'Iron Rod', 15.0)\n",
    "    \n",
    "    # done\n",
    "    ref.construct('Iron Ingot', 7.0)\n",
    "    ref.construct('Iron Plate', 4.0)\n",
    "    ref.construct('Iron Rod', 6.0)\n",
    "    ref.construct('Reinforced Iron Plate', 2.0)\n",
    "    \n"
   ]
  },
  {
   "cell_type": "code",
   "execution_count": 39,
   "metadata": {},
   "outputs": [
    {
     "data": {
      "application/vnd.jupyter.widget-view+json": {
       "model_id": "a2d5c9adce35416dadbdb4d3d2e79157",
       "version_major": 2,
       "version_minor": 0
      },
      "text/plain": [
       "VBox(children=(HBox(children=(VBox(children=(Label(value='Items'), VBox(children=(HBox(children=(Text(value=''…"
      ]
     },
     "metadata": {},
     "output_type": "display_data"
    }
   ],
   "source": [
    "ref = ResultOfProd()\n",
    "\n",
    "ref.add_product('Copper Ore', 120.0)\n",
    "ref.consume_with_recipe('Copper Ingot', 'Copper Ore', 120.0)\n",
    "ref.add_recipe('Copper Sheet', 2)\n",
    "ref.add_recipe('Cable', 2)\n",
    "ref.add_recipe('Wire', 5)\n",
    "\n",
    "interactiveOfProduction(ref, \"ref\")"
   ]
  },
  {
   "cell_type": "markdown",
   "metadata": {},
   "source": [
    "# Steel"
   ]
  },
  {
   "cell_type": "code",
   "execution_count": 40,
   "metadata": {},
   "outputs": [
    {
     "data": {
      "application/vnd.jupyter.widget-view+json": {
       "model_id": "b807e3e5eaf54be4a07b5051684a510f",
       "version_major": 2,
       "version_minor": 0
      },
      "text/plain": [
       "VBox(children=(HBox(children=(VBox(children=(Label(value='Items'), VBox(children=(HBox(children=(Text(value=''…"
      ]
     },
     "metadata": {},
     "output_type": "display_data"
    }
   ],
   "source": [
    "with ResultOfProd(\"ref\") as ref:\n",
    "\n",
    "    ref.add_product('Coal', 2*120.0)\n",
    "    ref.add_product('Iron Ore', (2*60 + 120))\n",
    "    ref.consume_with_recipe('Steel Ingot', 'Iron Ore', 2*120.0)\n",
    "    ref.add_recipe('Steel Beam', 3.0)\n",
    "    ref.add_recipe('Steel Pipe', 1.0)\n",
    "    ref.add_recipe('Steel Pipe', 1.0)\n",
    "\n",
    "    ref.construct('Steel Ingot', 6)\n",
    "    ref.construct('Steel Beam', 3.0)\n",
    "    ref.construct('Steel Pipe', 2.0)\n",
    "    ref.construct('Steel Beam', 3.0)\n",
    "\n"
   ]
  },
  {
   "cell_type": "markdown",
   "metadata": {},
   "source": [
    "# Motor"
   ]
  },
  {
   "cell_type": "code",
   "execution_count": 41,
   "metadata": {},
   "outputs": [
    {
     "data": {
      "application/vnd.jupyter.widget-view+json": {
       "model_id": "446f44197c4e4bd18d769452d2fefadd",
       "version_major": 2,
       "version_minor": 0
      },
      "text/plain": [
       "VBox(children=(HBox(children=(VBox(children=(Label(value='Items'), VBox(children=(HBox(children=(Text(value=''…"
      ]
     },
     "metadata": {},
     "output_type": "display_data"
    }
   ],
   "source": [
    "with ResultOfProd(\"ref\") as ref:\n",
    "    ref.add_recipe('Motor', 60)\n",
    "    #ref.add_product('Iron Ore', 240.0)\n",
    "    ref.produce_with_recipe('Alternate: Copper Rotor', 'Rotor')\n",
    "    ref.produce_with_recipe('Copper Sheet', 'Copper Sheet')\n",
    "    ref.produce_with_recipe('Screw', 'Screw')\n",
    "    ref.produce_with_recipe('Iron Rod', 'Iron Rod')\n",
    "    ref.produce_with_recipe('Stator', 'Stator')\n",
    "    ref.produce_with_recipe('Wire', 'Wire')\n",
    "    #ref.produce_with_recipe('Alternate: Fused Wire', 'Wire')\n",
    "    ref.produce_with_recipe('Iron Ingot', 'Iron Ingot')\n",
    "    ref.produce_with_recipe('Copper Ingot', 'Copper Ingot')\n",
    "    \n",
    "    \n",
    "    ref.construct('Copper Sheet', 2.0)\n",
    "    ref.construct('Copper Ingot', 2.6666666666666665)\n",
    "    ref.construct('Wire', 2.6666666666666665)\n",
    "    ref.construct('Stator', 2.0)\n",
    "    ref.construct('Stator', 2.0)\n",
    "    ref.construct('Iron Ingot', 1.4444444444444446)\n",
    "    ref.construct('Iron Rod', 2.8888888888888893)\n",
    "    ref.construct('Screw', 4.333333333333334)\n",
    "    ref.construct('Alternate: Copper Rotor', 0.8888888888888888)\n",
    "    ref.construct('Motor', 1.0)\n",
    "    "
   ]
  },
  {
   "cell_type": "markdown",
   "metadata": {},
   "source": [
    "# rafinery\n",
    "## computer"
   ]
  },
  {
   "cell_type": "code",
   "execution_count": 43,
   "metadata": {
    "scrolled": false
   },
   "outputs": [
    {
     "data": {
      "application/vnd.jupyter.widget-view+json": {
       "model_id": "32892652c7f84564aa3ec31214d38959",
       "version_major": 2,
       "version_minor": 0
      },
      "text/plain": [
       "VBox(children=(HBox(children=(VBox(children=(Label(value='Items'), VBox(children=(HBox(children=(Text(value=''…"
      ]
     },
     "metadata": {},
     "output_type": "display_data"
    },
    {
     "name": "stdout",
     "output_type": "stream",
     "text": [
      "Bruleur: 880.0 {'Refinery': (15.0, 15), 'Assembler': (5.185185185185185, 6), 'Manufacturer': (0.9876543209876543, 1), 'Constructor': (1.728395061728395, 2), 'Smelter': (6, 2)}\n"
     ]
    }
   ],
   "source": [
    "with ResultOfProd(\"    ref\") as ref:\n",
    "    n = 1\n",
    "    ref.add_product('Caterium Ore', 270.0)\n",
    "    ref.add_product('Crude Oil', 300 * n)\n",
    "    \n",
    "    ref.consume_with_recipe('Rubber', 'Crude Oil')\n",
    "    ref.consume_with_recipe('Petroleum Coke', 'Heavy Oil Residue')\n",
    "    ref.consume_with_recipe('Alternate: Electrode Circuit Board', 'Rubber', ref['Rubber'] * 42/(42+12))\n",
    "    ref.consume_with_recipe('Alternate: Caterium Computer', 'Circuit Board')\n",
    "    ref.produce_with_recipe('Quickwire', 'Quickwire')\n",
    "    ref.produce_with_recipe('Caterium Ingot', 'Caterium Ingot')\n",
    "    \n",
    "    ref.construct('Rubber', 10)\n",
    "    ref.construct('Petroleum Coke', 5)\n",
    "    ref.construct('Caterium Ingot', 6)\n",
    "    \n",
    "    ref.construct('Alternate: Caterium Computer', 0.9876543209876543)\n",
    "    ref.construct('Petroleum Coke', 8.881784197001252e-16)\n",
    "    ref.construct('Alternate: Electrode Circuit Board', 5.185185185185185)\n",
    "    ref.construct('Quickwire', 1.728395061728395)\n",
    "    \n",
    "print(f\"Bruleur: {60*ref['Petroleum Coke']/25}\", ref.building())\n"
   ]
  },
  {
   "cell_type": "markdown",
   "metadata": {},
   "source": [
    "# cable\n"
   ]
  },
  {
   "cell_type": "code",
   "execution_count": 44,
   "metadata": {},
   "outputs": [
    {
     "data": {
      "application/vnd.jupyter.widget-view+json": {
       "model_id": "efda5e21b46b495283a0a8c211fbeacf",
       "version_major": 2,
       "version_minor": 0
      },
      "text/plain": [
       "VBox(children=(HBox(children=(VBox(children=(Label(value='Items'), VBox(children=(HBox(children=(Text(value=''…"
      ]
     },
     "metadata": {},
     "output_type": "display_data"
    }
   ],
   "source": [
    "with ResultOfProd(\"ref\") as ref:\n",
    "    ref.produce_with_recipe('Cable', 'Cable', 300.0)\n",
    "    ref.produce_with_recipe('Wire', 'Wire', 600.0)\n",
    "    ref.produce_with_recipe('Copper Ingot', 'Copper Ingot', 300)"
   ]
  },
  {
   "cell_type": "markdown",
   "metadata": {},
   "source": [
    "### Rafinery\n",
    "Il faut :\n",
    "- [X] 110 Motor\n",
    "- [X] 200 Encased Ind Beam\n",
    "- [X] 330 Steel Pipe\n",
    "- [X] 220 Copper Sheet\n",
    "\n",
    "\n",
    "### Fuel generator\n",
    "\n",
    "- 34 Fuel generator sur 83.3333, reste 49.333\n",
    "\n",
    "il faut \n",
    "- [X] 250 Computeur\n",
    "- [X] 500 Heavy Modular Frame\n",
    "- [X] 750 Motor\n",
    "- [X] 2500 Rubber\n",
    "- [X] 2500 Quickwire\n",
    "\n",
    "### Il y a\n"
   ]
  },
  {
   "cell_type": "code",
   "execution_count": 11,
   "metadata": {},
   "outputs": [
    {
     "data": {
      "text/plain": [
       "4800"
      ]
     },
     "execution_count": 11,
     "metadata": {},
     "output_type": "execute_result"
    }
   ],
   "source": [
    "800 * 6"
   ]
  },
  {
   "cell_type": "markdown",
   "metadata": {},
   "source": [
    "# heavy structure\n",
    "\n",
    "Regarder les alternates pour réduire la conso de fer, ou rajouter du fer."
   ]
  },
  {
   "cell_type": "code",
   "execution_count": 11,
   "metadata": {},
   "outputs": [
    {
     "data": {
      "text/plain": [
       "(3.6576787807737396, 1.4067995310668229)"
      ]
     },
     "execution_count": 11,
     "metadata": {},
     "output_type": "execute_result"
    }
   ],
   "source": [
    "x = var('x')\n",
    "fmul = 300 - x * (300+553) / 4\n",
    "res1 = float(solve(Eq(fmul, -480))[0])\n",
    "res2 = float(solve(Eq(fmul, 0))[0])\n",
    "(res1, res2)"
   ]
  },
  {
   "cell_type": "code",
   "execution_count": 50,
   "metadata": {
    "scrolled": false
   },
   "outputs": [
    {
     "data": {
      "application/vnd.jupyter.widget-view+json": {
       "model_id": "be53e12c3f464557ac118f6325f0599b",
       "version_major": 2,
       "version_minor": 0
      },
      "text/plain": [
       "VBox(children=(HBox(children=(VBox(children=(Label(value='Items'), VBox(children=(HBox(children=(Text(value=''…"
      ]
     },
     "metadata": {},
     "output_type": "display_data"
    },
    {
     "data": {
      "text/plain": [
       "{'Manufacturer': (1.0, 1),\n",
       " 'Assembler': (10.0, 10),\n",
       " 'Constructor': (26.0, 26),\n",
       " 'Foundry': (3.0, 2)}"
      ]
     },
     "execution_count": 50,
     "metadata": {},
     "output_type": "execute_result"
    }
   ],
   "source": [
    "with ResultOfProd(\"    ref\") as ref:\n",
    "    # 0 -> 300, 4 -> -553,\n",
    "    ref.produce_with_recipe('Heavy Modular Frame', 'Heavy Modular Frame', 2)\n",
    "    ref.add_product('Steel Ingot', 90)\n",
    "    ref.add_product('Iron Ingot', 240)\n",
    "\n",
    "    ref.produce_with_recipe('Modular Frame', 'Modular Frame')\n",
    "    ref.produce_with_recipe('Modular Frame', 'Encased Industrial Beam')\n",
    "    ref.produce_with_recipe('Encased Industrial Beam', 'Encased Industrial Beam')\n",
    "    ref.produce_with_recipe('Reinforced Iron Plate', 'Reinforced Iron Plate')\n",
    "    ref.produce_with_recipe('Steel Pipe', 'Steel Pipe')\n",
    "    ref.produce_with_recipe('Steel Beam', 'Steel Beam')\n",
    "    ref.produce_with_recipe('Iron Rod', 'Iron Rod')\n",
    "    ref.produce_with_recipe('Iron Plate', 'Iron Plate')\n",
    "    ref.produce_with_recipe('Alternate: Cast Screw', 'Screw')\n",
    "    ref.produce_with_recipe('Alternate: Solid Steel Ingot', 'Steel Ingot')\n",
    "    ref.produce_with_recipe('Concrete', 'Concrete')\n",
    "\n",
    "    ref.construct('Alternate: Solid Steel Ingot', 3.0)\n",
    "    ref.construct('Steel Beam', 3.0)\n",
    "    ref.construct('Concrete', 4.0)\n",
    "    ref.construct('Encased Industrial Beam', 2.0)\n",
    "    ref.construct('Steel Pipe', 2.0)\n",
    "    ref.add_product('Limestone', 150.0)\n",
    "    ref.construct('Iron Plate', 5.0)\n",
    "    ref.construct('Alternate: Cast Screw', 4.0)\n",
    "    ref.construct('Reinforced Iron Plate', 3.0)\n",
    "    ref.construct('Heavy Modular Frame', 1.0)\n",
    "    ref.construct('Alternate: Cast Screw', 4.0)\n",
    "    ref.construct('Modular Frame', 5.0)\n",
    "    ref.construct('Iron Rod', 4.0)\n",
    "    \n",
    "ref.building()"
   ]
  },
  {
   "cell_type": "markdown",
   "metadata": {},
   "source": [
    "# Alumin"
   ]
  },
  {
   "cell_type": "code",
   "execution_count": 51,
   "metadata": {
    "scrolled": false
   },
   "outputs": [
    {
     "data": {
      "application/vnd.jupyter.widget-view+json": {
       "model_id": "7f75f838ece44404a38999d49d3e5387",
       "version_major": 2,
       "version_minor": 0
      },
      "text/plain": [
       "VBox(children=(HBox(children=(VBox(children=(Label(value='Items'), VBox(children=(HBox(children=(Text(value=''…"
      ]
     },
     "metadata": {},
     "output_type": "display_data"
    },
    {
     "data": {
      "text/plain": [
       "{'Refinery': (3.5, 4),\n",
       " 'Foundry': (0, 6),\n",
       " 'Assembler': (0, 16),\n",
       " 'Constructor': (0, 1)}"
      ]
     },
     "execution_count": 51,
     "metadata": {},
     "output_type": "execute_result"
    }
   ],
   "source": [
    "with ResultOfProd(\"    ref\") as ref:\n",
    "    # 0 -> 300, 4 -> -553,\n",
    "    ref.add_product('Bauxite', 300)\n",
    "    #ref.add_product('Water', 300)\n",
    "    ref.add_product('Coal', 300)\n",
    "    ref.consume_with_recipe('Alternate: Sloppy Alumina', 'Bauxite')\n",
    "    ref.consume_with_recipe('Aluminum Scrap', 'Alumina Solution')\n",
    "    ref.consume_with_recipe('Aluminum Ingot', 'Aluminum Scrap')\n",
    "    ref.add_product('Limestone', 300.0)\n",
    "    ref.consume_with_recipe('Alternate: Cheap Silica', 'Limestone')\n",
    "    ref.produce_with_recipe('Silica', 'Silica')\n",
    "    ref.construct('Alternate: Sloppy Alumina', 2.0)\n",
    "    ref.construct('Aluminum Scrap', 1.5)\n",
    "    \n",
    "ref.building()"
   ]
  },
  {
   "cell_type": "markdown",
   "metadata": {},
   "source": [
    "# Using aluminium\n"
   ]
  },
  {
   "cell_type": "code",
   "execution_count": 57,
   "metadata": {},
   "outputs": [
    {
     "data": {
      "application/vnd.jupyter.widget-view+json": {
       "model_id": "c1f665cad5614a0994d61cdc90792279",
       "version_major": 2,
       "version_minor": 0
      },
      "text/plain": [
       "VBox(children=(HBox(children=(VBox(children=(Label(value='Items'), VBox(children=(HBox(children=(Text(value=''…"
      ]
     },
     "metadata": {},
     "output_type": "display_data"
    },
    {
     "data": {
      "text/plain": [
       "{'Assembler': (0, 9), 'Manufacturer': (0, 4), 'Constructor': (0, 4)}"
      ]
     },
     "execution_count": 57,
     "metadata": {},
     "output_type": "execute_result"
    }
   ],
   "source": [
    "with ResultOfProd(\"    ref\") as ref:\n",
    "    ref.add_product('Aluminum Ingot', 360)\n",
    "    ref.consume_with_recipe('Alclad Aluminum Sheet', 'Aluminum Ingot', ref['Aluminum Ingot'] / 2 )\n",
    "    ref.consume_with_recipe('Alternate: Alclad Casing', 'Aluminum Ingot')\n",
    "    ref.produce_with_recipe('Radio Control Unit', 'Radio Control Unit', 5)\n",
    "    ref.produce_with_recipe('Alternate: Insulated Crystal Oscillator', 'Crystal Oscillator')\n",
    "    ref.produce_with_recipe('AI Limiter', 'AI Limiter')\n",
    "    ref.produce_with_recipe('Quartz Crystal', 'Quartz Crystal')\n",
    "    ref.produce_with_recipe('Copper Sheet', 'Copper Sheet')\n",
    "    \n",
    "ref.building()"
   ]
  },
  {
   "cell_type": "markdown",
   "metadata": {},
   "source": [
    "# Turbofuel\n",
    "\n",
    "10 generateur par blender\n",
    "\n",
    "1 generateur = 4.5"
   ]
  },
  {
   "cell_type": "code",
   "execution_count": 24,
   "metadata": {
    "scrolled": true
   },
   "outputs": [
    {
     "data": {
      "application/vnd.jupyter.widget-view+json": {
       "model_id": "139d4456da4e4669aaaf278b72dd134f",
       "version_major": 2,
       "version_minor": 0
      },
      "text/plain": [
       "VBox(children=(HBox(children=(VBox(children=(Label(value='Items'), VBox(children=(HBox(children=(Text(value=''…"
      ]
     },
     "metadata": {},
     "output_type": "display_data"
    },
    {
     "data": {
      "text/plain": [
       "{'Desc_Blender_C': (0, 4), 'Packager': (0, 2), 'Refinery': (0, 7)}"
      ]
     },
     "execution_count": 24,
     "metadata": {},
     "output_type": "execute_result"
    }
   ],
   "source": [
    "nb_generateur = 40\n",
    "\n",
    "with ResultOfProd(\"    ref\") as ref:\n",
    "    ref.produce_with_recipe('Alternate: Turbo Blend Fuel', 'Turbofuel', nb_generateur * 4.5)\n",
    "    ref.produce_with_recipe('Unpackage Fuel', 'Fuel')\n",
    "    ref.produce_with_recipe('Alternate: Diluted Packaged Fuel', 'Packaged Fuel')\n",
    "    ref.produce_with_recipe('Packaged Water', 'Packaged Water')\n",
    "    ref.produce_with_recipe('Petroleum Coke', 'Petroleum Coke')\n",
    "    ref.produce_with_recipe('Alternate: Heavy Oil Residue', 'Heavy Oil Residue')\n",
    "    \n",
    "ref.building()"
   ]
  },
  {
   "cell_type": "code",
   "execution_count": 6,
   "metadata": {},
   "outputs": [
    {
     "data": {
      "text/plain": [
       "{x: 20*h/37 - 3*r/37, y: -20*h/37 + 40*r/37}"
      ]
     },
     "execution_count": 6,
     "metadata": {},
     "output_type": "execute_result"
    }
   ],
   "source": [
    "resin = var('r')\n",
    "hor = var('h')\n",
    "r1 = var('x')\n",
    "r2 = var('y')\n",
    "\n",
    "eqn_hor = Eq(hor, r1 * 2 + r2 * 15 / 100)\n",
    "eqn_resin = Eq(resin, r1 + r2)\n",
    "\n",
    "solve([eqn_hor, eqn_resin], [r1, r2])\n"
   ]
  },
  {
   "cell_type": "code",
   "execution_count": null,
   "metadata": {},
   "outputs": [],
   "source": []
  },
  {
   "cell_type": "code",
   "execution_count": 25,
   "metadata": {},
   "outputs": [
    {
     "data": {
      "application/vnd.jupyter.widget-view+json": {
       "model_id": "5d2ca15ff7794690a26dc0f5f6a6ff4c",
       "version_major": 2,
       "version_minor": 0
      },
      "text/plain": [
       "VBox(children=(HBox(children=(VBox(children=(Label(value='Items'), VBox(children=(HBox(children=(Text(value=''…"
      ]
     },
     "metadata": {},
     "output_type": "display_data"
    },
    {
     "data": {
      "text/plain": [
       "{'Blender': (0, 8),\n",
       " 'Refinery': (0, 15),\n",
       " 'Assembler': (0, 4),\n",
       " 'Constructor': (0, 2),\n",
       " 'Smelter': (0, 5)}"
      ]
     },
     "execution_count": 25,
     "metadata": {},
     "output_type": "execute_result"
    }
   ],
   "source": [
    "n = 3\n",
    "hor = 100\n",
    "\n",
    "def resin_part(h, r):\n",
    "    resin =  -20*h/37 + 40*r/37\n",
    "    if resin >= 0:\n",
    "        return resin\n",
    "    return 0\n",
    "\n",
    "\n",
    "with ResultOfProd(\"    ref\") as ref:\n",
    "    # batterie\n",
    "    ref.produce_with_recipe('Battery', 'Battery', 20.0)\n",
    "    ref.produce_with_recipe('Sulfuric Acid', 'Sulfuric Acid')\n",
    "    \n",
    "    # Cooling System\n",
    "    \n",
    "    ref.produce_with_recipe('Cooling System', 'Cooling System', n * 6)\n",
    "    ref.produce_with_recipe('Alternate: Heat Exchanger', 'Heat Sink')\n",
    "    ref.produce_with_recipe('Heat Sink', 'Heat Sink')\n",
    "    ref.produce_with_recipe('Aluminum Casing', 'Aluminum Casing')\n",
    "    ref.produce_with_recipe('Alternate: Pure Aluminum Ingot', 'Aluminum Ingot')\n",
    "    ref.produce_with_recipe('Aluminum Scrap', 'Aluminum Scrap')\n",
    "    ref.produce_with_recipe('Alternate: Sloppy Alumina', 'Alumina Solution')\n",
    "    ref.produce_with_recipe('Residual Rubber', 'Rubber')\n",
    "    \n",
    "    # rafinage\n",
    "    \n",
    "    ref.produce_with_recipe('Alternate: Polymer Resin', 'Polymer Resin', resin_part(hor, -ref['Polymer Resin']))\n",
    "    ref.produce_with_recipe('Alternate: Heavy Oil Residue', 'Polymer Resin')\n",
    "    \n",
    "    ref.produce_with_recipe('Alternate: Turbo Blend Fuel', 'Turbofuel', ref['Heavy Oil Residue'])\n",
    "    ref.produce_with_recipe('Petroleum Coke', 'Petroleum Coke')\n",
    "    ref.produce_with_recipe('Alternate: Diluted Fuel', 'Fuel')\n",
    "    \n",
    "    \n",
    "    \n",
    "    \n",
    "ref.building()"
   ]
  },
  {
   "cell_type": "code",
   "execution_count": 15,
   "metadata": {},
   "outputs": [
    {
     "data": {
      "text/plain": [
       "100.69022869022876"
      ]
     },
     "execution_count": 15,
     "metadata": {},
     "output_type": "execute_result"
    }
   ],
   "source": [
    " ref['Heavy Oil Residue']"
   ]
  },
  {
   "cell_type": "code",
   "execution_count": 12,
   "metadata": {},
   "outputs": [
    {
     "data": {
      "application/vnd.jupyter.widget-view+json": {
       "model_id": "75b122d729c1488ea18afde4fba90afb",
       "version_major": 2,
       "version_minor": 0
      },
      "text/plain": [
       "VBox(children=(HBox(children=(VBox(children=(Label(value='Items'), VBox(children=(HBox(children=(Text(value=''…"
      ]
     },
     "metadata": {},
     "output_type": "display_data"
    }
   ],
   "source": [
    "with ResultOfProd(\"    ref\") as ref:\n",
    "    pass"
   ]
  },
  {
   "cell_type": "code",
   "execution_count": 18,
   "metadata": {},
   "outputs": [
    {
     "data": {
      "application/vnd.jupyter.widget-view+json": {
       "model_id": "b623221e76b249b495f2a26e4828d467",
       "version_major": 2,
       "version_minor": 0
      },
      "text/plain": [
       "VBox(children=(HBox(children=(Text(value=''), Button(description='search', style=ButtonStyle()))), HBox(childr…"
      ]
     },
     "metadata": {},
     "output_type": "display_data"
    }
   ],
   "source": [
    "interactive_search()"
   ]
  },
  {
   "cell_type": "code",
   "execution_count": null,
   "metadata": {},
   "outputs": [],
   "source": []
  }
 ],
 "metadata": {
  "kernelspec": {
   "display_name": "Python 3",
   "language": "python",
   "name": "python3"
  },
  "language_info": {
   "codemirror_mode": {
    "name": "ipython",
    "version": 3
   },
   "file_extension": ".py",
   "mimetype": "text/x-python",
   "name": "python",
   "nbconvert_exporter": "python",
   "pygments_lexer": "ipython3",
   "version": "3.7.3"
  },
  "widgets": {
   "application/vnd.jupyter.widget-state+json": {
    "state": {
     "0038dd7567e14e3587f0d61d9d6acd6a": {
      "model_module": "@jupyter-widgets/base",
      "model_module_version": "1.2.0",
      "model_name": "LayoutModel",
      "state": {}
     },
     "0051097fc49345bc96e3a760f3a494a7": {
      "model_module": "@jupyter-widgets/controls",
      "model_module_version": "1.5.0",
      "model_name": "ButtonStyleModel",
      "state": {}
     },
     "0072f2a85c944b5e919307bc6d81a35d": {
      "model_module": "@jupyter-widgets/controls",
      "model_module_version": "1.5.0",
      "model_name": "HBoxModel",
      "state": {
       "children": [
        "IPY_MODEL_80d02a9124e14e9fbfa766784e4fc8cd",
        "IPY_MODEL_4042961f882a415ebaa6af2dcef637ea"
       ],
       "layout": "IPY_MODEL_710116a7421344218b09de1ec372860b"
      }
     },
     "008933623e4f44f79557b2d669ac0520": {
      "model_module": "@jupyter-widgets/controls",
      "model_module_version": "1.5.0",
      "model_name": "ButtonModel",
      "state": {
       "description": "0.09000000000003183 Cable: 758.01 of 758.1",
       "layout": "IPY_MODEL_abd371dcae6144668a5205d1e1dc669d",
       "style": "IPY_MODEL_8a328b78b7214413bd89a601ecb34c7d"
      }
     },
     "01311a9c37bf46f18aaae122fd668ac7": {
      "model_module": "@jupyter-widgets/base",
      "model_module_version": "1.2.0",
      "model_name": "LayoutModel",
      "state": {}
     },
     "01ac8352c4104a96ad69b9050e0a6110": {
      "model_module": "@jupyter-widgets/controls",
      "model_module_version": "1.5.0",
      "model_name": "LabelModel",
      "state": {
       "layout": "IPY_MODEL_8d107105efb0462eb974235d96ca6c4f",
       "style": "IPY_MODEL_f8a8c4f854e246049a60cfe6e5963550",
       "value": "Item produced"
      }
     },
     "01cde5d110314b1a9d95f7eb65215e30": {
      "model_module": "@jupyter-widgets/controls",
      "model_module_version": "1.5.0",
      "model_name": "SelectModel",
      "state": {
       "index": null,
       "layout": "IPY_MODEL_7b2c926014a04b7bb190a6c1b3967075",
       "style": "IPY_MODEL_a2eedd7545ca4a038808a46c5e63a98f"
      }
     },
     "02a68510ceb44d389066b49ecf1e6218": {
      "model_module": "@jupyter-widgets/controls",
      "model_module_version": "1.5.0",
      "model_name": "ButtonModel",
      "state": {
       "description": "0.2999999999999545 Heavy Oil Residue: 1306.5 of 1306.8",
       "layout": "IPY_MODEL_abd371dcae6144668a5205d1e1dc669d",
       "style": "IPY_MODEL_d9ff69c7be074777a5c52caa3835b0c8"
      }
     },
     "0312376fd5d245078146b6c186b8bc2c": {
      "model_module": "@jupyter-widgets/base",
      "model_module_version": "1.2.0",
      "model_name": "LayoutModel",
      "state": {}
     },
     "031321704e9d419eb75cdb46ae638be7": {
      "model_module": "@jupyter-widgets/base",
      "model_module_version": "1.2.0",
      "model_name": "LayoutModel",
      "state": {}
     },
     "03201ff60e0d4045acd730cdde39d58c": {
      "model_module": "@jupyter-widgets/controls",
      "model_module_version": "1.5.0",
      "model_name": "ButtonModel",
      "state": {
       "description": "0.0 Iron Rod: 840.38 of 840.38",
       "layout": "IPY_MODEL_56eae548ea6e41abb16dd2b5c98cfdd1",
       "style": "IPY_MODEL_62476d7bba4f46a1a23407cd5b65c4f6"
      }
     },
     "033a299209f84028b8e58c4ed0ea5fac": {
      "model_module": "@jupyter-widgets/controls",
      "model_module_version": "1.5.0",
      "model_name": "ButtonModel",
      "state": {
       "description": "1867.5 Screw: +1867.5",
       "layout": "IPY_MODEL_d5afa16b7a45468bbc1457b39a5cf7d8",
       "style": "IPY_MODEL_62e462ffc3b0473c8455ae5dd3556f57"
      }
     },
     "036826ad4e8e483dba2e87ca1b1139e2": {
      "model_module": "@jupyter-widgets/controls",
      "model_module_version": "1.5.0",
      "model_name": "ButtonStyleModel",
      "state": {}
     },
     "03c118877a2b4b7da56d84f73bacebaa": {
      "model_module": "@jupyter-widgets/controls",
      "model_module_version": "1.5.0",
      "model_name": "DescriptionStyleModel",
      "state": {
       "description_width": ""
      }
     },
     "046b8be5c5ac423eb3d66f84daf44c94": {
      "model_module": "@jupyter-widgets/base",
      "model_module_version": "1.2.0",
      "model_name": "LayoutModel",
      "state": {}
     },
     "04f6522904624928a69907258f856a9d": {
      "model_module": "@jupyter-widgets/controls",
      "model_module_version": "1.5.0",
      "model_name": "ButtonStyleModel",
      "state": {}
     },
     "0509c0a874484004be0721d9c7110cf7": {
      "model_module": "@jupyter-widgets/base",
      "model_module_version": "1.2.0",
      "model_name": "LayoutModel",
      "state": {}
     },
     "053c748666ce45e0a8ecde90f1681904": {
      "model_module": "@jupyter-widgets/controls",
      "model_module_version": "1.5.0",
      "model_name": "ButtonModel",
      "state": {
       "description": "600.0 Polymer Resin: +600.0",
       "layout": "IPY_MODEL_50c8605a220a41f9854478362a8e13c8",
       "style": "IPY_MODEL_eecd5f44145d4b6dbc59fdea66bb49c5"
      }
     },
     "054ab18fb8f24d6883f08a57fda437a3": {
      "model_module": "@jupyter-widgets/controls",
      "model_module_version": "1.5.0",
      "model_name": "ButtonStyleModel",
      "state": {}
     },
     "0560ac93a5d847e8a53c713188d50622": {
      "model_module": "@jupyter-widgets/controls",
      "model_module_version": "1.5.0",
      "model_name": "VBoxModel",
      "state": {
       "children": [
        "IPY_MODEL_b37b6b1237794a1cad68df678d9ae6f2",
        "IPY_MODEL_a63598674f3a4b788184c26c314aef15"
       ],
       "layout": "IPY_MODEL_76dfa1b8623c4fef95ec93d8e37ed5a9"
      }
     },
     "05878973ee4e47b2abfdebaadf70b58f": {
      "model_module": "@jupyter-widgets/controls",
      "model_module_version": "1.5.0",
      "model_name": "ButtonModel",
      "state": {
       "description": "0.0 Heavy Oil Residue: 1200.0 of 1200.0",
       "layout": "IPY_MODEL_50c8605a220a41f9854478362a8e13c8",
       "style": "IPY_MODEL_0eb2ed8777b84086bd3b744b2de4105b"
      }
     },
     "063a6c354e78491c836e15d565088b29": {
      "model_module": "@jupyter-widgets/controls",
      "model_module_version": "1.5.0",
      "model_name": "DescriptionStyleModel",
      "state": {
       "description_width": ""
      }
     },
     "067580c2ef334b25b87cb9b2225a7e2c": {
      "model_module": "@jupyter-widgets/controls",
      "model_module_version": "1.5.0",
      "model_name": "ButtonModel",
      "state": {
       "description": "Consume with recipe",
       "layout": "IPY_MODEL_c81b5bec19a04d43bca5795ac2286080",
       "style": "IPY_MODEL_d0bf803031694b44b93a11398c922ea4"
      }
     },
     "0697321dd9b440b6870bf8acf353bf69": {
      "model_module": "@jupyter-widgets/base",
      "model_module_version": "1.2.0",
      "model_name": "LayoutModel",
      "state": {}
     },
     "06a5afc9b6b14745b1d806b8f3d28432": {
      "model_module": "@jupyter-widgets/base",
      "model_module_version": "1.2.0",
      "model_name": "LayoutModel",
      "state": {}
     },
     "06f9c6bd637747f198360417f17748c1": {
      "model_module": "@jupyter-widgets/controls",
      "model_module_version": "1.5.0",
      "model_name": "ButtonStyleModel",
      "state": {}
     },
     "0708ed3a79bb4ef991fc4d88ccc9b093": {
      "model_module": "@jupyter-widgets/base",
      "model_module_version": "1.2.0",
      "model_name": "LayoutModel",
      "state": {}
     },
     "070a52f2862744e38998dd960fdbc124": {
      "model_module": "@jupyter-widgets/base",
      "model_module_version": "1.2.0",
      "model_name": "LayoutModel",
      "state": {}
     },
     "0753583c6d8f405aa0544a8e4eccd1e1": {
      "model_module": "@jupyter-widgets/base",
      "model_module_version": "1.2.0",
      "model_name": "LayoutModel",
      "state": {}
     },
     "07c799e713c34a03914e4510b8658cba": {
      "model_module": "@jupyter-widgets/base",
      "model_module_version": "1.2.0",
      "model_name": "LayoutModel",
      "state": {}
     },
     "07f7d547fd92431babffc9c6423733b7": {
      "model_module": "@jupyter-widgets/controls",
      "model_module_version": "1.5.0",
      "model_name": "ButtonModel",
      "state": {
       "description": "search",
       "layout": "IPY_MODEL_c36dbfcf0bcf4ad08c03e7875b6c2031",
       "style": "IPY_MODEL_340b468b933c4f0482af504cc7183b6e"
      }
     },
     "07fd486cc9b24c4c9fd83b7c0af35c82": {
      "model_module": "@jupyter-widgets/controls",
      "model_module_version": "1.5.0",
      "model_name": "ButtonModel",
      "state": {
       "description": "Add Factory",
       "layout": "IPY_MODEL_14cd8b3d3cc1429e96ff2d15e5e06a9d",
       "style": "IPY_MODEL_5039f554bece458dbed2c0bd004a0981"
      }
     },
     "083da23c78664a3aa5ead6dac945af4d": {
      "model_module": "@jupyter-widgets/controls",
      "model_module_version": "1.5.0",
      "model_name": "HBoxModel",
      "state": {
       "children": [
        "IPY_MODEL_105c0c343ac14c49bb48f2224c5b9840",
        "IPY_MODEL_1e8a62836cd64e2182f9419d89eef404",
        "IPY_MODEL_a2f7fc3ba3cb462b91ef8fdfca69fb93",
        "IPY_MODEL_5e3e9889113d4ba0818505fc8bfce37e",
        "IPY_MODEL_7baf206cd20c4b87aed5a14893979528",
        "IPY_MODEL_640fb284052f493f9bdba97bb5320424"
       ],
       "layout": "IPY_MODEL_4a5d426122684850aa6a540d6ac08d30"
      }
     },
     "08f3b3b4fc4944ff9f99a5d12562d28b": {
      "model_module": "@jupyter-widgets/controls",
      "model_module_version": "1.5.0",
      "model_name": "ButtonStyleModel",
      "state": {}
     },
     "094940f029ce4d1bbf2ae8fdc99d5a07": {
      "model_module": "@jupyter-widgets/controls",
      "model_module_version": "1.5.0",
      "model_name": "DescriptionStyleModel",
      "state": {
       "description_width": ""
      }
     },
     "09a39f8f994444879c72b60e1eb0d710": {
      "model_module": "@jupyter-widgets/controls",
      "model_module_version": "1.5.0",
      "model_name": "FloatTextModel",
      "state": {
       "layout": "IPY_MODEL_7d2563aab91c445d8d5bad5f960bce1b",
       "step": null,
       "style": "IPY_MODEL_fbc23ae06d584a6da5d1602f3bbe326f"
      }
     },
     "09d507949f164151914dd1360a9e1270": {
      "model_module": "@jupyter-widgets/base",
      "model_module_version": "1.2.0",
      "model_name": "LayoutModel",
      "state": {}
     },
     "09f3a39ba4c84f91aeae7d47761eefde": {
      "model_module": "@jupyter-widgets/controls",
      "model_module_version": "1.5.0",
      "model_name": "ButtonStyleModel",
      "state": {}
     },
     "0a5fd12939d0451480c42ba5b0f7a43c": {
      "model_module": "@jupyter-widgets/controls",
      "model_module_version": "1.5.0",
      "model_name": "HBoxModel",
      "state": {
       "children": [
        "IPY_MODEL_9f808b45fdea44289d2b27e491188467",
        "IPY_MODEL_806d7f3810a349d5a35e21f7c161efd0"
       ],
       "layout": "IPY_MODEL_803d9c3f7509453ab3c28eba563324b8"
      }
     },
     "0aaa25169630418c944679997b5da1e7": {
      "model_module": "@jupyter-widgets/base",
      "model_module_version": "1.2.0",
      "model_name": "LayoutModel",
      "state": {}
     },
     "0ac95dbe6cc94b5d99e3a82037143d81": {
      "model_module": "@jupyter-widgets/base",
      "model_module_version": "1.2.0",
      "model_name": "LayoutModel",
      "state": {}
     },
     "0ad8682dd97d4b55970c363b9fc3cbea": {
      "model_module": "@jupyter-widgets/controls",
      "model_module_version": "1.5.0",
      "model_name": "TextModel",
      "state": {
       "layout": "IPY_MODEL_8251efe4d3484b809cdaa2f79c535fb9",
       "style": "IPY_MODEL_32e58776abaa4d89b2e7ced6a5e93cab"
      }
     },
     "0ae2c21ff69d4612b5fa3d47e1ca3d37": {
      "model_module": "@jupyter-widgets/controls",
      "model_module_version": "1.5.0",
      "model_name": "SelectModel",
      "state": {
       "index": null,
       "layout": "IPY_MODEL_0697321dd9b440b6870bf8acf353bf69",
       "style": "IPY_MODEL_ea3b4f1c063443329a9e5959d087d638"
      }
     },
     "0ae3f816725d4bce8ebce6f85334429e": {
      "model_module": "@jupyter-widgets/controls",
      "model_module_version": "1.5.0",
      "model_name": "ButtonModel",
      "state": {
       "description": "0.00999999999999801 High-Speed Connector: 60.92 of 60.93",
       "layout": "IPY_MODEL_abd371dcae6144668a5205d1e1dc669d",
       "style": "IPY_MODEL_84ad317d05184145b03b52c4828f20e7"
      }
     },
     "0b229e1ba4e64b73ae13a4275a4ecdf3": {
      "model_module": "@jupyter-widgets/controls",
      "model_module_version": "1.5.0",
      "model_name": "TextModel",
      "state": {
       "layout": "IPY_MODEL_d12c23ca26144362816d4584611f4d48",
       "style": "IPY_MODEL_03c118877a2b4b7da56d84f73bacebaa"
      }
     },
     "0b68d2f6019147ab9067e1d2c5d07846": {
      "model_module": "@jupyter-widgets/base",
      "model_module_version": "1.2.0",
      "model_name": "LayoutModel",
      "state": {}
     },
     "0c004dcd05b54f34969fee9addbeb7cb": {
      "model_module": "@jupyter-widgets/controls",
      "model_module_version": "1.5.0",
      "model_name": "LabelModel",
      "state": {
       "layout": "IPY_MODEL_7d4d375fe3084de1b0d1b150ffa6c161",
       "style": "IPY_MODEL_6efe2d54f96b4a39824cc7694fe399b1",
       "value": "logs"
      }
     },
     "0c2c5487cb5f4d23ae9201b203873949": {
      "model_module": "@jupyter-widgets/controls",
      "model_module_version": "1.5.0",
      "model_name": "ButtonModel",
      "state": {
       "description": "19.820000000000164 Wire: 2747.45 of 2767.27",
       "layout": "IPY_MODEL_abd371dcae6144668a5205d1e1dc669d",
       "style": "IPY_MODEL_e4f2b424a5ff4a9da410dbdd17625a2a"
      }
     },
     "0c3f0df764854e9fa71dc9483c7bb03e": {
      "model_module": "@jupyter-widgets/controls",
      "model_module_version": "1.5.0",
      "model_name": "ButtonStyleModel",
      "state": {}
     },
     "0c8f8988960d4a04883f89d3aaa84efb": {
      "model_module": "@jupyter-widgets/controls",
      "model_module_version": "1.5.0",
      "model_name": "ButtonStyleModel",
      "state": {}
     },
     "0cc3434140a4419ebb548cd9b1d07307": {
      "model_module": "@jupyter-widgets/controls",
      "model_module_version": "1.5.0",
      "model_name": "DescriptionStyleModel",
      "state": {
       "description_width": ""
      }
     },
     "0cf140152f8c4166839f996425a9cb0f": {
      "model_module": "@jupyter-widgets/controls",
      "model_module_version": "1.5.0",
      "model_name": "ButtonStyleModel",
      "state": {}
     },
     "0d6cc64545894b26a2c50a87c0d41c11": {
      "model_module": "@jupyter-widgets/base",
      "model_module_version": "1.2.0",
      "model_name": "LayoutModel",
      "state": {}
     },
     "0dbea2b902cd46f7b6fbbe9f6462697b": {
      "model_module": "@jupyter-widgets/controls",
      "model_module_version": "1.5.0",
      "model_name": "ButtonStyleModel",
      "state": {}
     },
     "0dc90dc4c7cd4a1d92d9fb5423e5ed6d": {
      "model_module": "@jupyter-widgets/controls",
      "model_module_version": "1.5.0",
      "model_name": "DescriptionStyleModel",
      "state": {
       "description_width": ""
      }
     },
     "0e2431f7eded4cc5beec49ea62c03497": {
      "model_module": "@jupyter-widgets/controls",
      "model_module_version": "1.5.0",
      "model_name": "ButtonModel",
      "state": {
       "description": "0.0 Packaged Water: 2613.0 of 2613.0",
       "layout": "IPY_MODEL_abd371dcae6144668a5205d1e1dc669d",
       "style": "IPY_MODEL_8e5947fd2b294819b0d6223c345f1cca"
      }
     },
     "0e45d47ec4434200ad493c48017a9b24": {
      "model_module": "@jupyter-widgets/controls",
      "model_module_version": "1.5.0",
      "model_name": "ButtonStyleModel",
      "state": {}
     },
     "0e90f55a3d2f409583f77b8ba8f02ed5": {
      "model_module": "@jupyter-widgets/base",
      "model_module_version": "1.2.0",
      "model_name": "LayoutModel",
      "state": {}
     },
     "0e98ac7de1ee4b4d8215130bf0086da5": {
      "model_module": "@jupyter-widgets/controls",
      "model_module_version": "1.5.0",
      "model_name": "ButtonStyleModel",
      "state": {}
     },
     "0ea28ab1e0a640ef8c3003350d776204": {
      "model_module": "@jupyter-widgets/controls",
      "model_module_version": "1.5.0",
      "model_name": "HBoxModel",
      "state": {
       "children": [
        "IPY_MODEL_646a3b05942847eb9631c706a849b664",
        "IPY_MODEL_b77eb7522a0b4234ac746c722de9a1c5"
       ],
       "layout": "IPY_MODEL_f774f98b495f40fb98f7ad29a2ec3543"
      }
     },
     "0eb2ed8777b84086bd3b744b2de4105b": {
      "model_module": "@jupyter-widgets/controls",
      "model_module_version": "1.5.0",
      "model_name": "ButtonStyleModel",
      "state": {}
     },
     "0ec20561494940a186b5b9266931ee4b": {
      "model_module": "@jupyter-widgets/base",
      "model_module_version": "1.2.0",
      "model_name": "LayoutModel",
      "state": {}
     },
     "0edd3c48c6954c9ba6a8452935455937": {
      "model_module": "@jupyter-widgets/controls",
      "model_module_version": "1.5.0",
      "model_name": "ButtonModel",
      "state": {
       "description": "0.07000000000005002 Circuit Board: 634.43 of 634.5",
       "layout": "IPY_MODEL_abd371dcae6144668a5205d1e1dc669d",
       "style": "IPY_MODEL_1cbcfc0ef2b74b8ba2b41fb12bc90ca2"
      }
     },
     "0f036ffacab9481aa8f1bedc2375cf69": {
      "model_module": "@jupyter-widgets/controls",
      "model_module_version": "1.5.0",
      "model_name": "ButtonStyleModel",
      "state": {}
     },
     "0f358de69760403fb4c3b7f86bb44665": {
      "model_module": "@jupyter-widgets/controls",
      "model_module_version": "1.5.0",
      "model_name": "ButtonStyleModel",
      "state": {}
     },
     "0f3596e01f054eeaac2af2b2f51d8a83": {
      "model_module": "@jupyter-widgets/controls",
      "model_module_version": "1.5.0",
      "model_name": "ButtonStyleModel",
      "state": {}
     },
     "0f461090bc05428c94d32b52a2e1c3b7": {
      "model_module": "@jupyter-widgets/controls",
      "model_module_version": "1.5.0",
      "model_name": "VBoxModel",
      "state": {
       "children": [
        "IPY_MODEL_e759cf2f51354f62a9d2d15f496d5213",
        "IPY_MODEL_0ea28ab1e0a640ef8c3003350d776204"
       ],
       "layout": "IPY_MODEL_30edc19c75eb4c3fa039d41261ad367e"
      }
     },
     "0fa0094a44af40e09a871974692f1522": {
      "model_module": "@jupyter-widgets/controls",
      "model_module_version": "1.5.0",
      "model_name": "ButtonStyleModel",
      "state": {}
     },
     "0fe526ccdbd846f1a329e6b4c276ad63": {
      "model_module": "@jupyter-widgets/base",
      "model_module_version": "1.2.0",
      "model_name": "LayoutModel",
      "state": {}
     },
     "0ffd09327daa4936ad529344c35cc02f": {
      "model_module": "@jupyter-widgets/controls",
      "model_module_version": "1.5.0",
      "model_name": "DescriptionStyleModel",
      "state": {
       "description_width": ""
      }
     },
     "1048aa96e055492aa7a10270ecc854b4": {
      "model_module": "@jupyter-widgets/controls",
      "model_module_version": "1.5.0",
      "model_name": "ButtonModel",
      "state": {
       "description": "16.74 Manufacturer using Crystal Oscillator",
       "layout": "IPY_MODEL_abd371dcae6144668a5205d1e1dc669d",
       "style": "IPY_MODEL_b13dc4cf43814d47abbc019a3d0768a8"
      }
     },
     "105c0c343ac14c49bb48f2224c5b9840": {
      "model_module": "@jupyter-widgets/controls",
      "model_module_version": "1.5.0",
      "model_name": "FloatTextModel",
      "state": {
       "description": "quantity",
       "layout": "IPY_MODEL_f0f294b5095d45c4a86ff50ccdaccce2",
       "step": null,
       "style": "IPY_MODEL_ff452d3e67b445ec93162ae5c9f0645c"
      }
     },
     "1073e66001c340e68e83d89fbecd7345": {
      "model_module": "@jupyter-widgets/base",
      "model_module_version": "1.2.0",
      "model_name": "LayoutModel",
      "state": {}
     },
     "108ba4d709974d6989306d79a2fbe18a": {
      "model_module": "@jupyter-widgets/controls",
      "model_module_version": "1.5.0",
      "model_name": "TextModel",
      "state": {
       "layout": "IPY_MODEL_88e38720543f49d399d71a289519241f",
       "style": "IPY_MODEL_4f1cd8b5c98740ea84f67957b59eee5b"
      }
     },
     "108d86859d664bed870c32461eadc02c": {
      "model_module": "@jupyter-widgets/controls",
      "model_module_version": "1.5.0",
      "model_name": "ButtonModel",
      "state": {
       "description": "219.89999999999998 Crude Oil: 980.1 of 1200.0",
       "layout": "IPY_MODEL_abd371dcae6144668a5205d1e1dc669d",
       "style": "IPY_MODEL_17678c8cf56b4cb99db65158d66de98b"
      }
     },
     "10bee5c5b4b84086bf58ac481c6e39d0": {
      "model_module": "@jupyter-widgets/controls",
      "model_module_version": "1.5.0",
      "model_name": "HBoxModel",
      "state": {
       "children": [
        "IPY_MODEL_a0a43d9eba9c4c8c89b837576de5fbb1",
        "IPY_MODEL_9527127da05d477a94b6c4bce8d5701e",
        "IPY_MODEL_b9c4fea6de0f4578a938a63b3d823677",
        "IPY_MODEL_da18c1a3a1a14b0fb3e871e8665211fb",
        "IPY_MODEL_c524ad9a15454a90803f89b7c34ce3c2",
        "IPY_MODEL_780bcfaa03954e428ff018435a835628"
       ],
       "layout": "IPY_MODEL_9d53d6cebc9e462488c15fb2ff912993"
      }
     },
     "10e72f6b8de0415ebf7c0f4b4494d421": {
      "model_module": "@jupyter-widgets/base",
      "model_module_version": "1.2.0",
      "model_name": "LayoutModel",
      "state": {}
     },
     "11538552487e46889c50e2d62410dc2b": {
      "model_module": "@jupyter-widgets/base",
      "model_module_version": "1.2.0",
      "model_name": "LayoutModel",
      "state": {}
     },
     "11573d519bce44d99d652b1d8a5db9fc": {
      "model_module": "@jupyter-widgets/base",
      "model_module_version": "1.2.0",
      "model_name": "LayoutModel",
      "state": {}
     },
     "117d003224d74d008147dd2ef08a617a": {
      "model_module": "@jupyter-widgets/controls",
      "model_module_version": "1.5.0",
      "model_name": "HBoxModel",
      "state": {
       "children": [
        "IPY_MODEL_e20ea880eb8340338672bc2c82cae4d2",
        "IPY_MODEL_2534d70d8841456eb8fd8e3386f38db6"
       ],
       "layout": "IPY_MODEL_d0b01e1c69ad4b359be18fd8bb92e84b"
      }
     },
     "11ac664f7dbc441c8d7f25f9cc481f3f": {
      "model_module": "@jupyter-widgets/base",
      "model_module_version": "1.2.0",
      "model_name": "LayoutModel",
      "state": {}
     },
     "11cb68d79dd54a929fdda6de7439bb03": {
      "model_module": "@jupyter-widgets/controls",
      "model_module_version": "1.5.0",
      "model_name": "ButtonModel",
      "state": {
       "description": "407.4699999999998 Iron Ingot: 2391.38 of 2798.85",
       "layout": "IPY_MODEL_abd371dcae6144668a5205d1e1dc669d",
       "style": "IPY_MODEL_5e570eeba897453db6709d9853273183"
      }
     },
     "11ff290f15714fa7acbd3c1ad4c5cd09": {
      "model_module": "@jupyter-widgets/controls",
      "model_module_version": "1.5.0",
      "model_name": "ButtonModel",
      "state": {
       "description": "Add",
       "layout": "IPY_MODEL_2834cef9e0f545bbbbd5f343b3b7a013",
       "style": "IPY_MODEL_62d306d34e254a2f9056b1ce0c2f9903"
      }
     },
     "1214f577ec5d48d7a389e1350e6e83e0": {
      "model_module": "@jupyter-widgets/controls",
      "model_module_version": "1.5.0",
      "model_name": "ButtonModel",
      "state": {
       "description": "40.0 Refinery using Packaged Water",
       "layout": "IPY_MODEL_50c8605a220a41f9854478362a8e13c8",
       "style": "IPY_MODEL_a4dbaf77514e45a6bde98ef2aa9d8fe9"
      }
     },
     "122621d573c0482abd59563bc0899b64": {
      "model_module": "@jupyter-widgets/controls",
      "model_module_version": "1.5.0",
      "model_name": "HBoxModel",
      "state": {
       "children": [
        "IPY_MODEL_3166bcf8fe804be2822d0918553fac63",
        "IPY_MODEL_19ea68dec8e74c5d9627d05b97a19924"
       ],
       "layout": "IPY_MODEL_3d7990154bb74a9da16d93c54564ca7d"
      }
     },
     "1232c3b25bd342b98881a061392c9676": {
      "model_module": "@jupyter-widgets/base",
      "model_module_version": "1.2.0",
      "model_name": "LayoutModel",
      "state": {}
     },
     "13c1da46ae374d0a9a7b642cf981e9cb": {
      "model_module": "@jupyter-widgets/base",
      "model_module_version": "1.2.0",
      "model_name": "LayoutModel",
      "state": {}
     },
     "1468763858b04d85894b7b02ce6bd44e": {
      "model_module": "@jupyter-widgets/base",
      "model_module_version": "1.2.0",
      "model_name": "LayoutModel",
      "state": {}
     },
     "14cd8b3d3cc1429e96ff2d15e5e06a9d": {
      "model_module": "@jupyter-widgets/base",
      "model_module_version": "1.2.0",
      "model_name": "LayoutModel",
      "state": {}
     },
     "14d9bcb8d6684b6cad1560fa19f10ff8": {
      "model_module": "@jupyter-widgets/controls",
      "model_module_version": "1.5.0",
      "model_name": "ButtonModel",
      "state": {
       "description": "0.0 Steel Pipe: 572.0 of 572.0",
       "layout": "IPY_MODEL_abd371dcae6144668a5205d1e1dc669d",
       "style": "IPY_MODEL_4404e33d0e764d1c90331ce2e8855863"
      }
     },
     "14f8b42f16ea43ecbdfb950723ae103d": {
      "model_module": "@jupyter-widgets/base",
      "model_module_version": "1.2.0",
      "model_name": "LayoutModel",
      "state": {}
     },
     "15642f38d53f4befadac937f550cf26f": {
      "model_module": "@jupyter-widgets/controls",
      "model_module_version": "1.5.0",
      "model_name": "LabelModel",
      "state": {
       "layout": "IPY_MODEL_3da9bf7b5b254528a39f4a500b441ca9",
       "style": "IPY_MODEL_c7e83b5fbff8487da3c209e780c593b9",
       "value": "logs"
      }
     },
     "15c5ab43673c4e768b1e7c3eec2f5deb": {
      "model_module": "@jupyter-widgets/base",
      "model_module_version": "1.2.0",
      "model_name": "LayoutModel",
      "state": {}
     },
     "16c0670c2e7748c0b380f97f3594eab0": {
      "model_module": "@jupyter-widgets/base",
      "model_module_version": "1.2.0",
      "model_name": "LayoutModel",
      "state": {}
     },
     "16c61812b91e400fa7fda1c2326b8805": {
      "model_module": "@jupyter-widgets/controls",
      "model_module_version": "1.5.0",
      "model_name": "HBoxModel",
      "state": {
       "children": [
        "IPY_MODEL_01cde5d110314b1a9d95f7eb65215e30",
        "IPY_MODEL_ea63b7e5b6744a539c535abc5838796f"
       ],
       "layout": "IPY_MODEL_f306de3e9f7147459135d295cef332fc"
      }
     },
     "16f3ae9c94584e589ae379dd371bb3e8": {
      "model_module": "@jupyter-widgets/controls",
      "model_module_version": "1.5.0",
      "model_name": "ButtonModel",
      "state": {
       "description": "45.0 Refinery using Alternate: Heavy Oil Residue",
       "layout": "IPY_MODEL_eed224ba7e984f4fa454628e803374bc",
       "style": "IPY_MODEL_58ba32d4d9a74fee93d11632aec531d4"
      }
     },
     "1702a4721cb24388aa7dd658ed849185": {
      "model_module": "@jupyter-widgets/output",
      "model_module_version": "1.0.0",
      "model_name": "OutputModel",
      "state": {
       "layout": "IPY_MODEL_841a05169a0d47e2b823193264a293c8",
       "outputs": [
        {
         "name": "stdout",
         "output_type": "stream",
         "text": "recipes:\n"
        }
       ]
      }
     },
     "171f731cafda4ebfa559803f90ae323b": {
      "model_module": "@jupyter-widgets/controls",
      "model_module_version": "1.5.0",
      "model_name": "DescriptionStyleModel",
      "state": {
       "description_width": ""
      }
     },
     "1758058010ab41d39e74449052886bd5": {
      "model_module": "@jupyter-widgets/controls",
      "model_module_version": "1.5.0",
      "model_name": "TextModel",
      "state": {
       "layout": "IPY_MODEL_9a79c2a08eaf4ef2a10d75128acc02f9",
       "style": "IPY_MODEL_9d4b3d8ba4ff4702b21b909507c13608",
       "value": "nyu"
      }
     },
     "1766e930b7924aff826bf50005bb1850": {
      "model_module": "@jupyter-widgets/controls",
      "model_module_version": "1.5.0",
      "model_name": "ButtonStyleModel",
      "state": {}
     },
     "17678c8cf56b4cb99db65158d66de98b": {
      "model_module": "@jupyter-widgets/controls",
      "model_module_version": "1.5.0",
      "model_name": "ButtonStyleModel",
      "state": {}
     },
     "17fefadef6144d88b1144be897b460a8": {
      "model_module": "@jupyter-widgets/controls",
      "model_module_version": "1.5.0",
      "model_name": "ButtonStyleModel",
      "state": {}
     },
     "1803747ddbfa4571ad8636f36f32a681": {
      "model_module": "@jupyter-widgets/controls",
      "model_module_version": "1.5.0",
      "model_name": "ButtonStyleModel",
      "state": {}
     },
     "180be53db2fa43bfb9849503e8744c26": {
      "model_module": "@jupyter-widgets/base",
      "model_module_version": "1.2.0",
      "model_name": "LayoutModel",
      "state": {}
     },
     "184ada2f720c411698ac0835ae856599": {
      "model_module": "@jupyter-widgets/base",
      "model_module_version": "1.2.0",
      "model_name": "LayoutModel",
      "state": {}
     },
     "1850012d4e674b32a935d2d9cee966fb": {
      "model_module": "@jupyter-widgets/base",
      "model_module_version": "1.2.0",
      "model_name": "LayoutModel",
      "state": {}
     },
     "1865d27e45294956aa3112a449294136": {
      "model_module": "@jupyter-widgets/controls",
      "model_module_version": "1.5.0",
      "model_name": "ButtonModel",
      "state": {
       "description": "search",
       "layout": "IPY_MODEL_e306156c2f2e45dc8557f711be9466be",
       "style": "IPY_MODEL_4b95d907c95d4a9d9b9c0b9790ce1be3"
      }
     },
     "18707db96486431aab6ca6f3dfc63f02": {
      "model_module": "@jupyter-widgets/controls",
      "model_module_version": "1.5.0",
      "model_name": "ButtonStyleModel",
      "state": {}
     },
     "189aa9eae6624c749124ae0343316d0d": {
      "model_module": "@jupyter-widgets/base",
      "model_module_version": "1.2.0",
      "model_name": "LayoutModel",
      "state": {}
     },
     "18dae2ca1ee84963bee1de66f1eb7576": {
      "model_module": "@jupyter-widgets/controls",
      "model_module_version": "1.5.0",
      "model_name": "ButtonModel",
      "state": {
       "description": "0.0 Rotor: 74.7 of 74.7",
       "layout": "IPY_MODEL_56eae548ea6e41abb16dd2b5c98cfdd1",
       "style": "IPY_MODEL_0f358de69760403fb4c3b7f86bb44665"
      }
     },
     "18dc93004bc2471daa94617a14c8fe0c": {
      "model_module": "@jupyter-widgets/controls",
      "model_module_version": "1.5.0",
      "model_name": "ButtonStyleModel",
      "state": {}
     },
     "19172076913a436dadbbb3ecc5f882e4": {
      "model_module": "@jupyter-widgets/base",
      "model_module_version": "1.2.0",
      "model_name": "LayoutModel",
      "state": {}
     },
     "193393b952c54baab02c4c0a8f409673": {
      "model_module": "@jupyter-widgets/controls",
      "model_module_version": "1.5.0",
      "model_name": "ButtonStyleModel",
      "state": {}
     },
     "194ccbb3040841cd8ff55d8a28bf279a": {
      "model_module": "@jupyter-widgets/base",
      "model_module_version": "1.2.0",
      "model_name": "LayoutModel",
      "state": {}
     },
     "1950af35a8724a959d5d89e5ce7861e9": {
      "model_module": "@jupyter-widgets/controls",
      "model_module_version": "1.5.0",
      "model_name": "ButtonStyleModel",
      "state": {}
     },
     "19516d975ef447b29ffd935f8e4ff680": {
      "model_module": "@jupyter-widgets/controls",
      "model_module_version": "1.5.0",
      "model_name": "VBoxModel",
      "state": {
       "children": [
        "IPY_MODEL_3a6c1f226eb448c19c4c2b61328eab9f",
        "IPY_MODEL_0a5fd12939d0451480c42ba5b0f7a43c"
       ],
       "layout": "IPY_MODEL_1f675ad8a2d74fec862464b4a5f675e2"
      }
     },
     "1956914070834ca69fbb70fd66c9bd45": {
      "model_module": "@jupyter-widgets/controls",
      "model_module_version": "1.5.0",
      "model_name": "VBoxModel",
      "state": {
       "children": [
        "IPY_MODEL_a6905fa2566c48ca923522d3e40fa065",
        "IPY_MODEL_d5c20e701d674e78a9a0278ba35d8056"
       ],
       "layout": "IPY_MODEL_7282d33d980443a09f2109b6f1c69c00"
      }
     },
     "1966b4bc94b54189b6bbcd7f57c45501": {
      "model_module": "@jupyter-widgets/controls",
      "model_module_version": "1.5.0",
      "model_name": "DescriptionStyleModel",
      "state": {
       "description_width": ""
      }
     },
     "19b1bf42095949c0beff4821f4e62042": {
      "model_module": "@jupyter-widgets/controls",
      "model_module_version": "1.5.0",
      "model_name": "LabelModel",
      "state": {
       "layout": "IPY_MODEL_01311a9c37bf46f18aaae122fd668ac7",
       "style": "IPY_MODEL_55d2dd005d7d426bbb6b334372da46e2",
       "value": "Items"
      }
     },
     "19d97dc0017b4ee08c61f1d7f2c2b196": {
      "model_module": "@jupyter-widgets/controls",
      "model_module_version": "1.5.0",
      "model_name": "ButtonStyleModel",
      "state": {}
     },
     "19e812a249024f75ae842a9d8e208ec3": {
      "model_module": "@jupyter-widgets/base",
      "model_module_version": "1.2.0",
      "model_name": "LayoutModel",
      "state": {}
     },
     "19ea68dec8e74c5d9627d05b97a19924": {
      "model_module": "@jupyter-widgets/controls",
      "model_module_version": "1.5.0",
      "model_name": "ButtonModel",
      "state": {
       "description": "search",
       "layout": "IPY_MODEL_046b8be5c5ac423eb3d66f84daf44c94",
       "style": "IPY_MODEL_828eb05a7fb14513afa2e79f65223c31"
      }
     },
     "19f20b5d9de74fe4891a2bfab2526124": {
      "model_module": "@jupyter-widgets/controls",
      "model_module_version": "1.5.0",
      "model_name": "VBoxModel",
      "state": {
       "children": [
        "IPY_MODEL_64d873575ad140b0af4133a5487c512b",
        "IPY_MODEL_f30ff89f6206451d95f9a8666c28f471"
       ],
       "layout": "IPY_MODEL_ba7975eaac534ba28b9095e4320e57d6"
      }
     },
     "19fc48d4e74b45869aaa1224fbb8dadd": {
      "model_module": "@jupyter-widgets/controls",
      "model_module_version": "1.5.0",
      "model_name": "ButtonStyleModel",
      "state": {}
     },
     "1a58bfb5c53d46f299e4863d319b371e": {
      "model_module": "@jupyter-widgets/base",
      "model_module_version": "1.2.0",
      "model_name": "LayoutModel",
      "state": {}
     },
     "1a6491e98d204856abac33a68fbea640": {
      "model_module": "@jupyter-widgets/controls",
      "model_module_version": "1.5.0",
      "model_name": "ButtonModel",
      "state": {
       "button_style": "success",
       "description": "# 22 of 21.35 Foundry using Alternate: Solid Steel Ingot, reste -0.65",
       "layout": "IPY_MODEL_abd371dcae6144668a5205d1e1dc669d",
       "style": "IPY_MODEL_fd9cf2ccca8740afb6f068709d5951db"
      }
     },
     "1a846263653b4fa3b679c292fb63a237": {
      "model_module": "@jupyter-widgets/controls",
      "model_module_version": "1.5.0",
      "model_name": "ButtonModel",
      "state": {
       "description": "0.0 Empty Canister: 2613.0 of 2613.0",
       "layout": "IPY_MODEL_abd371dcae6144668a5205d1e1dc669d",
       "style": "IPY_MODEL_9be03457cdc24d4ba1e0e079c2776317"
      }
     },
     "1ab616d487f34ddd8747f73c7ab6f0b6": {
      "model_module": "@jupyter-widgets/controls",
      "model_module_version": "1.5.0",
      "model_name": "ButtonStyleModel",
      "state": {}
     },
     "1b0dda35539046f895aae179db561837": {
      "model_module": "@jupyter-widgets/controls",
      "model_module_version": "1.5.0",
      "model_name": "FloatTextModel",
      "state": {
       "layout": "IPY_MODEL_5db987752a384299bde7c5e088fbda6c",
       "step": null,
       "style": "IPY_MODEL_a8f5a97b62ee4cd9b23d61aad0c088d3"
      }
     },
     "1bad56136b7f4ebc9ee33eb871774914": {
      "model_module": "@jupyter-widgets/controls",
      "model_module_version": "1.5.0",
      "model_name": "HBoxModel",
      "state": {
       "children": [
        "IPY_MODEL_ac79f59f78384b6eaa85bd22aa138691",
        "IPY_MODEL_2b39ca77294f429d84d5b9446301abee"
       ],
       "layout": "IPY_MODEL_f6d3b001b69943c1a2252fda2ce1e4da"
      }
     },
     "1bc4b6edfb294247a1d827e03dbfdeab": {
      "model_module": "@jupyter-widgets/base",
      "model_module_version": "1.2.0",
      "model_name": "LayoutModel",
      "state": {}
     },
     "1c4d1d5592ae474eb19b05faacfb5f26": {
      "model_module": "@jupyter-widgets/base",
      "model_module_version": "1.2.0",
      "model_name": "LayoutModel",
      "state": {}
     },
     "1c5b9234510846238763c6c514ebfeb2": {
      "model_module": "@jupyter-widgets/base",
      "model_module_version": "1.2.0",
      "model_name": "LayoutModel",
      "state": {}
     },
     "1c99652000b6434f97caaefc2845ecea": {
      "model_module": "@jupyter-widgets/base",
      "model_module_version": "1.2.0",
      "model_name": "LayoutModel",
      "state": {}
     },
     "1cbcfc0ef2b74b8ba2b41fb12bc90ca2": {
      "model_module": "@jupyter-widgets/controls",
      "model_module_version": "1.5.0",
      "model_name": "ButtonStyleModel",
      "state": {}
     },
     "1cd9c1a2a4514a4e884091c04218a4bc": {
      "model_module": "@jupyter-widgets/controls",
      "model_module_version": "1.5.0",
      "model_name": "TextModel",
      "state": {
       "layout": "IPY_MODEL_e8b57c8173a843e285ecddc22a7a5ca0",
       "style": "IPY_MODEL_eb4c2789d12a457ab126dbefec061ea2"
      }
     },
     "1d08f23ea9dd49129fa05535a1cbc983": {
      "model_module": "@jupyter-widgets/controls",
      "model_module_version": "1.5.0",
      "model_name": "VBoxModel",
      "state": {
       "children": [
        "IPY_MODEL_c882ac61701a40bcadb2e90322e1858e"
       ],
       "layout": "IPY_MODEL_c2822c7903f54ef0a3b36ff00f2a7b73"
      }
     },
     "1d1f2443642545f891de91ced077a8ad": {
      "model_module": "@jupyter-widgets/controls",
      "model_module_version": "1.5.0",
      "model_name": "ButtonStyleModel",
      "state": {}
     },
     "1d68b273da494650bdc0717460e850d5": {
      "model_module": "@jupyter-widgets/controls",
      "model_module_version": "1.5.0",
      "model_name": "ButtonStyleModel",
      "state": {}
     },
     "1d85abce97514b73af10dd967acb8a75": {
      "model_module": "@jupyter-widgets/controls",
      "model_module_version": "1.5.0",
      "model_name": "SelectModel",
      "state": {
       "index": null,
       "layout": "IPY_MODEL_784434719f7f46669e20548419ea62b3",
       "style": "IPY_MODEL_f1a0ae9924424535b50c4385f6cef6cb"
      }
     },
     "1d882797d8d746f68f2bbf710044d316": {
      "model_module": "@jupyter-widgets/controls",
      "model_module_version": "1.5.0",
      "model_name": "ButtonModel",
      "state": {
       "description": "25.0 Refinery using Alternate: Pure Caterium Ingot",
       "layout": "IPY_MODEL_abd371dcae6144668a5205d1e1dc669d",
       "style": "IPY_MODEL_dc216f5af5ea42478d0cfcdd5ae340f3"
      }
     },
     "1dc616eb58a1414eb784864142f1c278": {
      "model_module": "@jupyter-widgets/output",
      "model_module_version": "1.0.0",
      "model_name": "OutputModel",
      "state": {
       "layout": "IPY_MODEL_fdb4db3a3d354e99ac1df46e5ba0ffa4"
      }
     },
     "1e870fb9282446dbb7243e81eacde3c4": {
      "model_module": "@jupyter-widgets/controls",
      "model_module_version": "1.5.0",
      "model_name": "HBoxModel",
      "state": {
       "children": [
        "IPY_MODEL_0ad8682dd97d4b55970c363b9fc3cbea",
        "IPY_MODEL_1865d27e45294956aa3112a449294136"
       ],
       "layout": "IPY_MODEL_78c77b8f2db542e5b09154ac5206b7bd"
      }
     },
     "1e8a62836cd64e2182f9419d89eef404": {
      "model_module": "@jupyter-widgets/controls",
      "model_module_version": "1.5.0",
      "model_name": "ButtonModel",
      "state": {
       "description": "Add",
       "layout": "IPY_MODEL_bd49e494737241c3857576a6b688d1cf",
       "style": "IPY_MODEL_0e98ac7de1ee4b4d8215130bf0086da5"
      }
     },
     "1e9901479fb04561881fe7a85c5cc6a8": {
      "model_module": "@jupyter-widgets/controls",
      "model_module_version": "1.5.0",
      "model_name": "ButtonStyleModel",
      "state": {}
     },
     "1ef541e8a91341138a1f65ba05f6d1b1": {
      "model_module": "@jupyter-widgets/controls",
      "model_module_version": "1.5.0",
      "model_name": "HBoxModel",
      "state": {
       "children": [
        "IPY_MODEL_2ad472c144de476693c53e7b7249de85",
        "IPY_MODEL_adfd24d054c3436681294747ff6202b2",
        "IPY_MODEL_067580c2ef334b25b87cb9b2225a7e2c",
        "IPY_MODEL_ff786cadecfd4f70b6b38890d652e6ce",
        "IPY_MODEL_d2ea9a0f3ee8413b9737ff5f3a48cf4b",
        "IPY_MODEL_3a3ae7f607724624ae427a9ab0f07534"
       ],
       "layout": "IPY_MODEL_6130f547dd4d48648b3cfe2c85dd078b"
      }
     },
     "1f675ad8a2d74fec862464b4a5f675e2": {
      "model_module": "@jupyter-widgets/base",
      "model_module_version": "1.2.0",
      "model_name": "LayoutModel",
      "state": {}
     },
     "1f700bbf19ae4368bbf7486fde1e41e0": {
      "model_module": "@jupyter-widgets/controls",
      "model_module_version": "1.5.0",
      "model_name": "VBoxModel",
      "state": {
       "children": [
        "IPY_MODEL_e888e4c8abf54923933ad351165a7b69",
        "IPY_MODEL_5b1d24cca07343eea504d2f727d73f0a",
        "IPY_MODEL_01ac8352c4104a96ad69b9050e0a6110",
        "IPY_MODEL_cb1b6162f44346188bf473958032f330",
        "IPY_MODEL_a1acec9fa930409282c2bb5240c1c4aa",
        "IPY_MODEL_2123c3552b3e44f59775606c5bc41471",
        "IPY_MODEL_7d7669ed0e0d4f1a97c9e09debddb249",
        "IPY_MODEL_0c004dcd05b54f34969fee9addbeb7cb",
        "IPY_MODEL_46466a88dc4b4f8a89a32811c159ed65"
       ],
       "layout": "IPY_MODEL_15c5ab43673c4e768b1e7c3eec2f5deb"
      }
     },
     "1fa981c6070045e99045e21c89e2f4ea": {
      "model_module": "@jupyter-widgets/base",
      "model_module_version": "1.2.0",
      "model_name": "LayoutModel",
      "state": {}
     },
     "1fb88b604fe54fb58098670c2e24d1f3": {
      "model_module": "@jupyter-widgets/base",
      "model_module_version": "1.2.0",
      "model_name": "LayoutModel",
      "state": {}
     },
     "1fe6a2ef42914512a05a2454e4da9f02": {
      "model_module": "@jupyter-widgets/controls",
      "model_module_version": "1.5.0",
      "model_name": "ButtonStyleModel",
      "state": {}
     },
     "1ff3405faf864cb28e648d1f2b2200aa": {
      "model_module": "@jupyter-widgets/controls",
      "model_module_version": "1.5.0",
      "model_name": "ButtonStyleModel",
      "state": {}
     },
     "2065c65b1bcd41af8d22909c07397af7": {
      "model_module": "@jupyter-widgets/controls",
      "model_module_version": "1.5.0",
      "model_name": "ButtonModel",
      "state": {
       "description": "0.25 Alclad Aluminum Sheet: 285.75 of 286.0",
       "layout": "IPY_MODEL_abd371dcae6144668a5205d1e1dc669d",
       "style": "IPY_MODEL_19fc48d4e74b45869aaa1224fbb8dadd"
      }
     },
     "21007e36468d4589acfd20123ec23c64": {
      "model_module": "@jupyter-widgets/controls",
      "model_module_version": "1.5.0",
      "model_name": "HBoxModel",
      "state": {
       "children": [
        "IPY_MODEL_1cd9c1a2a4514a4e884091c04218a4bc",
        "IPY_MODEL_e2051fe9aa9b4d4fa32a8e741acb6ff5"
       ],
       "layout": "IPY_MODEL_663706692e18491fa59c0201f79c8cd5"
      }
     },
     "210cac9bd949493aa9b75a64b3561f65": {
      "model_module": "@jupyter-widgets/base",
      "model_module_version": "1.2.0",
      "model_name": "LayoutModel",
      "state": {}
     },
     "21168c3c48c14fd69280e9d85578076b": {
      "model_module": "@jupyter-widgets/base",
      "model_module_version": "1.2.0",
      "model_name": "LayoutModel",
      "state": {}
     },
     "2123c3552b3e44f59775606c5bc41471": {
      "model_module": "@jupyter-widgets/controls",
      "model_module_version": "1.5.0",
      "model_name": "VBoxModel",
      "state": {
       "children": [
        "IPY_MODEL_3dd6b9a8f2224119aa21cdbab5e780ae"
       ],
       "layout": "IPY_MODEL_fa0405c6936345959538cc9e9873f3bb"
      }
     },
     "2143b7c6d76141cc83c4ee28010ed8d6": {
      "model_module": "@jupyter-widgets/base",
      "model_module_version": "1.2.0",
      "model_name": "LayoutModel",
      "state": {}
     },
     "214cee864d0340cc9533313fee007907": {
      "model_module": "@jupyter-widgets/output",
      "model_module_version": "1.0.0",
      "model_name": "OutputModel",
      "state": {
       "layout": "IPY_MODEL_7fd10e4001bb41c5b392e7d85b5d870d",
       "outputs": [
        {
         "name": "stdout",
         "output_type": "stream",
         "text": "recipes:\n"
        }
       ]
      }
     },
     "216b26df696346c190638e2ed7423c6f": {
      "model_module": "@jupyter-widgets/controls",
      "model_module_version": "1.5.0",
      "model_name": "ButtonModel",
      "state": {
       "description": "13.33 of 43.55 Refinery using Alternate: Diluted Packaged Fuel, reste 30.22",
       "layout": "IPY_MODEL_abd371dcae6144668a5205d1e1dc669d",
       "style": "IPY_MODEL_a3899b315f1c4acfbd936d32c13f1a8a"
      }
     },
     "21b9206d6c574941999a055b0a7df950": {
      "model_module": "@jupyter-widgets/base",
      "model_module_version": "1.2.0",
      "model_name": "LayoutModel",
      "state": {}
     },
     "22b3b7c6bc6d4f7891ca536360f59b6a": {
      "model_module": "@jupyter-widgets/controls",
      "model_module_version": "1.5.0",
      "model_name": "ButtonStyleModel",
      "state": {}
     },
     "233191ad824a48689b4df9fd290f4b9c": {
      "model_module": "@jupyter-widgets/base",
      "model_module_version": "1.2.0",
      "model_name": "LayoutModel",
      "state": {}
     },
     "2340ab84f4d047b09aafe6cd11a965fa": {
      "model_module": "@jupyter-widgets/controls",
      "model_module_version": "1.5.0",
      "model_name": "HBoxModel",
      "state": {
       "layout": "IPY_MODEL_c9483b71e97f4951bb9816ba23e89779"
      }
     },
     "23728415d9364e01b6bc06d48805be8b": {
      "model_module": "@jupyter-widgets/controls",
      "model_module_version": "1.5.0",
      "model_name": "ButtonModel",
      "state": {
       "description": "20.0 Nobelisk: +20.0",
       "layout": "IPY_MODEL_718465d2c182451480d43bbcaadabb6b",
       "style": "IPY_MODEL_cdd7c8cc8c254aca9ec9d4d5899a727e"
      }
     },
     "23a5a7ca570b479e93c22f6cd54ad40e": {
      "model_module": "@jupyter-widgets/controls",
      "model_module_version": "1.5.0",
      "model_name": "ButtonModel",
      "state": {
       "description": "-0.07000000000016371 Silica: 1598.17 of 1598.1",
       "layout": "IPY_MODEL_abd371dcae6144668a5205d1e1dc669d",
       "style": "IPY_MODEL_1d68b273da494650bdc0717460e850d5"
      }
     },
     "23a9abd8e10643c7a8dc267409e0261c": {
      "model_module": "@jupyter-widgets/controls",
      "model_module_version": "1.5.0",
      "model_name": "VBoxModel",
      "state": {
       "children": [
        "IPY_MODEL_e4e87975a5384d72bb7b2117aa94fdf0",
        "IPY_MODEL_3d916ac9eb954e45b61335cfea155cbe"
       ],
       "layout": "IPY_MODEL_eab819af987d4ee29a93a3bbd62ac5be"
      }
     },
     "24fda8c4734c4b6a9e9d8b68e322a27a": {
      "model_module": "@jupyter-widgets/controls",
      "model_module_version": "1.5.0",
      "model_name": "VBoxModel",
      "state": {
       "children": [
        "IPY_MODEL_bd718653765742b38f16a343ecc8ca4c",
        "IPY_MODEL_6fa14c68aade4739abfa23233e04ef41"
       ],
       "layout": "IPY_MODEL_dbf33f5518ab4842b07f7443c9da5b3d"
      }
     },
     "2534d70d8841456eb8fd8e3386f38db6": {
      "model_module": "@jupyter-widgets/controls",
      "model_module_version": "1.5.0",
      "model_name": "ButtonModel",
      "state": {
       "description": "Choose",
       "layout": "IPY_MODEL_46a53de7da3f453a91d1f537186c84ed",
       "style": "IPY_MODEL_cbf0489fb2dd40b7bd8e7c147a07d443"
      }
     },
     "25408cf59d9e41abad479fa830172b0e": {
      "model_module": "@jupyter-widgets/controls",
      "model_module_version": "1.5.0",
      "model_name": "ButtonStyleModel",
      "state": {}
     },
     "25d71ddf32f84bb790c126c0dec28864": {
      "model_module": "@jupyter-widgets/controls",
      "model_module_version": "1.5.0",
      "model_name": "VBoxModel",
      "state": {
       "children": [
        "IPY_MODEL_d06b39261e534b29bd59cf50d515b00b",
        "IPY_MODEL_af41541020e24e6d913c26f3cb7282ab",
        "IPY_MODEL_f11ff1a50e7a458a8b6c62e3ea231245",
        "IPY_MODEL_51d513c4df814a879b9dceb7c57879b4",
        "IPY_MODEL_2ec577226a2946479844f8dc27a1ca56",
        "IPY_MODEL_fb590da1ab4c41b1810a45414043718a",
        "IPY_MODEL_4a6fd01cdbb143dbb494f2e4202df0f3",
        "IPY_MODEL_2ea56e5b720341aeb751ee7cca6d1f8a",
        "IPY_MODEL_52244c71e0d8437ab84732040d363594"
       ],
       "layout": "IPY_MODEL_ab161727d3a1467b8cba1ec8f720e3fd"
      }
     },
     "26f207420a1948ec938705229a11217f": {
      "model_module": "@jupyter-widgets/controls",
      "model_module_version": "1.5.0",
      "model_name": "DescriptionStyleModel",
      "state": {
       "description_width": ""
      }
     },
     "2796b381979648589dbb6c0e96f92dab": {
      "model_module": "@jupyter-widgets/base",
      "model_module_version": "1.2.0",
      "model_name": "LayoutModel",
      "state": {}
     },
     "27f7a3ac4a4240efa6db582a2d29e0f9": {
      "model_module": "@jupyter-widgets/base",
      "model_module_version": "1.2.0",
      "model_name": "LayoutModel",
      "state": {}
     },
     "2834cef9e0f545bbbbd5f343b3b7a013": {
      "model_module": "@jupyter-widgets/base",
      "model_module_version": "1.2.0",
      "model_name": "LayoutModel",
      "state": {}
     },
     "284a4dde646646648a1bbec4b6844f8c": {
      "model_module": "@jupyter-widgets/controls",
      "model_module_version": "1.5.0",
      "model_name": "VBoxModel",
      "state": {
       "children": [
        "IPY_MODEL_1bad56136b7f4ebc9ee33eb871774914",
        "IPY_MODEL_1ef541e8a91341138a1f65ba05f6d1b1",
        "IPY_MODEL_b83d8aefe9564e3d99c647b5322821ff",
        "IPY_MODEL_e98dc0abc6864645afed84ae08f24083",
        "IPY_MODEL_46a4462f1d554d6eac1cfd9d1e1c4926",
        "IPY_MODEL_94b75104571d4fda8e0dcc7a938aa0ea",
        "IPY_MODEL_f5f924854f674f0c8a7f3cd14d984533",
        "IPY_MODEL_81e39a2dfa844084b119b4d16505caa0",
        "IPY_MODEL_1dc616eb58a1414eb784864142f1c278"
       ],
       "layout": "IPY_MODEL_761adce6bf064215b0022a62192f99c4"
      }
     },
     "28c769f295154df8807a293b8d36a990": {
      "model_module": "@jupyter-widgets/base",
      "model_module_version": "1.2.0",
      "model_name": "LayoutModel",
      "state": {}
     },
     "293db8ba237b4a35aac30a2560b3a3c9": {
      "model_module": "@jupyter-widgets/controls",
      "model_module_version": "1.5.0",
      "model_name": "ButtonStyleModel",
      "state": {}
     },
     "29464551ee2345fbaf82d9da0c777b29": {
      "model_module": "@jupyter-widgets/controls",
      "model_module_version": "1.5.0",
      "model_name": "ButtonModel",
      "state": {
       "description": "Consume with recipe",
       "layout": "IPY_MODEL_69a319b959da4c80b1412a7d3010d5d6",
       "style": "IPY_MODEL_947fbb2749b34026b328e1d0ef26ac94"
      }
     },
     "29994229504f4bd9994f315657e7ce4a": {
      "model_module": "@jupyter-widgets/controls",
      "model_module_version": "1.5.0",
      "model_name": "ButtonModel",
      "state": {
       "description": "100 Refinery using Alternate: Steamed Copper Sheet",
       "layout": "IPY_MODEL_abd371dcae6144668a5205d1e1dc669d",
       "style": "IPY_MODEL_b4c75908ef854538800a8d811bb0c663"
      }
     },
     "29a9263113d645a380e280c04d0867c6": {
      "model_module": "@jupyter-widgets/controls",
      "model_module_version": "1.5.0",
      "model_name": "FloatTextModel",
      "state": {
       "description": "quantity",
       "layout": "IPY_MODEL_4f657a28fcc94510b6e7caa59a974ab2",
       "step": null,
       "style": "IPY_MODEL_2db0173786a548e7bd00d6dc2db17645"
      }
     },
     "29b7bb1ae9a14a6297a8d9f740af2ecd": {
      "model_module": "@jupyter-widgets/controls",
      "model_module_version": "1.5.0",
      "model_name": "VBoxModel",
      "state": {
       "children": [
        "IPY_MODEL_698aa1e20e2845a0a8f30f5cf6034954",
        "IPY_MODEL_a4de811a99704d5baa2e176fccd9abf6"
       ],
       "layout": "IPY_MODEL_210cac9bd949493aa9b75a64b3561f65"
      }
     },
     "29e574b134a24fa89f9f005b3fdde3cd": {
      "model_module": "@jupyter-widgets/controls",
      "model_module_version": "1.5.0",
      "model_name": "LabelModel",
      "state": {
       "layout": "IPY_MODEL_f7237726d8904c00bc74d853f1ad217e",
       "style": "IPY_MODEL_171f731cafda4ebfa559803f90ae323b",
       "value": "Item produced"
      }
     },
     "2a40754080394a0a80150b7a3456942e": {
      "model_module": "@jupyter-widgets/controls",
      "model_module_version": "1.5.0",
      "model_name": "ButtonStyleModel",
      "state": {}
     },
     "2a46cbe79e504394882a3cabe1ca5616": {
      "model_module": "@jupyter-widgets/controls",
      "model_module_version": "1.5.0",
      "model_name": "ButtonModel",
      "state": {
       "description": "0.5 Manufacturer using Beacon",
       "layout": "IPY_MODEL_718465d2c182451480d43bbcaadabb6b",
       "style": "IPY_MODEL_1766e930b7924aff826bf50005bb1850"
      }
     },
     "2a51b484b4a845029d631cb43c19ff3c": {
      "model_module": "@jupyter-widgets/base",
      "model_module_version": "1.2.0",
      "model_name": "LayoutModel",
      "state": {}
     },
     "2a61dcf01e284e95b6f6e958fe59aa96": {
      "model_module": "@jupyter-widgets/controls",
      "model_module_version": "1.5.0",
      "model_name": "ButtonStyleModel",
      "state": {}
     },
     "2ad472c144de476693c53e7b7249de85": {
      "model_module": "@jupyter-widgets/controls",
      "model_module_version": "1.5.0",
      "model_name": "FloatTextModel",
      "state": {
       "description": "quantity",
       "layout": "IPY_MODEL_d73c996f547a486093f2f715ab092cc6",
       "step": null,
       "style": "IPY_MODEL_a3b12853f36645f78b7ea9ff646895ff"
      }
     },
     "2b39ca77294f429d84d5b9446301abee": {
      "model_module": "@jupyter-widgets/controls",
      "model_module_version": "1.5.0",
      "model_name": "VBoxModel",
      "state": {
       "children": [
        "IPY_MODEL_4c78e658df404ec191f1daa256808f36",
        "IPY_MODEL_23a9abd8e10643c7a8dc267409e0261c"
       ],
       "layout": "IPY_MODEL_4441ea8029f84ef6ac97af85fc0a3f9d"
      }
     },
     "2bb165b05d0140a5a2f4b1f60e152d46": {
      "model_module": "@jupyter-widgets/controls",
      "model_module_version": "1.5.0",
      "model_name": "ButtonModel",
      "state": {
       "description": "search",
       "layout": "IPY_MODEL_8266fffa14284792be99e0d70efa6a23",
       "style": "IPY_MODEL_f2542f669b874a3699f1807d8c8fa2af"
      }
     },
     "2be5a5a23e5d49929a48a1d8cdef0562": {
      "model_module": "@jupyter-widgets/controls",
      "model_module_version": "1.5.0",
      "model_name": "ButtonStyleModel",
      "state": {}
     },
     "2c6896db891744e9962da4f614b3d8fb": {
      "model_module": "@jupyter-widgets/controls",
      "model_module_version": "1.5.0",
      "model_name": "DescriptionStyleModel",
      "state": {
       "description_width": ""
      }
     },
     "2cc24486911545f386444e3053dd9cfe": {
      "model_module": "@jupyter-widgets/controls",
      "model_module_version": "1.5.0",
      "model_name": "ButtonStyleModel",
      "state": {}
     },
     "2cd4601c74cb4c4695a30be5228f3609": {
      "model_module": "@jupyter-widgets/controls",
      "model_module_version": "1.5.0",
      "model_name": "VBoxModel",
      "state": {
       "children": [
        "IPY_MODEL_b07df1c299c14ce0b978c77eb9ed031d",
        "IPY_MODEL_10bee5c5b4b84086bf58ac481c6e39d0",
        "IPY_MODEL_fc7c3c2973244df5baf9e55304c0838a",
        "IPY_MODEL_3efbcfc4ab5f4943ba73bd40790c6097",
        "IPY_MODEL_be81ed252fed46098ad2d07b7ede7009",
        "IPY_MODEL_762668a8ad504d7a8ef7f2ff36e9fb73",
        "IPY_MODEL_ab1b944d766d4910b4cc8e086467a3fc",
        "IPY_MODEL_60361f7f27c748699242c94c85ab3da6",
        "IPY_MODEL_a7a0ab028a2847d4bdb6d2805de0f736"
       ],
       "layout": "IPY_MODEL_11573d519bce44d99d652b1d8a5db9fc"
      }
     },
     "2d44a6d4361b4488be569b1def89a7ed": {
      "model_module": "@jupyter-widgets/controls",
      "model_module_version": "1.5.0",
      "model_name": "ButtonStyleModel",
      "state": {}
     },
     "2d52669cab184bcc89a00a56857a678c": {
      "model_module": "@jupyter-widgets/base",
      "model_module_version": "1.2.0",
      "model_name": "LayoutModel",
      "state": {}
     },
     "2d868ecd8bf94c7f89f9239f5c4bb624": {
      "model_module": "@jupyter-widgets/controls",
      "model_module_version": "1.5.0",
      "model_name": "ButtonModel",
      "state": {
       "description": "Build Factory",
       "layout": "IPY_MODEL_f7b822e5641d43e692deac74a7435462",
       "style": "IPY_MODEL_22b3b7c6bc6d4f7891ca536360f59b6a"
      }
     },
     "2db0173786a548e7bd00d6dc2db17645": {
      "model_module": "@jupyter-widgets/controls",
      "model_module_version": "1.5.0",
      "model_name": "DescriptionStyleModel",
      "state": {
       "description_width": ""
      }
     },
     "2de36aed5a134ea8bd6c99a78e127a15": {
      "model_module": "@jupyter-widgets/controls",
      "model_module_version": "1.5.0",
      "model_name": "DescriptionStyleModel",
      "state": {
       "description_width": ""
      }
     },
     "2e3e8759c4f5442e8d1a042d8329a392": {
      "model_module": "@jupyter-widgets/controls",
      "model_module_version": "1.5.0",
      "model_name": "DescriptionStyleModel",
      "state": {
       "description_width": ""
      }
     },
     "2ea56e5b720341aeb751ee7cca6d1f8a": {
      "model_module": "@jupyter-widgets/controls",
      "model_module_version": "1.5.0",
      "model_name": "ButtonModel",
      "state": {
       "description": "450.0 Rubber: +450.0",
       "layout": "IPY_MODEL_eed224ba7e984f4fa454628e803374bc",
       "style": "IPY_MODEL_7041e16aca7b40f59ac2c324bd8bd37d"
      }
     },
     "2ec577226a2946479844f8dc27a1ca56": {
      "model_module": "@jupyter-widgets/controls",
      "model_module_version": "1.5.0",
      "model_name": "ButtonModel",
      "state": {
       "description": "0.0 Packaged Water: 3600.0 of 3600.0",
       "layout": "IPY_MODEL_eed224ba7e984f4fa454628e803374bc",
       "style": "IPY_MODEL_c1b766a1e017465e81f7e616867f5c59"
      }
     },
     "2f8d6b7a37534cdf9e2de85d522f4217": {
      "model_module": "@jupyter-widgets/controls",
      "model_module_version": "1.5.0",
      "model_name": "ButtonStyleModel",
      "state": {}
     },
     "2ff167c7a56c4d88a1d883e1dbd027d2": {
      "model_module": "@jupyter-widgets/output",
      "model_module_version": "1.0.0",
      "model_name": "OutputModel",
      "state": {
       "layout": "IPY_MODEL_ff1712e7845841c68a215860cdb2848a",
       "outputs": [
        {
         "name": "stdout",
         "output_type": "stream",
         "text": "recipes:\n"
        }
       ]
      }
     },
     "2ff61b43cfcf45e0b905fd8d8e5624c2": {
      "model_module": "@jupyter-widgets/base",
      "model_module_version": "1.2.0",
      "model_name": "LayoutModel",
      "state": {}
     },
     "30e2f63aa45b4705bd9902bc763aab49": {
      "model_module": "@jupyter-widgets/base",
      "model_module_version": "1.2.0",
      "model_name": "LayoutModel",
      "state": {}
     },
     "30edc19c75eb4c3fa039d41261ad367e": {
      "model_module": "@jupyter-widgets/base",
      "model_module_version": "1.2.0",
      "model_name": "LayoutModel",
      "state": {}
     },
     "3166bcf8fe804be2822d0918553fac63": {
      "model_module": "@jupyter-widgets/controls",
      "model_module_version": "1.5.0",
      "model_name": "TextModel",
      "state": {
       "layout": "IPY_MODEL_39b117ce806645939733884f9cf5c069",
       "style": "IPY_MODEL_0cc3434140a4419ebb548cd9b1d07307"
      }
     },
     "31841fd8b3b04ea2b29bae40c608db17": {
      "model_module": "@jupyter-widgets/controls",
      "model_module_version": "1.5.0",
      "model_name": "ButtonModel",
      "state": {
       "description": "18.0 Rifle Cartridge: +18.0",
       "layout": "IPY_MODEL_718465d2c182451480d43bbcaadabb6b",
       "style": "IPY_MODEL_ff4253040f904ad5ae792c1bd714dab3"
      }
     },
     "319559c45bf54fc8b0f47ce595bd1e7d": {
      "model_module": "@jupyter-widgets/controls",
      "model_module_version": "1.5.0",
      "model_name": "ButtonModel",
      "state": {
       "description": "0.0 Black Powder: 136.0 of 136.0",
       "layout": "IPY_MODEL_718465d2c182451480d43bbcaadabb6b",
       "style": "IPY_MODEL_dd909bde31c04adc8d558332c323172b"
      }
     },
     "31b20a169962499493fa58422cdebc81": {
      "model_module": "@jupyter-widgets/controls",
      "model_module_version": "1.5.0",
      "model_name": "ButtonModel",
      "state": {
       "description": "7.62 Assembler using Alternate: Heat Exchanger",
       "layout": "IPY_MODEL_abd371dcae6144668a5205d1e1dc669d",
       "style": "IPY_MODEL_40f8cfaac946496e8a7adbcaac73cf11"
      }
     },
     "31c1a69cd3de411ea8666df950a7b0b1": {
      "model_module": "@jupyter-widgets/base",
      "model_module_version": "1.2.0",
      "model_name": "LayoutModel",
      "state": {}
     },
     "32dc856b0cc54a46881fb278b54e85f1": {
      "model_module": "@jupyter-widgets/controls",
      "model_module_version": "1.5.0",
      "model_name": "ButtonStyleModel",
      "state": {}
     },
     "32e58776abaa4d89b2e7ced6a5e93cab": {
      "model_module": "@jupyter-widgets/controls",
      "model_module_version": "1.5.0",
      "model_name": "DescriptionStyleModel",
      "state": {
       "description_width": ""
      }
     },
     "331f13f6b62145959b982e200862db55": {
      "model_module": "@jupyter-widgets/controls",
      "model_module_version": "1.5.0",
      "model_name": "ButtonModel",
      "state": {
       "description": "search",
       "layout": "IPY_MODEL_3c397ff59cf64651bb273439b22fc446",
       "style": "IPY_MODEL_a2fc47eb5c8b44f088f5be5908bafb1e"
      }
     },
     "3360b5f3599d468cb25e5623b3c44cb5": {
      "model_module": "@jupyter-widgets/controls",
      "model_module_version": "1.5.0",
      "model_name": "HBoxModel",
      "state": {
       "children": [
        "IPY_MODEL_e09f583954f144e9a720f8db53646229",
        "IPY_MODEL_b6dbe36db545446ba074e83fff7a75dd"
       ],
       "layout": "IPY_MODEL_f58c223de3c8422b80c5e8ce7fad653c"
      }
     },
     "340b468b933c4f0482af504cc7183b6e": {
      "model_module": "@jupyter-widgets/controls",
      "model_module_version": "1.5.0",
      "model_name": "ButtonStyleModel",
      "state": {}
     },
     "3414dda406dd4242b23b9c13c47fc4ed": {
      "model_module": "@jupyter-widgets/base",
      "model_module_version": "1.2.0",
      "model_name": "LayoutModel",
      "state": {}
     },
     "358e874449cb42c89aa5ba641323ed57": {
      "model_module": "@jupyter-widgets/controls",
      "model_module_version": "1.5.0",
      "model_name": "LabelModel",
      "state": {
       "layout": "IPY_MODEL_fdb5031f99544fd7ae538cf674cdcb7b",
       "style": "IPY_MODEL_87a49471c2f94c7aa64be2dddb5af17a",
       "value": "Items"
      }
     },
     "36574d43dc5b487db3ec11322dafbcab": {
      "model_module": "@jupyter-widgets/base",
      "model_module_version": "1.2.0",
      "model_name": "LayoutModel",
      "state": {}
     },
     "36761ba3da204019a33465aa208f0fde": {
      "model_module": "@jupyter-widgets/controls",
      "model_module_version": "1.5.0",
      "model_name": "ButtonStyleModel",
      "state": {}
     },
     "374aa8514180418080821bb3ded9d038": {
      "model_module": "@jupyter-widgets/controls",
      "model_module_version": "1.5.0",
      "model_name": "ButtonStyleModel",
      "state": {}
     },
     "3763133ba54e4ac3a0e5d85ca2e69e5f": {
      "model_module": "@jupyter-widgets/base",
      "model_module_version": "1.2.0",
      "model_name": "LayoutModel",
      "state": {}
     },
     "3826ac16a43948989094ea42523b497d": {
      "model_module": "@jupyter-widgets/controls",
      "model_module_version": "1.5.0",
      "model_name": "ButtonStyleModel",
      "state": {}
     },
     "382a04811f9941ea87235a477d07179a": {
      "model_module": "@jupyter-widgets/base",
      "model_module_version": "1.2.0",
      "model_name": "LayoutModel",
      "state": {}
     },
     "3859d8caa6d949d5ac79de9bb214af8d": {
      "model_module": "@jupyter-widgets/controls",
      "model_module_version": "1.5.0",
      "model_name": "ButtonModel",
      "state": {
       "description": "0.0 Packaged Fuel: 2613.0 of 2613.0",
       "layout": "IPY_MODEL_abd371dcae6144668a5205d1e1dc669d",
       "style": "IPY_MODEL_7fae976f945a4a06b01adb4dc6d045bd"
      }
     },
     "385b754f2d7b46a0b79544f68168e8e4": {
      "model_module": "@jupyter-widgets/controls",
      "model_module_version": "1.5.0",
      "model_name": "ButtonStyleModel",
      "state": {}
     },
     "388005db6f124c2084c8e14611bd06a1": {
      "model_module": "@jupyter-widgets/controls",
      "model_module_version": "1.5.0",
      "model_name": "ButtonModel",
      "state": {
       "description": "Add Factory",
       "layout": "IPY_MODEL_70bc49cdf6134d4b89c5037db0d8c389",
       "style": "IPY_MODEL_eadd3611b1f4456ab755c3eb72ad3a72"
      }
     },
     "3897b7be21e249d899c909ae69f82832": {
      "model_module": "@jupyter-widgets/base",
      "model_module_version": "1.2.0",
      "model_name": "LayoutModel",
      "state": {}
     },
     "38ddaa74f8674ef1be3422eaea58c163": {
      "model_module": "@jupyter-widgets/base",
      "model_module_version": "1.2.0",
      "model_name": "LayoutModel",
      "state": {}
     },
     "3937d92eda4f45dc8b6fac86fd7111c6": {
      "model_module": "@jupyter-widgets/controls",
      "model_module_version": "1.5.0",
      "model_name": "ButtonModel",
      "state": {
       "button_style": "success",
       "description": "# 45 of 45 Smelter using Iron Ingot, reste 0",
       "layout": "IPY_MODEL_abd371dcae6144668a5205d1e1dc669d",
       "style": "IPY_MODEL_8da25865c4f94a65bd38a7453e0d4022"
      }
     },
     "3963c813b797420583623fce8fc16b03": {
      "model_module": "@jupyter-widgets/base",
      "model_module_version": "1.2.0",
      "model_name": "LayoutModel",
      "state": {}
     },
     "39b117ce806645939733884f9cf5c069": {
      "model_module": "@jupyter-widgets/base",
      "model_module_version": "1.2.0",
      "model_name": "LayoutModel",
      "state": {}
     },
     "39b19be704354dd68008617e7857fed1": {
      "model_module": "@jupyter-widgets/controls",
      "model_module_version": "1.5.0",
      "model_name": "ButtonStyleModel",
      "state": {}
     },
     "3a203765e22e42e9b6ee657b715f148a": {
      "model_module": "@jupyter-widgets/controls",
      "model_module_version": "1.5.0",
      "model_name": "ButtonModel",
      "state": {
       "description": "0.30999999999994543 Steel Ingot: 1280.69 of 1281.0",
       "layout": "IPY_MODEL_abd371dcae6144668a5205d1e1dc669d",
       "style": "IPY_MODEL_6978e318cfae4e26b9b928acf597ba54"
      }
     },
     "3a3ae7f607724624ae427a9ab0f07534": {
      "model_module": "@jupyter-widgets/controls",
      "model_module_version": "1.5.0",
      "model_name": "ButtonModel",
      "state": {
       "description": "Build Factory",
       "layout": "IPY_MODEL_184ada2f720c411698ac0835ae856599",
       "style": "IPY_MODEL_a49eaedb768d4546a0e1db8dbeb358db"
      }
     },
     "3a4f068530f446e8a6cbaff13eaf8ae5": {
      "model_module": "@jupyter-widgets/base",
      "model_module_version": "1.2.0",
      "model_name": "LayoutModel",
      "state": {}
     },
     "3a60b261b92f44aa9690626381a0795d": {
      "model_module": "@jupyter-widgets/controls",
      "model_module_version": "1.5.0",
      "model_name": "ButtonModel",
      "state": {
       "description": "1980.0 Iron Ore: +1980.0",
       "layout": "IPY_MODEL_bb1c31d79cc14e74a65daa92264e1bed",
       "style": "IPY_MODEL_6713c63d512d4a1aa3ce443124f22e2f"
      }
     },
     "3a6c1f226eb448c19c4c2b61328eab9f": {
      "model_module": "@jupyter-widgets/controls",
      "model_module_version": "1.5.0",
      "model_name": "HBoxModel",
      "state": {
       "children": [
        "IPY_MODEL_dfc04867a11f4da1bfafa37acd688cd1",
        "IPY_MODEL_479685ebec7745e2b60ceea4064a34ca"
       ],
       "layout": "IPY_MODEL_d4412d30fafa4d82993734a56b075491"
      }
     },
     "3a971854a84b4adea48e01b7b1d3c818": {
      "model_module": "@jupyter-widgets/controls",
      "model_module_version": "1.5.0",
      "model_name": "ButtonModel",
      "state": {
       "description": "106.67 Refinery using Turbofuel",
       "layout": "IPY_MODEL_50c8605a220a41f9854478362a8e13c8",
       "style": "IPY_MODEL_ddf5b127ce4544ae83958ebbce59f11c"
      }
     },
     "3b89b018b85349baa29e7a10449a35a8": {
      "model_module": "@jupyter-widgets/controls",
      "model_module_version": "1.5.0",
      "model_name": "ButtonModel",
      "state": {
       "description": "search",
       "layout": "IPY_MODEL_a937152729194191a743f3e04ef141ef",
       "style": "IPY_MODEL_6b719c1552774495b2ab8660b28bea28"
      }
     },
     "3b8eceec773145ec85cf91b585520669": {
      "model_module": "@jupyter-widgets/controls",
      "model_module_version": "1.5.0",
      "model_name": "ButtonStyleModel",
      "state": {}
     },
     "3c0ab6f604b24578ac55d35bf2c71f26": {
      "model_module": "@jupyter-widgets/controls",
      "model_module_version": "1.5.0",
      "model_name": "ButtonModel",
      "state": {
       "description": "0.0 Screw: 1867.5 of 1867.5",
       "layout": "IPY_MODEL_56eae548ea6e41abb16dd2b5c98cfdd1",
       "style": "IPY_MODEL_9804220bea50428ea08baf412b2f1b51"
      }
     },
     "3c296b9a533d4bd6bdffc153a20c2553": {
      "model_module": "@jupyter-widgets/controls",
      "model_module_version": "1.5.0",
      "model_name": "ButtonStyleModel",
      "state": {}
     },
     "3c397ff59cf64651bb273439b22fc446": {
      "model_module": "@jupyter-widgets/base",
      "model_module_version": "1.2.0",
      "model_name": "LayoutModel",
      "state": {}
     },
     "3c8b7566741245b192f0cdff4b7d0dc9": {
      "model_module": "@jupyter-widgets/base",
      "model_module_version": "1.2.0",
      "model_name": "LayoutModel",
      "state": {}
     },
     "3d47a9a165c54fc7a7ed0b8deb6a6cac": {
      "model_module": "@jupyter-widgets/controls",
      "model_module_version": "1.5.0",
      "model_name": "ButtonModel",
      "state": {
       "description": "Consume with recipe",
       "layout": "IPY_MODEL_9309a0237408469fb2c725848ca02908",
       "style": "IPY_MODEL_4188f990c47b482495fc7e61384ce509"
      }
     },
     "3d7633f5030741c6b21cee209d3f03e4": {
      "model_module": "@jupyter-widgets/controls",
      "model_module_version": "1.5.0",
      "model_name": "ButtonModel",
      "state": {
       "description": "Choose",
       "layout": "IPY_MODEL_9e034ac581be4ad4a32b7e6573594c06",
       "style": "IPY_MODEL_dd22b9d667c245e8b3d9ad67b112ddff"
      }
     },
     "3d7990154bb74a9da16d93c54564ca7d": {
      "model_module": "@jupyter-widgets/base",
      "model_module_version": "1.2.0",
      "model_name": "LayoutModel",
      "state": {}
     },
     "3d916ac9eb954e45b61335cfea155cbe": {
      "model_module": "@jupyter-widgets/controls",
      "model_module_version": "1.5.0",
      "model_name": "HBoxModel",
      "state": {
       "children": [
        "IPY_MODEL_9a6d3bcc3a194bf083c2ba2ef7dbcc99",
        "IPY_MODEL_f102f0d2cfa1456e9bc3ec80843705cd"
       ],
       "layout": "IPY_MODEL_cc64f246884d4bcb9831c6d8ad98147b"
      }
     },
     "3da1de305144437a88a6aad1ae76bb79": {
      "model_module": "@jupyter-widgets/controls",
      "model_module_version": "1.5.0",
      "model_name": "ButtonModel",
      "state": {
       "description": "0.6999999999998181 Screw: 4849.7 of 4850.4",
       "layout": "IPY_MODEL_abd371dcae6144668a5205d1e1dc669d",
       "style": "IPY_MODEL_3e6efd2ad7ed4287bc04907329d2333e"
      }
     },
     "3da9bf7b5b254528a39f4a500b441ca9": {
      "model_module": "@jupyter-widgets/base",
      "model_module_version": "1.2.0",
      "model_name": "LayoutModel",
      "state": {}
     },
     "3dc0965672ee4e7783955b39cb01c341": {
      "model_module": "@jupyter-widgets/controls",
      "model_module_version": "1.5.0",
      "model_name": "ButtonStyleModel",
      "state": {}
     },
     "3dd4a2bd98c8411796f77bb7aae302c7": {
      "model_module": "@jupyter-widgets/controls",
      "model_module_version": "1.5.0",
      "model_name": "ButtonModel",
      "state": {
       "description": "30.0 Refinery using Alternate: Heavy Oil Residue",
       "layout": "IPY_MODEL_50c8605a220a41f9854478362a8e13c8",
       "style": "IPY_MODEL_b8773de344b743899e04f0f0c7364e44"
      }
     },
     "3dd6b9a8f2224119aa21cdbab5e780ae": {
      "model_module": "@jupyter-widgets/controls",
      "model_module_version": "1.5.0",
      "model_name": "ButtonModel",
      "state": {
       "description": "46.69 Constructor using Screw",
       "layout": "IPY_MODEL_d5afa16b7a45468bbc1457b39a5cf7d8",
       "style": "IPY_MODEL_94d3d69236cc401c9d75989d5c8f5197"
      }
     },
     "3e00066d14534ae5b3a554154dda4434": {
      "model_module": "@jupyter-widgets/controls",
      "model_module_version": "1.5.0",
      "model_name": "DescriptionStyleModel",
      "state": {
       "description_width": ""
      }
     },
     "3e5d06712dee41b7b1f822007e1d7911": {
      "model_module": "@jupyter-widgets/controls",
      "model_module_version": "1.5.0",
      "model_name": "ButtonModel",
      "state": {
       "button_style": "success",
       "description": "# 22.4 of 22.4 Assembler using Stator, reste 0.0",
       "layout": "IPY_MODEL_abd371dcae6144668a5205d1e1dc669d",
       "style": "IPY_MODEL_9554b2a35d914a1ea4a54bc0d6d331dc"
      }
     },
     "3e6efd2ad7ed4287bc04907329d2333e": {
      "model_module": "@jupyter-widgets/controls",
      "model_module_version": "1.5.0",
      "model_name": "ButtonStyleModel",
      "state": {}
     },
     "3efbcfc4ab5f4943ba73bd40790c6097": {
      "model_module": "@jupyter-widgets/controls",
      "model_module_version": "1.5.0",
      "model_name": "VBoxModel",
      "state": {
       "children": [
        "IPY_MODEL_319559c45bf54fc8b0f47ce595bd1e7d",
        "IPY_MODEL_d450d2681a8a49969e62a444f2188ba5",
        "IPY_MODEL_5f6ae42d20594ab3b7b944b157b4126a",
        "IPY_MODEL_beaf8dae9988496a9ef1831bd23bbd05",
        "IPY_MODEL_d1449ba81641480a92a9bc319c007217",
        "IPY_MODEL_9991ca7421da4b8698fd3cd42d9ae9e2",
        "IPY_MODEL_cd7434ec43ce4b00808ac74320728916",
        "IPY_MODEL_5c13a2b096414530ba3f383a1624a5cd",
        "IPY_MODEL_f3541a18e06c43bb9e5642444666bf7a",
        "IPY_MODEL_60195304a0134310b8be01e24d6441ed",
        "IPY_MODEL_ea36e13582fb4af9852b159a67ed607a",
        "IPY_MODEL_31841fd8b3b04ea2b29bae40c608db17",
        "IPY_MODEL_23728415d9364e01b6bc06d48805be8b"
       ],
       "layout": "IPY_MODEL_4c9b3b49fb7144b0aece39e58bc44490"
      }
     },
     "3f2f8f1f4df24ee895f06b9fcfba95e3": {
      "model_module": "@jupyter-widgets/controls",
      "model_module_version": "1.5.0",
      "model_name": "ButtonModel",
      "state": {
       "description": "Add",
       "layout": "IPY_MODEL_6ead30ef9f264b489d65474bac4c02a5",
       "style": "IPY_MODEL_907a0944433f451cb27e01263bbdde34"
      }
     },
     "3f9d2946fbce42a0a38165e6a54000ff": {
      "model_module": "@jupyter-widgets/controls",
      "model_module_version": "1.5.0",
      "model_name": "HBoxModel",
      "state": {
       "layout": "IPY_MODEL_c54f59dbecdb4f87b7b953f73182ef58"
      }
     },
     "3fb37a3be0324679887a360daf32190a": {
      "model_module": "@jupyter-widgets/controls",
      "model_module_version": "1.5.0",
      "model_name": "DescriptionStyleModel",
      "state": {
       "description_width": ""
      }
     },
     "4025ad7156254c938814766cc21d99f4": {
      "model_module": "@jupyter-widgets/base",
      "model_module_version": "1.2.0",
      "model_name": "LayoutModel",
      "state": {}
     },
     "4042961f882a415ebaa6af2dcef637ea": {
      "model_module": "@jupyter-widgets/controls",
      "model_module_version": "1.5.0",
      "model_name": "ButtonModel",
      "state": {
       "description": "search",
       "layout": "IPY_MODEL_1c4d1d5592ae474eb19b05faacfb5f26",
       "style": "IPY_MODEL_6600bd6261c245f799d2705fccf0b9d1"
      }
     },
     "405a308e1a8e43b799da667181c370b1": {
      "model_module": "@jupyter-widgets/controls",
      "model_module_version": "1.5.0",
      "model_name": "ButtonStyleModel",
      "state": {}
     },
     "4086d63e2fa8444b8d0b315d11aaf79d": {
      "model_module": "@jupyter-widgets/controls",
      "model_module_version": "1.5.0",
      "model_name": "ButtonModel",
      "state": {
       "description": "0.0 Packaged Fuel: 2400.0 of 2400.0",
       "layout": "IPY_MODEL_50c8605a220a41f9854478362a8e13c8",
       "style": "IPY_MODEL_9427bcc39b8745bd8b9d55b202e436b0"
      }
     },
     "409d592d3cac42b4b8c9a01e955a0015": {
      "model_module": "@jupyter-widgets/controls",
      "model_module_version": "1.5.0",
      "model_name": "ButtonStyleModel",
      "state": {}
     },
     "40f8cfaac946496e8a7adbcaac73cf11": {
      "model_module": "@jupyter-widgets/controls",
      "model_module_version": "1.5.0",
      "model_name": "ButtonStyleModel",
      "state": {}
     },
     "41050b0a146b4ef7be250139939c0647": {
      "model_module": "@jupyter-widgets/base",
      "model_module_version": "1.2.0",
      "model_name": "LayoutModel",
      "state": {}
     },
     "4112eaab65034e58a35bbdc8ff2f7cf6": {
      "model_module": "@jupyter-widgets/controls",
      "model_module_version": "1.5.0",
      "model_name": "ButtonStyleModel",
      "state": {}
     },
     "4188f990c47b482495fc7e61384ce509": {
      "model_module": "@jupyter-widgets/controls",
      "model_module_version": "1.5.0",
      "model_name": "ButtonStyleModel",
      "state": {}
     },
     "41975d12bb514ff0af0dcf4fdfc0027d": {
      "model_module": "@jupyter-widgets/controls",
      "model_module_version": "1.5.0",
      "model_name": "TextModel",
      "state": {
       "layout": "IPY_MODEL_ba2fccb43d804e79b7184743d9fe0cb5",
       "style": "IPY_MODEL_063a6c354e78491c836e15d565088b29"
      }
     },
     "420a29791713468a9fe294a75fe99d02": {
      "model_module": "@jupyter-widgets/controls",
      "model_module_version": "1.5.0",
      "model_name": "ButtonStyleModel",
      "state": {}
     },
     "434cfaa99887474d9f36f7e43103acb8": {
      "model_module": "@jupyter-widgets/controls",
      "model_module_version": "1.5.0",
      "model_name": "ButtonModel",
      "state": {
       "description": "search",
       "layout": "IPY_MODEL_4bdeadc955874cb1970bf52716e191e9",
       "style": "IPY_MODEL_871571a929e1423c8dd2dec95ce1fd87"
      }
     },
     "4404e33d0e764d1c90331ce2e8855863": {
      "model_module": "@jupyter-widgets/controls",
      "model_module_version": "1.5.0",
      "model_name": "ButtonStyleModel",
      "state": {}
     },
     "4441ea8029f84ef6ac97af85fc0a3f9d": {
      "model_module": "@jupyter-widgets/base",
      "model_module_version": "1.2.0",
      "model_name": "LayoutModel",
      "state": {}
     },
     "44cfaf489bb44fbaa214b70d6336628f": {
      "model_module": "@jupyter-widgets/base",
      "model_module_version": "1.2.0",
      "model_name": "LayoutModel",
      "state": {}
     },
     "45019851a24045fa86583decf7fbe356": {
      "model_module": "@jupyter-widgets/controls",
      "model_module_version": "1.5.0",
      "model_name": "VBoxModel",
      "state": {
       "children": [
        "IPY_MODEL_af922bc4a6dc4ecc8e523e55eacb3d51",
        "IPY_MODEL_29b7bb1ae9a14a6297a8d9f740af2ecd"
       ],
       "layout": "IPY_MODEL_0509c0a874484004be0721d9c7110cf7"
      }
     },
     "4580a65009be41b1b1161002f5eceae1": {
      "model_module": "@jupyter-widgets/controls",
      "model_module_version": "1.5.0",
      "model_name": "DescriptionStyleModel",
      "state": {
       "description_width": ""
      }
     },
     "45ba3d9e179945fda5e7b4891e6d7428": {
      "model_module": "@jupyter-widgets/controls",
      "model_module_version": "1.5.0",
      "model_name": "ButtonStyleModel",
      "state": {}
     },
     "45d774bd1b8549d89e2bba5d71e6d0a0": {
      "model_module": "@jupyter-widgets/controls",
      "model_module_version": "1.5.0",
      "model_name": "VBoxModel",
      "state": {
       "children": [
        "IPY_MODEL_a749cc612f1947d09726cde9a0d793b8",
        "IPY_MODEL_6b6c0e459c0a4d389088e93960d2a289"
       ],
       "layout": "IPY_MODEL_b9cc8ca643cd45ba992611cd812e9f26"
      }
     },
     "45df9fd482f845d98ea2f60f649b4683": {
      "model_module": "@jupyter-widgets/controls",
      "model_module_version": "1.5.0",
      "model_name": "ButtonStyleModel",
      "state": {}
     },
     "4645a1b63866415dbc8f8b1a113cec99": {
      "model_module": "@jupyter-widgets/base",
      "model_module_version": "1.2.0",
      "model_name": "LayoutModel",
      "state": {}
     },
     "46466a88dc4b4f8a89a32811c159ed65": {
      "model_module": "@jupyter-widgets/output",
      "model_module_version": "1.0.0",
      "model_name": "OutputModel",
      "state": {
       "layout": "IPY_MODEL_2143b7c6d76141cc83c4ee28010ed8d6"
      }
     },
     "4655c001c96b491d9a0237e657d5d6c3": {
      "model_module": "@jupyter-widgets/controls",
      "model_module_version": "1.5.0",
      "model_name": "FloatTextModel",
      "state": {
       "layout": "IPY_MODEL_8c50047e9f654b9692a7142c17bfea71",
       "step": null,
       "style": "IPY_MODEL_5751e0b052324277aca17a52355a20b9"
      }
     },
     "468e7a7f81c140ea9b682e5afc054b6e": {
      "model_module": "@jupyter-widgets/controls",
      "model_module_version": "1.5.0",
      "model_name": "HBoxModel",
      "state": {
       "children": [
        "IPY_MODEL_ba5f7b950aa548a6b599f3ee344b0e17",
        "IPY_MODEL_6f4d1a553d914a57825a391d18d9bdec"
       ],
       "layout": "IPY_MODEL_e113af5f7abb4d998990c0eb78f153bf"
      }
     },
     "46a4462f1d554d6eac1cfd9d1e1c4926": {
      "model_module": "@jupyter-widgets/controls",
      "model_module_version": "1.5.0",
      "model_name": "LabelModel",
      "state": {
       "layout": "IPY_MODEL_7816530d6038449584bb7c4e7222729a",
       "style": "IPY_MODEL_3fb37a3be0324679887a360daf32190a",
       "value": "Recipe used"
      }
     },
     "46a53de7da3f453a91d1f537186c84ed": {
      "model_module": "@jupyter-widgets/base",
      "model_module_version": "1.2.0",
      "model_name": "LayoutModel",
      "state": {}
     },
     "46bffa13dc914456a975bd2748cc841d": {
      "model_module": "@jupyter-widgets/base",
      "model_module_version": "1.2.0",
      "model_name": "LayoutModel",
      "state": {}
     },
     "479685ebec7745e2b60ceea4064a34ca": {
      "model_module": "@jupyter-widgets/controls",
      "model_module_version": "1.5.0",
      "model_name": "ButtonModel",
      "state": {
       "description": "search",
       "layout": "IPY_MODEL_189aa9eae6624c749124ae0343316d0d",
       "style": "IPY_MODEL_fdb3915df01449d684365685112bf67d"
      }
     },
     "4842c8a0ab7849fea0201456cf842ffa": {
      "model_module": "@jupyter-widgets/controls",
      "model_module_version": "1.5.0",
      "model_name": "ButtonModel",
      "state": {
       "description": "0.0 Iron Plate: 150.75 of 150.75",
       "layout": "IPY_MODEL_abd371dcae6144668a5205d1e1dc669d",
       "style": "IPY_MODEL_590a78db815c4ccca3721cbe18c8e8dc"
      }
     },
     "489a8094baa64e0297cb21cc27fe71c1": {
      "model_module": "@jupyter-widgets/controls",
      "model_module_version": "1.5.0",
      "model_name": "ButtonStyleModel",
      "state": {}
     },
     "489e1c806b6440a4bff7123f7b096c16": {
      "model_module": "@jupyter-widgets/base",
      "model_module_version": "1.2.0",
      "model_name": "LayoutModel",
      "state": {}
     },
     "496cde29837744c7ae0a2f6fc0f6aabe": {
      "model_module": "@jupyter-widgets/controls",
      "model_module_version": "1.5.0",
      "model_name": "ButtonModel",
      "state": {
       "description": "1.2 Manufacturer using Rifle Cartridge",
       "layout": "IPY_MODEL_718465d2c182451480d43bbcaadabb6b",
       "style": "IPY_MODEL_e5525daeda714712887cc21e0205902b"
      }
     },
     "4978676fb4b242119b23d57e9439b646": {
      "model_module": "@jupyter-widgets/controls",
      "model_module_version": "1.5.0",
      "model_name": "DescriptionStyleModel",
      "state": {
       "description_width": ""
      }
     },
     "499afb2e8f584ae9bf83178cce55c2b0": {
      "model_module": "@jupyter-widgets/controls",
      "model_module_version": "1.5.0",
      "model_name": "ButtonModel",
      "state": {
       "description": "0.0 Crude Oil: 900.0 of 900.0",
       "layout": "IPY_MODEL_50c8605a220a41f9854478362a8e13c8",
       "style": "IPY_MODEL_64898bb33f9847d3b8ce1b0339af6844"
      }
     },
     "49c1e96b8efa453eae49dd27b41ee2ec": {
      "model_module": "@jupyter-widgets/controls",
      "model_module_version": "1.5.0",
      "model_name": "ButtonStyleModel",
      "state": {}
     },
     "49de26b43ac84bf7a2755fd811796bc9": {
      "model_module": "@jupyter-widgets/controls",
      "model_module_version": "1.5.0",
      "model_name": "ButtonModel",
      "state": {
       "description": "17.51 Constructor using Alternate: Steel Rod",
       "layout": "IPY_MODEL_56eae548ea6e41abb16dd2b5c98cfdd1",
       "style": "IPY_MODEL_73a2df4f1d6f46779567b4220877286c"
      }
     },
     "4a05d4543014481db4719ac58b7a1f9d": {
      "model_module": "@jupyter-widgets/controls",
      "model_module_version": "1.5.0",
      "model_name": "ButtonStyleModel",
      "state": {}
     },
     "4a178860ca6448b38033f1e02f26fa5e": {
      "model_module": "@jupyter-widgets/base",
      "model_module_version": "1.2.0",
      "model_name": "LayoutModel",
      "state": {}
     },
     "4a58d2071e814e9bb19df8089db454e2": {
      "model_module": "@jupyter-widgets/base",
      "model_module_version": "1.2.0",
      "model_name": "LayoutModel",
      "state": {}
     },
     "4a5d426122684850aa6a540d6ac08d30": {
      "model_module": "@jupyter-widgets/base",
      "model_module_version": "1.2.0",
      "model_name": "LayoutModel",
      "state": {}
     },
     "4a6fd01cdbb143dbb494f2e4202df0f3": {
      "model_module": "@jupyter-widgets/controls",
      "model_module_version": "1.5.0",
      "model_name": "ButtonModel",
      "state": {
       "description": "0.0 Water: 4500.0 of 4500.0",
       "layout": "IPY_MODEL_eed224ba7e984f4fa454628e803374bc",
       "style": "IPY_MODEL_e36d03f69a484d3aa7b887c571faa36a"
      }
     },
     "4a8f3bee16974a17a3ea056b34cb48ec": {
      "model_module": "@jupyter-widgets/controls",
      "model_module_version": "1.5.0",
      "model_name": "ButtonStyleModel",
      "state": {}
     },
     "4ae0aa221f064ac28e66e85892f29afa": {
      "model_module": "@jupyter-widgets/controls",
      "model_module_version": "1.5.0",
      "model_name": "ButtonStyleModel",
      "state": {}
     },
     "4ae4acf68eff40e0a1b18ed00caec4b6": {
      "model_module": "@jupyter-widgets/controls",
      "model_module_version": "1.5.0",
      "model_name": "DescriptionStyleModel",
      "state": {
       "description_width": ""
      }
     },
     "4b150b66a1f3487187d1b7a6d27be77b": {
      "model_module": "@jupyter-widgets/controls",
      "model_module_version": "1.5.0",
      "model_name": "DescriptionStyleModel",
      "state": {
       "description_width": ""
      }
     },
     "4b81f3280af54378a99c7d6d45747a2c": {
      "model_module": "@jupyter-widgets/controls",
      "model_module_version": "1.5.0",
      "model_name": "ButtonStyleModel",
      "state": {}
     },
     "4b95d907c95d4a9d9b9c0b9790ce1be3": {
      "model_module": "@jupyter-widgets/controls",
      "model_module_version": "1.5.0",
      "model_name": "ButtonStyleModel",
      "state": {}
     },
     "4bdeadc955874cb1970bf52716e191e9": {
      "model_module": "@jupyter-widgets/base",
      "model_module_version": "1.2.0",
      "model_name": "LayoutModel",
      "state": {}
     },
     "4bfff5d53d31422290e499ea0b39d42c": {
      "model_module": "@jupyter-widgets/base",
      "model_module_version": "1.2.0",
      "model_name": "LayoutModel",
      "state": {}
     },
     "4c2ee0e960ac428da6d90edd2743f75c": {
      "model_module": "@jupyter-widgets/controls",
      "model_module_version": "1.5.0",
      "model_name": "DescriptionStyleModel",
      "state": {
       "description_width": ""
      }
     },
     "4c78e658df404ec191f1daa256808f36": {
      "model_module": "@jupyter-widgets/controls",
      "model_module_version": "1.5.0",
      "model_name": "LabelModel",
      "state": {
       "layout": "IPY_MODEL_d9bf57fd0bd04673a8677c86a54a123f",
       "style": "IPY_MODEL_5ef8989a63484627a0060367bb9e01f9",
       "value": "Recipes"
      }
     },
     "4c9838aebd1f4c9aa55e48c440bc1156": {
      "model_module": "@jupyter-widgets/controls",
      "model_module_version": "1.5.0",
      "model_name": "TextModel",
      "state": {
       "layout": "IPY_MODEL_bfe3e82a696545aa9ebcdfe7988f6057",
       "style": "IPY_MODEL_e88f600ad1884db5816282ecc6e2fe04"
      }
     },
     "4c9b3b49fb7144b0aece39e58bc44490": {
      "model_module": "@jupyter-widgets/base",
      "model_module_version": "1.2.0",
      "model_name": "LayoutModel",
      "state": {}
     },
     "4cbfc160f5be4617b993455344d03744": {
      "model_module": "@jupyter-widgets/controls",
      "model_module_version": "1.5.0",
      "model_name": "LabelModel",
      "state": {
       "layout": "IPY_MODEL_06a5afc9b6b14745b1d806b8f3d28432",
       "style": "IPY_MODEL_c21a4605a0c341e2ac11b177f7b355cd",
       "value": "Items"
      }
     },
     "4d43b921a7af468abfe077b029aa1df2": {
      "model_module": "@jupyter-widgets/controls",
      "model_module_version": "1.5.0",
      "model_name": "ButtonStyleModel",
      "state": {}
     },
     "4e5d9a086e67431182deaf9dbbae3b0f": {
      "model_module": "@jupyter-widgets/controls",
      "model_module_version": "1.5.0",
      "model_name": "ButtonStyleModel",
      "state": {}
     },
     "4f1cd8b5c98740ea84f67957b59eee5b": {
      "model_module": "@jupyter-widgets/controls",
      "model_module_version": "1.5.0",
      "model_name": "DescriptionStyleModel",
      "state": {
       "description_width": ""
      }
     },
     "4f657a28fcc94510b6e7caa59a974ab2": {
      "model_module": "@jupyter-widgets/base",
      "model_module_version": "1.2.0",
      "model_name": "LayoutModel",
      "state": {}
     },
     "4f6ed82cd2254065bc405aed5e04718e": {
      "model_module": "@jupyter-widgets/base",
      "model_module_version": "1.2.0",
      "model_name": "LayoutModel",
      "state": {}
     },
     "4f873e71d5c24c30b3e7d402616dc6cd": {
      "model_module": "@jupyter-widgets/controls",
      "model_module_version": "1.5.0",
      "model_name": "DescriptionStyleModel",
      "state": {
       "description_width": ""
      }
     },
     "4fee0f0a2a0c4017a4535662b2f8ff8c": {
      "model_module": "@jupyter-widgets/controls",
      "model_module_version": "1.5.0",
      "model_name": "VBoxModel",
      "state": {
       "children": [
        "IPY_MODEL_19b1bf42095949c0beff4821f4e62042",
        "IPY_MODEL_0f461090bc05428c94d32b52a2e1c3b7"
       ],
       "layout": "IPY_MODEL_27f7a3ac4a4240efa6db582a2d29e0f9"
      }
     },
     "4ff26eba720e4ef5a8c28963e7eeadc2": {
      "model_module": "@jupyter-widgets/controls",
      "model_module_version": "1.5.0",
      "model_name": "HBoxModel",
      "state": {
       "children": [
        "IPY_MODEL_536d04b52e35420a92f3db3b09572ae3",
        "IPY_MODEL_9dea2f5276b144edb8511b49ac1f76c6"
       ],
       "layout": "IPY_MODEL_f6f26e82ff2a4d01999b3f373442e15f"
      }
     },
     "5039f554bece458dbed2c0bd004a0981": {
      "model_module": "@jupyter-widgets/controls",
      "model_module_version": "1.5.0",
      "model_name": "ButtonStyleModel",
      "state": {}
     },
     "50c8605a220a41f9854478362a8e13c8": {
      "model_module": "@jupyter-widgets/base",
      "model_module_version": "1.2.0",
      "model_name": "LayoutModel",
      "state": {
       "align_items": "flex-start",
       "width": "80%"
      }
     },
     "50ec18e92025439f9f69f4e41636f69b": {
      "model_module": "@jupyter-widgets/controls",
      "model_module_version": "1.5.0",
      "model_name": "DescriptionStyleModel",
      "state": {
       "description_width": ""
      }
     },
     "512bc6afa2804e1b97ae3837e03eec7a": {
      "model_module": "@jupyter-widgets/controls",
      "model_module_version": "1.5.0",
      "model_name": "LabelModel",
      "state": {
       "layout": "IPY_MODEL_5c5e4256335e4277bf232ee43722e3ec",
       "style": "IPY_MODEL_65161988f5304fc2bc3d78daf3bb0cd0",
       "value": "Item produced"
      }
     },
     "512d24780de246568aa02668edceade4": {
      "model_module": "@jupyter-widgets/controls",
      "model_module_version": "1.5.0",
      "model_name": "ButtonModel",
      "state": {
       "description": "40.0 Refinery using Alternate: Diluted Packaged Fuel",
       "layout": "IPY_MODEL_50c8605a220a41f9854478362a8e13c8",
       "style": "IPY_MODEL_e133cc4b7115421bbf5ae02923449f8a"
      }
     },
     "51c0601729184df0986363c9014b648b": {
      "model_module": "@jupyter-widgets/controls",
      "model_module_version": "1.5.0",
      "model_name": "HBoxModel",
      "state": {
       "children": [
        "IPY_MODEL_e2b9ae096a71402dbb3e8b478baf95cb",
        "IPY_MODEL_e7e6f3acdd214e54852adb473b180a51"
       ],
       "layout": "IPY_MODEL_36574d43dc5b487db3ec11322dafbcab"
      }
     },
     "51d513c4df814a879b9dceb7c57879b4": {
      "model_module": "@jupyter-widgets/controls",
      "model_module_version": "1.5.0",
      "model_name": "ButtonModel",
      "state": {
       "description": "0.0 Packaged Fuel: 3600.0 of 3600.0",
       "layout": "IPY_MODEL_eed224ba7e984f4fa454628e803374bc",
       "style": "IPY_MODEL_dbb8499f885440f8a3b1ab214ef65c73"
      }
     },
     "51d58fb38bc94bea852b604b3937d244": {
      "model_module": "@jupyter-widgets/controls",
      "model_module_version": "1.5.0",
      "model_name": "ButtonStyleModel",
      "state": {}
     },
     "51e4c867298b4b9c9d99ca937bad06f7": {
      "model_module": "@jupyter-widgets/base",
      "model_module_version": "1.2.0",
      "model_name": "LayoutModel",
      "state": {}
     },
     "51ef813d33a843e198039b8ee8c50030": {
      "model_module": "@jupyter-widgets/controls",
      "model_module_version": "1.5.0",
      "model_name": "ButtonModel",
      "state": {
       "description": "Choose",
       "layout": "IPY_MODEL_87c5b5f990b641d295e9da0709b63e98",
       "style": "IPY_MODEL_f7658b7cc073410eaadadc31f2a3b5da"
      }
     },
     "51f55a48ede34aad856ddabd797c23e0": {
      "model_module": "@jupyter-widgets/controls",
      "model_module_version": "1.5.0",
      "model_name": "DescriptionStyleModel",
      "state": {
       "description_width": ""
      }
     },
     "52244c71e0d8437ab84732040d363594": {
      "model_module": "@jupyter-widgets/controls",
      "model_module_version": "1.5.0",
      "model_name": "ButtonModel",
      "state": {
       "description": "3600.0 Fuel: +3600.0",
       "layout": "IPY_MODEL_eed224ba7e984f4fa454628e803374bc",
       "style": "IPY_MODEL_ef0410e3c07f4879893352e32c6134a4"
      }
     },
     "5258250e322a4bda81e4e7a3c30e1fe6": {
      "model_module": "@jupyter-widgets/controls",
      "model_module_version": "1.5.0",
      "model_name": "ButtonModel",
      "state": {
       "description": "0.25 Assembler using Alternate: Steel Coated Plate",
       "layout": "IPY_MODEL_718465d2c182451480d43bbcaadabb6b",
       "style": "IPY_MODEL_900202f09ec245c3b9bafacd67a6b348"
      }
     },
     "52f0e01177a44caaaa7940b3de21dab9": {
      "model_module": "@jupyter-widgets/base",
      "model_module_version": "1.2.0",
      "model_name": "LayoutModel",
      "state": {}
     },
     "5317bc7b0e624d598f44d8644397d9a9": {
      "model_module": "@jupyter-widgets/base",
      "model_module_version": "1.2.0",
      "model_name": "LayoutModel",
      "state": {}
     },
     "533dc92185394a36a38e8d0e0d1ecbe0": {
      "model_module": "@jupyter-widgets/controls",
      "model_module_version": "1.5.0",
      "model_name": "LabelModel",
      "state": {
       "layout": "IPY_MODEL_14f8b42f16ea43ecbdfb950723ae103d",
       "style": "IPY_MODEL_f9b5fd41e8f14fc891fe2bffa328eeda",
       "value": "Item produced"
      }
     },
     "5363597b574745e097ed0118daef1f79": {
      "model_module": "@jupyter-widgets/controls",
      "model_module_version": "1.5.0",
      "model_name": "SelectModel",
      "state": {
       "index": null,
       "layout": "IPY_MODEL_f9899e22ddc44eb7a76309a50234f565",
       "style": "IPY_MODEL_5f0e19171e884d3aba55054daedf9991"
      }
     },
     "536d04b52e35420a92f3db3b09572ae3": {
      "model_module": "@jupyter-widgets/controls",
      "model_module_version": "1.5.0",
      "model_name": "SelectModel",
      "state": {
       "index": null,
       "layout": "IPY_MODEL_dd81acc7bb694e0da185d331cea54a15",
       "style": "IPY_MODEL_5f4386a3fe4e46cc9ffde102b20bc17f"
      }
     },
     "537eba6b510449d3bdca7732c9db0054": {
      "model_module": "@jupyter-widgets/controls",
      "model_module_version": "1.5.0",
      "model_name": "LabelModel",
      "state": {
       "layout": "IPY_MODEL_588178e3c0ea4aebb0dcf010fa5ca762",
       "style": "IPY_MODEL_e0a7372b7b454ce08db22c352895a1ee",
       "value": "Recipes"
      }
     },
     "538db067d85649279b62cfbcfe9b43c3": {
      "model_module": "@jupyter-widgets/controls",
      "model_module_version": "1.5.0",
      "model_name": "VBoxModel",
      "state": {
       "children": [
        "IPY_MODEL_3dd4a2bd98c8411796f77bb7aae302c7",
        "IPY_MODEL_512d24780de246568aa02668edceade4",
        "IPY_MODEL_1214f577ec5d48d7a389e1350e6e83e0",
        "IPY_MODEL_cc621c582862441c8295a56272fa38f2",
        "IPY_MODEL_3a971854a84b4adea48e01b7b1d3c818",
        "IPY_MODEL_f704614540f4460aa2efbebb0757c7ba"
       ],
       "layout": "IPY_MODEL_73a9a76da768498bb713a7e9533579e9"
      }
     },
     "53a9f27b967e44598c7922c600ed8784": {
      "model_module": "@jupyter-widgets/controls",
      "model_module_version": "1.5.0",
      "model_name": "ButtonModel",
      "state": {
       "description": "Consume with recipe",
       "layout": "IPY_MODEL_1fa981c6070045e99045e21c89e2f4ea",
       "style": "IPY_MODEL_9a08e34893184ddbb2e41a869ddb0160"
      }
     },
     "541aff29a93e4446aede1df7906622b7": {
      "model_module": "@jupyter-widgets/output",
      "model_module_version": "1.0.0",
      "model_name": "OutputModel",
      "state": {
       "layout": "IPY_MODEL_5317bc7b0e624d598f44d8644397d9a9",
       "outputs": [
        {
         "name": "stdout",
         "output_type": "stream",
         "text": "recipes:\n"
        }
       ]
      }
     },
     "54b5ba52731a446ba87b41c59bfc6d8d": {
      "model_module": "@jupyter-widgets/controls",
      "model_module_version": "1.5.0",
      "model_name": "DescriptionStyleModel",
      "state": {
       "description_width": ""
      }
     },
     "5512f03d3b64434bb950d25421ac2e4f": {
      "model_module": "@jupyter-widgets/controls",
      "model_module_version": "1.5.0",
      "model_name": "ButtonStyleModel",
      "state": {}
     },
     "5555a77d02d84c31a8170234c7322e8f": {
      "model_module": "@jupyter-widgets/output",
      "model_module_version": "1.0.0",
      "model_name": "OutputModel",
      "state": {
       "layout": "IPY_MODEL_ed512c77927a4770ae5d25759f53c3b1"
      }
     },
     "556066606d1f4356846f7023fc82bfa5": {
      "model_module": "@jupyter-widgets/controls",
      "model_module_version": "1.5.0",
      "model_name": "ButtonStyleModel",
      "state": {}
     },
     "558624bf45fd45f4acf26f86d9ca7ba2": {
      "model_module": "@jupyter-widgets/base",
      "model_module_version": "1.2.0",
      "model_name": "LayoutModel",
      "state": {}
     },
     "55a8db335dfa4f62a9d46b111e27dfaa": {
      "model_module": "@jupyter-widgets/base",
      "model_module_version": "1.2.0",
      "model_name": "LayoutModel",
      "state": {}
     },
     "55c4c7c488334af1928b76245b8406d8": {
      "model_module": "@jupyter-widgets/controls",
      "model_module_version": "1.5.0",
      "model_name": "ButtonModel",
      "state": {
       "description": "Add Factory",
       "layout": "IPY_MODEL_1468763858b04d85894b7b02ce6bd44e",
       "style": "IPY_MODEL_84f0d9ea7ab9436e8064c7aa5e901f72"
      }
     },
     "55d2dd005d7d426bbb6b334372da46e2": {
      "model_module": "@jupyter-widgets/controls",
      "model_module_version": "1.5.0",
      "model_name": "DescriptionStyleModel",
      "state": {
       "description_width": ""
      }
     },
     "56eae548ea6e41abb16dd2b5c98cfdd1": {
      "model_module": "@jupyter-widgets/base",
      "model_module_version": "1.2.0",
      "model_name": "LayoutModel",
      "state": {
       "align_items": "flex-start",
       "width": "80%"
      }
     },
     "5751e0b052324277aca17a52355a20b9": {
      "model_module": "@jupyter-widgets/controls",
      "model_module_version": "1.5.0",
      "model_name": "DescriptionStyleModel",
      "state": {
       "description_width": ""
      }
     },
     "5765bedad07f4bddb6d8033350e1bfed": {
      "model_module": "@jupyter-widgets/controls",
      "model_module_version": "1.5.0",
      "model_name": "ButtonModel",
      "state": {
       "button_style": "success",
       "description": "# 14.94 of 14.94 Assembler using Stator, reste 0.0",
       "layout": "IPY_MODEL_56eae548ea6e41abb16dd2b5c98cfdd1",
       "style": "IPY_MODEL_1d1f2443642545f891de91ced077a8ad"
      }
     },
     "576aa443ba334045b77b8c2558f73f74": {
      "model_module": "@jupyter-widgets/controls",
      "model_module_version": "1.5.0",
      "model_name": "DescriptionStyleModel",
      "state": {
       "description_width": ""
      }
     },
     "57d478ba5a024aeab228ab4f7a6460fb": {
      "model_module": "@jupyter-widgets/controls",
      "model_module_version": "1.5.0",
      "model_name": "ButtonStyleModel",
      "state": {}
     },
     "588178e3c0ea4aebb0dcf010fa5ca762": {
      "model_module": "@jupyter-widgets/base",
      "model_module_version": "1.2.0",
      "model_name": "LayoutModel",
      "state": {}
     },
     "589199e1194446429ae4de44ad2437d2": {
      "model_module": "@jupyter-widgets/base",
      "model_module_version": "1.2.0",
      "model_name": "LayoutModel",
      "state": {}
     },
     "58ba32d4d9a74fee93d11632aec531d4": {
      "model_module": "@jupyter-widgets/controls",
      "model_module_version": "1.5.0",
      "model_name": "ButtonStyleModel",
      "state": {}
     },
     "590a78db815c4ccca3721cbe18c8e8dc": {
      "model_module": "@jupyter-widgets/controls",
      "model_module_version": "1.5.0",
      "model_name": "ButtonStyleModel",
      "state": {}
     },
     "592744d859ec4ac2b09d5416da03e31c": {
      "model_module": "@jupyter-widgets/controls",
      "model_module_version": "1.5.0",
      "model_name": "ButtonStyleModel",
      "state": {}
     },
     "595b06b82f48456da32ebcc5f555c86e": {
      "model_module": "@jupyter-widgets/controls",
      "model_module_version": "1.5.0",
      "model_name": "DescriptionStyleModel",
      "state": {
       "description_width": ""
      }
     },
     "59a7c4a2ccd748e0a39d5082d247a4ac": {
      "model_module": "@jupyter-widgets/controls",
      "model_module_version": "1.5.0",
      "model_name": "ButtonStyleModel",
      "state": {}
     },
     "59b9b86d6fcb4effaff0d17895ff5989": {
      "model_module": "@jupyter-widgets/base",
      "model_module_version": "1.2.0",
      "model_name": "LayoutModel",
      "state": {}
     },
     "5a6895c9d0014792a18efda90fc4826c": {
      "model_module": "@jupyter-widgets/controls",
      "model_module_version": "1.5.0",
      "model_name": "VBoxModel",
      "state": {
       "children": [
        "IPY_MODEL_e1e8cd2f19314e658cd792315b8f1863",
        "IPY_MODEL_8bd164e6916f42d08efd2255a7dd9e96",
        "IPY_MODEL_512bc6afa2804e1b97ae3837e03eec7a",
        "IPY_MODEL_e031d979115b4f36b088333b9c215ce7",
        "IPY_MODEL_adf806939dd54d24aec182b397d4181a",
        "IPY_MODEL_6fc42d230ef74990b1268606ad8049b5",
        "IPY_MODEL_2ff167c7a56c4d88a1d883e1dbd027d2",
        "IPY_MODEL_9d1d974b4c6f443c8b95f3e38751dcd4",
        "IPY_MODEL_8b9e9955987849abb3be20a342df448f"
       ],
       "layout": "IPY_MODEL_61740c647c1344c9aaa77220b89d7d92"
      }
     },
     "5a7874ce43ef4b52ac77eb36a21a27ab": {
      "model_module": "@jupyter-widgets/controls",
      "model_module_version": "1.5.0",
      "model_name": "VBoxModel",
      "state": {
       "children": [
        "IPY_MODEL_51c0601729184df0986363c9014b648b",
        "IPY_MODEL_6e3688d983a046cf8080d042e855a336"
       ],
       "layout": "IPY_MODEL_f9ce21e431354482bcbf30b4d72bda24"
      }
     },
     "5b075121df8149b98cbd22882a92d7a2": {
      "model_module": "@jupyter-widgets/base",
      "model_module_version": "1.2.0",
      "model_name": "LayoutModel",
      "state": {}
     },
     "5b1d24cca07343eea504d2f727d73f0a": {
      "model_module": "@jupyter-widgets/controls",
      "model_module_version": "1.5.0",
      "model_name": "HBoxModel",
      "state": {
       "children": [
        "IPY_MODEL_874b35f1d9c041c6a2a7f14e3f709c50",
        "IPY_MODEL_bc88076053444710b877d69dff46da2d",
        "IPY_MODEL_3d47a9a165c54fc7a7ed0b8deb6a6cac",
        "IPY_MODEL_9cbcb312f47e43c9863cb8902c117092",
        "IPY_MODEL_07fd486cc9b24c4c9fd83b7c0af35c82",
        "IPY_MODEL_f6ee9ac60538495aa04b6048eab3d9d4"
       ],
       "layout": "IPY_MODEL_031321704e9d419eb75cdb46ae638be7"
      }
     },
     "5c13a2b096414530ba3f383a1624a5cd": {
      "model_module": "@jupyter-widgets/controls",
      "model_module_version": "1.5.0",
      "model_name": "ButtonModel",
      "state": {
       "description": "0.0 Steel Ingot: 2.81 of 2.81",
       "layout": "IPY_MODEL_718465d2c182451480d43bbcaadabb6b",
       "style": "IPY_MODEL_193393b952c54baab02c4c0a8f409673"
      }
     },
     "5c5e4256335e4277bf232ee43722e3ec": {
      "model_module": "@jupyter-widgets/base",
      "model_module_version": "1.2.0",
      "model_name": "LayoutModel",
      "state": {}
     },
     "5d15acca3ff343ba8659da328f410de9": {
      "model_module": "@jupyter-widgets/base",
      "model_module_version": "1.2.0",
      "model_name": "LayoutModel",
      "state": {}
     },
     "5d32f629fd68431597cbd518d81199a9": {
      "model_module": "@jupyter-widgets/controls",
      "model_module_version": "1.5.0",
      "model_name": "HBoxModel",
      "state": {
       "children": [
        "IPY_MODEL_f5ee230f0e1f4fe0888221dc09033ce9",
        "IPY_MODEL_c8c6ea144e6d45bea22e90f1f7ca1c56"
       ],
       "layout": "IPY_MODEL_2ff61b43cfcf45e0b905fd8d8e5624c2"
      }
     },
     "5d4fd050a13545ac84dff5d6ad1641af": {
      "model_module": "@jupyter-widgets/controls",
      "model_module_version": "1.5.0",
      "model_name": "ButtonStyleModel",
      "state": {}
     },
     "5d5d390face745c7bdb2f22cc2ca1c45": {
      "model_module": "@jupyter-widgets/base",
      "model_module_version": "1.2.0",
      "model_name": "LayoutModel",
      "state": {}
     },
     "5d6e345fa8fa4a189540713f110b4900": {
      "model_module": "@jupyter-widgets/controls",
      "model_module_version": "1.5.0",
      "model_name": "ButtonStyleModel",
      "state": {}
     },
     "5d7281e5e087469db9ae20828ec20e9d": {
      "model_module": "@jupyter-widgets/controls",
      "model_module_version": "1.5.0",
      "model_name": "ButtonStyleModel",
      "state": {}
     },
     "5db987752a384299bde7c5e088fbda6c": {
      "model_module": "@jupyter-widgets/base",
      "model_module_version": "1.2.0",
      "model_name": "LayoutModel",
      "state": {}
     },
     "5df8e62cca004c938578b4c100899cd0": {
      "model_module": "@jupyter-widgets/base",
      "model_module_version": "1.2.0",
      "model_name": "LayoutModel",
      "state": {
       "align_items": "flex-start",
       "width": "80%"
      }
     },
     "5e3e9889113d4ba0818505fc8bfce37e": {
      "model_module": "@jupyter-widgets/controls",
      "model_module_version": "1.5.0",
      "model_name": "ButtonModel",
      "state": {
       "description": "Produce with recipe",
       "layout": "IPY_MODEL_4025ad7156254c938814766cc21d99f4",
       "style": "IPY_MODEL_51d58fb38bc94bea852b604b3937d244"
      }
     },
     "5e570eeba897453db6709d9853273183": {
      "model_module": "@jupyter-widgets/controls",
      "model_module_version": "1.5.0",
      "model_name": "ButtonStyleModel",
      "state": {}
     },
     "5e6a2938df584ebaa18ddda5e6bee338": {
      "model_module": "@jupyter-widgets/controls",
      "model_module_version": "1.5.0",
      "model_name": "ButtonModel",
      "state": {
       "description": "592151.87 Water: 7848.13 of 600000.0",
       "layout": "IPY_MODEL_abd371dcae6144668a5205d1e1dc669d",
       "style": "IPY_MODEL_f1b522b69a0a482e86f64a7c84535c0f"
      }
     },
     "5e7bd9338ac44c548f63cb52122c838b": {
      "model_module": "@jupyter-widgets/controls",
      "model_module_version": "1.5.0",
      "model_name": "ButtonModel",
      "state": {
       "description": "0.0 Compacted Coal: 1600.0 of 1600.0",
       "layout": "IPY_MODEL_50c8605a220a41f9854478362a8e13c8",
       "style": "IPY_MODEL_556066606d1f4356846f7023fc82bfa5"
      }
     },
     "5ebfbab45b6d411c9ac841d62203804c": {
      "model_module": "@jupyter-widgets/controls",
      "model_module_version": "1.5.0",
      "model_name": "HBoxModel",
      "state": {
       "children": [
        "IPY_MODEL_1956914070834ca69fbb70fd66c9bd45",
        "IPY_MODEL_19f20b5d9de74fe4891a2bfab2526124"
       ],
       "layout": "IPY_MODEL_6402d0604f744903ac14f51ab7527323"
      }
     },
     "5ef8989a63484627a0060367bb9e01f9": {
      "model_module": "@jupyter-widgets/controls",
      "model_module_version": "1.5.0",
      "model_name": "DescriptionStyleModel",
      "state": {
       "description_width": ""
      }
     },
     "5f0e19171e884d3aba55054daedf9991": {
      "model_module": "@jupyter-widgets/controls",
      "model_module_version": "1.5.0",
      "model_name": "DescriptionStyleModel",
      "state": {
       "description_width": ""
      }
     },
     "5f2a71f150dd44f48d893059bdc06e6d": {
      "model_module": "@jupyter-widgets/base",
      "model_module_version": "1.2.0",
      "model_name": "LayoutModel",
      "state": {}
     },
     "5f4386a3fe4e46cc9ffde102b20bc17f": {
      "model_module": "@jupyter-widgets/controls",
      "model_module_version": "1.5.0",
      "model_name": "DescriptionStyleModel",
      "state": {
       "description_width": ""
      }
     },
     "5f6ae42d20594ab3b7b944b157b4126a": {
      "model_module": "@jupyter-widgets/controls",
      "model_module_version": "1.5.0",
      "model_name": "ButtonModel",
      "state": {
       "description": "0.0 Iron Ingot: 39.58 of 39.58",
       "layout": "IPY_MODEL_718465d2c182451480d43bbcaadabb6b",
       "style": "IPY_MODEL_fa3616b0f0bb403caf5d22436b5077e2"
      }
     },
     "5f6f19ab0699469fa9847733f10d57c0": {
      "model_module": "@jupyter-widgets/controls",
      "model_module_version": "1.5.0",
      "model_name": "ButtonStyleModel",
      "state": {}
     },
     "5f7a0c09af5946b78f980efd5b3fba38": {
      "model_module": "@jupyter-widgets/controls",
      "model_module_version": "1.5.0",
      "model_name": "FloatTextModel",
      "state": {
       "description": "quantity",
       "layout": "IPY_MODEL_988b2797b5344bac8efd3a0b1fd51921",
       "step": null,
       "style": "IPY_MODEL_dc0418e55a3c4ecda97d2fef3e696f20"
      }
     },
     "5f82924e0b154653af915ef2cbaf6213": {
      "model_module": "@jupyter-widgets/controls",
      "model_module_version": "1.5.0",
      "model_name": "HBoxModel",
      "state": {
       "layout": "IPY_MODEL_60bf7c726c7c4ea2b320f9d05124fa9b"
      }
     },
     "5f9724c2d630418b8fe3ef65e19a4ad7": {
      "model_module": "@jupyter-widgets/controls",
      "model_module_version": "1.5.0",
      "model_name": "ButtonStyleModel",
      "state": {}
     },
     "5fff9e77cca24c0eba64900058db8d7e": {
      "model_module": "@jupyter-widgets/controls",
      "model_module_version": "1.5.0",
      "model_name": "ButtonModel",
      "state": {
       "description": "0.0 Caterium Ore: 600.0 of 600.0",
       "layout": "IPY_MODEL_abd371dcae6144668a5205d1e1dc669d",
       "style": "IPY_MODEL_c9692c957d3742b798762e2398d9b704"
      }
     },
     "6017f6aee0854fbda0d317988fedfefa": {
      "model_module": "@jupyter-widgets/controls",
      "model_module_version": "1.5.0",
      "model_name": "HBoxModel",
      "state": {
       "children": [
        "IPY_MODEL_ab3bf01e4206488b84d89b99ef9ba63d",
        "IPY_MODEL_ab6c7abbae014271abe348c10ed9fc27"
       ],
       "layout": "IPY_MODEL_c2fd4f96b0f24c59b8af1e9b3884fbc8"
      }
     },
     "60195304a0134310b8be01e24d6441ed": {
      "model_module": "@jupyter-widgets/controls",
      "model_module_version": "1.5.0",
      "model_name": "ButtonModel",
      "state": {
       "description": "0.0 Wire: 71.25 of 71.25",
       "layout": "IPY_MODEL_718465d2c182451480d43bbcaadabb6b",
       "style": "IPY_MODEL_1e9901479fb04561881fe7a85c5cc6a8"
      }
     },
     "601e60a8ba5148b48268f9713c1a6cca": {
      "model_module": "@jupyter-widgets/controls",
      "model_module_version": "1.5.0",
      "model_name": "ButtonModel",
      "state": {
       "description": "13.33 of 43.55 Refinery using Unpackage Fuel, reste 30.22",
       "layout": "IPY_MODEL_abd371dcae6144668a5205d1e1dc669d",
       "style": "IPY_MODEL_2be5a5a23e5d49929a48a1d8cdef0562"
      }
     },
     "602dabc2479e4a0aa5a38f791d60f58f": {
      "model_module": "@jupyter-widgets/base",
      "model_module_version": "1.2.0",
      "model_name": "LayoutModel",
      "state": {}
     },
     "60361f7f27c748699242c94c85ab3da6": {
      "model_module": "@jupyter-widgets/controls",
      "model_module_version": "1.5.0",
      "model_name": "LabelModel",
      "state": {
       "layout": "IPY_MODEL_aaa1c9c6aa1f4fa2a1d5906510273aa6",
       "style": "IPY_MODEL_776476deb62c44aa8194e39314167f93",
       "value": "logs"
      }
     },
     "60892d23cc754812b49e99d0591c7e64": {
      "model_module": "@jupyter-widgets/controls",
      "model_module_version": "1.5.0",
      "model_name": "ButtonStyleModel",
      "state": {}
     },
     "60bf7c726c7c4ea2b320f9d05124fa9b": {
      "model_module": "@jupyter-widgets/base",
      "model_module_version": "1.2.0",
      "model_name": "LayoutModel",
      "state": {}
     },
     "60c62113dfb74c62aa82243f15b1e2b1": {
      "model_module": "@jupyter-widgets/controls",
      "model_module_version": "1.5.0",
      "model_name": "TextModel",
      "state": {
       "layout": "IPY_MODEL_180be53db2fa43bfb9849503e8744c26",
       "style": "IPY_MODEL_ea267d91a0ff41f38f099ae3cf9bb7e9"
      }
     },
     "6130f547dd4d48648b3cfe2c85dd078b": {
      "model_module": "@jupyter-widgets/base",
      "model_module_version": "1.2.0",
      "model_name": "LayoutModel",
      "state": {}
     },
     "615d6827f2074d24ad78322ed33d570a": {
      "model_module": "@jupyter-widgets/controls",
      "model_module_version": "1.5.0",
      "model_name": "TextModel",
      "state": {
       "layout": "IPY_MODEL_51e4c867298b4b9c9d99ca937bad06f7",
       "style": "IPY_MODEL_0ffd09327daa4936ad529344c35cc02f"
      }
     },
     "61740c647c1344c9aaa77220b89d7d92": {
      "model_module": "@jupyter-widgets/base",
      "model_module_version": "1.2.0",
      "model_name": "LayoutModel",
      "state": {}
     },
     "619290fe6d6f494cae4ba75c0677c23d": {
      "model_module": "@jupyter-widgets/controls",
      "model_module_version": "1.5.0",
      "model_name": "ButtonModel",
      "state": {
       "description": "0.569999999999709 Plastic: 3498.03 of 3498.6",
       "layout": "IPY_MODEL_abd371dcae6144668a5205d1e1dc669d",
       "style": "IPY_MODEL_647a6f1fe62644e8849882727e3c8f21"
      }
     },
     "6226c0f9cde44377a5a0f9cf0efd60f9": {
      "model_module": "@jupyter-widgets/base",
      "model_module_version": "1.2.0",
      "model_name": "LayoutModel",
      "state": {}
     },
     "62476d7bba4f46a1a23407cd5b65c4f6": {
      "model_module": "@jupyter-widgets/controls",
      "model_module_version": "1.5.0",
      "model_name": "ButtonStyleModel",
      "state": {}
     },
     "62d306d34e254a2f9056b1ce0c2f9903": {
      "model_module": "@jupyter-widgets/controls",
      "model_module_version": "1.5.0",
      "model_name": "ButtonStyleModel",
      "state": {}
     },
     "62e462ffc3b0473c8455ae5dd3556f57": {
      "model_module": "@jupyter-widgets/controls",
      "model_module_version": "1.5.0",
      "model_name": "ButtonStyleModel",
      "state": {}
     },
     "6330ac74ab284583b1ba3ce4d109e4b2": {
      "model_module": "@jupyter-widgets/controls",
      "model_module_version": "1.5.0",
      "model_name": "DescriptionStyleModel",
      "state": {
       "description_width": ""
      }
     },
     "63422a4f547c415abd670ef852518fbe": {
      "model_module": "@jupyter-widgets/base",
      "model_module_version": "1.2.0",
      "model_name": "LayoutModel",
      "state": {}
     },
     "6360f4cf9d6042bbaa979bb2700cecc0": {
      "model_module": "@jupyter-widgets/controls",
      "model_module_version": "1.5.0",
      "model_name": "ButtonStyleModel",
      "state": {}
     },
     "637ef13f6b91420b9424f808a627bd88": {
      "model_module": "@jupyter-widgets/base",
      "model_module_version": "1.2.0",
      "model_name": "LayoutModel",
      "state": {}
     },
     "63d7782a66b24dcb8e4326295d4dc7a1": {
      "model_module": "@jupyter-widgets/controls",
      "model_module_version": "1.5.0",
      "model_name": "VBoxModel",
      "state": {
       "children": [
        "IPY_MODEL_b1c9c619af124dd3ab64bd96501341ad",
        "IPY_MODEL_ca30c71f29e1416780e97d95485b3de1"
       ],
       "layout": "IPY_MODEL_fe8922da9647446a81851a95ce7f19c1"
      }
     },
     "63da1212de2f44c5899cfa5facf88206": {
      "model_module": "@jupyter-widgets/base",
      "model_module_version": "1.2.0",
      "model_name": "LayoutModel",
      "state": {}
     },
     "6402d0604f744903ac14f51ab7527323": {
      "model_module": "@jupyter-widgets/base",
      "model_module_version": "1.2.0",
      "model_name": "LayoutModel",
      "state": {}
     },
     "640fb284052f493f9bdba97bb5320424": {
      "model_module": "@jupyter-widgets/controls",
      "model_module_version": "1.5.0",
      "model_name": "ButtonModel",
      "state": {
       "description": "Build Factory",
       "layout": "IPY_MODEL_aef714a532d1424eb64b337543b815a5",
       "style": "IPY_MODEL_2a40754080394a0a80150b7a3456942e"
      }
     },
     "64500c0bb6d140449c5fc1cbe64a1d1b": {
      "model_module": "@jupyter-widgets/base",
      "model_module_version": "1.2.0",
      "model_name": "LayoutModel",
      "state": {}
     },
     "6460cdd2672b4806aee3d02dcdb76f65": {
      "model_module": "@jupyter-widgets/controls",
      "model_module_version": "1.5.0",
      "model_name": "DescriptionStyleModel",
      "state": {
       "description_width": ""
      }
     },
     "6461b2d4da374c19a24659a37ee23d6e": {
      "model_module": "@jupyter-widgets/controls",
      "model_module_version": "1.5.0",
      "model_name": "VBoxModel",
      "state": {
       "children": [
        "IPY_MODEL_651714ed9ce445e6935a19b1bf98ba77",
        "IPY_MODEL_cb4dd1579674488f9c684acfc5a34235"
       ],
       "layout": "IPY_MODEL_ad51fc7bcca5407a880e5f42fa30ceef"
      }
     },
     "646a3b05942847eb9631c706a849b664": {
      "model_module": "@jupyter-widgets/controls",
      "model_module_version": "1.5.0",
      "model_name": "SelectModel",
      "state": {
       "index": null,
       "layout": "IPY_MODEL_c3877bcd671a49e7b3eea7d9708d4d8a",
       "style": "IPY_MODEL_26f207420a1948ec938705229a11217f"
      }
     },
     "64775170732f4707993fd06ea03f19ca": {
      "model_module": "@jupyter-widgets/base",
      "model_module_version": "1.2.0",
      "model_name": "LayoutModel",
      "state": {}
     },
     "647a6f1fe62644e8849882727e3c8f21": {
      "model_module": "@jupyter-widgets/controls",
      "model_module_version": "1.5.0",
      "model_name": "ButtonStyleModel",
      "state": {}
     },
     "647d18e2240040f2ad8946b85e26d4f0": {
      "model_module": "@jupyter-widgets/controls",
      "model_module_version": "1.5.0",
      "model_name": "ButtonModel",
      "state": {
       "description": "17.586041666666667 of 33.13 Constructor using Alternate: Steel Rod, reste 15.54",
       "layout": "IPY_MODEL_abd371dcae6144668a5205d1e1dc669d",
       "style": "IPY_MODEL_6c9ad3c8b426436d9e0836d63bba0e3e"
      }
     },
     "64898bb33f9847d3b8ce1b0339af6844": {
      "model_module": "@jupyter-widgets/controls",
      "model_module_version": "1.5.0",
      "model_name": "ButtonStyleModel",
      "state": {}
     },
     "64af66e1f39c43d799751d4edd8d4562": {
      "model_module": "@jupyter-widgets/controls",
      "model_module_version": "1.5.0",
      "model_name": "ButtonModel",
      "state": {
       "description": "Consume with recipe",
       "layout": "IPY_MODEL_ddae704d1753417c98992759abfe8234",
       "style": "IPY_MODEL_91c1dc8f2d5f4c4a8719dce852820b54"
      }
     },
     "64d873575ad140b0af4133a5487c512b": {
      "model_module": "@jupyter-widgets/controls",
      "model_module_version": "1.5.0",
      "model_name": "LabelModel",
      "state": {
       "layout": "IPY_MODEL_3897b7be21e249d899c909ae69f82832",
       "style": "IPY_MODEL_6330ac74ab284583b1ba3ce4d109e4b2",
       "value": "Recipes"
      }
     },
     "65161988f5304fc2bc3d78daf3bb0cd0": {
      "model_module": "@jupyter-widgets/controls",
      "model_module_version": "1.5.0",
      "model_name": "DescriptionStyleModel",
      "state": {
       "description_width": ""
      }
     },
     "651714ed9ce445e6935a19b1bf98ba77": {
      "model_module": "@jupyter-widgets/controls",
      "model_module_version": "1.5.0",
      "model_name": "HBoxModel",
      "state": {
       "children": [
        "IPY_MODEL_615d6827f2074d24ad78322ed33d570a",
        "IPY_MODEL_331f13f6b62145959b982e200862db55"
       ],
       "layout": "IPY_MODEL_7e8d84a85d61414aa4274f4d09c29b55"
      }
     },
     "652c86b6919e45beaad6be281bbe05db": {
      "model_module": "@jupyter-widgets/controls",
      "model_module_version": "1.5.0",
      "model_name": "ButtonModel",
      "state": {
       "description": "Add Factory",
       "layout": "IPY_MODEL_effe310ddd4744fba50112127b229cfc",
       "style": "IPY_MODEL_ebaeae6ae9534ed78fca10eaa88948b6"
      }
     },
     "65b6487d793e45fb8757a4d8e6704e68": {
      "model_module": "@jupyter-widgets/controls",
      "model_module_version": "1.5.0",
      "model_name": "TextModel",
      "state": {
       "layout": "IPY_MODEL_2796b381979648589dbb6c0e96f92dab",
       "style": "IPY_MODEL_748e7a0dbb6b411cb06c8d23b07b052c"
      }
     },
     "65c14956357a48b28e1cf1cb6a1c0c50": {
      "model_module": "@jupyter-widgets/base",
      "model_module_version": "1.2.0",
      "model_name": "LayoutModel",
      "state": {}
     },
     "6600bd6261c245f799d2705fccf0b9d1": {
      "model_module": "@jupyter-widgets/controls",
      "model_module_version": "1.5.0",
      "model_name": "ButtonStyleModel",
      "state": {}
     },
     "663706692e18491fa59c0201f79c8cd5": {
      "model_module": "@jupyter-widgets/base",
      "model_module_version": "1.2.0",
      "model_name": "LayoutModel",
      "state": {}
     },
     "6657b61baf314a379cd561796d1a3995": {
      "model_module": "@jupyter-widgets/controls",
      "model_module_version": "1.5.0",
      "model_name": "ButtonModel",
      "state": {
       "description": "-0.020000000000010232 A.I. Limiter: 88.62 of 88.6",
       "layout": "IPY_MODEL_abd371dcae6144668a5205d1e1dc669d",
       "style": "IPY_MODEL_4a05d4543014481db4719ac58b7a1f9d"
      }
     },
     "66c25f6f7a53495792ca1197879c4abc": {
      "model_module": "@jupyter-widgets/controls",
      "model_module_version": "1.5.0",
      "model_name": "ButtonModel",
      "state": {
       "button_style": "success",
       "description": "# 6.666666666666667 of 6.67 Assembler using Nobelisk, reste 0.0",
       "layout": "IPY_MODEL_abd371dcae6144668a5205d1e1dc669d",
       "style": "IPY_MODEL_6360f4cf9d6042bbaa979bb2700cecc0"
      }
     },
     "6713c63d512d4a1aa3ce443124f22e2f": {
      "model_module": "@jupyter-widgets/controls",
      "model_module_version": "1.5.0",
      "model_name": "ButtonStyleModel",
      "state": {}
     },
     "671f5f0529cb4d31ab032e94675ddb76": {
      "model_module": "@jupyter-widgets/base",
      "model_module_version": "1.2.0",
      "model_name": "LayoutModel",
      "state": {}
     },
     "672ab5ef13f948c083ef4e6948e5dde4": {
      "model_module": "@jupyter-widgets/controls",
      "model_module_version": "1.5.0",
      "model_name": "VBoxModel",
      "state": {
       "children": [
        "IPY_MODEL_6f83b2eeff31432eac50f86188b68ae8",
        "IPY_MODEL_5d32f629fd68431597cbd518d81199a9"
       ],
       "layout": "IPY_MODEL_75902f0645df468db550e32930d97a6f"
      }
     },
     "6734c962adb340fa92804d2df0f95359": {
      "model_module": "@jupyter-widgets/controls",
      "model_module_version": "1.5.0",
      "model_name": "HBoxModel",
      "state": {
       "children": [
        "IPY_MODEL_fb69a1a0f0284d02ba8e6411164debdd",
        "IPY_MODEL_d8dbd444c53747a8a10f4e185d4d8dc6"
       ],
       "layout": "IPY_MODEL_fff53b3ab7bb40318e12cacfc6b56c4a"
      }
     },
     "6753c492bd2e48c2a6bcd3964becf210": {
      "model_module": "@jupyter-widgets/base",
      "model_module_version": "1.2.0",
      "model_name": "LayoutModel",
      "state": {}
     },
     "6764b6cc973a45cca378d6a654f2e245": {
      "model_module": "@jupyter-widgets/controls",
      "model_module_version": "1.5.0",
      "model_name": "ButtonStyleModel",
      "state": {}
     },
     "67744dde311f472d853964a41bf0fc3e": {
      "model_module": "@jupyter-widgets/controls",
      "model_module_version": "1.5.0",
      "model_name": "ButtonStyleModel",
      "state": {}
     },
     "67d061cdf8544913b96dbab055ede993": {
      "model_module": "@jupyter-widgets/controls",
      "model_module_version": "1.5.0",
      "model_name": "ButtonStyleModel",
      "state": {}
     },
     "6862a15e8652401c91d23c0281fa854a": {
      "model_module": "@jupyter-widgets/base",
      "model_module_version": "1.2.0",
      "model_name": "LayoutModel",
      "state": {}
     },
     "6891b4aa56af4299a73d96006db0a663": {
      "model_module": "@jupyter-widgets/base",
      "model_module_version": "1.2.0",
      "model_name": "LayoutModel",
      "state": {}
     },
     "6900dfc79e254fba8c0e00dfabf26942": {
      "model_module": "@jupyter-widgets/base",
      "model_module_version": "1.2.0",
      "model_name": "LayoutModel",
      "state": {}
     },
     "6913e29779db47cc9a628ac9cd68b40f": {
      "model_module": "@jupyter-widgets/controls",
      "model_module_version": "1.5.0",
      "model_name": "DescriptionStyleModel",
      "state": {
       "description_width": ""
      }
     },
     "696fb0de256b4dfa893917f30f241072": {
      "model_module": "@jupyter-widgets/controls",
      "model_module_version": "1.5.0",
      "model_name": "LabelModel",
      "state": {
       "layout": "IPY_MODEL_a62941130981481b9ad82c6c69b48717",
       "style": "IPY_MODEL_f2b62f1b5b144725a9314114aa81166f",
       "value": "Recipes"
      }
     },
     "6978e318cfae4e26b9b928acf597ba54": {
      "model_module": "@jupyter-widgets/controls",
      "model_module_version": "1.5.0",
      "model_name": "ButtonStyleModel",
      "state": {}
     },
     "698aa1e20e2845a0a8f30f5cf6034954": {
      "model_module": "@jupyter-widgets/controls",
      "model_module_version": "1.5.0",
      "model_name": "HBoxModel",
      "state": {
       "children": [
        "IPY_MODEL_60c62113dfb74c62aa82243f15b1e2b1",
        "IPY_MODEL_da205b8223bb4c5585cb4e4e4d45fa70"
       ],
       "layout": "IPY_MODEL_0aaa25169630418c944679997b5da1e7"
      }
     },
     "69939bd6c63d4f82a118233806362d40": {
      "model_module": "@jupyter-widgets/controls",
      "model_module_version": "1.5.0",
      "model_name": "DescriptionStyleModel",
      "state": {
       "description_width": ""
      }
     },
     "69a319b959da4c80b1412a7d3010d5d6": {
      "model_module": "@jupyter-widgets/base",
      "model_module_version": "1.2.0",
      "model_name": "LayoutModel",
      "state": {}
     },
     "6a024ed5aed5403babbca0e0b1704fa9": {
      "model_module": "@jupyter-widgets/controls",
      "model_module_version": "1.5.0",
      "model_name": "ButtonModel",
      "state": {
       "button_style": "warning",
       "description": "-466.88 Iron Rod: -466.88",
       "layout": "IPY_MODEL_d5afa16b7a45468bbc1457b39a5cf7d8",
       "style": "IPY_MODEL_04f6522904624928a69907258f856a9d"
      }
     },
     "6a40cb325d8c4074b6959cb35a413832": {
      "model_module": "@jupyter-widgets/base",
      "model_module_version": "1.2.0",
      "model_name": "LayoutModel",
      "state": {}
     },
     "6a4c72c46a294f78a2abdc0ecab173d0": {
      "model_module": "@jupyter-widgets/base",
      "model_module_version": "1.2.0",
      "model_name": "LayoutModel",
      "state": {}
     },
     "6a6a0dd231634aaf8baee57d27da8cfc": {
      "model_module": "@jupyter-widgets/controls",
      "model_module_version": "1.5.0",
      "model_name": "ButtonModel",
      "state": {
       "button_style": "success",
       "description": "# 18.675 of 18.68 Assembler using Rotor, reste 0.0",
       "layout": "IPY_MODEL_abd371dcae6144668a5205d1e1dc669d",
       "style": "IPY_MODEL_94d65713791f439da85c6407244b22aa"
      }
     },
     "6aa4342b91854906b85e600a538ab942": {
      "model_module": "@jupyter-widgets/controls",
      "model_module_version": "1.5.0",
      "model_name": "HBoxModel",
      "state": {
       "children": [
        "IPY_MODEL_a999b5ab67cf457ab62379533890da5f",
        "IPY_MODEL_915773fd75244412bc54a7525b48d2fe"
       ],
       "layout": "IPY_MODEL_0ac95dbe6cc94b5d99e3a82037143d81"
      }
     },
     "6aa84c9ed2ad45058fb928a0897cabc7": {
      "model_module": "@jupyter-widgets/base",
      "model_module_version": "1.2.0",
      "model_name": "LayoutModel",
      "state": {}
     },
     "6aa87798eb13450b938f60fa44e327cd": {
      "model_module": "@jupyter-widgets/base",
      "model_module_version": "1.2.0",
      "model_name": "LayoutModel",
      "state": {}
     },
     "6ac28f65580846708acb81cd90e84e55": {
      "model_module": "@jupyter-widgets/controls",
      "model_module_version": "1.5.0",
      "model_name": "ButtonModel",
      "state": {
       "description": "Add",
       "layout": "IPY_MODEL_7c4cf187baeb4447b60f2357edb28fce",
       "style": "IPY_MODEL_c0479c34f74940a6861b31ee1661133f"
      }
     },
     "6b6c0e459c0a4d389088e93960d2a289": {
      "model_module": "@jupyter-widgets/controls",
      "model_module_version": "1.5.0",
      "model_name": "VBoxModel",
      "state": {
       "children": [
        "IPY_MODEL_0072f2a85c944b5e919307bc6d81a35d",
        "IPY_MODEL_16c61812b91e400fa7fda1c2326b8805"
       ],
       "layout": "IPY_MODEL_d60b8264ff96478cabfa345ca62c096e"
      }
     },
     "6b719c1552774495b2ab8660b28bea28": {
      "model_module": "@jupyter-widgets/controls",
      "model_module_version": "1.5.0",
      "model_name": "ButtonStyleModel",
      "state": {}
     },
     "6bc12ffbe11040a7b6c800845b5cb781": {
      "model_module": "@jupyter-widgets/controls",
      "model_module_version": "1.5.0",
      "model_name": "ButtonModel",
      "state": {
       "description": "0.0 Caterium Ingot: 300.0 of 300.0",
       "layout": "IPY_MODEL_abd371dcae6144668a5205d1e1dc669d",
       "style": "IPY_MODEL_70709f0cb4234281b8eb9ee503b348e9"
      }
     },
     "6bca53d19a774d3dbfd7773d0c89d1d0": {
      "model_module": "@jupyter-widgets/controls",
      "model_module_version": "1.5.0",
      "model_name": "ButtonModel",
      "state": {
       "description": "Produce with recipe",
       "layout": "IPY_MODEL_8384575c19804206a42f7eddd3e72456",
       "style": "IPY_MODEL_8728e8014b51443dbe697ced8e98c755"
      }
     },
     "6c9ad3c8b426436d9e0836d63bba0e3e": {
      "model_module": "@jupyter-widgets/controls",
      "model_module_version": "1.5.0",
      "model_name": "ButtonStyleModel",
      "state": {}
     },
     "6cb93de1b6f44d0d9def0139c82e8eed": {
      "model_module": "@jupyter-widgets/base",
      "model_module_version": "1.2.0",
      "model_name": "LayoutModel",
      "state": {}
     },
     "6ce1465c146e4831b6df07a225e1d1e3": {
      "model_module": "@jupyter-widgets/controls",
      "model_module_version": "1.5.0",
      "model_name": "ButtonModel",
      "state": {
       "description": "search",
       "layout": "IPY_MODEL_ce16aa12fa0a4ca4b93cc0c856eebe92",
       "style": "IPY_MODEL_f8b52075a18e4930aaf8200001782b74"
      }
     },
     "6d2c72bf4a7749a79a84af0079fdc366": {
      "model_module": "@jupyter-widgets/controls",
      "model_module_version": "1.5.0",
      "model_name": "ButtonModel",
      "state": {
       "description": "10 of 32.67 Refinery using Alternate: Heavy Oil Residue, reste 22.67",
       "layout": "IPY_MODEL_abd371dcae6144668a5205d1e1dc669d",
       "style": "IPY_MODEL_0051097fc49345bc96e3a760f3a494a7"
      }
     },
     "6da155e6a32441d19e97a52c0127d58d": {
      "model_module": "@jupyter-widgets/base",
      "model_module_version": "1.2.0",
      "model_name": "LayoutModel",
      "state": {}
     },
     "6e3688d983a046cf8080d042e855a336": {
      "model_module": "@jupyter-widgets/controls",
      "model_module_version": "1.5.0",
      "model_name": "HBoxModel",
      "state": {
       "children": [
        "IPY_MODEL_1d85abce97514b73af10dd967acb8a75",
        "IPY_MODEL_d68db5072a0b4b9b88047a4d71336d47"
       ],
       "layout": "IPY_MODEL_f6a46d0e251d4df593807f7a9f95e5c5"
      }
     },
     "6e52d14464b4411db374e448df100e02": {
      "model_module": "@jupyter-widgets/base",
      "model_module_version": "1.2.0",
      "model_name": "LayoutModel",
      "state": {}
     },
     "6eaa175d225c4ba79f02589d1e03a673": {
      "model_module": "@jupyter-widgets/base",
      "model_module_version": "1.2.0",
      "model_name": "LayoutModel",
      "state": {}
     },
     "6ead30ef9f264b489d65474bac4c02a5": {
      "model_module": "@jupyter-widgets/base",
      "model_module_version": "1.2.0",
      "model_name": "LayoutModel",
      "state": {}
     },
     "6eb3498067504c7aaf6a33d3ca4ffc89": {
      "model_module": "@jupyter-widgets/controls",
      "model_module_version": "1.5.0",
      "model_name": "ButtonModel",
      "state": {
       "description": "6.67 Assembler using Nobelisk",
       "layout": "IPY_MODEL_718465d2c182451480d43bbcaadabb6b",
       "style": "IPY_MODEL_c11cfe20181042d69e823911654ffaab"
      }
     },
     "6ebda117185a48a68a3a9fc5998e8615": {
      "model_module": "@jupyter-widgets/base",
      "model_module_version": "1.2.0",
      "model_name": "LayoutModel",
      "state": {}
     },
     "6efe2d54f96b4a39824cc7694fe399b1": {
      "model_module": "@jupyter-widgets/controls",
      "model_module_version": "1.5.0",
      "model_name": "DescriptionStyleModel",
      "state": {
       "description_width": ""
      }
     },
     "6efeb1f6efd04706b925443dfb79834f": {
      "model_module": "@jupyter-widgets/controls",
      "model_module_version": "1.5.0",
      "model_name": "ButtonModel",
      "state": {
       "description": "0.019999999999999574 Radio Control Unit: 26.67 of 26.69",
       "layout": "IPY_MODEL_abd371dcae6144668a5205d1e1dc669d",
       "style": "IPY_MODEL_e70789c8fbef45bc814808733269c050"
      }
     },
     "6f2434c57afc4df2830b658e8babf389": {
      "model_module": "@jupyter-widgets/base",
      "model_module_version": "1.2.0",
      "model_name": "LayoutModel",
      "state": {}
     },
     "6f4d1a553d914a57825a391d18d9bdec": {
      "model_module": "@jupyter-widgets/controls",
      "model_module_version": "1.5.0",
      "model_name": "ButtonModel",
      "state": {
       "description": "Choose",
       "layout": "IPY_MODEL_9273fc6e556040cfbc3a9424d4b1a989",
       "style": "IPY_MODEL_3826ac16a43948989094ea42523b497d"
      }
     },
     "6f83b2eeff31432eac50f86188b68ae8": {
      "model_module": "@jupyter-widgets/controls",
      "model_module_version": "1.5.0",
      "model_name": "HBoxModel",
      "state": {
       "children": [
        "IPY_MODEL_108ba4d709974d6989306d79a2fbe18a",
        "IPY_MODEL_8e77244e83234e9b9d13794db04dd364"
       ],
       "layout": "IPY_MODEL_6da155e6a32441d19e97a52c0127d58d"
      }
     },
     "6fa14c68aade4739abfa23233e04ef41": {
      "model_module": "@jupyter-widgets/controls",
      "model_module_version": "1.5.0",
      "model_name": "VBoxModel",
      "state": {
       "children": [
        "IPY_MODEL_90350b430ab14fc6af57ef0e203f1880",
        "IPY_MODEL_6734c962adb340fa92804d2df0f95359"
       ],
       "layout": "IPY_MODEL_4a178860ca6448b38033f1e02f26fa5e"
      }
     },
     "6fc42d230ef74990b1268606ad8049b5": {
      "model_module": "@jupyter-widgets/controls",
      "model_module_version": "1.5.0",
      "model_name": "VBoxModel",
      "state": {
       "layout": "IPY_MODEL_6753c492bd2e48c2a6bcd3964becf210"
      }
     },
     "6ff65966947c470bbe6d08fc4067def1": {
      "model_module": "@jupyter-widgets/controls",
      "model_module_version": "1.5.0",
      "model_name": "ButtonStyleModel",
      "state": {}
     },
     "7041e16aca7b40f59ac2c324bd8bd37d": {
      "model_module": "@jupyter-widgets/controls",
      "model_module_version": "1.5.0",
      "model_name": "ButtonStyleModel",
      "state": {}
     },
     "7067aaac8a7441bcb314e1047ccf4458": {
      "model_module": "@jupyter-widgets/controls",
      "model_module_version": "1.5.0",
      "model_name": "ButtonStyleModel",
      "state": {}
     },
     "70709f0cb4234281b8eb9ee503b348e9": {
      "model_module": "@jupyter-widgets/controls",
      "model_module_version": "1.5.0",
      "model_name": "ButtonStyleModel",
      "state": {}
     },
     "70bc49cdf6134d4b89c5037db0d8c389": {
      "model_module": "@jupyter-widgets/base",
      "model_module_version": "1.2.0",
      "model_name": "LayoutModel",
      "state": {}
     },
     "70ef6c3708384a90ac929263332cbb4c": {
      "model_module": "@jupyter-widgets/controls",
      "model_module_version": "1.5.0",
      "model_name": "ButtonModel",
      "state": {
       "button_style": "success",
       "description": "# 22.29 of 22.29 Refinery using Alternate: Pure Iron Ingot, reste 0.0",
       "layout": "IPY_MODEL_abd371dcae6144668a5205d1e1dc669d",
       "style": "IPY_MODEL_b927c34ee5d9410ea2fc2dd7d0c147f3"
      }
     },
     "710116a7421344218b09de1ec372860b": {
      "model_module": "@jupyter-widgets/base",
      "model_module_version": "1.2.0",
      "model_name": "LayoutModel",
      "state": {}
     },
     "7137a654e36b476597108964bed6dc48": {
      "model_module": "@jupyter-widgets/controls",
      "model_module_version": "1.5.0",
      "model_name": "ButtonModel",
      "state": {
       "button_style": "warning",
       "description": "-332.0 Iron Ingot: -332.0",
       "layout": "IPY_MODEL_56eae548ea6e41abb16dd2b5c98cfdd1",
       "style": "IPY_MODEL_963de3ef62264894aa94752c3c8e72dd"
      }
     },
     "718465d2c182451480d43bbcaadabb6b": {
      "model_module": "@jupyter-widgets/base",
      "model_module_version": "1.2.0",
      "model_name": "LayoutModel",
      "state": {
       "align_items": "flex-start",
       "width": "80%"
      }
     },
     "71f05ad3bfb94fbe8e1a95a6945c344a": {
      "model_module": "@jupyter-widgets/controls",
      "model_module_version": "1.5.0",
      "model_name": "DescriptionStyleModel",
      "state": {
       "description_width": ""
      }
     },
     "7282d33d980443a09f2109b6f1c69c00": {
      "model_module": "@jupyter-widgets/base",
      "model_module_version": "1.2.0",
      "model_name": "LayoutModel",
      "state": {}
     },
     "72bfc093dbaf49e0bf529c3ab895f54c": {
      "model_module": "@jupyter-widgets/base",
      "model_module_version": "1.2.0",
      "model_name": "LayoutModel",
      "state": {}
     },
     "733e7252023140f68bc0cf6b68531452": {
      "model_module": "@jupyter-widgets/controls",
      "model_module_version": "1.5.0",
      "model_name": "FloatTextModel",
      "state": {
       "layout": "IPY_MODEL_e2f10aceb34b44f8b4f2eb61d66cf359",
       "step": null,
       "style": "IPY_MODEL_bd464f94c69248d49907195b4f0580a9"
      }
     },
     "739756651ae842649a3b909ee4168f24": {
      "model_module": "@jupyter-widgets/controls",
      "model_module_version": "1.5.0",
      "model_name": "ButtonStyleModel",
      "state": {}
     },
     "7399316f32434da4914b787cad29eb65": {
      "model_module": "@jupyter-widgets/controls",
      "model_module_version": "1.5.0",
      "model_name": "ButtonStyleModel",
      "state": {}
     },
     "73a2df4f1d6f46779567b4220877286c": {
      "model_module": "@jupyter-widgets/controls",
      "model_module_version": "1.5.0",
      "model_name": "ButtonStyleModel",
      "state": {}
     },
     "73a9a76da768498bb713a7e9533579e9": {
      "model_module": "@jupyter-widgets/base",
      "model_module_version": "1.2.0",
      "model_name": "LayoutModel",
      "state": {}
     },
     "73fda9f070fc4390955e3a5eaf65dfd5": {
      "model_module": "@jupyter-widgets/controls",
      "model_module_version": "1.5.0",
      "model_name": "ButtonModel",
      "state": {
       "description": "1546.0 Coal: 854.0 of 2400.0",
       "layout": "IPY_MODEL_abd371dcae6144668a5205d1e1dc669d",
       "style": "IPY_MODEL_e2edf5adb6bf4a9b9f90e38102a8adae"
      }
     },
     "748e7a0dbb6b411cb06c8d23b07b052c": {
      "model_module": "@jupyter-widgets/controls",
      "model_module_version": "1.5.0",
      "model_name": "DescriptionStyleModel",
      "state": {
       "description_width": ""
      }
     },
     "758365ea9cff4df4b431fe5e652db7d5": {
      "model_module": "@jupyter-widgets/controls",
      "model_module_version": "1.5.0",
      "model_name": "ButtonModel",
      "state": {
       "description": "22.5 Refinery using Residual Rubber",
       "layout": "IPY_MODEL_eed224ba7e984f4fa454628e803374bc",
       "style": "IPY_MODEL_e7807151eb7d472e95c32cb4298df286"
      }
     },
     "75902f0645df468db550e32930d97a6f": {
      "model_module": "@jupyter-widgets/base",
      "model_module_version": "1.2.0",
      "model_name": "LayoutModel",
      "state": {}
     },
     "7592f578c5ae48019e19c41ddc8425fb": {
      "model_module": "@jupyter-widgets/base",
      "model_module_version": "1.2.0",
      "model_name": "LayoutModel",
      "state": {}
     },
     "761adce6bf064215b0022a62192f99c4": {
      "model_module": "@jupyter-widgets/base",
      "model_module_version": "1.2.0",
      "model_name": "LayoutModel",
      "state": {}
     },
     "762668a8ad504d7a8ef7f2ff36e9fb73": {
      "model_module": "@jupyter-widgets/controls",
      "model_module_version": "1.5.0",
      "model_name": "VBoxModel",
      "state": {
       "children": [
        "IPY_MODEL_6eb3498067504c7aaf6a33d3ca4ffc89",
        "IPY_MODEL_496cde29837744c7ae0a2f6fc0f6aabe",
        "IPY_MODEL_2a46cbe79e504394882a3cabe1ca5616",
        "IPY_MODEL_a98f278f5cd940c685b1a0e77b9affa7",
        "IPY_MODEL_e553753dcfcc4bf0a2ebd208fc30b9b1",
        "IPY_MODEL_5258250e322a4bda81e4e7a3c30e1fe6",
        "IPY_MODEL_a19150bde391482bbb1bf49a4280dd39"
       ],
       "layout": "IPY_MODEL_0312376fd5d245078146b6c186b8bc2c"
      }
     },
     "76b98943281b4803900294be7eda941a": {
      "model_module": "@jupyter-widgets/controls",
      "model_module_version": "1.5.0",
      "model_name": "ButtonStyleModel",
      "state": {}
     },
     "76dfa1b8623c4fef95ec93d8e37ed5a9": {
      "model_module": "@jupyter-widgets/base",
      "model_module_version": "1.2.0",
      "model_name": "LayoutModel",
      "state": {}
     },
     "76f5fbb3f10140bc8e769b438fc1d439": {
      "model_module": "@jupyter-widgets/controls",
      "model_module_version": "1.5.0",
      "model_name": "ButtonModel",
      "state": {
       "button_style": "success",
       "description": "# 26.56 of 26.56 Constructor using Alternate: Iron Wire, reste 0.0",
       "layout": "IPY_MODEL_56eae548ea6e41abb16dd2b5c98cfdd1",
       "style": "IPY_MODEL_6ff65966947c470bbe6d08fc4067def1"
      }
     },
     "776476deb62c44aa8194e39314167f93": {
      "model_module": "@jupyter-widgets/controls",
      "model_module_version": "1.5.0",
      "model_name": "DescriptionStyleModel",
      "state": {
       "description_width": ""
      }
     },
     "7784f73678224c3e9253d4b1f4a8258e": {
      "model_module": "@jupyter-widgets/controls",
      "model_module_version": "1.5.0",
      "model_name": "LabelModel",
      "state": {
       "layout": "IPY_MODEL_1c5b9234510846238763c6c514ebfeb2",
       "style": "IPY_MODEL_c82dba239b9c4a20bb8f28ffbfdc0acd",
       "value": "Items"
      }
     },
     "77c9c7212264456d8aa5e640ad5dac4c": {
      "model_module": "@jupyter-widgets/base",
      "model_module_version": "1.2.0",
      "model_name": "LayoutModel",
      "state": {}
     },
     "7805d6d5f7f04eb2b402aa0c3c5a6ea1": {
      "model_module": "@jupyter-widgets/controls",
      "model_module_version": "1.5.0",
      "model_name": "ButtonModel",
      "state": {
       "description": "0.0 Stator: 74.7 of 74.7",
       "layout": "IPY_MODEL_56eae548ea6e41abb16dd2b5c98cfdd1",
       "style": "IPY_MODEL_f2fe2c1d697140a0bbd57c5caf6e500a"
      }
     },
     "780bcfaa03954e428ff018435a835628": {
      "model_module": "@jupyter-widgets/controls",
      "model_module_version": "1.5.0",
      "model_name": "ButtonModel",
      "state": {
       "description": "Build Factory",
       "layout": "IPY_MODEL_602dabc2479e4a0aa5a38f791d60f58f",
       "style": "IPY_MODEL_67d061cdf8544913b96dbab055ede993"
      }
     },
     "7816530d6038449584bb7c4e7222729a": {
      "model_module": "@jupyter-widgets/base",
      "model_module_version": "1.2.0",
      "model_name": "LayoutModel",
      "state": {}
     },
     "784434719f7f46669e20548419ea62b3": {
      "model_module": "@jupyter-widgets/base",
      "model_module_version": "1.2.0",
      "model_name": "LayoutModel",
      "state": {}
     },
     "785b4b4d66f14e04b81a77622ff5c302": {
      "model_module": "@jupyter-widgets/controls",
      "model_module_version": "1.5.0",
      "model_name": "HBoxModel",
      "state": {
       "layout": "IPY_MODEL_e64b800b17ff400e808a7f50ab740be2"
      }
     },
     "785be5044f3548559ca56175a4867b22": {
      "model_module": "@jupyter-widgets/base",
      "model_module_version": "1.2.0",
      "model_name": "LayoutModel",
      "state": {}
     },
     "7877fbe93a3144e1b2015153d0931982": {
      "model_module": "@jupyter-widgets/controls",
      "model_module_version": "1.5.0",
      "model_name": "ButtonStyleModel",
      "state": {}
     },
     "78c77b8f2db542e5b09154ac5206b7bd": {
      "model_module": "@jupyter-widgets/base",
      "model_module_version": "1.2.0",
      "model_name": "LayoutModel",
      "state": {}
     },
     "797766fc63524526b034137bb664995a": {
      "model_module": "@jupyter-widgets/controls",
      "model_module_version": "1.5.0",
      "model_name": "ButtonModel",
      "state": {
       "description": "5.69 Manufacturer using Alternate: Turbo Rigour Motor",
       "layout": "IPY_MODEL_abd371dcae6144668a5205d1e1dc669d",
       "style": "IPY_MODEL_5512f03d3b64434bb950d25421ac2e4f"
      }
     },
     "7aa05013867145c49b56149b35296e6d": {
      "model_module": "@jupyter-widgets/base",
      "model_module_version": "1.2.0",
      "model_name": "LayoutModel",
      "state": {}
     },
     "7aad23ff19bf4eed8c866faf43fb98e6": {
      "model_module": "@jupyter-widgets/controls",
      "model_module_version": "1.5.0",
      "model_name": "ButtonModel",
      "state": {
       "description": "16.0 Turbo Motor: +16.0",
       "layout": "IPY_MODEL_abd371dcae6144668a5205d1e1dc669d",
       "style": "IPY_MODEL_0f3596e01f054eeaac2af2b2f51d8a83"
      }
     },
     "7ac5356801b7464f8a5a365903f2b5f7": {
      "model_module": "@jupyter-widgets/controls",
      "model_module_version": "1.5.0",
      "model_name": "ButtonModel",
      "state": {
       "button_style": "warning",
       "description": "-210.09 Steel Ingot: -210.09",
       "layout": "IPY_MODEL_56eae548ea6e41abb16dd2b5c98cfdd1",
       "style": "IPY_MODEL_b968caa7107c42fbb9c1a5a11374e417"
      }
     },
     "7b2c926014a04b7bb190a6c1b3967075": {
      "model_module": "@jupyter-widgets/base",
      "model_module_version": "1.2.0",
      "model_name": "LayoutModel",
      "state": {}
     },
     "7baf206cd20c4b87aed5a14893979528": {
      "model_module": "@jupyter-widgets/controls",
      "model_module_version": "1.5.0",
      "model_name": "ButtonModel",
      "state": {
       "description": "Add Factory",
       "layout": "IPY_MODEL_953855a28fa640ba89589d3a4c2ad91f",
       "style": "IPY_MODEL_1ff3405faf864cb28e648d1f2b2200aa"
      }
     },
     "7be1622ee7554940af7e4d8ffc8f2405": {
      "model_module": "@jupyter-widgets/base",
      "model_module_version": "1.2.0",
      "model_name": "LayoutModel",
      "state": {}
     },
     "7c3456a1da204303a3e1f9c0b4e8fe4c": {
      "model_module": "@jupyter-widgets/controls",
      "model_module_version": "1.5.0",
      "model_name": "ButtonStyleModel",
      "state": {}
     },
     "7c4cf187baeb4447b60f2357edb28fce": {
      "model_module": "@jupyter-widgets/base",
      "model_module_version": "1.2.0",
      "model_name": "LayoutModel",
      "state": {}
     },
     "7ce3f5efd81a46f08146c2ff167c8b01": {
      "model_module": "@jupyter-widgets/controls",
      "model_module_version": "1.5.0",
      "model_name": "ButtonStyleModel",
      "state": {}
     },
     "7cfbc38ab0964557b0f8c1581b831a77": {
      "model_module": "@jupyter-widgets/base",
      "model_module_version": "1.2.0",
      "model_name": "LayoutModel",
      "state": {}
     },
     "7d2563aab91c445d8d5bad5f960bce1b": {
      "model_module": "@jupyter-widgets/base",
      "model_module_version": "1.2.0",
      "model_name": "LayoutModel",
      "state": {}
     },
     "7d4d375fe3084de1b0d1b150ffa6c161": {
      "model_module": "@jupyter-widgets/base",
      "model_module_version": "1.2.0",
      "model_name": "LayoutModel",
      "state": {}
     },
     "7d70710670484cf89967b746ca0a6456": {
      "model_module": "@jupyter-widgets/controls",
      "model_module_version": "1.5.0",
      "model_name": "VBoxModel",
      "state": {
       "children": [
        "IPY_MODEL_ca2eef006ceb4e06bd9dba91ee4a1dc2",
        "IPY_MODEL_a88ed05f9b484b60abb176414c7d8cdd",
        "IPY_MODEL_f977cafc21df4f3db45cbc3ed0d1f041",
        "IPY_MODEL_f7cce4d69db44c21b8228662c67e91f6",
        "IPY_MODEL_fa9b00dd193b4139aa87a28485acbed7",
        "IPY_MODEL_a8bc25cc78fc430181e27d8b074349b3",
        "IPY_MODEL_541aff29a93e4446aede1df7906622b7",
        "IPY_MODEL_c1e34d3aa016422e8077eb44545969f9",
        "IPY_MODEL_5555a77d02d84c31a8170234c7322e8f"
       ],
       "layout": "IPY_MODEL_3c8b7566741245b192f0cdff4b7d0dc9"
      }
     },
     "7d7669ed0e0d4f1a97c9e09debddb249": {
      "model_module": "@jupyter-widgets/output",
      "model_module_version": "1.0.0",
      "model_name": "OutputModel",
      "state": {
       "layout": "IPY_MODEL_adffb5f4af3f4cfc8ccb674006bd0865",
       "outputs": [
        {
         "name": "stdout",
         "output_type": "stream",
         "text": "recipes:\n"
        }
       ]
      }
     },
     "7dea337d7a5540199a6c61a5bc9bf037": {
      "model_module": "@jupyter-widgets/controls",
      "model_module_version": "1.5.0",
      "model_name": "LabelModel",
      "state": {
       "layout": "IPY_MODEL_6aa84c9ed2ad45058fb928a0897cabc7",
       "style": "IPY_MODEL_bec2d466960346a698de4f12d101bb2a",
       "value": "Recipe used"
      }
     },
     "7df00eb2f45644daacbd3328320d9f98": {
      "model_module": "@jupyter-widgets/controls",
      "model_module_version": "1.5.0",
      "model_name": "ButtonModel",
      "state": {
       "description": "0.0 Copper Ingot: 3750.0 of 3750.0",
       "layout": "IPY_MODEL_abd371dcae6144668a5205d1e1dc669d",
       "style": "IPY_MODEL_b812843977c74fc48e9ae228f49ddc13"
      }
     },
     "7e8d84a85d61414aa4274f4d09c29b55": {
      "model_module": "@jupyter-widgets/base",
      "model_module_version": "1.2.0",
      "model_name": "LayoutModel",
      "state": {}
     },
     "7f3319de5f6f4dcd93aa8222f13a3771": {
      "model_module": "@jupyter-widgets/controls",
      "model_module_version": "1.5.0",
      "model_name": "ButtonStyleModel",
      "state": {}
     },
     "7fae976f945a4a06b01adb4dc6d045bd": {
      "model_module": "@jupyter-widgets/controls",
      "model_module_version": "1.5.0",
      "model_name": "ButtonStyleModel",
      "state": {}
     },
     "7fd10e4001bb41c5b392e7d85b5d870d": {
      "model_module": "@jupyter-widgets/base",
      "model_module_version": "1.2.0",
      "model_name": "LayoutModel",
      "state": {}
     },
     "8038863aa8964b048570670387887ed7": {
      "model_module": "@jupyter-widgets/controls",
      "model_module_version": "1.5.0",
      "model_name": "ButtonModel",
      "state": {
       "description": "20.0 Nobelisk: +20.0",
       "layout": "IPY_MODEL_abd371dcae6144668a5205d1e1dc669d",
       "style": "IPY_MODEL_7c3456a1da204303a3e1f9c0b4e8fe4c"
      }
     },
     "803d9c3f7509453ab3c28eba563324b8": {
      "model_module": "@jupyter-widgets/base",
      "model_module_version": "1.2.0",
      "model_name": "LayoutModel",
      "state": {}
     },
     "806d7f3810a349d5a35e21f7c161efd0": {
      "model_module": "@jupyter-widgets/controls",
      "model_module_version": "1.5.0",
      "model_name": "ButtonModel",
      "state": {
       "description": "Choose",
       "layout": "IPY_MODEL_d539da26e3e4496fa78779b49fa5806c",
       "style": "IPY_MODEL_4ae0aa221f064ac28e66e85892f29afa"
      }
     },
     "807dcd51b98f47e3b111071b30610274": {
      "model_module": "@jupyter-widgets/controls",
      "model_module_version": "1.5.0",
      "model_name": "DescriptionStyleModel",
      "state": {
       "description_width": ""
      }
     },
     "808e2368161541ba9ebfad6ecedb6c5b": {
      "model_module": "@jupyter-widgets/controls",
      "model_module_version": "1.5.0",
      "model_name": "ButtonModel",
      "state": {
       "description": "-0.00999999999999801 Computer: 57.36 of 57.35",
       "layout": "IPY_MODEL_abd371dcae6144668a5205d1e1dc669d",
       "style": "IPY_MODEL_76b98943281b4803900294be7eda941a"
      }
     },
     "80d02a9124e14e9fbfa766784e4fc8cd": {
      "model_module": "@jupyter-widgets/controls",
      "model_module_version": "1.5.0",
      "model_name": "TextModel",
      "state": {
       "layout": "IPY_MODEL_a50f4bbfbb55471c86137e30824dbcb0",
       "style": "IPY_MODEL_69939bd6c63d4f82a118233806362d40"
      }
     },
     "817476a5865c42faa91cdf565bb72fe2": {
      "model_module": "@jupyter-widgets/controls",
      "model_module_version": "1.5.0",
      "model_name": "LabelModel",
      "state": {
       "layout": "IPY_MODEL_1fb88b604fe54fb58098670c2e24d1f3",
       "style": "IPY_MODEL_4c2ee0e960ac428da6d90edd2743f75c",
       "value": "logs"
      }
     },
     "81e39a2dfa844084b119b4d16505caa0": {
      "model_module": "@jupyter-widgets/controls",
      "model_module_version": "1.5.0",
      "model_name": "LabelModel",
      "state": {
       "layout": "IPY_MODEL_0b68d2f6019147ab9067e1d2c5d07846",
       "style": "IPY_MODEL_ee4ee31081dd46598fbc15b24c93f5fe",
       "value": "logs"
      }
     },
     "8251efe4d3484b809cdaa2f79c535fb9": {
      "model_module": "@jupyter-widgets/base",
      "model_module_version": "1.2.0",
      "model_name": "LayoutModel",
      "state": {}
     },
     "8266fffa14284792be99e0d70efa6a23": {
      "model_module": "@jupyter-widgets/base",
      "model_module_version": "1.2.0",
      "model_name": "LayoutModel",
      "state": {}
     },
     "828eb05a7fb14513afa2e79f65223c31": {
      "model_module": "@jupyter-widgets/controls",
      "model_module_version": "1.5.0",
      "model_name": "ButtonStyleModel",
      "state": {}
     },
     "832567116c64423097cdc195b72af3a9": {
      "model_module": "@jupyter-widgets/base",
      "model_module_version": "1.2.0",
      "model_name": "LayoutModel",
      "state": {}
     },
     "83838d46e10747348425d4825d56a79d": {
      "model_module": "@jupyter-widgets/controls",
      "model_module_version": "1.5.0",
      "model_name": "DescriptionStyleModel",
      "state": {
       "description_width": ""
      }
     },
     "8384575c19804206a42f7eddd3e72456": {
      "model_module": "@jupyter-widgets/base",
      "model_module_version": "1.2.0",
      "model_name": "LayoutModel",
      "state": {}
     },
     "83ec77d6424d48a584484f0d9b1464ff": {
      "model_module": "@jupyter-widgets/base",
      "model_module_version": "1.2.0",
      "model_name": "LayoutModel",
      "state": {}
     },
     "840054ccf28e4537aa739d049ef8375e": {
      "model_module": "@jupyter-widgets/controls",
      "model_module_version": "1.5.0",
      "model_name": "ButtonModel",
      "state": {
       "description": "Produce with recipe",
       "layout": "IPY_MODEL_b0c26f42311b4158a2f4d1e4c17368fa",
       "style": "IPY_MODEL_8f32ffb70287453fa23ca8fac0afb94d"
      }
     },
     "841a05169a0d47e2b823193264a293c8": {
      "model_module": "@jupyter-widgets/base",
      "model_module_version": "1.2.0",
      "model_name": "LayoutModel",
      "state": {}
     },
     "8468547b2c4c48b9be5a435a0614dfa5": {
      "model_module": "@jupyter-widgets/controls",
      "model_module_version": "1.5.0",
      "model_name": "ButtonModel",
      "state": {
       "description": "0.25 of 25.27 Constructor using Cable, reste 25.02",
       "layout": "IPY_MODEL_abd371dcae6144668a5205d1e1dc669d",
       "style": "IPY_MODEL_2d44a6d4361b4488be569b1def89a7ed"
      }
     },
     "84a67d0783fc4de6840c972b43869b9c": {
      "model_module": "@jupyter-widgets/base",
      "model_module_version": "1.2.0",
      "model_name": "LayoutModel",
      "state": {}
     },
     "84ad317d05184145b03b52c4828f20e7": {
      "model_module": "@jupyter-widgets/controls",
      "model_module_version": "1.5.0",
      "model_name": "ButtonStyleModel",
      "state": {}
     },
     "84f0d9ea7ab9436e8064c7aa5e901f72": {
      "model_module": "@jupyter-widgets/controls",
      "model_module_version": "1.5.0",
      "model_name": "ButtonStyleModel",
      "state": {}
     },
     "851af66147ee44b5a0ca8e4c04dc072d": {
      "model_module": "@jupyter-widgets/controls",
      "model_module_version": "1.5.0",
      "model_name": "ButtonModel",
      "state": {
       "description": "0.0 Rotor: 74.7 of 74.7",
       "layout": "IPY_MODEL_abd371dcae6144668a5205d1e1dc669d",
       "style": "IPY_MODEL_0dbea2b902cd46f7b6fbbe9f6462697b"
      }
     },
     "8572431944024f4d8ec0178c5ec27742": {
      "model_module": "@jupyter-widgets/controls",
      "model_module_version": "1.5.0",
      "model_name": "DescriptionStyleModel",
      "state": {
       "description_width": ""
      }
     },
     "8593238c9750457eb46075a0c1dbfe18": {
      "model_module": "@jupyter-widgets/controls",
      "model_module_version": "1.5.0",
      "model_name": "ButtonModel",
      "state": {
       "description": "30.42 Assembler using Alternate: Silicone Circuit Board",
       "layout": "IPY_MODEL_abd371dcae6144668a5205d1e1dc669d",
       "style": "IPY_MODEL_5d6e345fa8fa4a189540713f110b4900"
      }
     },
     "85efdb95c4564314aff2c47b48b993a8": {
      "model_module": "@jupyter-widgets/controls",
      "model_module_version": "1.5.0",
      "model_name": "VBoxModel",
      "state": {
       "children": [
        "IPY_MODEL_d01fe551a52e4ec6b16decdffff49595",
        "IPY_MODEL_5e7bd9338ac44c548f63cb52122c838b",
        "IPY_MODEL_499afb2e8f584ae9bf83178cce55c2b0",
        "IPY_MODEL_998fa85665bf42d0bfec1019a469e5cd",
        "IPY_MODEL_aa4d6348520240bd87832090d521368d",
        "IPY_MODEL_05878973ee4e47b2abfdebaadf70b58f",
        "IPY_MODEL_4086d63e2fa8444b8d0b315d11aaf79d",
        "IPY_MODEL_b97a42df1f0b45aa9bdb252d95c0e93d",
        "IPY_MODEL_e18cacd191494fb99a44fe568d15d80c",
        "IPY_MODEL_c467dbc033dc463f895d8d1d3b986d6e",
        "IPY_MODEL_053c748666ce45e0a8ecde90f1681904",
        "IPY_MODEL_eab5eb87f89c4e89a06afdbdcc590c26"
       ],
       "layout": "IPY_MODEL_6ebda117185a48a68a3a9fc5998e8615"
      }
     },
     "86f0c7f1cfb74251a5da425387252ec3": {
      "model_module": "@jupyter-widgets/controls",
      "model_module_version": "1.5.0",
      "model_name": "ButtonStyleModel",
      "state": {}
     },
     "871571a929e1423c8dd2dec95ce1fd87": {
      "model_module": "@jupyter-widgets/controls",
      "model_module_version": "1.5.0",
      "model_name": "ButtonStyleModel",
      "state": {}
     },
     "8728e8014b51443dbe697ced8e98c755": {
      "model_module": "@jupyter-widgets/controls",
      "model_module_version": "1.5.0",
      "model_name": "ButtonStyleModel",
      "state": {}
     },
     "874b35f1d9c041c6a2a7f14e3f709c50": {
      "model_module": "@jupyter-widgets/controls",
      "model_module_version": "1.5.0",
      "model_name": "FloatTextModel",
      "state": {
       "description": "quantity",
       "layout": "IPY_MODEL_efe8052757a3444dbee7f51effabd551",
       "step": null,
       "style": "IPY_MODEL_98cc921404664c10a002ff34acc9c1ae"
      }
     },
     "87a49471c2f94c7aa64be2dddb5af17a": {
      "model_module": "@jupyter-widgets/controls",
      "model_module_version": "1.5.0",
      "model_name": "DescriptionStyleModel",
      "state": {
       "description_width": ""
      }
     },
     "87c5b5f990b641d295e9da0709b63e98": {
      "model_module": "@jupyter-widgets/base",
      "model_module_version": "1.2.0",
      "model_name": "LayoutModel",
      "state": {}
     },
     "88e38720543f49d399d71a289519241f": {
      "model_module": "@jupyter-widgets/base",
      "model_module_version": "1.2.0",
      "model_name": "LayoutModel",
      "state": {}
     },
     "89267e5a50284d1aa8f93f63c0ec0d34": {
      "model_module": "@jupyter-widgets/output",
      "model_module_version": "1.0.0",
      "model_name": "OutputModel",
      "state": {
       "layout": "IPY_MODEL_fdc1e71295864aefabf2a2f0c19387fc"
      }
     },
     "89cc52a210a4472bad3ed6c476be52bc": {
      "model_module": "@jupyter-widgets/base",
      "model_module_version": "1.2.0",
      "model_name": "LayoutModel",
      "state": {}
     },
     "89db8304d80048c19e00785d6a20b920": {
      "model_module": "@jupyter-widgets/controls",
      "model_module_version": "1.5.0",
      "model_name": "LabelModel",
      "state": {
       "layout": "IPY_MODEL_900c6395539b408d960ee9bfbb1ee872",
       "style": "IPY_MODEL_968cd3ab4cf74afc9a422d8689c6efdd",
       "value": "Item produced"
      }
     },
     "8a328b78b7214413bd89a601ecb34c7d": {
      "model_module": "@jupyter-widgets/controls",
      "model_module_version": "1.5.0",
      "model_name": "ButtonStyleModel",
      "state": {}
     },
     "8a8197af63bc4a7baa3ad004efdc044b": {
      "model_module": "@jupyter-widgets/base",
      "model_module_version": "1.2.0",
      "model_name": "LayoutModel",
      "state": {}
     },
     "8aa6eda3bb6d4a1b851e7f37f2a6d3b9": {
      "model_module": "@jupyter-widgets/controls",
      "model_module_version": "1.5.0",
      "model_name": "DescriptionStyleModel",
      "state": {
       "description_width": ""
      }
     },
     "8b66790fc860483295c1156c5dce0886": {
      "model_module": "@jupyter-widgets/controls",
      "model_module_version": "1.5.0",
      "model_name": "ButtonStyleModel",
      "state": {}
     },
     "8b9c2d932322432f8d8beb5e289ce0e7": {
      "model_module": "@jupyter-widgets/controls",
      "model_module_version": "1.5.0",
      "model_name": "ButtonModel",
      "state": {
       "description": "search",
       "layout": "IPY_MODEL_992600e673534811b6e6ec8ee6145a3f",
       "style": "IPY_MODEL_036826ad4e8e483dba2e87ca1b1139e2"
      }
     },
     "8b9e9955987849abb3be20a342df448f": {
      "model_module": "@jupyter-widgets/output",
      "model_module_version": "1.0.0",
      "model_name": "OutputModel",
      "state": {
       "layout": "IPY_MODEL_72bfc093dbaf49e0bf529c3ab895f54c"
      }
     },
     "8ba8005bdf214fc49fdbf4bbaeb763ec": {
      "model_module": "@jupyter-widgets/controls",
      "model_module_version": "1.5.0",
      "model_name": "TextModel",
      "state": {
       "layout": "IPY_MODEL_38ddaa74f8674ef1be3422eaea58c163",
       "style": "IPY_MODEL_4978676fb4b242119b23d57e9439b646"
      }
     },
     "8bd164e6916f42d08efd2255a7dd9e96": {
      "model_module": "@jupyter-widgets/controls",
      "model_module_version": "1.5.0",
      "model_name": "HBoxModel",
      "state": {
       "children": [
        "IPY_MODEL_5f7a0c09af5946b78f980efd5b3fba38",
        "IPY_MODEL_d3caee3349bd4bc7872985c536db06f1",
        "IPY_MODEL_53a9f27b967e44598c7922c600ed8784",
        "IPY_MODEL_b842b5cb45694c9da23464318ef540b1",
        "IPY_MODEL_388005db6f124c2084c8e14611bd06a1",
        "IPY_MODEL_b7de0328fe8348c9bd88432cda5c18e3"
       ],
       "layout": "IPY_MODEL_fa30bf636d514902ab00586a91afbe3c"
      }
     },
     "8c50047e9f654b9692a7142c17bfea71": {
      "model_module": "@jupyter-widgets/base",
      "model_module_version": "1.2.0",
      "model_name": "LayoutModel",
      "state": {}
     },
     "8c7c93a4cc0d47b8aa2c7828f5b88421": {
      "model_module": "@jupyter-widgets/base",
      "model_module_version": "1.2.0",
      "model_name": "LayoutModel",
      "state": {}
     },
     "8ca3e28d95754be08f2d44c50246c657": {
      "model_module": "@jupyter-widgets/controls",
      "model_module_version": "1.5.0",
      "model_name": "ButtonStyleModel",
      "state": {}
     },
     "8d107105efb0462eb974235d96ca6c4f": {
      "model_module": "@jupyter-widgets/base",
      "model_module_version": "1.2.0",
      "model_name": "LayoutModel",
      "state": {}
     },
     "8d8faab259af493788a2d0c41082585e": {
      "model_module": "@jupyter-widgets/base",
      "model_module_version": "1.2.0",
      "model_name": "LayoutModel",
      "state": {}
     },
     "8da25865c4f94a65bd38a7453e0d4022": {
      "model_module": "@jupyter-widgets/controls",
      "model_module_version": "1.5.0",
      "model_name": "ButtonStyleModel",
      "state": {}
     },
     "8e51d4b56bde47e696210680427e568f": {
      "model_module": "@jupyter-widgets/controls",
      "model_module_version": "1.5.0",
      "model_name": "ButtonStyleModel",
      "state": {}
     },
     "8e5947fd2b294819b0d6223c345f1cca": {
      "model_module": "@jupyter-widgets/controls",
      "model_module_version": "1.5.0",
      "model_name": "ButtonStyleModel",
      "state": {}
     },
     "8e77244e83234e9b9d13794db04dd364": {
      "model_module": "@jupyter-widgets/controls",
      "model_module_version": "1.5.0",
      "model_name": "ButtonModel",
      "state": {
       "description": "search",
       "layout": "IPY_MODEL_4a58d2071e814e9bb19df8089db454e2",
       "style": "IPY_MODEL_964c33ccae304906975da71d18d7f936"
      }
     },
     "8ef893da738043d393ac525e6198c531": {
      "model_module": "@jupyter-widgets/controls",
      "model_module_version": "1.5.0",
      "model_name": "ButtonStyleModel",
      "state": {}
     },
     "8f0425dcd3af4439b616e9f8cf679ff7": {
      "model_module": "@jupyter-widgets/controls",
      "model_module_version": "1.5.0",
      "model_name": "HBoxModel",
      "state": {
       "children": [
        "IPY_MODEL_cc568400cd7b447899127f497bdcc914",
        "IPY_MODEL_6ac28f65580846708acb81cd90e84e55",
        "IPY_MODEL_f6d472d162724c548f5446821262db8d",
        "IPY_MODEL_dfd34e69137448be91f00f0e3dd3eff8",
        "IPY_MODEL_55c4c7c488334af1928b76245b8406d8",
        "IPY_MODEL_2d868ecd8bf94c7f89f9239f5c4bb624"
       ],
       "layout": "IPY_MODEL_3963c813b797420583623fce8fc16b03"
      }
     },
     "8f32ffb70287453fa23ca8fac0afb94d": {
      "model_module": "@jupyter-widgets/controls",
      "model_module_version": "1.5.0",
      "model_name": "ButtonStyleModel",
      "state": {}
     },
     "8fb7ae6789c24e168916fcaa97c1594a": {
      "model_module": "@jupyter-widgets/controls",
      "model_module_version": "1.5.0",
      "model_name": "ButtonModel",
      "state": {
       "description": "search",
       "layout": "IPY_MODEL_7aa05013867145c49b56149b35296e6d",
       "style": "IPY_MODEL_7877fbe93a3144e1b2015153d0931982"
      }
     },
     "8fd9bf686da04c88afcaad1e92948834": {
      "model_module": "@jupyter-widgets/controls",
      "model_module_version": "1.5.0",
      "model_name": "HBoxModel",
      "state": {
       "children": [
        "IPY_MODEL_d43ad65b9e044573b8440769d55c7ab8",
        "IPY_MODEL_2bb165b05d0140a5a2f4b1f60e152d46"
       ],
       "layout": "IPY_MODEL_194ccbb3040841cd8ff55d8a28bf279a"
      }
     },
     "900202f09ec245c3b9bafacd67a6b348": {
      "model_module": "@jupyter-widgets/controls",
      "model_module_version": "1.5.0",
      "model_name": "ButtonStyleModel",
      "state": {}
     },
     "900c6395539b408d960ee9bfbb1ee872": {
      "model_module": "@jupyter-widgets/base",
      "model_module_version": "1.2.0",
      "model_name": "LayoutModel",
      "state": {}
     },
     "90350b430ab14fc6af57ef0e203f1880": {
      "model_module": "@jupyter-widgets/controls",
      "model_module_version": "1.5.0",
      "model_name": "HBoxModel",
      "state": {
       "children": [
        "IPY_MODEL_4c9838aebd1f4c9aa55e48c440bc1156",
        "IPY_MODEL_6ce1465c146e4831b6df07a225e1d1e3"
       ],
       "layout": "IPY_MODEL_8d8faab259af493788a2d0c41082585e"
      }
     },
     "906c82b53d924152a0e936622cf5cdb4": {
      "model_module": "@jupyter-widgets/controls",
      "model_module_version": "1.5.0",
      "model_name": "DescriptionStyleModel",
      "state": {
       "description_width": ""
      }
     },
     "907a0944433f451cb27e01263bbdde34": {
      "model_module": "@jupyter-widgets/controls",
      "model_module_version": "1.5.0",
      "model_name": "ButtonStyleModel",
      "state": {}
     },
     "915773fd75244412bc54a7525b48d2fe": {
      "model_module": "@jupyter-widgets/controls",
      "model_module_version": "1.5.0",
      "model_name": "ButtonModel",
      "state": {
       "description": "Choose",
       "layout": "IPY_MODEL_16c0670c2e7748c0b380f97f3594eab0",
       "style": "IPY_MODEL_18707db96486431aab6ca6f3dfc63f02"
      }
     },
     "91a04e625036430a8dac981cf096f8eb": {
      "model_module": "@jupyter-widgets/controls",
      "model_module_version": "1.5.0",
      "model_name": "DescriptionStyleModel",
      "state": {
       "description_width": ""
      }
     },
     "91c1dc8f2d5f4c4a8719dce852820b54": {
      "model_module": "@jupyter-widgets/controls",
      "model_module_version": "1.5.0",
      "model_name": "ButtonStyleModel",
      "state": {}
     },
     "9273fc6e556040cfbc3a9424d4b1a989": {
      "model_module": "@jupyter-widgets/base",
      "model_module_version": "1.2.0",
      "model_name": "LayoutModel",
      "state": {}
     },
     "927e3f3aaafd487799cc7f626d8f32fa": {
      "model_module": "@jupyter-widgets/base",
      "model_module_version": "1.2.0",
      "model_name": "LayoutModel",
      "state": {}
     },
     "92b458230a9e4553a1e5b074bd8925b7": {
      "model_module": "@jupyter-widgets/base",
      "model_module_version": "1.2.0",
      "model_name": "LayoutModel",
      "state": {}
     },
     "9309a0237408469fb2c725848ca02908": {
      "model_module": "@jupyter-widgets/base",
      "model_module_version": "1.2.0",
      "model_name": "LayoutModel",
      "state": {}
     },
     "9427bcc39b8745bd8b9d55b202e436b0": {
      "model_module": "@jupyter-widgets/controls",
      "model_module_version": "1.5.0",
      "model_name": "ButtonStyleModel",
      "state": {}
     },
     "947fbb2749b34026b328e1d0ef26ac94": {
      "model_module": "@jupyter-widgets/controls",
      "model_module_version": "1.5.0",
      "model_name": "ButtonStyleModel",
      "state": {}
     },
     "94b75104571d4fda8e0dcc7a938aa0ea": {
      "model_module": "@jupyter-widgets/controls",
      "model_module_version": "1.5.0",
      "model_name": "VBoxModel",
      "state": {
       "children": [
        "IPY_MODEL_66c25f6f7a53495792ca1197879c4abc",
        "IPY_MODEL_e390273306f44ccbad6a375b97c9632a",
        "IPY_MODEL_c60b24a2445948679d3c2b43d6d3f0c2",
        "IPY_MODEL_797766fc63524526b034137bb664995a",
        "IPY_MODEL_9b4504348ed54594b5999eb366b665da",
        "IPY_MODEL_31b20a169962499493fa58422cdebc81",
        "IPY_MODEL_d1305a94233d4aa9bc85217f8d3f26f2",
        "IPY_MODEL_a8e62c6dddca420085029aaa6c575b6d",
        "IPY_MODEL_c316ff2f8f6d41e2bbb8b997f7ed6fdd",
        "IPY_MODEL_1048aa96e055492aa7a10270ecc854b4",
        "IPY_MODEL_ca4324c9b946467bb065fcf30b63c4a8",
        "IPY_MODEL_dac5a7668e4f46eb95baed07d1413240",
        "IPY_MODEL_9f30517b35ed42aa981624fd67c40398",
        "IPY_MODEL_8593238c9750457eb46075a0c1dbfe18",
        "IPY_MODEL_c37e4e8bbe6248538598376dc29109e7",
        "IPY_MODEL_ae42bc3cc3794d0da9e625b85b492b43",
        "IPY_MODEL_8468547b2c4c48b9be5a435a0614dfa5",
        "IPY_MODEL_b04c6bfcd63f47e8be521b2ead93cc8d",
        "IPY_MODEL_6a6a0dd231634aaf8baee57d27da8cfc",
        "IPY_MODEL_3e5d06712dee41b7b1f822007e1d7911",
        "IPY_MODEL_b3b4768a66ac44a48ed9f6a971568072",
        "IPY_MODEL_d5b41c78d5ea4f7496d4f73d0db69203",
        "IPY_MODEL_29994229504f4bd9994f315657e7ce4a",
        "IPY_MODEL_b6f30426d87346c6bd0755035c88f209",
        "IPY_MODEL_a0859f2becf1462e8dbddf10ad702862",
        "IPY_MODEL_cd9f1b5b0b4141d3a82b964a7e865ad7",
        "IPY_MODEL_647d18e2240040f2ad8946b85e26d4f0",
        "IPY_MODEL_1a6491e98d204856abac33a68fbea640",
        "IPY_MODEL_da013e9dbece47c9a1f54e8012686c5d",
        "IPY_MODEL_1d882797d8d746f68f2bbf710044d316",
        "IPY_MODEL_cebd5f9a6423496699a455330aa032dd",
        "IPY_MODEL_70ef6c3708384a90ac929263332cbb4c",
        "IPY_MODEL_3937d92eda4f45dc8b6fac86fd7111c6",
        "IPY_MODEL_c9fc8c323af44ea99d42f99c8251f295",
        "IPY_MODEL_c4f8b72d18be4581a5699f96a86f9e3a",
        "IPY_MODEL_ad0c5b9788504f9197609a945dbe92e9",
        "IPY_MODEL_601e60a8ba5148b48268f9713c1a6cca",
        "IPY_MODEL_216b26df696346c190638e2ed7423c6f",
        "IPY_MODEL_de1e6ff142ef4e1e82921083f74904fe",
        "IPY_MODEL_6d2c72bf4a7749a79a84af0079fdc366"
       ],
       "layout": "IPY_MODEL_785be5044f3548559ca56175a4867b22"
      }
     },
     "94d3d69236cc401c9d75989d5c8f5197": {
      "model_module": "@jupyter-widgets/controls",
      "model_module_version": "1.5.0",
      "model_name": "ButtonStyleModel",
      "state": {}
     },
     "94d65713791f439da85c6407244b22aa": {
      "model_module": "@jupyter-widgets/controls",
      "model_module_version": "1.5.0",
      "model_name": "ButtonStyleModel",
      "state": {}
     },
     "9527127da05d477a94b6c4bce8d5701e": {
      "model_module": "@jupyter-widgets/controls",
      "model_module_version": "1.5.0",
      "model_name": "ButtonModel",
      "state": {
       "description": "Add",
       "layout": "IPY_MODEL_f2ffded9e4974849be144a36c0c8fa81",
       "style": "IPY_MODEL_7399316f32434da4914b787cad29eb65"
      }
     },
     "953855a28fa640ba89589d3a4c2ad91f": {
      "model_module": "@jupyter-widgets/base",
      "model_module_version": "1.2.0",
      "model_name": "LayoutModel",
      "state": {}
     },
     "9554b2a35d914a1ea4a54bc0d6d331dc": {
      "model_module": "@jupyter-widgets/controls",
      "model_module_version": "1.5.0",
      "model_name": "ButtonStyleModel",
      "state": {}
     },
     "960daf96120c47e8a8f2b662f4009ad7": {
      "model_module": "@jupyter-widgets/base",
      "model_module_version": "1.2.0",
      "model_name": "LayoutModel",
      "state": {}
     },
     "963de3ef62264894aa94752c3c8e72dd": {
      "model_module": "@jupyter-widgets/controls",
      "model_module_version": "1.5.0",
      "model_name": "ButtonStyleModel",
      "state": {}
     },
     "964c33ccae304906975da71d18d7f936": {
      "model_module": "@jupyter-widgets/controls",
      "model_module_version": "1.5.0",
      "model_name": "ButtonStyleModel",
      "state": {}
     },
     "968cd3ab4cf74afc9a422d8689c6efdd": {
      "model_module": "@jupyter-widgets/controls",
      "model_module_version": "1.5.0",
      "model_name": "DescriptionStyleModel",
      "state": {
       "description_width": ""
      }
     },
     "9740c395f7e648a2ae891ef2538537e3": {
      "model_module": "@jupyter-widgets/controls",
      "model_module_version": "1.5.0",
      "model_name": "VBoxModel",
      "state": {
       "children": [
        "IPY_MODEL_cd5c8b2e79e34b0ab79f766fe78fafa0",
        "IPY_MODEL_c76c9cfc39414121b17a95ed20019d8a",
        "IPY_MODEL_89db8304d80048c19e00785d6a20b920",
        "IPY_MODEL_adb5236ec8ab48f385b7061b5ad7f65d",
        "IPY_MODEL_fd27108a6e1648a3b23c32c855c19c63",
        "IPY_MODEL_d31afa8701254770a84d527ff6c90c2e",
        "IPY_MODEL_214cee864d0340cc9533313fee007907",
        "IPY_MODEL_817476a5865c42faa91cdf565bb72fe2",
        "IPY_MODEL_fbe767268e344226b28add0943e9c2bc"
       ],
       "layout": "IPY_MODEL_bc941f376b8641828017a471dca21da5"
      }
     },
     "97a46b77088f476c834fe62640cbf0eb": {
      "model_module": "@jupyter-widgets/base",
      "model_module_version": "1.2.0",
      "model_name": "LayoutModel",
      "state": {}
     },
     "9804220bea50428ea08baf412b2f1b51": {
      "model_module": "@jupyter-widgets/controls",
      "model_module_version": "1.5.0",
      "model_name": "ButtonStyleModel",
      "state": {}
     },
     "98173324b7e44cc38a5ff440b51400f0": {
      "model_module": "@jupyter-widgets/controls",
      "model_module_version": "1.5.0",
      "model_name": "TextModel",
      "state": {
       "layout": "IPY_MODEL_558624bf45fd45f4acf26f86d9ca7ba2",
       "style": "IPY_MODEL_d0c313ffd9ac438d93dd0376c37ecb9c"
      }
     },
     "985495614bf343788ed913c8f7949213": {
      "model_module": "@jupyter-widgets/controls",
      "model_module_version": "1.5.0",
      "model_name": "VBoxModel",
      "state": {
       "children": [
        "IPY_MODEL_4cbfc160f5be4617b993455344d03744",
        "IPY_MODEL_672ab5ef13f948c083ef4e6948e5dde4"
       ],
       "layout": "IPY_MODEL_21168c3c48c14fd69280e9d85578076b"
      }
     },
     "98564cb65a4d48fbbbd88773b418e26e": {
      "model_module": "@jupyter-widgets/controls",
      "model_module_version": "1.5.0",
      "model_name": "DescriptionStyleModel",
      "state": {
       "description_width": ""
      }
     },
     "988b2797b5344bac8efd3a0b1fd51921": {
      "model_module": "@jupyter-widgets/base",
      "model_module_version": "1.2.0",
      "model_name": "LayoutModel",
      "state": {}
     },
     "98cc921404664c10a002ff34acc9c1ae": {
      "model_module": "@jupyter-widgets/controls",
      "model_module_version": "1.5.0",
      "model_name": "DescriptionStyleModel",
      "state": {
       "description_width": ""
      }
     },
     "990a681c67f84e0ab717fa941a56a048": {
      "model_module": "@jupyter-widgets/controls",
      "model_module_version": "1.5.0",
      "model_name": "HBoxModel",
      "state": {
       "layout": "IPY_MODEL_6a40cb325d8c4074b6959cb35a413832"
      }
     },
     "992600e673534811b6e6ec8ee6145a3f": {
      "model_module": "@jupyter-widgets/base",
      "model_module_version": "1.2.0",
      "model_name": "LayoutModel",
      "state": {}
     },
     "9945b28718b94d47979a3b32b8165d5c": {
      "model_module": "@jupyter-widgets/controls",
      "model_module_version": "1.5.0",
      "model_name": "ButtonModel",
      "state": {
       "description": "60.0 Refinery using Packaged Water",
       "layout": "IPY_MODEL_eed224ba7e984f4fa454628e803374bc",
       "style": "IPY_MODEL_739756651ae842649a3b909ee4168f24"
      }
     },
     "998fa85665bf42d0bfec1019a469e5cd": {
      "model_module": "@jupyter-widgets/controls",
      "model_module_version": "1.5.0",
      "model_name": "ButtonModel",
      "state": {
       "description": "0.0 Empty Canister: 2400.0 of 2400.0",
       "layout": "IPY_MODEL_50c8605a220a41f9854478362a8e13c8",
       "style": "IPY_MODEL_e705a743f80947d8b18dd59f6a4905f5"
      }
     },
     "9991ca7421da4b8698fd3cd42d9ae9e2": {
      "model_module": "@jupyter-widgets/controls",
      "model_module_version": "1.5.0",
      "model_name": "ButtonModel",
      "state": {
       "description": "0.0 Plastic: 1.25 of 1.25",
       "layout": "IPY_MODEL_718465d2c182451480d43bbcaadabb6b",
       "style": "IPY_MODEL_0c3f0df764854e9fa71dc9483c7bb03e"
      }
     },
     "99c5f8cee0cd44749d69fee41c09c6c9": {
      "model_module": "@jupyter-widgets/controls",
      "model_module_version": "1.5.0",
      "model_name": "ButtonModel",
      "state": {
       "description": "60.0 Refinery using Alternate: Diluted Packaged Fuel",
       "layout": "IPY_MODEL_eed224ba7e984f4fa454628e803374bc",
       "style": "IPY_MODEL_1803747ddbfa4571ad8636f36f32a681"
      }
     },
     "9a08e34893184ddbb2e41a869ddb0160": {
      "model_module": "@jupyter-widgets/controls",
      "model_module_version": "1.5.0",
      "model_name": "ButtonStyleModel",
      "state": {}
     },
     "9a6d3bcc3a194bf083c2ba2ef7dbcc99": {
      "model_module": "@jupyter-widgets/controls",
      "model_module_version": "1.5.0",
      "model_name": "SelectModel",
      "state": {
       "index": null,
       "layout": "IPY_MODEL_64775170732f4707993fd06ea03f19ca",
       "style": "IPY_MODEL_807dcd51b98f47e3b111071b30610274"
      }
     },
     "9a79c2a08eaf4ef2a10d75128acc02f9": {
      "model_module": "@jupyter-widgets/base",
      "model_module_version": "1.2.0",
      "model_name": "LayoutModel",
      "state": {}
     },
     "9a942df45671479ba366c79f7bb9804a": {
      "model_module": "@jupyter-widgets/base",
      "model_module_version": "1.2.0",
      "model_name": "LayoutModel",
      "state": {}
     },
     "9b168c3ec1944e8e96bf1dd851232335": {
      "model_module": "@jupyter-widgets/controls",
      "model_module_version": "1.5.0",
      "model_name": "ButtonStyleModel",
      "state": {}
     },
     "9b4504348ed54594b5999eb366b665da": {
      "model_module": "@jupyter-widgets/controls",
      "model_module_version": "1.5.0",
      "model_name": "ButtonModel",
      "state": {
       "description": "2.65 Manufacturer using Alternate: Radio Control System",
       "layout": "IPY_MODEL_abd371dcae6144668a5205d1e1dc669d",
       "style": "IPY_MODEL_45ba3d9e179945fda5e7b4891e6d7428"
      }
     },
     "9b4f4addf1b5490b964a05f51576048e": {
      "model_module": "@jupyter-widgets/base",
      "model_module_version": "1.2.0",
      "model_name": "LayoutModel",
      "state": {}
     },
     "9bb19c3a0fd64a8abb4ec5f4492f3a6f": {
      "model_module": "@jupyter-widgets/base",
      "model_module_version": "1.2.0",
      "model_name": "LayoutModel",
      "state": {}
     },
     "9be0049f4b864d92adc9a32c2edd94f3": {
      "model_module": "@jupyter-widgets/controls",
      "model_module_version": "1.5.0",
      "model_name": "DescriptionStyleModel",
      "state": {
       "description_width": ""
      }
     },
     "9be03457cdc24d4ba1e0e079c2776317": {
      "model_module": "@jupyter-widgets/controls",
      "model_module_version": "1.5.0",
      "model_name": "ButtonStyleModel",
      "state": {}
     },
     "9c9664297eae40b4900b539e7e8571c7": {
      "model_module": "@jupyter-widgets/base",
      "model_module_version": "1.2.0",
      "model_name": "LayoutModel",
      "state": {}
     },
     "9cbcb312f47e43c9863cb8902c117092": {
      "model_module": "@jupyter-widgets/controls",
      "model_module_version": "1.5.0",
      "model_name": "ButtonModel",
      "state": {
       "description": "Produce with recipe",
       "layout": "IPY_MODEL_11ac664f7dbc441c8d7f25f9cc481f3f",
       "style": "IPY_MODEL_5f6f19ab0699469fa9847733f10d57c0"
      }
     },
     "9cbddd6ab7474c119d2a308cf0a4fe4d": {
      "model_module": "@jupyter-widgets/controls",
      "model_module_version": "1.5.0",
      "model_name": "FloatTextModel",
      "state": {
       "layout": "IPY_MODEL_19172076913a436dadbbb3ecc5f882e4",
       "step": null,
       "style": "IPY_MODEL_1966b4bc94b54189b6bbcd7f57c45501"
      }
     },
     "9cf28fd5c2d04b46a0469c450903a003": {
      "model_module": "@jupyter-widgets/controls",
      "model_module_version": "1.5.0",
      "model_name": "DescriptionStyleModel",
      "state": {
       "description_width": ""
      }
     },
     "9d1d974b4c6f443c8b95f3e38751dcd4": {
      "model_module": "@jupyter-widgets/controls",
      "model_module_version": "1.5.0",
      "model_name": "LabelModel",
      "state": {
       "layout": "IPY_MODEL_f95c6a7891774e95a58af9943cb3bf7f",
       "style": "IPY_MODEL_4580a65009be41b1b1161002f5eceae1",
       "value": "logs"
      }
     },
     "9d4b3d8ba4ff4702b21b909507c13608": {
      "model_module": "@jupyter-widgets/controls",
      "model_module_version": "1.5.0",
      "model_name": "DescriptionStyleModel",
      "state": {
       "description_width": ""
      }
     },
     "9d53d6cebc9e462488c15fb2ff912993": {
      "model_module": "@jupyter-widgets/base",
      "model_module_version": "1.2.0",
      "model_name": "LayoutModel",
      "state": {}
     },
     "9dea2f5276b144edb8511b49ac1f76c6": {
      "model_module": "@jupyter-widgets/controls",
      "model_module_version": "1.5.0",
      "model_name": "ButtonModel",
      "state": {
       "description": "Choose",
       "layout": "IPY_MODEL_1850012d4e674b32a935d2d9cee966fb",
       "style": "IPY_MODEL_f7913685a8be45e5a84fc26f25b468ed"
      }
     },
     "9e034ac581be4ad4a32b7e6573594c06": {
      "model_module": "@jupyter-widgets/base",
      "model_module_version": "1.2.0",
      "model_name": "LayoutModel",
      "state": {}
     },
     "9f00e6c66662499588292d8bf8eb9e07": {
      "model_module": "@jupyter-widgets/controls",
      "model_module_version": "1.5.0",
      "model_name": "ButtonStyleModel",
      "state": {}
     },
     "9f1ee305bb70400b8e33debc8018242f": {
      "model_module": "@jupyter-widgets/controls",
      "model_module_version": "1.5.0",
      "model_name": "DescriptionStyleModel",
      "state": {
       "description_width": ""
      }
     },
     "9f30517b35ed42aa981624fd67c40398": {
      "model_module": "@jupyter-widgets/controls",
      "model_module_version": "1.5.0",
      "model_name": "ButtonModel",
      "state": {
       "description": "33.9 Assembler using Circuit Board",
       "layout": "IPY_MODEL_abd371dcae6144668a5205d1e1dc669d",
       "style": "IPY_MODEL_0fa0094a44af40e09a871974692f1522"
      }
     },
     "9f7f21e017534f9eacc0257b52273f0f": {
      "model_module": "@jupyter-widgets/base",
      "model_module_version": "1.2.0",
      "model_name": "LayoutModel",
      "state": {}
     },
     "9f808b45fdea44289d2b27e491188467": {
      "model_module": "@jupyter-widgets/controls",
      "model_module_version": "1.5.0",
      "model_name": "SelectModel",
      "state": {
       "index": null,
       "layout": "IPY_MODEL_64500c0bb6d140449c5fc1cbe64a1d1b",
       "style": "IPY_MODEL_71f05ad3bfb94fbe8e1a95a6945c344a"
      }
     },
     "9fa9d126ea134e8a8ee877641fe643e2": {
      "model_module": "@jupyter-widgets/base",
      "model_module_version": "1.2.0",
      "model_name": "LayoutModel",
      "state": {}
     },
     "a013cd7b55d946c79aa19c68334553e5": {
      "model_module": "@jupyter-widgets/base",
      "model_module_version": "1.2.0",
      "model_name": "LayoutModel",
      "state": {}
     },
     "a027d6fbf40d468f8e620e61aecd34e4": {
      "model_module": "@jupyter-widgets/controls",
      "model_module_version": "1.5.0",
      "model_name": "LabelModel",
      "state": {
       "layout": "IPY_MODEL_41050b0a146b4ef7be250139939c0647",
       "style": "IPY_MODEL_83838d46e10747348425d4825d56a79d",
       "value": "Recipes"
      }
     },
     "a0859f2becf1462e8dbddf10ad702862": {
      "model_module": "@jupyter-widgets/controls",
      "model_module_version": "1.5.0",
      "model_name": "ButtonModel",
      "state": {
       "description": "60.88 Assembler using Alternate: Cheap Silica",
       "layout": "IPY_MODEL_abd371dcae6144668a5205d1e1dc669d",
       "style": "IPY_MODEL_7f3319de5f6f4dcd93aa8222f13a3771"
      }
     },
     "a0a43d9eba9c4c8c89b837576de5fbb1": {
      "model_module": "@jupyter-widgets/controls",
      "model_module_version": "1.5.0",
      "model_name": "FloatTextModel",
      "state": {
       "description": "quantity",
       "layout": "IPY_MODEL_b665a69e4a5e4699a19605802622d823",
       "step": null,
       "style": "IPY_MODEL_9be0049f4b864d92adc9a32c2edd94f3"
      }
     },
     "a19150bde391482bbb1bf49a4280dd39": {
      "model_module": "@jupyter-widgets/controls",
      "model_module_version": "1.5.0",
      "model_name": "ButtonModel",
      "state": {
       "description": "3.17 Constructor using Alternate: Iron Wire",
       "layout": "IPY_MODEL_718465d2c182451480d43bbcaadabb6b",
       "style": "IPY_MODEL_1950af35a8724a959d5d89e5ce7861e9"
      }
     },
     "a1a8f0ca88b04090b34932efdd8f2794": {
      "model_module": "@jupyter-widgets/controls",
      "model_module_version": "1.5.0",
      "model_name": "ButtonModel",
      "state": {
       "description": "60.0 Refinery using Unpackage Fuel",
       "layout": "IPY_MODEL_eed224ba7e984f4fa454628e803374bc",
       "style": "IPY_MODEL_f3e9ca85513442108238c7f99facc9af"
      }
     },
     "a1acec9fa930409282c2bb5240c1c4aa": {
      "model_module": "@jupyter-widgets/controls",
      "model_module_version": "1.5.0",
      "model_name": "LabelModel",
      "state": {
       "layout": "IPY_MODEL_9b4f4addf1b5490b964a05f51576048e",
       "style": "IPY_MODEL_9cf28fd5c2d04b46a0469c450903a003",
       "value": "Recipe used"
      }
     },
     "a223afe109a8416983c68d592ee1350a": {
      "model_module": "@jupyter-widgets/controls",
      "model_module_version": "1.5.0",
      "model_name": "VBoxModel",
      "state": {
       "children": [
        "IPY_MODEL_d95053d3a3184eafb91ae43b745c21a3",
        "IPY_MODEL_083da23c78664a3aa5ead6dac945af4d",
        "IPY_MODEL_29e574b134a24fa89f9f005b3fdde3cd",
        "IPY_MODEL_85efdb95c4564314aff2c47b48b993a8",
        "IPY_MODEL_7dea337d7a5540199a6c61a5bc9bf037",
        "IPY_MODEL_538db067d85649279b62cfbcfe9b43c3",
        "IPY_MODEL_fb1afff89de645aba15f1a10721efea1",
        "IPY_MODEL_15642f38d53f4befadac937f550cf26f",
        "IPY_MODEL_b7f2c738d95d404c849212af1320e006"
       ],
       "layout": "IPY_MODEL_927e3f3aaafd487799cc7f626d8f32fa"
      }
     },
     "a2a587bbad5f4796879a6830783a1b77": {
      "model_module": "@jupyter-widgets/controls",
      "model_module_version": "1.5.0",
      "model_name": "VBoxModel",
      "state": {
       "children": [
        "IPY_MODEL_dd97e10b64c040029414fe1c684fd2ed",
        "IPY_MODEL_5a7874ce43ef4b52ac77eb36a21a27ab"
       ],
       "layout": "IPY_MODEL_d8cc775b875541d78f25f559cb23e099"
      }
     },
     "a2eedd7545ca4a038808a46c5e63a98f": {
      "model_module": "@jupyter-widgets/controls",
      "model_module_version": "1.5.0",
      "model_name": "DescriptionStyleModel",
      "state": {
       "description_width": ""
      }
     },
     "a2f7fc3ba3cb462b91ef8fdfca69fb93": {
      "model_module": "@jupyter-widgets/controls",
      "model_module_version": "1.5.0",
      "model_name": "ButtonModel",
      "state": {
       "description": "Consume with recipe",
       "layout": "IPY_MODEL_b6a53e13647249b8b3a9bea161f7faa1",
       "style": "IPY_MODEL_18dc93004bc2471daa94617a14c8fe0c"
      }
     },
     "a2fc47eb5c8b44f088f5be5908bafb1e": {
      "model_module": "@jupyter-widgets/controls",
      "model_module_version": "1.5.0",
      "model_name": "ButtonStyleModel",
      "state": {}
     },
     "a33fd181f86e4169aa4427f6fd063275": {
      "model_module": "@jupyter-widgets/controls",
      "model_module_version": "1.5.0",
      "model_name": "ButtonModel",
      "state": {
       "description": "0.06999999999993634 Raw Quartz: 1199.93 of 1200.0",
       "layout": "IPY_MODEL_abd371dcae6144668a5205d1e1dc669d",
       "style": "IPY_MODEL_1ab616d487f34ddd8747f73c7ab6f0b6"
      }
     },
     "a3899b315f1c4acfbd936d32c13f1a8a": {
      "model_module": "@jupyter-widgets/controls",
      "model_module_version": "1.5.0",
      "model_name": "ButtonStyleModel",
      "state": {}
     },
     "a3b12853f36645f78b7ea9ff646895ff": {
      "model_module": "@jupyter-widgets/controls",
      "model_module_version": "1.5.0",
      "model_name": "DescriptionStyleModel",
      "state": {
       "description_width": ""
      }
     },
     "a488c6e6dc0b4eb0b2b360ce9a05dd7e": {
      "model_module": "@jupyter-widgets/controls",
      "model_module_version": "1.5.0",
      "model_name": "DescriptionStyleModel",
      "state": {
       "description_width": ""
      }
     },
     "a49eaedb768d4546a0e1db8dbeb358db": {
      "model_module": "@jupyter-widgets/controls",
      "model_module_version": "1.5.0",
      "model_name": "ButtonStyleModel",
      "state": {}
     },
     "a4c9e746b8ec4baf8d93d40c9d230108": {
      "model_module": "@jupyter-widgets/controls",
      "model_module_version": "1.5.0",
      "model_name": "ButtonStyleModel",
      "state": {}
     },
     "a4dbaf77514e45a6bde98ef2aa9d8fe9": {
      "model_module": "@jupyter-widgets/controls",
      "model_module_version": "1.5.0",
      "model_name": "ButtonStyleModel",
      "state": {}
     },
     "a4de811a99704d5baa2e176fccd9abf6": {
      "model_module": "@jupyter-widgets/controls",
      "model_module_version": "1.5.0",
      "model_name": "HBoxModel",
      "state": {
       "children": [
        "IPY_MODEL_bee6de5f58e84b33b0f2721cba9daef3",
        "IPY_MODEL_f24bc4a7312a4e34addc748754ac1962"
       ],
       "layout": "IPY_MODEL_4bfff5d53d31422290e499ea0b39d42c"
      }
     },
     "a50f4bbfbb55471c86137e30824dbcb0": {
      "model_module": "@jupyter-widgets/base",
      "model_module_version": "1.2.0",
      "model_name": "LayoutModel",
      "state": {}
     },
     "a62941130981481b9ad82c6c69b48717": {
      "model_module": "@jupyter-widgets/base",
      "model_module_version": "1.2.0",
      "model_name": "LayoutModel",
      "state": {}
     },
     "a629c834d1f7437a973711ddaa7a9257": {
      "model_module": "@jupyter-widgets/controls",
      "model_module_version": "1.5.0",
      "model_name": "DescriptionStyleModel",
      "state": {
       "description_width": ""
      }
     },
     "a63598674f3a4b788184c26c314aef15": {
      "model_module": "@jupyter-widgets/controls",
      "model_module_version": "1.5.0",
      "model_name": "VBoxModel",
      "state": {
       "children": [
        "IPY_MODEL_122621d573c0482abd59563bc0899b64",
        "IPY_MODEL_f8048f5f511c419c9af614a04e36e92c"
       ],
       "layout": "IPY_MODEL_19e812a249024f75ae842a9d8e208ec3"
      }
     },
     "a6905fa2566c48ca923522d3e40fa065": {
      "model_module": "@jupyter-widgets/controls",
      "model_module_version": "1.5.0",
      "model_name": "LabelModel",
      "state": {
       "layout": "IPY_MODEL_5f2a71f150dd44f48d893059bdc06e6d",
       "style": "IPY_MODEL_50ec18e92025439f9f69f4e41636f69b",
       "value": "Items"
      }
     },
     "a6bb9a8b0b824d91919116cbd0f944c6": {
      "model_module": "@jupyter-widgets/controls",
      "model_module_version": "1.5.0",
      "model_name": "DescriptionStyleModel",
      "state": {
       "description_width": ""
      }
     },
     "a6c8a009571a4a38951d16daa1b8e96c": {
      "model_module": "@jupyter-widgets/controls",
      "model_module_version": "1.5.0",
      "model_name": "DescriptionStyleModel",
      "state": {
       "description_width": ""
      }
     },
     "a70a11c6803d4ab1acf2e7cfef7107e8": {
      "model_module": "@jupyter-widgets/base",
      "model_module_version": "1.2.0",
      "model_name": "LayoutModel",
      "state": {}
     },
     "a749cc612f1947d09726cde9a0d793b8": {
      "model_module": "@jupyter-widgets/controls",
      "model_module_version": "1.5.0",
      "model_name": "LabelModel",
      "state": {
       "layout": "IPY_MODEL_d64e1e62c9a94a07af26e37b9d43b83f",
       "style": "IPY_MODEL_6913e29779db47cc9a628ac9cd68b40f",
       "value": "Items"
      }
     },
     "a7a0ab028a2847d4bdb6d2805de0f736": {
      "model_module": "@jupyter-widgets/output",
      "model_module_version": "1.0.0",
      "model_name": "OutputModel",
      "state": {
       "layout": "IPY_MODEL_f49e45c8a40c44e78846c7c9b5fc1e8f"
      }
     },
     "a7e356795f134bf5b3a313653da9b10e": {
      "model_module": "@jupyter-widgets/base",
      "model_module_version": "1.2.0",
      "model_name": "LayoutModel",
      "state": {}
     },
     "a88ed05f9b484b60abb176414c7d8cdd": {
      "model_module": "@jupyter-widgets/controls",
      "model_module_version": "1.5.0",
      "model_name": "HBoxModel",
      "state": {
       "children": [
        "IPY_MODEL_a8b5571f22c94eec85a9517877c950c2",
        "IPY_MODEL_11ff290f15714fa7acbd3c1ad4c5cd09",
        "IPY_MODEL_64af66e1f39c43d799751d4edd8d4562",
        "IPY_MODEL_840054ccf28e4537aa739d049ef8375e",
        "IPY_MODEL_652c86b6919e45beaad6be281bbe05db",
        "IPY_MODEL_d87a0afb120b4097b01240e61acbea89"
       ],
       "layout": "IPY_MODEL_f973d4a69e9e404eaa0c1cd60e5ab08d"
      }
     },
     "a8b5571f22c94eec85a9517877c950c2": {
      "model_module": "@jupyter-widgets/controls",
      "model_module_version": "1.5.0",
      "model_name": "FloatTextModel",
      "state": {
       "description": "quantity",
       "layout": "IPY_MODEL_1073e66001c340e68e83d89fbecd7345",
       "step": null,
       "style": "IPY_MODEL_eb6d1946c6e347398e8ca80273da13e1"
      }
     },
     "a8bc25cc78fc430181e27d8b074349b3": {
      "model_module": "@jupyter-widgets/controls",
      "model_module_version": "1.5.0",
      "model_name": "VBoxModel",
      "state": {
       "children": [
        "IPY_MODEL_fcae4c01c4cf4894955b1ca118e9f932",
        "IPY_MODEL_afd107bbb385429eb8d2b5dadc25db57",
        "IPY_MODEL_cecb1bf8dc494634928aa2ffc56c8198",
        "IPY_MODEL_49de26b43ac84bf7a2755fd811796bc9",
        "IPY_MODEL_5765bedad07f4bddb6d8033350e1bfed",
        "IPY_MODEL_76f5fbb3f10140bc8e769b438fc1d439"
       ],
       "layout": "IPY_MODEL_10e72f6b8de0415ebf7c0f4b4494d421"
      }
     },
     "a8e62c6dddca420085029aaa6c575b6d": {
      "model_module": "@jupyter-widgets/controls",
      "model_module_version": "1.5.0",
      "model_name": "ButtonModel",
      "state": {
       "description": "10.83 Manufacturer using Supercomputer",
       "layout": "IPY_MODEL_abd371dcae6144668a5205d1e1dc669d",
       "style": "IPY_MODEL_9f00e6c66662499588292d8bf8eb9e07"
      }
     },
     "a8f5a97b62ee4cd9b23d61aad0c088d3": {
      "model_module": "@jupyter-widgets/controls",
      "model_module_version": "1.5.0",
      "model_name": "DescriptionStyleModel",
      "state": {
       "description_width": ""
      }
     },
     "a937152729194191a743f3e04ef141ef": {
      "model_module": "@jupyter-widgets/base",
      "model_module_version": "1.2.0",
      "model_name": "LayoutModel",
      "state": {}
     },
     "a94010fe4e1b44c384c10f0e00376f69": {
      "model_module": "@jupyter-widgets/controls",
      "model_module_version": "1.5.0",
      "model_name": "ButtonModel",
      "state": {
       "description": "0.09999999999990905 Rubber: 2053.3 of 2053.4",
       "layout": "IPY_MODEL_abd371dcae6144668a5205d1e1dc669d",
       "style": "IPY_MODEL_8ef893da738043d393ac525e6198c531"
      }
     },
     "a98f278f5cd940c685b1a0e77b9affa7": {
      "model_module": "@jupyter-widgets/controls",
      "model_module_version": "1.5.0",
      "model_name": "ButtonModel",
      "state": {
       "description": "0.08 Constructor using Alternate: Steel Rod",
       "layout": "IPY_MODEL_718465d2c182451480d43bbcaadabb6b",
       "style": "IPY_MODEL_fbe24d1930a1456facbf561ceae2e73c"
      }
     },
     "a999b5ab67cf457ab62379533890da5f": {
      "model_module": "@jupyter-widgets/controls",
      "model_module_version": "1.5.0",
      "model_name": "SelectModel",
      "state": {
       "index": null,
       "layout": "IPY_MODEL_637ef13f6b91420b9424f808a627bd88",
       "style": "IPY_MODEL_2c6896db891744e9962da4f614b3d8fb"
      }
     },
     "a9b2fb31fa794a7bb93bf5aee23d4ba5": {
      "model_module": "@jupyter-widgets/controls",
      "model_module_version": "1.5.0",
      "model_name": "ButtonStyleModel",
      "state": {}
     },
     "aa4d6348520240bd87832090d521368d": {
      "model_module": "@jupyter-widgets/controls",
      "model_module_version": "1.5.0",
      "model_name": "ButtonModel",
      "state": {
       "description": "0.0 Fuel: 2400.0 of 2400.0",
       "layout": "IPY_MODEL_50c8605a220a41f9854478362a8e13c8",
       "style": "IPY_MODEL_d4bdaf62d37e45bfbcd00053343dff06"
      }
     },
     "aa7107cf787b402ead119aad8b8174a7": {
      "model_module": "@jupyter-widgets/base",
      "model_module_version": "1.2.0",
      "model_name": "LayoutModel",
      "state": {}
     },
     "aaa1c9c6aa1f4fa2a1d5906510273aa6": {
      "model_module": "@jupyter-widgets/base",
      "model_module_version": "1.2.0",
      "model_name": "LayoutModel",
      "state": {}
     },
     "aabe26dcbba1410d9383d09b0931d639": {
      "model_module": "@jupyter-widgets/controls",
      "model_module_version": "1.5.0",
      "model_name": "ButtonModel",
      "state": {
       "description": "0.0 Wire: 597.6 of 597.6",
       "layout": "IPY_MODEL_56eae548ea6e41abb16dd2b5c98cfdd1",
       "style": "IPY_MODEL_e3259a8909a142508795e07cfe363d85"
      }
     },
     "ab161727d3a1467b8cba1ec8f720e3fd": {
      "model_module": "@jupyter-widgets/base",
      "model_module_version": "1.2.0",
      "model_name": "LayoutModel",
      "state": {}
     },
     "ab1b944d766d4910b4cc8e086467a3fc": {
      "model_module": "@jupyter-widgets/output",
      "model_module_version": "1.0.0",
      "model_name": "OutputModel",
      "state": {
       "layout": "IPY_MODEL_f983e554fd7744e49a32ae0743f2cf97",
       "outputs": [
        {
         "name": "stdout",
         "output_type": "stream",
         "text": "recipes:\n"
        }
       ]
      }
     },
     "ab3bf01e4206488b84d89b99ef9ba63d": {
      "model_module": "@jupyter-widgets/controls",
      "model_module_version": "1.5.0",
      "model_name": "SelectModel",
      "state": {
       "index": null,
       "layout": "IPY_MODEL_382a04811f9941ea87235a477d07179a",
       "style": "IPY_MODEL_f188b6c4a51344729a281619c0cd506f"
      }
     },
     "ab6c7abbae014271abe348c10ed9fc27": {
      "model_module": "@jupyter-widgets/controls",
      "model_module_version": "1.5.0",
      "model_name": "ButtonModel",
      "state": {
       "description": "Choose",
       "layout": "IPY_MODEL_3763133ba54e4ac3a0e5d85ca2e69e5f",
       "style": "IPY_MODEL_1fe6a2ef42914512a05a2454e4da9f02"
      }
     },
     "abd371dcae6144668a5205d1e1dc669d": {
      "model_module": "@jupyter-widgets/base",
      "model_module_version": "1.2.0",
      "model_name": "LayoutModel",
      "state": {
       "align_items": "flex-start",
       "width": "80%"
      }
     },
     "ac6ff62254c341399d039e6340ed8673": {
      "model_module": "@jupyter-widgets/controls",
      "model_module_version": "1.5.0",
      "model_name": "HBoxModel",
      "state": {
       "children": [
        "IPY_MODEL_98173324b7e44cc38a5ff440b51400f0",
        "IPY_MODEL_434cfaa99887474d9f36f7e43103acb8"
       ],
       "layout": "IPY_MODEL_fc978ea7d3ee4e0f8ed0772c529fa881"
      }
     },
     "ac79f59f78384b6eaa85bd22aa138691": {
      "model_module": "@jupyter-widgets/controls",
      "model_module_version": "1.5.0",
      "model_name": "VBoxModel",
      "state": {
       "children": [
        "IPY_MODEL_358e874449cb42c89aa5ba641323ed57",
        "IPY_MODEL_19516d975ef447b29ffd935f8e4ff680"
       ],
       "layout": "IPY_MODEL_2d52669cab184bcc89a00a56857a678c"
      }
     },
     "ad0c5b9788504f9197609a945dbe92e9": {
      "model_module": "@jupyter-widgets/controls",
      "model_module_version": "1.5.0",
      "model_name": "ButtonModel",
      "state": {
       "description": "5 of 16.33 Refinery using Residual Rubber, reste 11.33",
       "layout": "IPY_MODEL_abd371dcae6144668a5205d1e1dc669d",
       "style": "IPY_MODEL_a9b2fb31fa794a7bb93bf5aee23d4ba5"
      }
     },
     "ad51fc7bcca5407a880e5f42fa30ceef": {
      "model_module": "@jupyter-widgets/base",
      "model_module_version": "1.2.0",
      "model_name": "LayoutModel",
      "state": {}
     },
     "ad8ff63d0ed345829fa83332ff489464": {
      "model_module": "@jupyter-widgets/controls",
      "model_module_version": "1.5.0",
      "model_name": "ButtonModel",
      "state": {
       "description": "18.0 Rifle Cartridge: +18.0",
       "layout": "IPY_MODEL_abd371dcae6144668a5205d1e1dc669d",
       "style": "IPY_MODEL_6764b6cc973a45cca378d6a654f2e245"
      }
     },
     "adb5236ec8ab48f385b7061b5ad7f65d": {
      "model_module": "@jupyter-widgets/controls",
      "model_module_version": "1.5.0",
      "model_name": "VBoxModel",
      "state": {
       "children": [
        "IPY_MODEL_3a60b261b92f44aa9690626381a0795d"
       ],
       "layout": "IPY_MODEL_63422a4f547c415abd670ef852518fbe"
      }
     },
     "adf806939dd54d24aec182b397d4181a": {
      "model_module": "@jupyter-widgets/controls",
      "model_module_version": "1.5.0",
      "model_name": "LabelModel",
      "state": {
       "layout": "IPY_MODEL_a7e356795f134bf5b3a313653da9b10e",
       "style": "IPY_MODEL_a6c8a009571a4a38951d16daa1b8e96c",
       "value": "Recipe used"
      }
     },
     "adfd24d054c3436681294747ff6202b2": {
      "model_module": "@jupyter-widgets/controls",
      "model_module_version": "1.5.0",
      "model_name": "ButtonModel",
      "state": {
       "description": "Add",
       "layout": "IPY_MODEL_0753583c6d8f405aa0544a8e4eccd1e1",
       "style": "IPY_MODEL_0f036ffacab9481aa8f1bedc2375cf69"
      }
     },
     "adffb5f4af3f4cfc8ccb674006bd0865": {
      "model_module": "@jupyter-widgets/base",
      "model_module_version": "1.2.0",
      "model_name": "LayoutModel",
      "state": {}
     },
     "ae42bc3cc3794d0da9e625b85b492b43": {
      "model_module": "@jupyter-widgets/controls",
      "model_module_version": "1.5.0",
      "model_name": "ButtonModel",
      "state": {
       "description": "0.25 of 3.35 Assembler using Alternate: Steel Coated Plate, reste 3.1",
       "layout": "IPY_MODEL_abd371dcae6144668a5205d1e1dc669d",
       "style": "IPY_MODEL_09f3a39ba4c84f91aeae7d47761eefde"
      }
     },
     "aeed9f043720491a8753d74c7bccdfd5": {
      "model_module": "@jupyter-widgets/controls",
      "model_module_version": "1.5.0",
      "model_name": "ButtonModel",
      "state": {
       "description": "0.0 Copper Ore: 1500.0 of 1500.0",
       "layout": "IPY_MODEL_abd371dcae6144668a5205d1e1dc669d",
       "style": "IPY_MODEL_374aa8514180418080821bb3ded9d038"
      }
     },
     "aef714a532d1424eb64b337543b815a5": {
      "model_module": "@jupyter-widgets/base",
      "model_module_version": "1.2.0",
      "model_name": "LayoutModel",
      "state": {}
     },
     "af4126ad3dc84dcd9b1b7d66c31725fa": {
      "model_module": "@jupyter-widgets/base",
      "model_module_version": "1.2.0",
      "model_name": "LayoutModel",
      "state": {}
     },
     "af41541020e24e6d913c26f3cb7282ab": {
      "model_module": "@jupyter-widgets/controls",
      "model_module_version": "1.5.0",
      "model_name": "ButtonModel",
      "state": {
       "description": "0.0 Empty Canister: 3600.0 of 3600.0",
       "layout": "IPY_MODEL_eed224ba7e984f4fa454628e803374bc",
       "style": "IPY_MODEL_08f3b3b4fc4944ff9f99a5d12562d28b"
      }
     },
     "af922bc4a6dc4ecc8e523e55eacb3d51": {
      "model_module": "@jupyter-widgets/controls",
      "model_module_version": "1.5.0",
      "model_name": "LabelModel",
      "state": {
       "layout": "IPY_MODEL_31c1a69cd3de411ea8666df950a7b0b1",
       "style": "IPY_MODEL_8572431944024f4d8ec0178c5ec27742",
       "value": "Items"
      }
     },
     "afd107bbb385429eb8d2b5dadc25db57": {
      "model_module": "@jupyter-widgets/controls",
      "model_module_version": "1.5.0",
      "model_name": "ButtonModel",
      "state": {
       "description": "18.68 Assembler using Rotor",
       "layout": "IPY_MODEL_56eae548ea6e41abb16dd2b5c98cfdd1",
       "style": "IPY_MODEL_f0f4d7d9638c4e468bb2b31e5fde334d"
      }
     },
     "b04c6bfcd63f47e8be521b2ead93cc8d": {
      "model_module": "@jupyter-widgets/controls",
      "model_module_version": "1.5.0",
      "model_name": "ButtonModel",
      "state": {
       "button_style": "success",
       "description": "# 7.47 of 7.47 Assembler using Motor, reste 0.0",
       "layout": "IPY_MODEL_abd371dcae6144668a5205d1e1dc669d",
       "style": "IPY_MODEL_420a29791713468a9fe294a75fe99d02"
      }
     },
     "b07df1c299c14ce0b978c77eb9ed031d": {
      "model_module": "@jupyter-widgets/controls",
      "model_module_version": "1.5.0",
      "model_name": "HBoxModel",
      "state": {
       "children": [
        "IPY_MODEL_4fee0f0a2a0c4017a4535662b2f8ff8c",
        "IPY_MODEL_f656a5dd793c40d6a4393b07e4f04325"
       ],
       "layout": "IPY_MODEL_ff10c9caf8a940f88d45494a76c4b96d"
      }
     },
     "b0c26f42311b4158a2f4d1e4c17368fa": {
      "model_module": "@jupyter-widgets/base",
      "model_module_version": "1.2.0",
      "model_name": "LayoutModel",
      "state": {}
     },
     "b0f941c97aa045248951fff57f0c7600": {
      "model_module": "@jupyter-widgets/controls",
      "model_module_version": "1.5.0",
      "model_name": "ButtonStyleModel",
      "state": {}
     },
     "b11e3768099a487e974381b7e0b2807b": {
      "model_module": "@jupyter-widgets/controls",
      "model_module_version": "1.5.0",
      "model_name": "ButtonStyleModel",
      "state": {}
     },
     "b13dc4cf43814d47abbc019a3d0768a8": {
      "model_module": "@jupyter-widgets/controls",
      "model_module_version": "1.5.0",
      "model_name": "ButtonStyleModel",
      "state": {}
     },
     "b18397b8895a4152ba86d0c8c6431eba": {
      "model_module": "@jupyter-widgets/controls",
      "model_module_version": "1.5.0",
      "model_name": "ButtonModel",
      "state": {
       "description": "0.0 Reinforced Iron Plate: 41.85 of 41.85",
       "layout": "IPY_MODEL_abd371dcae6144668a5205d1e1dc669d",
       "style": "IPY_MODEL_0c8f8988960d4a04883f89d3aaa84efb"
      }
     },
     "b1c9c619af124dd3ab64bd96501341ad": {
      "model_module": "@jupyter-widgets/controls",
      "model_module_version": "1.5.0",
      "model_name": "LabelModel",
      "state": {
       "layout": "IPY_MODEL_6900dfc79e254fba8c0e00dfabf26942",
       "style": "IPY_MODEL_3e00066d14534ae5b3a554154dda4434",
       "value": "Recipes"
      }
     },
     "b3567c43640949d38f6ec1f507ca0986": {
      "model_module": "@jupyter-widgets/base",
      "model_module_version": "1.2.0",
      "model_name": "LayoutModel",
      "state": {}
     },
     "b37b6b1237794a1cad68df678d9ae6f2": {
      "model_module": "@jupyter-widgets/controls",
      "model_module_version": "1.5.0",
      "model_name": "LabelModel",
      "state": {
       "layout": "IPY_MODEL_6aa87798eb13450b938f60fa44e327cd",
       "style": "IPY_MODEL_a6bb9a8b0b824d91919116cbd0f944c6",
       "value": "Items"
      }
     },
     "b3b4768a66ac44a48ed9f6a971568072": {
      "model_module": "@jupyter-widgets/controls",
      "model_module_version": "1.5.0",
      "model_name": "ButtonModel",
      "state": {
       "button_style": "success",
       "description": "# 28.6 of 28.6 Constructor using Steel Pipe, reste 0.0",
       "layout": "IPY_MODEL_abd371dcae6144668a5205d1e1dc669d",
       "style": "IPY_MODEL_8e51d4b56bde47e696210680427e568f"
      }
     },
     "b41a63ebd4174821a6091fe57190d0c6": {
      "model_module": "@jupyter-widgets/controls",
      "model_module_version": "1.5.0",
      "model_name": "ButtonModel",
      "state": {
       "description": "search",
       "layout": "IPY_MODEL_9a942df45671479ba366c79f7bb9804a",
       "style": "IPY_MODEL_ec9906be426642ff96a71c289d5a5d1e"
      }
     },
     "b4c75908ef854538800a8d811bb0c663": {
      "model_module": "@jupyter-widgets/controls",
      "model_module_version": "1.5.0",
      "model_name": "ButtonStyleModel",
      "state": {}
     },
     "b5503443ce9349bb919d973c7f1425a2": {
      "model_module": "@jupyter-widgets/controls",
      "model_module_version": "1.5.0",
      "model_name": "ButtonStyleModel",
      "state": {}
     },
     "b5a8767cd76e4d3092cdcffba37bb3ba": {
      "model_module": "@jupyter-widgets/controls",
      "model_module_version": "1.5.0",
      "model_name": "ButtonModel",
      "state": {
       "description": "0.09999999999990905 Quickwire: 3599.9 of 3600.0",
       "layout": "IPY_MODEL_abd371dcae6144668a5205d1e1dc669d",
       "style": "IPY_MODEL_eb2a84dab65b49848bb7e5f3d70770d5"
      }
     },
     "b6334e9cc8ca46ddbbef15ec82385c2b": {
      "model_module": "@jupyter-widgets/controls",
      "model_module_version": "1.5.0",
      "model_name": "SelectModel",
      "state": {
       "index": null,
       "layout": "IPY_MODEL_65c14956357a48b28e1cf1cb6a1c0c50",
       "style": "IPY_MODEL_54b5ba52731a446ba87b41c59bfc6d8d"
      }
     },
     "b665a69e4a5e4699a19605802622d823": {
      "model_module": "@jupyter-widgets/base",
      "model_module_version": "1.2.0",
      "model_name": "LayoutModel",
      "state": {}
     },
     "b686f37adb9842598eccf46fdb719b37": {
      "model_module": "@jupyter-widgets/controls",
      "model_module_version": "1.5.0",
      "model_name": "ButtonModel",
      "state": {
       "description": "33.320000000000164 Copper Sheet: 2216.68 of 2250.0",
       "layout": "IPY_MODEL_abd371dcae6144668a5205d1e1dc669d",
       "style": "IPY_MODEL_60892d23cc754812b49e99d0591c7e64"
      }
     },
     "b6a53e13647249b8b3a9bea161f7faa1": {
      "model_module": "@jupyter-widgets/base",
      "model_module_version": "1.2.0",
      "model_name": "LayoutModel",
      "state": {}
     },
     "b6dbe36db545446ba074e83fff7a75dd": {
      "model_module": "@jupyter-widgets/controls",
      "model_module_version": "1.5.0",
      "model_name": "ButtonModel",
      "state": {
       "description": "Choose",
       "layout": "IPY_MODEL_21b9206d6c574941999a055b0a7df950",
       "style": "IPY_MODEL_e6ecea7c53484eeeb49c0727110be7d8"
      }
     },
     "b6f30426d87346c6bd0755035c88f209": {
      "model_module": "@jupyter-widgets/controls",
      "model_module_version": "1.5.0",
      "model_name": "ButtonModel",
      "state": {
       "description": "40 Assembler using Alternate: Fused Quckwire",
       "layout": "IPY_MODEL_abd371dcae6144668a5205d1e1dc669d",
       "style": "IPY_MODEL_bde87f385bdb4cc8b64fe9b1d16df36f"
      }
     },
     "b75d8f8e3238498a8d40feb1ac10a7ab": {
      "model_module": "@jupyter-widgets/base",
      "model_module_version": "1.2.0",
      "model_name": "LayoutModel",
      "state": {}
     },
     "b7671861184943c28b4a02977e1a24c2": {
      "model_module": "@jupyter-widgets/controls",
      "model_module_version": "1.5.0",
      "model_name": "ButtonStyleModel",
      "state": {}
     },
     "b77eb7522a0b4234ac746c722de9a1c5": {
      "model_module": "@jupyter-widgets/controls",
      "model_module_version": "1.5.0",
      "model_name": "ButtonModel",
      "state": {
       "description": "Choose",
       "layout": "IPY_MODEL_d310410206394067a4206e5a111f27f1",
       "style": "IPY_MODEL_ec50920b0324467a901ae680f2dc9554"
      }
     },
     "b7dabb33658946639e2e957de97d6c18": {
      "model_module": "@jupyter-widgets/controls",
      "model_module_version": "1.5.0",
      "model_name": "ButtonStyleModel",
      "state": {}
     },
     "b7de0328fe8348c9bd88432cda5c18e3": {
      "model_module": "@jupyter-widgets/controls",
      "model_module_version": "1.5.0",
      "model_name": "ButtonModel",
      "state": {
       "description": "Build Factory",
       "layout": "IPY_MODEL_6e52d14464b4411db374e448df100e02",
       "style": "IPY_MODEL_8b66790fc860483295c1156c5dce0886"
      }
     },
     "b7e21c8eb44c4730bbc368a4223eb940": {
      "model_module": "@jupyter-widgets/controls",
      "model_module_version": "1.5.0",
      "model_name": "ButtonStyleModel",
      "state": {}
     },
     "b7f2c738d95d404c849212af1320e006": {
      "model_module": "@jupyter-widgets/output",
      "model_module_version": "1.0.0",
      "model_name": "OutputModel",
      "state": {
       "layout": "IPY_MODEL_070a52f2862744e38998dd960fdbc124"
      }
     },
     "b812843977c74fc48e9ae228f49ddc13": {
      "model_module": "@jupyter-widgets/controls",
      "model_module_version": "1.5.0",
      "model_name": "ButtonStyleModel",
      "state": {}
     },
     "b83d8aefe9564e3d99c647b5322821ff": {
      "model_module": "@jupyter-widgets/controls",
      "model_module_version": "1.5.0",
      "model_name": "LabelModel",
      "state": {
       "layout": "IPY_MODEL_cff91dffd279446b9b2010139ba747ff",
       "style": "IPY_MODEL_ec08bcffd14644699b8db3c13a041a48",
       "value": "Item produced"
      }
     },
     "b842b5cb45694c9da23464318ef540b1": {
      "model_module": "@jupyter-widgets/controls",
      "model_module_version": "1.5.0",
      "model_name": "ButtonModel",
      "state": {
       "description": "Produce with recipe",
       "layout": "IPY_MODEL_09d507949f164151914dd1360a9e1270",
       "style": "IPY_MODEL_e14bfffd1406472abab1761a8708ede7"
      }
     },
     "b8773de344b743899e04f0f0c7364e44": {
      "model_module": "@jupyter-widgets/controls",
      "model_module_version": "1.5.0",
      "model_name": "ButtonStyleModel",
      "state": {}
     },
     "b927c34ee5d9410ea2fc2dd7d0c147f3": {
      "model_module": "@jupyter-widgets/controls",
      "model_module_version": "1.5.0",
      "model_name": "ButtonStyleModel",
      "state": {}
     },
     "b9622790883641228425b4b92f7de7e1": {
      "model_module": "@jupyter-widgets/base",
      "model_module_version": "1.2.0",
      "model_name": "LayoutModel",
      "state": {}
     },
     "b968caa7107c42fbb9c1a5a11374e417": {
      "model_module": "@jupyter-widgets/controls",
      "model_module_version": "1.5.0",
      "model_name": "ButtonStyleModel",
      "state": {}
     },
     "b97a42df1f0b45aa9bdb252d95c0e93d": {
      "model_module": "@jupyter-widgets/controls",
      "model_module_version": "1.5.0",
      "model_name": "ButtonModel",
      "state": {
       "description": "0.0 Packaged Water: 2400.0 of 2400.0",
       "layout": "IPY_MODEL_50c8605a220a41f9854478362a8e13c8",
       "style": "IPY_MODEL_e8c440ee826c4679a086a9b1eb86f4aa"
      }
     },
     "b9c4fea6de0f4578a938a63b3d823677": {
      "model_module": "@jupyter-widgets/controls",
      "model_module_version": "1.5.0",
      "model_name": "ButtonModel",
      "state": {
       "description": "Consume with recipe",
       "layout": "IPY_MODEL_6a4c72c46a294f78a2abdc0ecab173d0",
       "style": "IPY_MODEL_b5503443ce9349bb919d973c7f1425a2"
      }
     },
     "b9cab4bffe4944eb8e401d0abc712098": {
      "model_module": "@jupyter-widgets/controls",
      "model_module_version": "1.5.0",
      "model_name": "DescriptionStyleModel",
      "state": {
       "description_width": ""
      }
     },
     "b9cc8ca643cd45ba992611cd812e9f26": {
      "model_module": "@jupyter-widgets/base",
      "model_module_version": "1.2.0",
      "model_name": "LayoutModel",
      "state": {}
     },
     "ba2fccb43d804e79b7184743d9fe0cb5": {
      "model_module": "@jupyter-widgets/base",
      "model_module_version": "1.2.0",
      "model_name": "LayoutModel",
      "state": {}
     },
     "ba5f7b950aa548a6b599f3ee344b0e17": {
      "model_module": "@jupyter-widgets/controls",
      "model_module_version": "1.5.0",
      "model_name": "SelectModel",
      "state": {
       "index": null,
       "layout": "IPY_MODEL_28c769f295154df8807a293b8d36a990",
       "style": "IPY_MODEL_595b06b82f48456da32ebcc5f555c86e"
      }
     },
     "ba7975eaac534ba28b9095e4320e57d6": {
      "model_module": "@jupyter-widgets/base",
      "model_module_version": "1.2.0",
      "model_name": "LayoutModel",
      "state": {}
     },
     "bb1c31d79cc14e74a65daa92264e1bed": {
      "model_module": "@jupyter-widgets/base",
      "model_module_version": "1.2.0",
      "model_name": "LayoutModel",
      "state": {
       "align_items": "flex-start",
       "width": "80%"
      }
     },
     "bbc9add7090f497ab2aa1ae574a09cf9": {
      "model_module": "@jupyter-widgets/controls",
      "model_module_version": "1.5.0",
      "model_name": "ButtonStyleModel",
      "state": {}
     },
     "bc88076053444710b877d69dff46da2d": {
      "model_module": "@jupyter-widgets/controls",
      "model_module_version": "1.5.0",
      "model_name": "ButtonModel",
      "state": {
       "description": "Add",
       "layout": "IPY_MODEL_9fa9d126ea134e8a8ee877641fe643e2",
       "style": "IPY_MODEL_4d43b921a7af468abfe077b029aa1df2"
      }
     },
     "bc941f376b8641828017a471dca21da5": {
      "model_module": "@jupyter-widgets/base",
      "model_module_version": "1.2.0",
      "model_name": "LayoutModel",
      "state": {}
     },
     "bd464f94c69248d49907195b4f0580a9": {
      "model_module": "@jupyter-widgets/controls",
      "model_module_version": "1.5.0",
      "model_name": "DescriptionStyleModel",
      "state": {
       "description_width": ""
      }
     },
     "bd49e494737241c3857576a6b688d1cf": {
      "model_module": "@jupyter-widgets/base",
      "model_module_version": "1.2.0",
      "model_name": "LayoutModel",
      "state": {}
     },
     "bd718653765742b38f16a343ecc8ca4c": {
      "model_module": "@jupyter-widgets/controls",
      "model_module_version": "1.5.0",
      "model_name": "LabelModel",
      "state": {
       "layout": "IPY_MODEL_9f7f21e017534f9eacc0257b52273f0f",
       "style": "IPY_MODEL_6460cdd2672b4806aee3d02dcdb76f65",
       "value": "Recipes"
      }
     },
     "bde87f385bdb4cc8b64fe9b1d16df36f": {
      "model_module": "@jupyter-widgets/controls",
      "model_module_version": "1.5.0",
      "model_name": "ButtonStyleModel",
      "state": {}
     },
     "be044ab063e74869a1cb4f241a50f684": {
      "model_module": "@jupyter-widgets/controls",
      "model_module_version": "1.5.0",
      "model_name": "ButtonStyleModel",
      "state": {}
     },
     "be81ed252fed46098ad2d07b7ede7009": {
      "model_module": "@jupyter-widgets/controls",
      "model_module_version": "1.5.0",
      "model_name": "LabelModel",
      "state": {
       "layout": "IPY_MODEL_2a51b484b4a845029d631cb43c19ff3c",
       "style": "IPY_MODEL_094940f029ce4d1bbf2ae8fdc99d5a07",
       "value": "Recipe used"
      }
     },
     "beaf8dae9988496a9ef1831bd23bbd05": {
      "model_module": "@jupyter-widgets/controls",
      "model_module_version": "1.5.0",
      "model_name": "ButtonModel",
      "state": {
       "description": "0.0 Iron Plate: 11.25 of 11.25",
       "layout": "IPY_MODEL_718465d2c182451480d43bbcaadabb6b",
       "style": "IPY_MODEL_45df9fd482f845d98ea2f60f649b4683"
      }
     },
     "bec2d466960346a698de4f12d101bb2a": {
      "model_module": "@jupyter-widgets/controls",
      "model_module_version": "1.5.0",
      "model_name": "DescriptionStyleModel",
      "state": {
       "description_width": ""
      }
     },
     "bec497d969634742b9f722de81012012": {
      "model_module": "@jupyter-widgets/controls",
      "model_module_version": "1.5.0",
      "model_name": "ButtonModel",
      "state": {
       "description": "2249.85 Iron Ore: 2130.15 of 4380.0",
       "layout": "IPY_MODEL_abd371dcae6144668a5205d1e1dc669d",
       "style": "IPY_MODEL_4112eaab65034e58a35bbdc8ff2f7cf6"
      }
     },
     "bee6de5f58e84b33b0f2721cba9daef3": {
      "model_module": "@jupyter-widgets/controls",
      "model_module_version": "1.5.0",
      "model_name": "SelectModel",
      "state": {
       "index": null,
       "layout": "IPY_MODEL_07c799e713c34a03914e4510b8658cba",
       "style": "IPY_MODEL_e2d5a800f8da4e12875a58c009e68f2f"
      }
     },
     "bef94165955a4bf8a80962c1843d8f8b": {
      "model_module": "@jupyter-widgets/controls",
      "model_module_version": "1.5.0",
      "model_name": "HBoxModel",
      "state": {
       "children": [
        "IPY_MODEL_41975d12bb514ff0af0dcf4fdfc0027d",
        "IPY_MODEL_b41a63ebd4174821a6091fe57190d0c6"
       ],
       "layout": "IPY_MODEL_8a8197af63bc4a7baa3ad004efdc044b"
      }
     },
     "bfe3e82a696545aa9ebcdfe7988f6057": {
      "model_module": "@jupyter-widgets/base",
      "model_module_version": "1.2.0",
      "model_name": "LayoutModel",
      "state": {}
     },
     "bfe6076647be47e58d0149bdb6decabf": {
      "model_module": "@jupyter-widgets/controls",
      "model_module_version": "1.5.0",
      "model_name": "ButtonStyleModel",
      "state": {}
     },
     "c0479c34f74940a6861b31ee1661133f": {
      "model_module": "@jupyter-widgets/controls",
      "model_module_version": "1.5.0",
      "model_name": "ButtonStyleModel",
      "state": {}
     },
     "c06146f702154f7eb6edf626061dd23d": {
      "model_module": "@jupyter-widgets/controls",
      "model_module_version": "1.5.0",
      "model_name": "FloatTextModel",
      "state": {
       "layout": "IPY_MODEL_97a46b77088f476c834fe62640cbf0eb",
       "step": null,
       "style": "IPY_MODEL_576aa443ba334045b77b8c2558f73f74"
      }
     },
     "c079594067f3403092556a940910fa47": {
      "model_module": "@jupyter-widgets/controls",
      "model_module_version": "1.5.0",
      "model_name": "ButtonModel",
      "state": {
       "description": "0.3000000000001819 Fuel: 2612.7 of 2613.0",
       "layout": "IPY_MODEL_abd371dcae6144668a5205d1e1dc669d",
       "style": "IPY_MODEL_5f9724c2d630418b8fe3ef65e19a4ad7"
      }
     },
     "c11cfe20181042d69e823911654ffaab": {
      "model_module": "@jupyter-widgets/controls",
      "model_module_version": "1.5.0",
      "model_name": "ButtonStyleModel",
      "state": {}
     },
     "c1b766a1e017465e81f7e616867f5c59": {
      "model_module": "@jupyter-widgets/controls",
      "model_module_version": "1.5.0",
      "model_name": "ButtonStyleModel",
      "state": {}
     },
     "c1ba0dd17cb84e54b482351bc90fe63d": {
      "model_module": "@jupyter-widgets/controls",
      "model_module_version": "1.5.0",
      "model_name": "HBoxModel",
      "state": {
       "children": [
        "IPY_MODEL_8ba8005bdf214fc49fdbf4bbaeb763ec",
        "IPY_MODEL_07f7d547fd92431babffc9c6423733b7"
       ],
       "layout": "IPY_MODEL_dedc8fc211224d078550d1b283faae3b"
      }
     },
     "c1e34d3aa016422e8077eb44545969f9": {
      "model_module": "@jupyter-widgets/controls",
      "model_module_version": "1.5.0",
      "model_name": "LabelModel",
      "state": {
       "layout": "IPY_MODEL_77c9c7212264456d8aa5e640ad5dac4c",
       "style": "IPY_MODEL_4f873e71d5c24c30b3e7d402616dc6cd",
       "value": "logs"
      }
     },
     "c21a4605a0c341e2ac11b177f7b355cd": {
      "model_module": "@jupyter-widgets/controls",
      "model_module_version": "1.5.0",
      "model_name": "DescriptionStyleModel",
      "state": {
       "description_width": ""
      }
     },
     "c2822c7903f54ef0a3b36ff00f2a7b73": {
      "model_module": "@jupyter-widgets/base",
      "model_module_version": "1.2.0",
      "model_name": "LayoutModel",
      "state": {}
     },
     "c2a2adfa41e3447ca24c4b3bc16c7f8f": {
      "model_module": "@jupyter-widgets/controls",
      "model_module_version": "1.5.0",
      "model_name": "ButtonModel",
      "state": {
       "description": "17.0 Supercomputer: 3.31 of 20.31",
       "layout": "IPY_MODEL_abd371dcae6144668a5205d1e1dc669d",
       "style": "IPY_MODEL_7ce3f5efd81a46f08146c2ff167c8b01"
      }
     },
     "c2fd4f96b0f24c59b8af1e9b3884fbc8": {
      "model_module": "@jupyter-widgets/base",
      "model_module_version": "1.2.0",
      "model_name": "LayoutModel",
      "state": {}
     },
     "c30a52b8378f4f5281a53605cb95b39e": {
      "model_module": "@jupyter-widgets/base",
      "model_module_version": "1.2.0",
      "model_name": "LayoutModel",
      "state": {}
     },
     "c316ff2f8f6d41e2bbb8b997f7ed6fdd": {
      "model_module": "@jupyter-widgets/controls",
      "model_module_version": "1.5.0",
      "model_name": "ButtonModel",
      "state": {
       "description": "22.94 Manufacturer using Computer",
       "layout": "IPY_MODEL_abd371dcae6144668a5205d1e1dc669d",
       "style": "IPY_MODEL_3c296b9a533d4bd6bdffc153a20c2553"
      }
     },
     "c331ba1dfc2c407d9b599e8cf9bcc55a": {
      "model_module": "@jupyter-widgets/base",
      "model_module_version": "1.2.0",
      "model_name": "LayoutModel",
      "state": {}
     },
     "c36dbfcf0bcf4ad08c03e7875b6c2031": {
      "model_module": "@jupyter-widgets/base",
      "model_module_version": "1.2.0",
      "model_name": "LayoutModel",
      "state": {}
     },
     "c37e4e8bbe6248538598376dc29109e7": {
      "model_module": "@jupyter-widgets/controls",
      "model_module_version": "1.5.0",
      "model_name": "ButtonModel",
      "state": {
       "description": "7.44 Assembler using Alternate: Stitched Iron Plate",
       "layout": "IPY_MODEL_abd371dcae6144668a5205d1e1dc669d",
       "style": "IPY_MODEL_054ab18fb8f24d6883f08a57fda437a3"
      }
     },
     "c3877bcd671a49e7b3eea7d9708d4d8a": {
      "model_module": "@jupyter-widgets/base",
      "model_module_version": "1.2.0",
      "model_name": "LayoutModel",
      "state": {}
     },
     "c467dbc033dc463f895d8d1d3b986d6e": {
      "model_module": "@jupyter-widgets/controls",
      "model_module_version": "1.5.0",
      "model_name": "ButtonModel",
      "state": {
       "description": "0.0 Water: 2400.0 of 2400.0",
       "layout": "IPY_MODEL_50c8605a220a41f9854478362a8e13c8",
       "style": "IPY_MODEL_a4c9e746b8ec4baf8d93d40c9d230108"
      }
     },
     "c4f8b72d18be4581a5699f96a86f9e3a": {
      "model_module": "@jupyter-widgets/controls",
      "model_module_version": "1.5.0",
      "model_name": "ButtonModel",
      "state": {
       "description": "28.78 Refinery using Alternate: Recycled Rubber",
       "layout": "IPY_MODEL_abd371dcae6144668a5205d1e1dc669d",
       "style": "IPY_MODEL_d811f448e638425296af152ebff7c252"
      }
     },
     "c524ad9a15454a90803f89b7c34ce3c2": {
      "model_module": "@jupyter-widgets/controls",
      "model_module_version": "1.5.0",
      "model_name": "ButtonModel",
      "state": {
       "description": "Add Factory",
       "layout": "IPY_MODEL_b9622790883641228425b4b92f7de7e1",
       "style": "IPY_MODEL_17fefadef6144d88b1144be897b460a8"
      }
     },
     "c54f3b7cff544006a3090963c657b6da": {
      "model_module": "@jupyter-widgets/base",
      "model_module_version": "1.2.0",
      "model_name": "LayoutModel",
      "state": {}
     },
     "c54f59dbecdb4f87b7b953f73182ef58": {
      "model_module": "@jupyter-widgets/base",
      "model_module_version": "1.2.0",
      "model_name": "LayoutModel",
      "state": {}
     },
     "c60b24a2445948679d3c2b43d6d3f0c2": {
      "model_module": "@jupyter-widgets/controls",
      "model_module_version": "1.5.0",
      "model_name": "ButtonModel",
      "state": {
       "button_style": "success",
       "description": "# 0.5 of 0.5 Manufacturer using Beacon, reste 0.0",
       "layout": "IPY_MODEL_abd371dcae6144668a5205d1e1dc669d",
       "style": "IPY_MODEL_be044ab063e74869a1cb4f241a50f684"
      }
     },
     "c6801456e41e4bb6b8c03806a90e9177": {
      "model_module": "@jupyter-widgets/base",
      "model_module_version": "1.2.0",
      "model_name": "LayoutModel",
      "state": {}
     },
     "c76c9cfc39414121b17a95ed20019d8a": {
      "model_module": "@jupyter-widgets/controls",
      "model_module_version": "1.5.0",
      "model_name": "HBoxModel",
      "state": {
       "children": [
        "IPY_MODEL_29a9263113d645a380e280c04d0867c6",
        "IPY_MODEL_3f2f8f1f4df24ee895f06b9fcfba95e3",
        "IPY_MODEL_29464551ee2345fbaf82d9da0c777b29",
        "IPY_MODEL_6bca53d19a774d3dbfd7773d0c89d1d0",
        "IPY_MODEL_eea970df2b5b47fa8e961ceef5cd90d3",
        "IPY_MODEL_facf3414cdfb42348c15adddcc75348d"
       ],
       "layout": "IPY_MODEL_5b075121df8149b98cbd22882a92d7a2"
      }
     },
     "c7e83b5fbff8487da3c209e780c593b9": {
      "model_module": "@jupyter-widgets/controls",
      "model_module_version": "1.5.0",
      "model_name": "DescriptionStyleModel",
      "state": {
       "description_width": ""
      }
     },
     "c7ed9e46b329466592ffe8060a02f51e": {
      "model_module": "@jupyter-widgets/controls",
      "model_module_version": "1.5.0",
      "model_name": "ButtonStyleModel",
      "state": {}
     },
     "c81b5bec19a04d43bca5795ac2286080": {
      "model_module": "@jupyter-widgets/base",
      "model_module_version": "1.2.0",
      "model_name": "LayoutModel",
      "state": {}
     },
     "c82dba239b9c4a20bb8f28ffbfdc0acd": {
      "model_module": "@jupyter-widgets/controls",
      "model_module_version": "1.5.0",
      "model_name": "DescriptionStyleModel",
      "state": {
       "description_width": ""
      }
     },
     "c882ac61701a40bcadb2e90322e1858e": {
      "model_module": "@jupyter-widgets/controls",
      "model_module_version": "1.5.0",
      "model_name": "VBoxModel",
      "state": {
       "children": [
        "IPY_MODEL_d06e81360fd34e839ebf2bc1c696bc8a",
        "IPY_MODEL_3360b5f3599d468cb25e5623b3c44cb5"
       ],
       "layout": "IPY_MODEL_4645a1b63866415dbc8f8b1a113cec99"
      }
     },
     "c8c6ea144e6d45bea22e90f1f7ca1c56": {
      "model_module": "@jupyter-widgets/controls",
      "model_module_version": "1.5.0",
      "model_name": "ButtonModel",
      "state": {
       "description": "Choose",
       "layout": "IPY_MODEL_5d15acca3ff343ba8659da328f410de9",
       "style": "IPY_MODEL_ff2712bad71946fea2f85f5338977534"
      }
     },
     "c9483b71e97f4951bb9816ba23e89779": {
      "model_module": "@jupyter-widgets/base",
      "model_module_version": "1.2.0",
      "model_name": "LayoutModel",
      "state": {}
     },
     "c9692c957d3742b798762e2398d9b704": {
      "model_module": "@jupyter-widgets/controls",
      "model_module_version": "1.5.0",
      "model_name": "ButtonStyleModel",
      "state": {}
     },
     "c9ef98fe00a849d9ba09701c23fd55e2": {
      "model_module": "@jupyter-widgets/controls",
      "model_module_version": "1.5.0",
      "model_name": "DescriptionStyleModel",
      "state": {
       "description_width": ""
      }
     },
     "c9fc8c323af44ea99d42f99c8251f295": {
      "model_module": "@jupyter-widgets/controls",
      "model_module_version": "1.5.0",
      "model_name": "ButtonModel",
      "state": {
       "description": "16.67 of 58.31 Refinery using Alternate: Recycled Plastic, reste 41.64",
       "layout": "IPY_MODEL_abd371dcae6144668a5205d1e1dc669d",
       "style": "IPY_MODEL_4a8f3bee16974a17a3ea056b34cb48ec"
      }
     },
     "ca237662982a4ade830636ff836f25b0": {
      "model_module": "@jupyter-widgets/controls",
      "model_module_version": "1.5.0",
      "model_name": "ButtonStyleModel",
      "state": {}
     },
     "ca2eef006ceb4e06bd9dba91ee4a1dc2": {
      "model_module": "@jupyter-widgets/controls",
      "model_module_version": "1.5.0",
      "model_name": "HBoxModel",
      "state": {
       "children": [
        "IPY_MODEL_d22fb0a1900b431491ceee92777cf3f3",
        "IPY_MODEL_24fda8c4734c4b6a9e9d8b68e322a27a"
       ],
       "layout": "IPY_MODEL_eb530a475c3042d0b2e9cbecf5987b1e"
      }
     },
     "ca30c71f29e1416780e97d95485b3de1": {
      "model_module": "@jupyter-widgets/controls",
      "model_module_version": "1.5.0",
      "model_name": "VBoxModel",
      "state": {
       "children": [
        "IPY_MODEL_ac6ff62254c341399d039e6340ed8673",
        "IPY_MODEL_ccbbeb4ddf4e423895fd4649940107c6"
       ],
       "layout": "IPY_MODEL_af4126ad3dc84dcd9b1b7d66c31725fa"
      }
     },
     "ca4324c9b946467bb065fcf30b63c4a8": {
      "model_module": "@jupyter-widgets/controls",
      "model_module_version": "1.5.0",
      "model_name": "ButtonModel",
      "state": {
       "description": "20.31 Manufacturer using Alternate: Silicone High-Speed Connector",
       "layout": "IPY_MODEL_abd371dcae6144668a5205d1e1dc669d",
       "style": "IPY_MODEL_bbc9add7090f497ab2aa1ae574a09cf9"
      }
     },
     "cb1b6162f44346188bf473958032f330": {
      "model_module": "@jupyter-widgets/controls",
      "model_module_version": "1.5.0",
      "model_name": "VBoxModel",
      "state": {
       "children": [
        "IPY_MODEL_6a024ed5aed5403babbca0e0b1704fa9",
        "IPY_MODEL_033a299209f84028b8e58c4ed0ea5fac"
       ],
       "layout": "IPY_MODEL_44cfaf489bb44fbaa214b70d6336628f"
      }
     },
     "cb25f76c6acf46ee965e6ff047f36ad0": {
      "model_module": "@jupyter-widgets/controls",
      "model_module_version": "1.5.0",
      "model_name": "ButtonStyleModel",
      "state": {}
     },
     "cb4dd1579674488f9c684acfc5a34235": {
      "model_module": "@jupyter-widgets/controls",
      "model_module_version": "1.5.0",
      "model_name": "HBoxModel",
      "state": {
       "children": [
        "IPY_MODEL_0ae2c21ff69d4612b5fa3d47e1ca3d37",
        "IPY_MODEL_3d7633f5030741c6b21cee209d3f03e4"
       ],
       "layout": "IPY_MODEL_a70a11c6803d4ab1acf2e7cfef7107e8"
      }
     },
     "cb7ad459dd924c928e1b71f93ebc455e": {
      "model_module": "@jupyter-widgets/controls",
      "model_module_version": "1.5.0",
      "model_name": "VBoxModel",
      "state": {
       "children": [
        "IPY_MODEL_bef94165955a4bf8a80962c1843d8f8b",
        "IPY_MODEL_6017f6aee0854fbda0d317988fedfefa"
       ],
       "layout": "IPY_MODEL_3414dda406dd4242b23b9c13c47fc4ed"
      }
     },
     "cbf0489fb2dd40b7bd8e7c147a07d443": {
      "model_module": "@jupyter-widgets/controls",
      "model_module_version": "1.5.0",
      "model_name": "ButtonStyleModel",
      "state": {}
     },
     "cc568400cd7b447899127f497bdcc914": {
      "model_module": "@jupyter-widgets/controls",
      "model_module_version": "1.5.0",
      "model_name": "FloatTextModel",
      "state": {
       "description": "quantity",
       "layout": "IPY_MODEL_b3567c43640949d38f6ec1f507ca0986",
       "step": null,
       "style": "IPY_MODEL_d06140efdaa44ec3b534a76c8fba7926"
      }
     },
     "cc621c582862441c8295a56272fa38f2": {
      "model_module": "@jupyter-widgets/controls",
      "model_module_version": "1.5.0",
      "model_name": "ButtonModel",
      "state": {
       "description": "40.0 Refinery using Unpackage Fuel",
       "layout": "IPY_MODEL_50c8605a220a41f9854478362a8e13c8",
       "style": "IPY_MODEL_ef90192657084e3c912306c32343f9db"
      }
     },
     "cc64f246884d4bcb9831c6d8ad98147b": {
      "model_module": "@jupyter-widgets/base",
      "model_module_version": "1.2.0",
      "model_name": "LayoutModel",
      "state": {}
     },
     "ccbbeb4ddf4e423895fd4649940107c6": {
      "model_module": "@jupyter-widgets/controls",
      "model_module_version": "1.5.0",
      "model_name": "HBoxModel",
      "state": {
       "children": [
        "IPY_MODEL_da7212e569094f26b68a5465b3a56ada",
        "IPY_MODEL_51ef813d33a843e198039b8ee8c50030"
       ],
       "layout": "IPY_MODEL_7592f578c5ae48019e19c41ddc8425fb"
      }
     },
     "cd5c8b2e79e34b0ab79f766fe78fafa0": {
      "model_module": "@jupyter-widgets/controls",
      "model_module_version": "1.5.0",
      "model_name": "HBoxModel",
      "state": {
       "children": [
        "IPY_MODEL_0560ac93a5d847e8a53c713188d50622",
        "IPY_MODEL_f54f0a5622f64246861bca13875c952c"
       ],
       "layout": "IPY_MODEL_0e90f55a3d2f409583f77b8ba8f02ed5"
      }
     },
     "cd7434ec43ce4b00808ac74320728916": {
      "model_module": "@jupyter-widgets/controls",
      "model_module_version": "1.5.0",
      "model_name": "ButtonModel",
      "state": {
       "description": "0.0 Rubber: 36.0 of 36.0",
       "layout": "IPY_MODEL_718465d2c182451480d43bbcaadabb6b",
       "style": "IPY_MODEL_2cc24486911545f386444e3053dd9cfe"
      }
     },
     "cd7782421c6447fbb19f231e25fd2283": {
      "model_module": "@jupyter-widgets/controls",
      "model_module_version": "1.5.0",
      "model_name": "DescriptionStyleModel",
      "state": {
       "description_width": ""
      }
     },
     "cd9f1b5b0b4141d3a82b964a7e865ad7": {
      "model_module": "@jupyter-widgets/controls",
      "model_module_version": "1.5.0",
      "model_name": "ButtonModel",
      "state": {
       "description": "46.6875 of 121.26 Constructor using Screw, reste 74.57",
       "layout": "IPY_MODEL_abd371dcae6144668a5205d1e1dc669d",
       "style": "IPY_MODEL_5d4fd050a13545ac84dff5d6ad1641af"
      }
     },
     "cdd7c8cc8c254aca9ec9d4d5899a727e": {
      "model_module": "@jupyter-widgets/controls",
      "model_module_version": "1.5.0",
      "model_name": "ButtonStyleModel",
      "state": {}
     },
     "ce16aa12fa0a4ca4b93cc0c856eebe92": {
      "model_module": "@jupyter-widgets/base",
      "model_module_version": "1.2.0",
      "model_name": "LayoutModel",
      "state": {}
     },
     "cebd5f9a6423496699a455330aa032dd": {
      "model_module": "@jupyter-widgets/controls",
      "model_module_version": "1.5.0",
      "model_name": "ButtonModel",
      "state": {
       "description": "7.63 Refinery using Alternate: Pure Quartz Crystal",
       "layout": "IPY_MODEL_abd371dcae6144668a5205d1e1dc669d",
       "style": "IPY_MODEL_86f0c7f1cfb74251a5da425387252ec3"
      }
     },
     "cecb1bf8dc494634928aa2ffc56c8198": {
      "model_module": "@jupyter-widgets/controls",
      "model_module_version": "1.5.0",
      "model_name": "ButtonModel",
      "state": {
       "description": "46.69 Constructor using Screw",
       "layout": "IPY_MODEL_56eae548ea6e41abb16dd2b5c98cfdd1",
       "style": "IPY_MODEL_5d7281e5e087469db9ae20828ec20e9d"
      }
     },
     "cf3a43a224b2426599f428ff2c4cfa78": {
      "model_module": "@jupyter-widgets/controls",
      "model_module_version": "1.5.0",
      "model_name": "HBoxModel",
      "state": {
       "layout": "IPY_MODEL_6f2434c57afc4df2830b658e8babf389"
      }
     },
     "cff91dffd279446b9b2010139ba747ff": {
      "model_module": "@jupyter-widgets/base",
      "model_module_version": "1.2.0",
      "model_name": "LayoutModel",
      "state": {}
     },
     "d0145c2814da4b6784cce82ac71506ad": {
      "model_module": "@jupyter-widgets/controls",
      "model_module_version": "1.5.0",
      "model_name": "ButtonModel",
      "state": {
       "description": "-0.04000000000000625 Stator: 112.04 of 112.0",
       "layout": "IPY_MODEL_abd371dcae6144668a5205d1e1dc669d",
       "style": "IPY_MODEL_59a7c4a2ccd748e0a39d5082d247a4ac"
      }
     },
     "d01fe551a52e4ec6b16decdffff49595": {
      "model_module": "@jupyter-widgets/controls",
      "model_module_version": "1.5.0",
      "model_name": "ButtonModel",
      "state": {
       "description": "0.0 Coal: 1600.0 of 1600.0",
       "layout": "IPY_MODEL_50c8605a220a41f9854478362a8e13c8",
       "style": "IPY_MODEL_49c1e96b8efa453eae49dd27b41ee2ec"
      }
     },
     "d06140efdaa44ec3b534a76c8fba7926": {
      "model_module": "@jupyter-widgets/controls",
      "model_module_version": "1.5.0",
      "model_name": "DescriptionStyleModel",
      "state": {
       "description_width": ""
      }
     },
     "d06b39261e534b29bd59cf50d515b00b": {
      "model_module": "@jupyter-widgets/controls",
      "model_module_version": "1.5.0",
      "model_name": "ButtonModel",
      "state": {
       "description": "0.0 Crude Oil: 1350.0 of 1350.0",
       "layout": "IPY_MODEL_eed224ba7e984f4fa454628e803374bc",
       "style": "IPY_MODEL_f25a884440024bdcb2ba03a00031ade7"
      }
     },
     "d06e81360fd34e839ebf2bc1c696bc8a": {
      "model_module": "@jupyter-widgets/controls",
      "model_module_version": "1.5.0",
      "model_name": "HBoxModel",
      "state": {
       "children": [
        "IPY_MODEL_65b6487d793e45fb8757a4d8e6704e68",
        "IPY_MODEL_3b89b018b85349baa29e7a10449a35a8"
       ],
       "layout": "IPY_MODEL_11538552487e46889c50e2d62410dc2b"
      }
     },
     "d07620b832d8443dbbd3fc5bdf0be651": {
      "model_module": "@jupyter-widgets/controls",
      "model_module_version": "1.5.0",
      "model_name": "ButtonStyleModel",
      "state": {}
     },
     "d0b01e1c69ad4b359be18fd8bb92e84b": {
      "model_module": "@jupyter-widgets/base",
      "model_module_version": "1.2.0",
      "model_name": "LayoutModel",
      "state": {}
     },
     "d0bf803031694b44b93a11398c922ea4": {
      "model_module": "@jupyter-widgets/controls",
      "model_module_version": "1.5.0",
      "model_name": "ButtonStyleModel",
      "state": {}
     },
     "d0c313ffd9ac438d93dd0376c37ecb9c": {
      "model_module": "@jupyter-widgets/controls",
      "model_module_version": "1.5.0",
      "model_name": "DescriptionStyleModel",
      "state": {
       "description_width": ""
      }
     },
     "d12c23ca26144362816d4584611f4d48": {
      "model_module": "@jupyter-widgets/base",
      "model_module_version": "1.2.0",
      "model_name": "LayoutModel",
      "state": {}
     },
     "d1305a94233d4aa9bc85217f8d3f26f2": {
      "model_module": "@jupyter-widgets/controls",
      "model_module_version": "1.5.0",
      "model_name": "ButtonModel",
      "state": {
       "description": "6.7 Manufacturer using Radio Control Unit",
       "layout": "IPY_MODEL_abd371dcae6144668a5205d1e1dc669d",
       "style": "IPY_MODEL_0cf140152f8c4166839f996425a9cb0f"
      }
     },
     "d1449ba81641480a92a9bc319c007217": {
      "model_module": "@jupyter-widgets/controls",
      "model_module_version": "1.5.0",
      "model_name": "ButtonModel",
      "state": {
       "description": "0.0 Iron Rod: 3.75 of 3.75",
       "layout": "IPY_MODEL_718465d2c182451480d43bbcaadabb6b",
       "style": "IPY_MODEL_4e5d9a086e67431182deaf9dbbae3b0f"
      }
     },
     "d153dc5b130845a08e5fc38d929c1ff8": {
      "model_module": "@jupyter-widgets/controls",
      "model_module_version": "1.5.0",
      "model_name": "VBoxModel",
      "state": {
       "children": [
        "IPY_MODEL_16f3ae9c94584e589ae379dd371bb3e8",
        "IPY_MODEL_99c5f8cee0cd44749d69fee41c09c6c9",
        "IPY_MODEL_a1a8f0ca88b04090b34932efdd8f2794",
        "IPY_MODEL_9945b28718b94d47979a3b32b8165d5c",
        "IPY_MODEL_758365ea9cff4df4b431fe5e652db7d5"
       ],
       "layout": "IPY_MODEL_0038dd7567e14e3587f0d61d9d6acd6a"
      }
     },
     "d17d85660c0742419e871fa11a397eab": {
      "model_module": "@jupyter-widgets/controls",
      "model_module_version": "1.5.0",
      "model_name": "DescriptionStyleModel",
      "state": {
       "description_width": ""
      }
     },
     "d22fb0a1900b431491ceee92777cf3f3": {
      "model_module": "@jupyter-widgets/controls",
      "model_module_version": "1.5.0",
      "model_name": "VBoxModel",
      "state": {
       "children": [
        "IPY_MODEL_7784f73678224c3e9253d4b1f4a8258e",
        "IPY_MODEL_dadabb2a58774082a738541d0e7fd2b3"
       ],
       "layout": "IPY_MODEL_c331ba1dfc2c407d9b599e8cf9bcc55a"
      }
     },
     "d2ea9a0f3ee8413b9737ff5f3a48cf4b": {
      "model_module": "@jupyter-widgets/controls",
      "model_module_version": "1.5.0",
      "model_name": "ButtonModel",
      "state": {
       "description": "Add Factory",
       "layout": "IPY_MODEL_6cb93de1b6f44d0d9def0139c82e8eed",
       "style": "IPY_MODEL_32dc856b0cc54a46881fb278b54e85f1"
      }
     },
     "d310410206394067a4206e5a111f27f1": {
      "model_module": "@jupyter-widgets/base",
      "model_module_version": "1.2.0",
      "model_name": "LayoutModel",
      "state": {}
     },
     "d31afa8701254770a84d527ff6c90c2e": {
      "model_module": "@jupyter-widgets/controls",
      "model_module_version": "1.5.0",
      "model_name": "VBoxModel",
      "state": {
       "layout": "IPY_MODEL_0708ed3a79bb4ef991fc4d88ccc9b093"
      }
     },
     "d31c7d69ae41413aabf9018fea672bcd": {
      "model_module": "@jupyter-widgets/controls",
      "model_module_version": "1.5.0",
      "model_name": "ButtonStyleModel",
      "state": {}
     },
     "d3caee3349bd4bc7872985c536db06f1": {
      "model_module": "@jupyter-widgets/controls",
      "model_module_version": "1.5.0",
      "model_name": "ButtonModel",
      "state": {
       "description": "Add",
       "layout": "IPY_MODEL_1232c3b25bd342b98881a061392c9676",
       "style": "IPY_MODEL_3dc0965672ee4e7783955b39cb01c341"
      }
     },
     "d43ad65b9e044573b8440769d55c7ab8": {
      "model_module": "@jupyter-widgets/controls",
      "model_module_version": "1.5.0",
      "model_name": "TextModel",
      "state": {
       "layout": "IPY_MODEL_f6e4543d80534574b6dc0967aebec40f",
       "style": "IPY_MODEL_4ae4acf68eff40e0a1b18ed00caec4b6"
      }
     },
     "d4412d30fafa4d82993734a56b075491": {
      "model_module": "@jupyter-widgets/base",
      "model_module_version": "1.2.0",
      "model_name": "LayoutModel",
      "state": {}
     },
     "d450d2681a8a49969e62a444f2188ba5": {
      "model_module": "@jupyter-widgets/controls",
      "model_module_version": "1.5.0",
      "model_name": "ButtonModel",
      "state": {
       "description": "0.0 Cable: 7.5 of 7.5",
       "layout": "IPY_MODEL_718465d2c182451480d43bbcaadabb6b",
       "style": "IPY_MODEL_e316f53e41e74be182ec085b3c3fcd21"
      }
     },
     "d4bdaf62d37e45bfbcd00053343dff06": {
      "model_module": "@jupyter-widgets/controls",
      "model_module_version": "1.5.0",
      "model_name": "ButtonStyleModel",
      "state": {}
     },
     "d539da26e3e4496fa78779b49fa5806c": {
      "model_module": "@jupyter-widgets/base",
      "model_module_version": "1.2.0",
      "model_name": "LayoutModel",
      "state": {}
     },
     "d5692463c946402691cb02cae3ea0374": {
      "model_module": "@jupyter-widgets/controls",
      "model_module_version": "1.5.0",
      "model_name": "ButtonModel",
      "state": {
       "description": "-0.12000000000000455 Quartz Crystal: 400.69 of 400.57",
       "layout": "IPY_MODEL_abd371dcae6144668a5205d1e1dc669d",
       "style": "IPY_MODEL_e11e39caaef54ad1b9584d57968abfbf"
      }
     },
     "d5afa16b7a45468bbc1457b39a5cf7d8": {
      "model_module": "@jupyter-widgets/base",
      "model_module_version": "1.2.0",
      "model_name": "LayoutModel",
      "state": {
       "align_items": "flex-start",
       "width": "80%"
      }
     },
     "d5b41c78d5ea4f7496d4f73d0db69203": {
      "model_module": "@jupyter-widgets/controls",
      "model_module_version": "1.5.0",
      "model_name": "ButtonModel",
      "state": {
       "description": "42.986666666666665 of 122.99 Constructor using Alternate: Iron Wire, reste 80.0",
       "layout": "IPY_MODEL_abd371dcae6144668a5205d1e1dc669d",
       "style": "IPY_MODEL_67744dde311f472d853964a41bf0fc3e"
      }
     },
     "d5c20e701d674e78a9a0278ba35d8056": {
      "model_module": "@jupyter-widgets/controls",
      "model_module_version": "1.5.0",
      "model_name": "VBoxModel",
      "state": {
       "children": [
        "IPY_MODEL_1e870fb9282446dbb7243e81eacde3c4",
        "IPY_MODEL_117d003224d74d008147dd2ef08a617a"
       ],
       "layout": "IPY_MODEL_fbb8a9e552de4636b7378dad46172d2b"
      }
     },
     "d60b8264ff96478cabfa345ca62c096e": {
      "model_module": "@jupyter-widgets/base",
      "model_module_version": "1.2.0",
      "model_name": "LayoutModel",
      "state": {}
     },
     "d64e1e62c9a94a07af26e37b9d43b83f": {
      "model_module": "@jupyter-widgets/base",
      "model_module_version": "1.2.0",
      "model_name": "LayoutModel",
      "state": {}
     },
     "d68db5072a0b4b9b88047a4d71336d47": {
      "model_module": "@jupyter-widgets/controls",
      "model_module_version": "1.5.0",
      "model_name": "ButtonModel",
      "state": {
       "description": "Choose",
       "layout": "IPY_MODEL_7cfbc38ab0964557b0f8c1581b831a77",
       "style": "IPY_MODEL_2a61dcf01e284e95b6f6e958fe59aa96"
      }
     },
     "d73c996f547a486093f2f715ab092cc6": {
      "model_module": "@jupyter-widgets/base",
      "model_module_version": "1.2.0",
      "model_name": "LayoutModel",
      "state": {}
     },
     "d7fb3aa83f234db089c0a96fd35e29ef": {
      "model_module": "@jupyter-widgets/controls",
      "model_module_version": "1.5.0",
      "model_name": "TextModel",
      "state": {
       "layout": "IPY_MODEL_0ec20561494940a186b5b9266931ee4b",
       "style": "IPY_MODEL_8aa6eda3bb6d4a1b851e7f37f2a6d3b9"
      }
     },
     "d811f448e638425296af152ebff7c252": {
      "model_module": "@jupyter-widgets/controls",
      "model_module_version": "1.5.0",
      "model_name": "ButtonStyleModel",
      "state": {}
     },
     "d87a0afb120b4097b01240e61acbea89": {
      "model_module": "@jupyter-widgets/controls",
      "model_module_version": "1.5.0",
      "model_name": "ButtonModel",
      "state": {
       "description": "Build Factory",
       "layout": "IPY_MODEL_aa7107cf787b402ead119aad8b8174a7",
       "style": "IPY_MODEL_b7e21c8eb44c4730bbc368a4223eb940"
      }
     },
     "d8cc775b875541d78f25f559cb23e099": {
      "model_module": "@jupyter-widgets/base",
      "model_module_version": "1.2.0",
      "model_name": "LayoutModel",
      "state": {}
     },
     "d8dbd444c53747a8a10f4e185d4d8dc6": {
      "model_module": "@jupyter-widgets/controls",
      "model_module_version": "1.5.0",
      "model_name": "ButtonModel",
      "state": {
       "description": "Choose",
       "layout": "IPY_MODEL_52f0e01177a44caaaa7940b3de21dab9",
       "style": "IPY_MODEL_19d97dc0017b4ee08c61f1d7f2c2b196"
      }
     },
     "d9385052c76d44dd814221ad778b025d": {
      "model_module": "@jupyter-widgets/controls",
      "model_module_version": "1.5.0",
      "model_name": "ButtonStyleModel",
      "state": {}
     },
     "d95053d3a3184eafb91ae43b745c21a3": {
      "model_module": "@jupyter-widgets/controls",
      "model_module_version": "1.5.0",
      "model_name": "HBoxModel",
      "state": {
       "children": [
        "IPY_MODEL_45d774bd1b8549d89e2bba5d71e6d0a0",
        "IPY_MODEL_a2a587bbad5f4796879a6830783a1b77"
       ],
       "layout": "IPY_MODEL_8c7c93a4cc0d47b8aa2c7828f5b88421"
      }
     },
     "d9bf57fd0bd04673a8677c86a54a123f": {
      "model_module": "@jupyter-widgets/base",
      "model_module_version": "1.2.0",
      "model_name": "LayoutModel",
      "state": {}
     },
     "d9ff69c7be074777a5c52caa3835b0c8": {
      "model_module": "@jupyter-widgets/controls",
      "model_module_version": "1.5.0",
      "model_name": "ButtonStyleModel",
      "state": {}
     },
     "da013e9dbece47c9a1f54e8012686c5d": {
      "model_module": "@jupyter-widgets/controls",
      "model_module_version": "1.5.0",
      "model_name": "ButtonModel",
      "state": {
       "description": "40 of 100 Refinery using Alternate: Pure Copper Ingot, reste 60",
       "layout": "IPY_MODEL_abd371dcae6144668a5205d1e1dc669d",
       "style": "IPY_MODEL_36761ba3da204019a33465aa208f0fde"
      }
     },
     "da18c1a3a1a14b0fb3e871e8665211fb": {
      "model_module": "@jupyter-widgets/controls",
      "model_module_version": "1.5.0",
      "model_name": "ButtonModel",
      "state": {
       "description": "Produce with recipe",
       "layout": "IPY_MODEL_46bffa13dc914456a975bd2748cc841d",
       "style": "IPY_MODEL_06f9c6bd637747f198360417f17748c1"
      }
     },
     "da205b8223bb4c5585cb4e4e4d45fa70": {
      "model_module": "@jupyter-widgets/controls",
      "model_module_version": "1.5.0",
      "model_name": "ButtonModel",
      "state": {
       "description": "search",
       "layout": "IPY_MODEL_7be1622ee7554940af7e4d8ffc8f2405",
       "style": "IPY_MODEL_25408cf59d9e41abad479fa830172b0e"
      }
     },
     "da7212e569094f26b68a5465b3a56ada": {
      "model_module": "@jupyter-widgets/controls",
      "model_module_version": "1.5.0",
      "model_name": "SelectModel",
      "state": {
       "index": null,
       "layout": "IPY_MODEL_84a67d0783fc4de6840c972b43869b9c",
       "style": "IPY_MODEL_a488c6e6dc0b4eb0b2b360ce9a05dd7e"
      }
     },
     "dac5a7668e4f46eb95baed07d1413240": {
      "model_module": "@jupyter-widgets/controls",
      "model_module_version": "1.5.0",
      "model_name": "ButtonModel",
      "state": {
       "description": "17.72 Assembler using A.I. Limiter",
       "layout": "IPY_MODEL_abd371dcae6144668a5205d1e1dc669d",
       "style": "IPY_MODEL_293db8ba237b4a35aac30a2560b3a3c9"
      }
     },
     "dadabb2a58774082a738541d0e7fd2b3": {
      "model_module": "@jupyter-widgets/controls",
      "model_module_version": "1.5.0",
      "model_name": "VBoxModel",
      "state": {
       "children": [
        "IPY_MODEL_8fd9bf686da04c88afcaad1e92948834",
        "IPY_MODEL_4ff26eba720e4ef5a8c28963e7eeadc2"
       ],
       "layout": "IPY_MODEL_1bc4b6edfb294247a1d827e03dbfdeab"
      }
     },
     "daed339d27bc4d7da033e63f40143445": {
      "model_module": "@jupyter-widgets/base",
      "model_module_version": "1.2.0",
      "model_name": "LayoutModel",
      "state": {}
     },
     "db42c3f1cf4c449eba0e7542bce08f3f": {
      "model_module": "@jupyter-widgets/base",
      "model_module_version": "1.2.0",
      "model_name": "LayoutModel",
      "state": {}
     },
     "dbb8499f885440f8a3b1ab214ef65c73": {
      "model_module": "@jupyter-widgets/controls",
      "model_module_version": "1.5.0",
      "model_name": "ButtonStyleModel",
      "state": {}
     },
     "dbc63729e81b40ba9486878d3f26f877": {
      "model_module": "@jupyter-widgets/controls",
      "model_module_version": "1.5.0",
      "model_name": "ButtonModel",
      "state": {
       "description": "-0.11999999999999034 Heat Sink: 100.13 of 100.01",
       "layout": "IPY_MODEL_abd371dcae6144668a5205d1e1dc669d",
       "style": "IPY_MODEL_4b81f3280af54378a99c7d6d45747a2c"
      }
     },
     "dbf33f5518ab4842b07f7443c9da5b3d": {
      "model_module": "@jupyter-widgets/base",
      "model_module_version": "1.2.0",
      "model_name": "LayoutModel",
      "state": {}
     },
     "dc0418e55a3c4ecda97d2fef3e696f20": {
      "model_module": "@jupyter-widgets/controls",
      "model_module_version": "1.5.0",
      "model_name": "DescriptionStyleModel",
      "state": {
       "description_width": ""
      }
     },
     "dc216f5af5ea42478d0cfcdd5ae340f3": {
      "model_module": "@jupyter-widgets/controls",
      "model_module_version": "1.5.0",
      "model_name": "ButtonStyleModel",
      "state": {}
     },
     "dc29d88f15494ab7b09f70c70fd02db1": {
      "model_module": "@jupyter-widgets/controls",
      "model_module_version": "1.5.0",
      "model_name": "VBoxModel",
      "state": {
       "children": [
        "IPY_MODEL_696fb0de256b4dfa893917f30f241072",
        "IPY_MODEL_6461b2d4da374c19a24659a37ee23d6e"
       ],
       "layout": "IPY_MODEL_ff4463c80ea0459ca23449f74959a59b"
      }
     },
     "dcaaa17f60b44c779880021457ac9574": {
      "model_module": "@jupyter-widgets/controls",
      "model_module_version": "1.5.0",
      "model_name": "LabelModel",
      "state": {
       "layout": "IPY_MODEL_6226c0f9cde44377a5a0f9cf0efd60f9",
       "style": "IPY_MODEL_906c82b53d924152a0e936622cf5cdb4",
       "value": "logs"
      }
     },
     "dd22b9d667c245e8b3d9ad67b112ddff": {
      "model_module": "@jupyter-widgets/controls",
      "model_module_version": "1.5.0",
      "model_name": "ButtonStyleModel",
      "state": {}
     },
     "dd71afe29e394c5aa3ceafee173cf9fa": {
      "model_module": "@jupyter-widgets/controls",
      "model_module_version": "1.5.0",
      "model_name": "DescriptionStyleModel",
      "state": {
       "description_width": ""
      }
     },
     "dd81acc7bb694e0da185d331cea54a15": {
      "model_module": "@jupyter-widgets/base",
      "model_module_version": "1.2.0",
      "model_name": "LayoutModel",
      "state": {}
     },
     "dd909bde31c04adc8d558332c323172b": {
      "model_module": "@jupyter-widgets/controls",
      "model_module_version": "1.5.0",
      "model_name": "ButtonStyleModel",
      "state": {}
     },
     "dd97e10b64c040029414fe1c684fd2ed": {
      "model_module": "@jupyter-widgets/controls",
      "model_module_version": "1.5.0",
      "model_name": "LabelModel",
      "state": {
       "layout": "IPY_MODEL_4f6ed82cd2254065bc405aed5e04718e",
       "style": "IPY_MODEL_51f55a48ede34aad856ddabd797c23e0",
       "value": "Recipes"
      }
     },
     "ddae704d1753417c98992759abfe8234": {
      "model_module": "@jupyter-widgets/base",
      "model_module_version": "1.2.0",
      "model_name": "LayoutModel",
      "state": {}
     },
     "ddf5b127ce4544ae83958ebbce59f11c": {
      "model_module": "@jupyter-widgets/controls",
      "model_module_version": "1.5.0",
      "model_name": "ButtonStyleModel",
      "state": {}
     },
     "de1e6ff142ef4e1e82921083f74904fe": {
      "model_module": "@jupyter-widgets/controls",
      "model_module_version": "1.5.0",
      "model_name": "ButtonModel",
      "state": {
       "description": "13.33 of 43.55 Refinery using Packaged Water, reste 30.22",
       "layout": "IPY_MODEL_abd371dcae6144668a5205d1e1dc669d",
       "style": "IPY_MODEL_f4b83e5850364be28cbd98be920ee112"
      }
     },
     "de6dedeb9a914889a59530a9814493a2": {
      "model_module": "@jupyter-widgets/base",
      "model_module_version": "1.2.0",
      "model_name": "LayoutModel",
      "state": {}
     },
     "dedc8fc211224d078550d1b283faae3b": {
      "model_module": "@jupyter-widgets/base",
      "model_module_version": "1.2.0",
      "model_name": "LayoutModel",
      "state": {}
     },
     "df5f9b142bf44813aa13f157df2d63c5": {
      "model_module": "@jupyter-widgets/controls",
      "model_module_version": "1.5.0",
      "model_name": "ButtonModel",
      "state": {
       "description": "0.1499999999999999 Beacon: 3.6 of 3.75",
       "layout": "IPY_MODEL_abd371dcae6144668a5205d1e1dc669d",
       "style": "IPY_MODEL_b11e3768099a487e974381b7e0b2807b"
      }
     },
     "dfc04867a11f4da1bfafa37acd688cd1": {
      "model_module": "@jupyter-widgets/controls",
      "model_module_version": "1.5.0",
      "model_name": "TextModel",
      "state": {
       "layout": "IPY_MODEL_13c1da46ae374d0a9a7b642cf981e9cb",
       "style": "IPY_MODEL_4b150b66a1f3487187d1b7a6d27be77b"
      }
     },
     "dfd34e69137448be91f00f0e3dd3eff8": {
      "model_module": "@jupyter-widgets/controls",
      "model_module_version": "1.5.0",
      "model_name": "ButtonModel",
      "state": {
       "description": "Produce with recipe",
       "layout": "IPY_MODEL_db42c3f1cf4c449eba0e7542bce08f3f",
       "style": "IPY_MODEL_57d478ba5a024aeab228ab4f7a6460fb"
      }
     },
     "e00e210bd6f942c3a1f21f816a8dae04": {
      "model_module": "@jupyter-widgets/controls",
      "model_module_version": "1.5.0",
      "model_name": "ButtonModel",
      "state": {
       "button_style": "warning",
       "description": "-224.1 Steel Pipe: -224.1",
       "layout": "IPY_MODEL_56eae548ea6e41abb16dd2b5c98cfdd1",
       "style": "IPY_MODEL_eee14f1d1c8048d5b977234b575c81fa"
      }
     },
     "e031d979115b4f36b088333b9c215ce7": {
      "model_module": "@jupyter-widgets/controls",
      "model_module_version": "1.5.0",
      "model_name": "VBoxModel",
      "state": {
       "children": [
        "IPY_MODEL_f2ac58d9d87547e988164be066e8409f"
       ],
       "layout": "IPY_MODEL_63da1212de2f44c5899cfa5facf88206"
      }
     },
     "e09f583954f144e9a720f8db53646229": {
      "model_module": "@jupyter-widgets/controls",
      "model_module_version": "1.5.0",
      "model_name": "SelectModel",
      "state": {
       "index": null,
       "layout": "IPY_MODEL_0fe526ccdbd846f1a329e6b4c276ad63",
       "style": "IPY_MODEL_dd71afe29e394c5aa3ceafee173cf9fa"
      }
     },
     "e0a7372b7b454ce08db22c352895a1ee": {
      "model_module": "@jupyter-widgets/controls",
      "model_module_version": "1.5.0",
      "model_name": "DescriptionStyleModel",
      "state": {
       "description_width": ""
      }
     },
     "e113af5f7abb4d998990c0eb78f153bf": {
      "model_module": "@jupyter-widgets/base",
      "model_module_version": "1.2.0",
      "model_name": "LayoutModel",
      "state": {}
     },
     "e11e39caaef54ad1b9584d57968abfbf": {
      "model_module": "@jupyter-widgets/controls",
      "model_module_version": "1.5.0",
      "model_name": "ButtonStyleModel",
      "state": {}
     },
     "e133cc4b7115421bbf5ae02923449f8a": {
      "model_module": "@jupyter-widgets/controls",
      "model_module_version": "1.5.0",
      "model_name": "ButtonStyleModel",
      "state": {}
     },
     "e14bfffd1406472abab1761a8708ede7": {
      "model_module": "@jupyter-widgets/controls",
      "model_module_version": "1.5.0",
      "model_name": "ButtonStyleModel",
      "state": {}
     },
     "e18cacd191494fb99a44fe568d15d80c": {
      "model_module": "@jupyter-widgets/controls",
      "model_module_version": "1.5.0",
      "model_name": "ButtonModel",
      "state": {
       "description": "0.0 Sulfur: 1600.0 of 1600.0",
       "layout": "IPY_MODEL_50c8605a220a41f9854478362a8e13c8",
       "style": "IPY_MODEL_9b168c3ec1944e8e96bf1dd851232335"
      }
     },
     "e19459fc05ac497895c8c43288f14d24": {
      "model_module": "@jupyter-widgets/controls",
      "model_module_version": "1.5.0",
      "model_name": "ButtonStyleModel",
      "state": {}
     },
     "e1cd52801b654b1ca6f007fe04454b25": {
      "model_module": "@jupyter-widgets/controls",
      "model_module_version": "1.5.0",
      "model_name": "ButtonStyleModel",
      "state": {}
     },
     "e1e8cd2f19314e658cd792315b8f1863": {
      "model_module": "@jupyter-widgets/controls",
      "model_module_version": "1.5.0",
      "model_name": "HBoxModel",
      "state": {
       "children": [
        "IPY_MODEL_45019851a24045fa86583decf7fbe356",
        "IPY_MODEL_dc29d88f15494ab7b09f70c70fd02db1"
       ],
       "layout": "IPY_MODEL_3a4f068530f446e8a6cbaff13eaf8ae5"
      }
     },
     "e2051fe9aa9b4d4fa32a8e741acb6ff5": {
      "model_module": "@jupyter-widgets/controls",
      "model_module_version": "1.5.0",
      "model_name": "ButtonModel",
      "state": {
       "description": "search",
       "layout": "IPY_MODEL_5d5d390face745c7bdb2f22cc2ca1c45",
       "style": "IPY_MODEL_2f8d6b7a37534cdf9e2de85d522f4217"
      }
     },
     "e20ea880eb8340338672bc2c82cae4d2": {
      "model_module": "@jupyter-widgets/controls",
      "model_module_version": "1.5.0",
      "model_name": "SelectModel",
      "state": {
       "index": null,
       "layout": "IPY_MODEL_83ec77d6424d48a584484f0d9b1464ff",
       "style": "IPY_MODEL_2e3e8759c4f5442e8d1a042d8329a392"
      }
     },
     "e2b9ae096a71402dbb3e8b478baf95cb": {
      "model_module": "@jupyter-widgets/controls",
      "model_module_version": "1.5.0",
      "model_name": "TextModel",
      "state": {
       "layout": "IPY_MODEL_0d6cc64545894b26a2c50a87c0d41c11",
       "style": "IPY_MODEL_9f1ee305bb70400b8e33debc8018242f"
      }
     },
     "e2d5a800f8da4e12875a58c009e68f2f": {
      "model_module": "@jupyter-widgets/controls",
      "model_module_version": "1.5.0",
      "model_name": "DescriptionStyleModel",
      "state": {
       "description_width": ""
      }
     },
     "e2edf5adb6bf4a9b9f90e38102a8adae": {
      "model_module": "@jupyter-widgets/controls",
      "model_module_version": "1.5.0",
      "model_name": "ButtonStyleModel",
      "state": {}
     },
     "e2f10aceb34b44f8b4f2eb61d66cf359": {
      "model_module": "@jupyter-widgets/base",
      "model_module_version": "1.2.0",
      "model_name": "LayoutModel",
      "state": {}
     },
     "e306156c2f2e45dc8557f711be9466be": {
      "model_module": "@jupyter-widgets/base",
      "model_module_version": "1.2.0",
      "model_name": "LayoutModel",
      "state": {}
     },
     "e316f53e41e74be182ec085b3c3fcd21": {
      "model_module": "@jupyter-widgets/controls",
      "model_module_version": "1.5.0",
      "model_name": "ButtonStyleModel",
      "state": {}
     },
     "e3259a8909a142508795e07cfe363d85": {
      "model_module": "@jupyter-widgets/controls",
      "model_module_version": "1.5.0",
      "model_name": "ButtonStyleModel",
      "state": {}
     },
     "e35464695ba5421fa37608b6957b1964": {
      "model_module": "@jupyter-widgets/base",
      "model_module_version": "1.2.0",
      "model_name": "LayoutModel",
      "state": {}
     },
     "e36d03f69a484d3aa7b887c571faa36a": {
      "model_module": "@jupyter-widgets/controls",
      "model_module_version": "1.5.0",
      "model_name": "ButtonStyleModel",
      "state": {}
     },
     "e390273306f44ccbad6a375b97c9632a": {
      "model_module": "@jupyter-widgets/controls",
      "model_module_version": "1.5.0",
      "model_name": "ButtonModel",
      "state": {
       "button_style": "success",
       "description": "# 1.2 of 1.2 Manufacturer using Rifle Cartridge, reste 0.0",
       "layout": "IPY_MODEL_abd371dcae6144668a5205d1e1dc669d",
       "style": "IPY_MODEL_0e45d47ec4434200ad493c48017a9b24"
      }
     },
     "e4e87975a5384d72bb7b2117aa94fdf0": {
      "model_module": "@jupyter-widgets/controls",
      "model_module_version": "1.5.0",
      "model_name": "HBoxModel",
      "state": {
       "children": [
        "IPY_MODEL_0b229e1ba4e64b73ae13a4275a4ecdf3",
        "IPY_MODEL_8b9c2d932322432f8d8beb5e289ce0e7"
       ],
       "layout": "IPY_MODEL_e970b695cf1448eb84f6ee6781e5dd8c"
      }
     },
     "e4f2b424a5ff4a9da410dbdd17625a2a": {
      "model_module": "@jupyter-widgets/controls",
      "model_module_version": "1.5.0",
      "model_name": "ButtonStyleModel",
      "state": {}
     },
     "e5525daeda714712887cc21e0205902b": {
      "model_module": "@jupyter-widgets/controls",
      "model_module_version": "1.5.0",
      "model_name": "ButtonStyleModel",
      "state": {}
     },
     "e553753dcfcc4bf0a2ebd208fc30b9b1": {
      "model_module": "@jupyter-widgets/controls",
      "model_module_version": "1.5.0",
      "model_name": "ButtonModel",
      "state": {
       "description": "0.25 Constructor using Cable",
       "layout": "IPY_MODEL_718465d2c182451480d43bbcaadabb6b",
       "style": "IPY_MODEL_409d592d3cac42b4b8c9a01e955a0015"
      }
     },
     "e64b800b17ff400e808a7f50ab740be2": {
      "model_module": "@jupyter-widgets/base",
      "model_module_version": "1.2.0",
      "model_name": "LayoutModel",
      "state": {}
     },
     "e682cb51af274a46a8e8171ace83e900": {
      "model_module": "@jupyter-widgets/base",
      "model_module_version": "1.2.0",
      "model_name": "LayoutModel",
      "state": {}
     },
     "e6ecea7c53484eeeb49c0727110be7d8": {
      "model_module": "@jupyter-widgets/controls",
      "model_module_version": "1.5.0",
      "model_name": "ButtonStyleModel",
      "state": {}
     },
     "e705a743f80947d8b18dd59f6a4905f5": {
      "model_module": "@jupyter-widgets/controls",
      "model_module_version": "1.5.0",
      "model_name": "ButtonStyleModel",
      "state": {}
     },
     "e70789c8fbef45bc814808733269c050": {
      "model_module": "@jupyter-widgets/controls",
      "model_module_version": "1.5.0",
      "model_name": "ButtonStyleModel",
      "state": {}
     },
     "e759cf2f51354f62a9d2d15f496d5213": {
      "model_module": "@jupyter-widgets/controls",
      "model_module_version": "1.5.0",
      "model_name": "HBoxModel",
      "state": {
       "children": [
        "IPY_MODEL_d7fb3aa83f234db089c0a96fd35e29ef",
        "IPY_MODEL_8fb7ae6789c24e168916fcaa97c1594a"
       ],
       "layout": "IPY_MODEL_a013cd7b55d946c79aa19c68334553e5"
      }
     },
     "e7807151eb7d472e95c32cb4298df286": {
      "model_module": "@jupyter-widgets/controls",
      "model_module_version": "1.5.0",
      "model_name": "ButtonStyleModel",
      "state": {}
     },
     "e7e6f3acdd214e54852adb473b180a51": {
      "model_module": "@jupyter-widgets/controls",
      "model_module_version": "1.5.0",
      "model_name": "ButtonModel",
      "state": {
       "description": "search",
       "layout": "IPY_MODEL_92b458230a9e4553a1e5b074bd8925b7",
       "style": "IPY_MODEL_405a308e1a8e43b799da667181c370b1"
      }
     },
     "e888e4c8abf54923933ad351165a7b69": {
      "model_module": "@jupyter-widgets/controls",
      "model_module_version": "1.5.0",
      "model_name": "HBoxModel",
      "state": {
       "children": [
        "IPY_MODEL_985495614bf343788ed913c8f7949213",
        "IPY_MODEL_63d7782a66b24dcb8e4326295d4dc7a1"
       ],
       "layout": "IPY_MODEL_59b9b86d6fcb4effaff0d17895ff5989"
      }
     },
     "e88f600ad1884db5816282ecc6e2fe04": {
      "model_module": "@jupyter-widgets/controls",
      "model_module_version": "1.5.0",
      "model_name": "DescriptionStyleModel",
      "state": {
       "description_width": ""
      }
     },
     "e8b57c8173a843e285ecddc22a7a5ca0": {
      "model_module": "@jupyter-widgets/base",
      "model_module_version": "1.2.0",
      "model_name": "LayoutModel",
      "state": {}
     },
     "e8c17aba6abf4253932338bd8dd3e3bf": {
      "model_module": "@jupyter-widgets/controls",
      "model_module_version": "1.5.0",
      "model_name": "ButtonModel",
      "state": {
       "description": "0.1999999999999318 Polymer Resin: 653.2 of 653.4",
       "layout": "IPY_MODEL_abd371dcae6144668a5205d1e1dc669d",
       "style": "IPY_MODEL_ea8e19b25ce446a88b8f2d25c5788051"
      }
     },
     "e8c440ee826c4679a086a9b1eb86f4aa": {
      "model_module": "@jupyter-widgets/controls",
      "model_module_version": "1.5.0",
      "model_name": "ButtonStyleModel",
      "state": {}
     },
     "e8d8b0ed3a8d4a87a3204a4e62bfc306": {
      "model_module": "@jupyter-widgets/base",
      "model_module_version": "1.2.0",
      "model_name": "LayoutModel",
      "state": {}
     },
     "e970b695cf1448eb84f6ee6781e5dd8c": {
      "model_module": "@jupyter-widgets/base",
      "model_module_version": "1.2.0",
      "model_name": "LayoutModel",
      "state": {}
     },
     "e98dc0abc6864645afed84ae08f24083": {
      "model_module": "@jupyter-widgets/controls",
      "model_module_version": "1.5.0",
      "model_name": "VBoxModel",
      "state": {
       "children": [
        "IPY_MODEL_d5692463c946402691cb02cae3ea0374",
        "IPY_MODEL_dbc63729e81b40ba9486878d3f26f877",
        "IPY_MODEL_23a5a7ca570b479e93c22f6cd54ad40e",
        "IPY_MODEL_d0145c2814da4b6784cce82ac71506ad",
        "IPY_MODEL_6657b61baf314a379cd561796d1a3995",
        "IPY_MODEL_f3d24a5dd44747c8920606449d6cc8b0",
        "IPY_MODEL_808e2368161541ba9ebfad6ecedb6c5b",
        "IPY_MODEL_6bc12ffbe11040a7b6c800845b5cb781",
        "IPY_MODEL_5fff9e77cca24c0eba64900058db8d7e",
        "IPY_MODEL_7df00eb2f45644daacbd3328320d9f98",
        "IPY_MODEL_aeed9f043720491a8753d74c7bccdfd5",
        "IPY_MODEL_1a846263653b4fa3b679c292fb63a237",
        "IPY_MODEL_4842c8a0ab7849fea0201456cf842ffa",
        "IPY_MODEL_3859d8caa6d949d5ac79de9bb214af8d",
        "IPY_MODEL_0e2431f7eded4cc5beec49ea62c03497",
        "IPY_MODEL_b18397b8895a4152ba86d0c8c6431eba",
        "IPY_MODEL_851af66147ee44b5a0ca8e4c04dc072d",
        "IPY_MODEL_14d9bcb8d6684b6cad1560fa19f10ff8",
        "IPY_MODEL_0ae3f816725d4bce8ebce6f85334429e",
        "IPY_MODEL_fe7cd8ab2790459a8204700152cde952",
        "IPY_MODEL_6efeb1f6efd04706b925443dfb79834f",
        "IPY_MODEL_a33fd181f86e4169aa4427f6fd063275",
        "IPY_MODEL_0edd3c48c6954c9ba6a8452935455937",
        "IPY_MODEL_008933623e4f44f79557b2d669ac0520",
        "IPY_MODEL_b5a8767cd76e4d3092cdcffba37bb3ba",
        "IPY_MODEL_a94010fe4e1b44c384c10f0e00376f69",
        "IPY_MODEL_df5f9b142bf44813aa13f157df2d63c5",
        "IPY_MODEL_e8c17aba6abf4253932338bd8dd3e3bf",
        "IPY_MODEL_2065c65b1bcd41af8d22909c07397af7",
        "IPY_MODEL_02a68510ceb44d389066b49ecf1e6218",
        "IPY_MODEL_c079594067f3403092556a940910fa47",
        "IPY_MODEL_3a203765e22e42e9b6ee657b715f148a",
        "IPY_MODEL_edc431409da144e281600ec8c4962b09",
        "IPY_MODEL_619290fe6d6f494cae4ba75c0677c23d",
        "IPY_MODEL_3da1de305144437a88a6aad1ae76bb79",
        "IPY_MODEL_7aad23ff19bf4eed8c866faf43fb98e6",
        "IPY_MODEL_c2a2adfa41e3447ca24c4b3bc16c7f8f",
        "IPY_MODEL_ad8ff63d0ed345829fa83332ff489464",
        "IPY_MODEL_0c2c5487cb5f4d23ae9201b203873949",
        "IPY_MODEL_8038863aa8964b048570670387887ed7",
        "IPY_MODEL_b686f37adb9842598eccf46fdb719b37",
        "IPY_MODEL_f814d93c6fa64e4c863db7bf881c04ad",
        "IPY_MODEL_eaa58922b9234a2ca7e2b700cc765eaf",
        "IPY_MODEL_108d86859d664bed870c32461eadc02c",
        "IPY_MODEL_11cb68d79dd54a929fdda6de7439bb03",
        "IPY_MODEL_73fda9f070fc4390955e3a5eaf65dfd5",
        "IPY_MODEL_bec497d969634742b9f722de81012012",
        "IPY_MODEL_5e6a2938df584ebaa18ddda5e6bee338"
       ],
       "layout": "IPY_MODEL_c54f3b7cff544006a3090963c657b6da"
      }
     },
     "ea267d91a0ff41f38f099ae3cf9bb7e9": {
      "model_module": "@jupyter-widgets/controls",
      "model_module_version": "1.5.0",
      "model_name": "DescriptionStyleModel",
      "state": {
       "description_width": ""
      }
     },
     "ea36e13582fb4af9852b159a67ed607a": {
      "model_module": "@jupyter-widgets/controls",
      "model_module_version": "1.5.0",
      "model_name": "ButtonModel",
      "state": {
       "description": "0.1499999999999999 Beacon: 3.6 of 3.75",
       "layout": "IPY_MODEL_718465d2c182451480d43bbcaadabb6b",
       "style": "IPY_MODEL_b7671861184943c28b4a02977e1a24c2"
      }
     },
     "ea3b4f1c063443329a9e5959d087d638": {
      "model_module": "@jupyter-widgets/controls",
      "model_module_version": "1.5.0",
      "model_name": "DescriptionStyleModel",
      "state": {
       "description_width": ""
      }
     },
     "ea63b7e5b6744a539c535abc5838796f": {
      "model_module": "@jupyter-widgets/controls",
      "model_module_version": "1.5.0",
      "model_name": "ButtonModel",
      "state": {
       "description": "Choose",
       "layout": "IPY_MODEL_960daf96120c47e8a8f2b662f4009ad7",
       "style": "IPY_MODEL_d9385052c76d44dd814221ad778b025d"
      }
     },
     "ea8e19b25ce446a88b8f2d25c5788051": {
      "model_module": "@jupyter-widgets/controls",
      "model_module_version": "1.5.0",
      "model_name": "ButtonStyleModel",
      "state": {}
     },
     "ea8ed775da184628a28e3edfc5ce64d3": {
      "model_module": "@jupyter-widgets/controls",
      "model_module_version": "1.5.0",
      "model_name": "ButtonStyleModel",
      "state": {}
     },
     "eaa58922b9234a2ca7e2b700cc765eaf": {
      "model_module": "@jupyter-widgets/controls",
      "model_module_version": "1.5.0",
      "model_name": "ButtonModel",
      "state": {
       "description": "74.0 Black Powder: 136.0 of 210.0",
       "layout": "IPY_MODEL_abd371dcae6144668a5205d1e1dc669d",
       "style": "IPY_MODEL_ca237662982a4ade830636ff836f25b0"
      }
     },
     "eab5eb87f89c4e89a06afdbdcc590c26": {
      "model_module": "@jupyter-widgets/controls",
      "model_module_version": "1.5.0",
      "model_name": "ButtonModel",
      "state": {
       "description": "2000.0 Turbofuel: +2000.0",
       "layout": "IPY_MODEL_50c8605a220a41f9854478362a8e13c8",
       "style": "IPY_MODEL_e1cd52801b654b1ca6f007fe04454b25"
      }
     },
     "eab819af987d4ee29a93a3bbd62ac5be": {
      "model_module": "@jupyter-widgets/base",
      "model_module_version": "1.2.0",
      "model_name": "LayoutModel",
      "state": {}
     },
     "eadd3611b1f4456ab755c3eb72ad3a72": {
      "model_module": "@jupyter-widgets/controls",
      "model_module_version": "1.5.0",
      "model_name": "ButtonStyleModel",
      "state": {}
     },
     "eafe10d3e370485888a1d2c98133b012": {
      "model_module": "@jupyter-widgets/base",
      "model_module_version": "1.2.0",
      "model_name": "LayoutModel",
      "state": {}
     },
     "eb2a84dab65b49848bb7e5f3d70770d5": {
      "model_module": "@jupyter-widgets/controls",
      "model_module_version": "1.5.0",
      "model_name": "ButtonStyleModel",
      "state": {}
     },
     "eb4c2789d12a457ab126dbefec061ea2": {
      "model_module": "@jupyter-widgets/controls",
      "model_module_version": "1.5.0",
      "model_name": "DescriptionStyleModel",
      "state": {
       "description_width": ""
      }
     },
     "eb530a475c3042d0b2e9cbecf5987b1e": {
      "model_module": "@jupyter-widgets/base",
      "model_module_version": "1.2.0",
      "model_name": "LayoutModel",
      "state": {}
     },
     "eb6d1946c6e347398e8ca80273da13e1": {
      "model_module": "@jupyter-widgets/controls",
      "model_module_version": "1.5.0",
      "model_name": "DescriptionStyleModel",
      "state": {
       "description_width": ""
      }
     },
     "eb754a2639284c809ffcf59ba109dbca": {
      "model_module": "@jupyter-widgets/base",
      "model_module_version": "1.2.0",
      "model_name": "LayoutModel",
      "state": {}
     },
     "ebaeae6ae9534ed78fca10eaa88948b6": {
      "model_module": "@jupyter-widgets/controls",
      "model_module_version": "1.5.0",
      "model_name": "ButtonStyleModel",
      "state": {}
     },
     "ec08bcffd14644699b8db3c13a041a48": {
      "model_module": "@jupyter-widgets/controls",
      "model_module_version": "1.5.0",
      "model_name": "DescriptionStyleModel",
      "state": {
       "description_width": ""
      }
     },
     "ec0cd9e5f2ec410887141f3f85bd7a30": {
      "model_module": "@jupyter-widgets/controls",
      "model_module_version": "1.5.0",
      "model_name": "ButtonStyleModel",
      "state": {}
     },
     "ec50920b0324467a901ae680f2dc9554": {
      "model_module": "@jupyter-widgets/controls",
      "model_module_version": "1.5.0",
      "model_name": "ButtonStyleModel",
      "state": {}
     },
     "ec9906be426642ff96a71c289d5a5d1e": {
      "model_module": "@jupyter-widgets/controls",
      "model_module_version": "1.5.0",
      "model_name": "ButtonStyleModel",
      "state": {}
     },
     "ec9c69c4be144e8e8694262b8c733953": {
      "model_module": "@jupyter-widgets/controls",
      "model_module_version": "1.5.0",
      "model_name": "ButtonStyleModel",
      "state": {}
     },
     "ed512c77927a4770ae5d25759f53c3b1": {
      "model_module": "@jupyter-widgets/base",
      "model_module_version": "1.2.0",
      "model_name": "LayoutModel",
      "state": {}
     },
     "edb2749140de42f8bb594c44404e2c7e": {
      "model_module": "@jupyter-widgets/controls",
      "model_module_version": "1.5.0",
      "model_name": "FloatTextModel",
      "state": {
       "layout": "IPY_MODEL_fc5c2e207c634f9b953b2cadb758281b",
       "step": null,
       "style": "IPY_MODEL_0dc90dc4c7cd4a1d92d9fb5423e5ed6d"
      }
     },
     "edc431409da144e281600ec8c4962b09": {
      "model_module": "@jupyter-widgets/controls",
      "model_module_version": "1.5.0",
      "model_name": "ButtonModel",
      "state": {
       "description": "0.39000000000010004 Iron Rod: 1589.85 of 1590.24",
       "layout": "IPY_MODEL_abd371dcae6144668a5205d1e1dc669d",
       "style": "IPY_MODEL_b0f941c97aa045248951fff57f0c7600"
      }
     },
     "ee4484b35b854cc89422a2a83b7f3a69": {
      "model_module": "@jupyter-widgets/base",
      "model_module_version": "1.2.0",
      "model_name": "LayoutModel",
      "state": {}
     },
     "ee4ee31081dd46598fbc15b24c93f5fe": {
      "model_module": "@jupyter-widgets/controls",
      "model_module_version": "1.5.0",
      "model_name": "DescriptionStyleModel",
      "state": {
       "description_width": ""
      }
     },
     "eea970df2b5b47fa8e961ceef5cd90d3": {
      "model_module": "@jupyter-widgets/controls",
      "model_module_version": "1.5.0",
      "model_name": "ButtonModel",
      "state": {
       "description": "Add Factory",
       "layout": "IPY_MODEL_b75d8f8e3238498a8d40feb1ac10a7ab",
       "style": "IPY_MODEL_d07620b832d8443dbbd3fc5bdf0be651"
      }
     },
     "eecd5f44145d4b6dbc59fdea66bb49c5": {
      "model_module": "@jupyter-widgets/controls",
      "model_module_version": "1.5.0",
      "model_name": "ButtonStyleModel",
      "state": {}
     },
     "eed224ba7e984f4fa454628e803374bc": {
      "model_module": "@jupyter-widgets/base",
      "model_module_version": "1.2.0",
      "model_name": "LayoutModel",
      "state": {
       "align_items": "flex-start",
       "width": "80%"
      }
     },
     "eee14f1d1c8048d5b977234b575c81fa": {
      "model_module": "@jupyter-widgets/controls",
      "model_module_version": "1.5.0",
      "model_name": "ButtonStyleModel",
      "state": {}
     },
     "ef0410e3c07f4879893352e32c6134a4": {
      "model_module": "@jupyter-widgets/controls",
      "model_module_version": "1.5.0",
      "model_name": "ButtonStyleModel",
      "state": {}
     },
     "ef15d46c043741f495fc2a9566da5965": {
      "model_module": "@jupyter-widgets/base",
      "model_module_version": "1.2.0",
      "model_name": "LayoutModel",
      "state": {}
     },
     "ef90192657084e3c912306c32343f9db": {
      "model_module": "@jupyter-widgets/controls",
      "model_module_version": "1.5.0",
      "model_name": "ButtonStyleModel",
      "state": {}
     },
     "efe8052757a3444dbee7f51effabd551": {
      "model_module": "@jupyter-widgets/base",
      "model_module_version": "1.2.0",
      "model_name": "LayoutModel",
      "state": {}
     },
     "effe310ddd4744fba50112127b229cfc": {
      "model_module": "@jupyter-widgets/base",
      "model_module_version": "1.2.0",
      "model_name": "LayoutModel",
      "state": {}
     },
     "f0f294b5095d45c4a86ff50ccdaccce2": {
      "model_module": "@jupyter-widgets/base",
      "model_module_version": "1.2.0",
      "model_name": "LayoutModel",
      "state": {}
     },
     "f0f4d7d9638c4e468bb2b31e5fde334d": {
      "model_module": "@jupyter-widgets/controls",
      "model_module_version": "1.5.0",
      "model_name": "ButtonStyleModel",
      "state": {}
     },
     "f102f0d2cfa1456e9bc3ec80843705cd": {
      "model_module": "@jupyter-widgets/controls",
      "model_module_version": "1.5.0",
      "model_name": "ButtonModel",
      "state": {
       "description": "Choose",
       "layout": "IPY_MODEL_ef15d46c043741f495fc2a9566da5965",
       "style": "IPY_MODEL_cb25f76c6acf46ee965e6ff047f36ad0"
      }
     },
     "f11ff1a50e7a458a8b6c62e3ea231245": {
      "model_module": "@jupyter-widgets/controls",
      "model_module_version": "1.5.0",
      "model_name": "ButtonModel",
      "state": {
       "description": "0.0 Heavy Oil Residue: 1800.0 of 1800.0",
       "layout": "IPY_MODEL_eed224ba7e984f4fa454628e803374bc",
       "style": "IPY_MODEL_ec9c69c4be144e8e8694262b8c733953"
      }
     },
     "f188b6c4a51344729a281619c0cd506f": {
      "model_module": "@jupyter-widgets/controls",
      "model_module_version": "1.5.0",
      "model_name": "DescriptionStyleModel",
      "state": {
       "description_width": ""
      }
     },
     "f1a0ae9924424535b50c4385f6cef6cb": {
      "model_module": "@jupyter-widgets/controls",
      "model_module_version": "1.5.0",
      "model_name": "DescriptionStyleModel",
      "state": {
       "description_width": ""
      }
     },
     "f1b522b69a0a482e86f64a7c84535c0f": {
      "model_module": "@jupyter-widgets/controls",
      "model_module_version": "1.5.0",
      "model_name": "ButtonStyleModel",
      "state": {}
     },
     "f1f808462dc847cf8ff484ff85114575": {
      "model_module": "@jupyter-widgets/controls",
      "model_module_version": "1.5.0",
      "model_name": "ButtonStyleModel",
      "state": {}
     },
     "f24bc4a7312a4e34addc748754ac1962": {
      "model_module": "@jupyter-widgets/controls",
      "model_module_version": "1.5.0",
      "model_name": "ButtonModel",
      "state": {
       "description": "Choose",
       "layout": "IPY_MODEL_eafe10d3e370485888a1d2c98133b012",
       "style": "IPY_MODEL_489a8094baa64e0297cb21cc27fe71c1"
      }
     },
     "f2542f669b874a3699f1807d8c8fa2af": {
      "model_module": "@jupyter-widgets/controls",
      "model_module_version": "1.5.0",
      "model_name": "ButtonStyleModel",
      "state": {}
     },
     "f25a884440024bdcb2ba03a00031ade7": {
      "model_module": "@jupyter-widgets/controls",
      "model_module_version": "1.5.0",
      "model_name": "ButtonStyleModel",
      "state": {}
     },
     "f2ac58d9d87547e988164be066e8409f": {
      "model_module": "@jupyter-widgets/controls",
      "model_module_version": "1.5.0",
      "model_name": "ButtonModel",
      "state": {
       "description": "1980.0 Iron Ore: +1980.0",
       "layout": "IPY_MODEL_5df8e62cca004c938578b4c100899cd0",
       "style": "IPY_MODEL_d31c7d69ae41413aabf9018fea672bcd"
      }
     },
     "f2b62f1b5b144725a9314114aa81166f": {
      "model_module": "@jupyter-widgets/controls",
      "model_module_version": "1.5.0",
      "model_name": "DescriptionStyleModel",
      "state": {
       "description_width": ""
      }
     },
     "f2fe2c1d697140a0bbd57c5caf6e500a": {
      "model_module": "@jupyter-widgets/controls",
      "model_module_version": "1.5.0",
      "model_name": "ButtonStyleModel",
      "state": {}
     },
     "f2ffded9e4974849be144a36c0c8fa81": {
      "model_module": "@jupyter-widgets/base",
      "model_module_version": "1.2.0",
      "model_name": "LayoutModel",
      "state": {}
     },
     "f306de3e9f7147459135d295cef332fc": {
      "model_module": "@jupyter-widgets/base",
      "model_module_version": "1.2.0",
      "model_name": "LayoutModel",
      "state": {}
     },
     "f30ff89f6206451d95f9a8666c28f471": {
      "model_module": "@jupyter-widgets/controls",
      "model_module_version": "1.5.0",
      "model_name": "VBoxModel",
      "state": {
       "children": [
        "IPY_MODEL_c1ba0dd17cb84e54b482351bc90fe63d",
        "IPY_MODEL_468e7a7f81c140ea9b682e5afc054b6e"
       ],
       "layout": "IPY_MODEL_671f5f0529cb4d31ab032e94675ddb76"
      }
     },
     "f3541a18e06c43bb9e5642444666bf7a": {
      "model_module": "@jupyter-widgets/controls",
      "model_module_version": "1.5.0",
      "model_name": "ButtonModel",
      "state": {
       "description": "0.0 Steel Pipe: 236.0 of 236.0",
       "layout": "IPY_MODEL_718465d2c182451480d43bbcaadabb6b",
       "style": "IPY_MODEL_ec0cd9e5f2ec410887141f3f85bd7a30"
      }
     },
     "f3d24a5dd44747c8920606449d6cc8b0": {
      "model_module": "@jupyter-widgets/controls",
      "model_module_version": "1.5.0",
      "model_name": "ButtonModel",
      "state": {
       "description": "-0.010000000000001563 Crystal Oscillator: 16.75 of 16.74",
       "layout": "IPY_MODEL_abd371dcae6144668a5205d1e1dc669d",
       "style": "IPY_MODEL_e19459fc05ac497895c8c43288f14d24"
      }
     },
     "f3e9ca85513442108238c7f99facc9af": {
      "model_module": "@jupyter-widgets/controls",
      "model_module_version": "1.5.0",
      "model_name": "ButtonStyleModel",
      "state": {}
     },
     "f49e45c8a40c44e78846c7c9b5fc1e8f": {
      "model_module": "@jupyter-widgets/base",
      "model_module_version": "1.2.0",
      "model_name": "LayoutModel",
      "state": {}
     },
     "f4b83e5850364be28cbd98be920ee112": {
      "model_module": "@jupyter-widgets/controls",
      "model_module_version": "1.5.0",
      "model_name": "ButtonStyleModel",
      "state": {}
     },
     "f51c75c54ce1459baf4bca5d49930720": {
      "model_module": "@jupyter-widgets/controls",
      "model_module_version": "1.5.0",
      "model_name": "HBoxModel",
      "state": {
       "layout": "IPY_MODEL_f971e4d7fc404d80b991c51b6658cb30"
      }
     },
     "f54f0a5622f64246861bca13875c952c": {
      "model_module": "@jupyter-widgets/controls",
      "model_module_version": "1.5.0",
      "model_name": "VBoxModel",
      "state": {
       "children": [
        "IPY_MODEL_a027d6fbf40d468f8e620e61aecd34e4",
        "IPY_MODEL_fe9e24ec1495473a9c0419611ad7bfbe"
       ],
       "layout": "IPY_MODEL_ee4484b35b854cc89422a2a83b7f3a69"
      }
     },
     "f58c223de3c8422b80c5e8ce7fad653c": {
      "model_module": "@jupyter-widgets/base",
      "model_module_version": "1.2.0",
      "model_name": "LayoutModel",
      "state": {}
     },
     "f5ee230f0e1f4fe0888221dc09033ce9": {
      "model_module": "@jupyter-widgets/controls",
      "model_module_version": "1.5.0",
      "model_name": "SelectModel",
      "state": {
       "index": null,
       "layout": "IPY_MODEL_c6801456e41e4bb6b8c03806a90e9177",
       "style": "IPY_MODEL_d17d85660c0742419e871fa11a397eab"
      }
     },
     "f5f924854f674f0c8a7f3cd14d984533": {
      "model_module": "@jupyter-widgets/output",
      "model_module_version": "1.0.0",
      "model_name": "OutputModel",
      "state": {
       "layout": "IPY_MODEL_6891b4aa56af4299a73d96006db0a663",
       "outputs": [
        {
         "name": "stdout",
         "output_type": "stream",
         "text": "recipes:\n"
        }
       ]
      }
     },
     "f656a5dd793c40d6a4393b07e4f04325": {
      "model_module": "@jupyter-widgets/controls",
      "model_module_version": "1.5.0",
      "model_name": "VBoxModel",
      "state": {
       "children": [
        "IPY_MODEL_537eba6b510449d3bdca7732c9db0054",
        "IPY_MODEL_cb7ad459dd924c928e1b71f93ebc455e"
       ],
       "layout": "IPY_MODEL_89cc52a210a4472bad3ed6c476be52bc"
      }
     },
     "f6682ee68b59412b86834b3ba0a7328c": {
      "model_module": "@jupyter-widgets/controls",
      "model_module_version": "1.5.0",
      "model_name": "ButtonModel",
      "state": {
       "description": "37.35 Motor: +37.35",
       "layout": "IPY_MODEL_56eae548ea6e41abb16dd2b5c98cfdd1",
       "style": "IPY_MODEL_3b8eceec773145ec85cf91b585520669"
      }
     },
     "f6a46d0e251d4df593807f7a9f95e5c5": {
      "model_module": "@jupyter-widgets/base",
      "model_module_version": "1.2.0",
      "model_name": "LayoutModel",
      "state": {}
     },
     "f6d3b001b69943c1a2252fda2ce1e4da": {
      "model_module": "@jupyter-widgets/base",
      "model_module_version": "1.2.0",
      "model_name": "LayoutModel",
      "state": {}
     },
     "f6d472d162724c548f5446821262db8d": {
      "model_module": "@jupyter-widgets/controls",
      "model_module_version": "1.5.0",
      "model_name": "ButtonModel",
      "state": {
       "description": "Consume with recipe",
       "layout": "IPY_MODEL_6862a15e8652401c91d23c0281fa854a",
       "style": "IPY_MODEL_7067aaac8a7441bcb314e1047ccf4458"
      }
     },
     "f6e4543d80534574b6dc0967aebec40f": {
      "model_module": "@jupyter-widgets/base",
      "model_module_version": "1.2.0",
      "model_name": "LayoutModel",
      "state": {}
     },
     "f6ee9ac60538495aa04b6048eab3d9d4": {
      "model_module": "@jupyter-widgets/controls",
      "model_module_version": "1.5.0",
      "model_name": "ButtonModel",
      "state": {
       "description": "Build Factory",
       "layout": "IPY_MODEL_1c99652000b6434f97caaefc2845ecea",
       "style": "IPY_MODEL_385b754f2d7b46a0b79544f68168e8e4"
      }
     },
     "f6f26e82ff2a4d01999b3f373442e15f": {
      "model_module": "@jupyter-widgets/base",
      "model_module_version": "1.2.0",
      "model_name": "LayoutModel",
      "state": {}
     },
     "f704614540f4460aa2efbebb0757c7ba": {
      "model_module": "@jupyter-widgets/controls",
      "model_module_version": "1.5.0",
      "model_name": "ButtonModel",
      "state": {
       "description": "64.0 Assembler using Alternate: Compacted Coal",
       "layout": "IPY_MODEL_50c8605a220a41f9854478362a8e13c8",
       "style": "IPY_MODEL_c7ed9e46b329466592ffe8060a02f51e"
      }
     },
     "f710687239bb41d7980fda9766201e96": {
      "model_module": "@jupyter-widgets/controls",
      "model_module_version": "1.5.0",
      "model_name": "VBoxModel",
      "state": {
       "children": [
        "IPY_MODEL_5ebfbab45b6d411c9ac841d62203804c",
        "IPY_MODEL_8f0425dcd3af4439b616e9f8cf679ff7",
        "IPY_MODEL_533dc92185394a36a38e8d0e0d1ecbe0",
        "IPY_MODEL_25d71ddf32f84bb790c126c0dec28864",
        "IPY_MODEL_fd8027d8cb7344caad65d3f05c922665",
        "IPY_MODEL_d153dc5b130845a08e5fc38d929c1ff8",
        "IPY_MODEL_1702a4721cb24388aa7dd658ed849185",
        "IPY_MODEL_dcaaa17f60b44c779880021457ac9574",
        "IPY_MODEL_89267e5a50284d1aa8f93f63c0ec0d34"
       ],
       "layout": "IPY_MODEL_e35464695ba5421fa37608b6957b1964"
      }
     },
     "f7237726d8904c00bc74d853f1ad217e": {
      "model_module": "@jupyter-widgets/base",
      "model_module_version": "1.2.0",
      "model_name": "LayoutModel",
      "state": {}
     },
     "f7658b7cc073410eaadadc31f2a3b5da": {
      "model_module": "@jupyter-widgets/controls",
      "model_module_version": "1.5.0",
      "model_name": "ButtonStyleModel",
      "state": {}
     },
     "f774f98b495f40fb98f7ad29a2ec3543": {
      "model_module": "@jupyter-widgets/base",
      "model_module_version": "1.2.0",
      "model_name": "LayoutModel",
      "state": {}
     },
     "f7913685a8be45e5a84fc26f25b468ed": {
      "model_module": "@jupyter-widgets/controls",
      "model_module_version": "1.5.0",
      "model_name": "ButtonStyleModel",
      "state": {}
     },
     "f7b822e5641d43e692deac74a7435462": {
      "model_module": "@jupyter-widgets/base",
      "model_module_version": "1.2.0",
      "model_name": "LayoutModel",
      "state": {}
     },
     "f7cce4d69db44c21b8228662c67e91f6": {
      "model_module": "@jupyter-widgets/controls",
      "model_module_version": "1.5.0",
      "model_name": "VBoxModel",
      "state": {
       "children": [
        "IPY_MODEL_7137a654e36b476597108964bed6dc48",
        "IPY_MODEL_e00e210bd6f942c3a1f21f816a8dae04",
        "IPY_MODEL_7ac5356801b7464f8a5a365903f2b5f7",
        "IPY_MODEL_03201ff60e0d4045acd730cdde39d58c",
        "IPY_MODEL_18dae2ca1ee84963bee1de66f1eb7576",
        "IPY_MODEL_3c0ab6f604b24578ac55d35bf2c71f26",
        "IPY_MODEL_7805d6d5f7f04eb2b402aa0c3c5a6ea1",
        "IPY_MODEL_aabe26dcbba1410d9383d09b0931d639",
        "IPY_MODEL_f6682ee68b59412b86834b3ba0a7328c"
       ],
       "layout": "IPY_MODEL_e682cb51af274a46a8e8171ace83e900"
      }
     },
     "f8048f5f511c419c9af614a04e36e92c": {
      "model_module": "@jupyter-widgets/controls",
      "model_module_version": "1.5.0",
      "model_name": "HBoxModel",
      "state": {
       "children": [
        "IPY_MODEL_5363597b574745e097ed0118daef1f79",
        "IPY_MODEL_f9cd9bb4d1a0405f8f8259b0cc946946"
       ],
       "layout": "IPY_MODEL_6eaa175d225c4ba79f02589d1e03a673"
      }
     },
     "f814d93c6fa64e4c863db7bf881c04ad": {
      "model_module": "@jupyter-widgets/controls",
      "model_module_version": "1.5.0",
      "model_name": "ButtonModel",
      "state": {
       "description": "58.5 Limestone: 1141.5 of 1200.0",
       "layout": "IPY_MODEL_abd371dcae6144668a5205d1e1dc669d",
       "style": "IPY_MODEL_39b19be704354dd68008617e7857fed1"
      }
     },
     "f8a8c4f854e246049a60cfe6e5963550": {
      "model_module": "@jupyter-widgets/controls",
      "model_module_version": "1.5.0",
      "model_name": "DescriptionStyleModel",
      "state": {
       "description_width": ""
      }
     },
     "f8b52075a18e4930aaf8200001782b74": {
      "model_module": "@jupyter-widgets/controls",
      "model_module_version": "1.5.0",
      "model_name": "ButtonStyleModel",
      "state": {}
     },
     "f95c6a7891774e95a58af9943cb3bf7f": {
      "model_module": "@jupyter-widgets/base",
      "model_module_version": "1.2.0",
      "model_name": "LayoutModel",
      "state": {}
     },
     "f971e4d7fc404d80b991c51b6658cb30": {
      "model_module": "@jupyter-widgets/base",
      "model_module_version": "1.2.0",
      "model_name": "LayoutModel",
      "state": {}
     },
     "f973d4a69e9e404eaa0c1cd60e5ab08d": {
      "model_module": "@jupyter-widgets/base",
      "model_module_version": "1.2.0",
      "model_name": "LayoutModel",
      "state": {}
     },
     "f977cafc21df4f3db45cbc3ed0d1f041": {
      "model_module": "@jupyter-widgets/controls",
      "model_module_version": "1.5.0",
      "model_name": "LabelModel",
      "state": {
       "layout": "IPY_MODEL_daed339d27bc4d7da033e63f40143445",
       "style": "IPY_MODEL_a629c834d1f7437a973711ddaa7a9257",
       "value": "Item produced"
      }
     },
     "f983e554fd7744e49a32ae0743f2cf97": {
      "model_module": "@jupyter-widgets/base",
      "model_module_version": "1.2.0",
      "model_name": "LayoutModel",
      "state": {}
     },
     "f9899e22ddc44eb7a76309a50234f565": {
      "model_module": "@jupyter-widgets/base",
      "model_module_version": "1.2.0",
      "model_name": "LayoutModel",
      "state": {}
     },
     "f9b5fd41e8f14fc891fe2bffa328eeda": {
      "model_module": "@jupyter-widgets/controls",
      "model_module_version": "1.5.0",
      "model_name": "DescriptionStyleModel",
      "state": {
       "description_width": ""
      }
     },
     "f9cd9bb4d1a0405f8f8259b0cc946946": {
      "model_module": "@jupyter-widgets/controls",
      "model_module_version": "1.5.0",
      "model_name": "ButtonModel",
      "state": {
       "description": "Choose",
       "layout": "IPY_MODEL_eb754a2639284c809ffcf59ba109dbca",
       "style": "IPY_MODEL_bfe6076647be47e58d0149bdb6decabf"
      }
     },
     "f9ce21e431354482bcbf30b4d72bda24": {
      "model_module": "@jupyter-widgets/base",
      "model_module_version": "1.2.0",
      "model_name": "LayoutModel",
      "state": {}
     },
     "fa0405c6936345959538cc9e9873f3bb": {
      "model_module": "@jupyter-widgets/base",
      "model_module_version": "1.2.0",
      "model_name": "LayoutModel",
      "state": {}
     },
     "fa30bf636d514902ab00586a91afbe3c": {
      "model_module": "@jupyter-widgets/base",
      "model_module_version": "1.2.0",
      "model_name": "LayoutModel",
      "state": {}
     },
     "fa3616b0f0bb403caf5d22436b5077e2": {
      "model_module": "@jupyter-widgets/controls",
      "model_module_version": "1.5.0",
      "model_name": "ButtonStyleModel",
      "state": {}
     },
     "fa9b00dd193b4139aa87a28485acbed7": {
      "model_module": "@jupyter-widgets/controls",
      "model_module_version": "1.5.0",
      "model_name": "LabelModel",
      "state": {
       "layout": "IPY_MODEL_233191ad824a48689b4df9fd290f4b9c",
       "style": "IPY_MODEL_b9cab4bffe4944eb8e401d0abc712098",
       "value": "Recipe used"
      }
     },
     "facf3414cdfb42348c15adddcc75348d": {
      "model_module": "@jupyter-widgets/controls",
      "model_module_version": "1.5.0",
      "model_name": "ButtonModel",
      "state": {
       "description": "Build Factory",
       "layout": "IPY_MODEL_de6dedeb9a914889a59530a9814493a2",
       "style": "IPY_MODEL_b7dabb33658946639e2e957de97d6c18"
      }
     },
     "fb1afff89de645aba15f1a10721efea1": {
      "model_module": "@jupyter-widgets/output",
      "model_module_version": "1.0.0",
      "model_name": "OutputModel",
      "state": {
       "layout": "IPY_MODEL_9bb19c3a0fd64a8abb4ec5f4492f3a6f",
       "outputs": [
        {
         "name": "stdout",
         "output_type": "stream",
         "text": "recipes:\n"
        }
       ]
      }
     },
     "fb590da1ab4c41b1810a45414043718a": {
      "model_module": "@jupyter-widgets/controls",
      "model_module_version": "1.5.0",
      "model_name": "ButtonModel",
      "state": {
       "description": "0.0 Polymer Resin: 900.0 of 900.0",
       "layout": "IPY_MODEL_eed224ba7e984f4fa454628e803374bc",
       "style": "IPY_MODEL_8ca3e28d95754be08f2d44c50246c657"
      }
     },
     "fb69a1a0f0284d02ba8e6411164debdd": {
      "model_module": "@jupyter-widgets/controls",
      "model_module_version": "1.5.0",
      "model_name": "SelectModel",
      "state": {
       "index": null,
       "layout": "IPY_MODEL_30e2f63aa45b4705bd9902bc763aab49",
       "style": "IPY_MODEL_2de36aed5a134ea8bd6c99a78e127a15"
      }
     },
     "fbb8a9e552de4636b7378dad46172d2b": {
      "model_module": "@jupyter-widgets/base",
      "model_module_version": "1.2.0",
      "model_name": "LayoutModel",
      "state": {}
     },
     "fbc23ae06d584a6da5d1602f3bbe326f": {
      "model_module": "@jupyter-widgets/controls",
      "model_module_version": "1.5.0",
      "model_name": "DescriptionStyleModel",
      "state": {
       "description_width": ""
      }
     },
     "fbe24d1930a1456facbf561ceae2e73c": {
      "model_module": "@jupyter-widgets/controls",
      "model_module_version": "1.5.0",
      "model_name": "ButtonStyleModel",
      "state": {}
     },
     "fbe767268e344226b28add0943e9c2bc": {
      "model_module": "@jupyter-widgets/output",
      "model_module_version": "1.0.0",
      "model_name": "OutputModel",
      "state": {
       "layout": "IPY_MODEL_832567116c64423097cdc195b72af3a9"
      }
     },
     "fc5c2e207c634f9b953b2cadb758281b": {
      "model_module": "@jupyter-widgets/base",
      "model_module_version": "1.2.0",
      "model_name": "LayoutModel",
      "state": {}
     },
     "fc7c3c2973244df5baf9e55304c0838a": {
      "model_module": "@jupyter-widgets/controls",
      "model_module_version": "1.5.0",
      "model_name": "LabelModel",
      "state": {
       "layout": "IPY_MODEL_55a8db335dfa4f62a9d46b111e27dfaa",
       "style": "IPY_MODEL_c9ef98fe00a849d9ba09701c23fd55e2",
       "value": "Item produced"
      }
     },
     "fc978ea7d3ee4e0f8ed0772c529fa881": {
      "model_module": "@jupyter-widgets/base",
      "model_module_version": "1.2.0",
      "model_name": "LayoutModel",
      "state": {}
     },
     "fcae4c01c4cf4894955b1ca118e9f932": {
      "model_module": "@jupyter-widgets/controls",
      "model_module_version": "1.5.0",
      "model_name": "ButtonModel",
      "state": {
       "description": "7.47 Assembler using Motor",
       "layout": "IPY_MODEL_56eae548ea6e41abb16dd2b5c98cfdd1",
       "style": "IPY_MODEL_592744d859ec4ac2b09d5416da03e31c"
      }
     },
     "fcf5c0265f0c41b7998d950f7ec1aa20": {
      "model_module": "@jupyter-widgets/controls",
      "model_module_version": "1.5.0",
      "model_name": "HBoxModel",
      "state": {
       "layout": "IPY_MODEL_589199e1194446429ae4de44ad2437d2"
      }
     },
     "fd27108a6e1648a3b23c32c855c19c63": {
      "model_module": "@jupyter-widgets/controls",
      "model_module_version": "1.5.0",
      "model_name": "LabelModel",
      "state": {
       "layout": "IPY_MODEL_489e1c806b6440a4bff7123f7b096c16",
       "style": "IPY_MODEL_91a04e625036430a8dac981cf096f8eb",
       "value": "Recipe used"
      }
     },
     "fd8027d8cb7344caad65d3f05c922665": {
      "model_module": "@jupyter-widgets/controls",
      "model_module_version": "1.5.0",
      "model_name": "LabelModel",
      "state": {
       "layout": "IPY_MODEL_1a58bfb5c53d46f299e4863d319b371e",
       "style": "IPY_MODEL_cd7782421c6447fbb19f231e25fd2283",
       "value": "Recipe used"
      }
     },
     "fd9cf2ccca8740afb6f068709d5951db": {
      "model_module": "@jupyter-widgets/controls",
      "model_module_version": "1.5.0",
      "model_name": "ButtonStyleModel",
      "state": {}
     },
     "fdb3915df01449d684365685112bf67d": {
      "model_module": "@jupyter-widgets/controls",
      "model_module_version": "1.5.0",
      "model_name": "ButtonStyleModel",
      "state": {}
     },
     "fdb4db3a3d354e99ac1df46e5ba0ffa4": {
      "model_module": "@jupyter-widgets/base",
      "model_module_version": "1.2.0",
      "model_name": "LayoutModel",
      "state": {}
     },
     "fdb5031f99544fd7ae538cf674cdcb7b": {
      "model_module": "@jupyter-widgets/base",
      "model_module_version": "1.2.0",
      "model_name": "LayoutModel",
      "state": {}
     },
     "fdbbc4e97c96456697876a0964d94a48": {
      "model_module": "@jupyter-widgets/controls",
      "model_module_version": "1.5.0",
      "model_name": "FloatTextModel",
      "state": {
       "layout": "IPY_MODEL_9c9664297eae40b4900b539e7e8571c7",
       "step": null,
       "style": "IPY_MODEL_98564cb65a4d48fbbbd88773b418e26e"
      }
     },
     "fdc1e71295864aefabf2a2f0c19387fc": {
      "model_module": "@jupyter-widgets/base",
      "model_module_version": "1.2.0",
      "model_name": "LayoutModel",
      "state": {}
     },
     "fe7cd8ab2790459a8204700152cde952": {
      "model_module": "@jupyter-widgets/controls",
      "model_module_version": "1.5.0",
      "model_name": "ButtonModel",
      "state": {
       "description": "0.00999999999999801 Motor: 37.34 of 37.35",
       "layout": "IPY_MODEL_abd371dcae6144668a5205d1e1dc669d",
       "style": "IPY_MODEL_f1f808462dc847cf8ff484ff85114575"
      }
     },
     "fe8922da9647446a81851a95ce7f19c1": {
      "model_module": "@jupyter-widgets/base",
      "model_module_version": "1.2.0",
      "model_name": "LayoutModel",
      "state": {}
     },
     "fe9e24ec1495473a9c0419611ad7bfbe": {
      "model_module": "@jupyter-widgets/controls",
      "model_module_version": "1.5.0",
      "model_name": "VBoxModel",
      "state": {
       "children": [
        "IPY_MODEL_21007e36468d4589acfd20123ec23c64",
        "IPY_MODEL_6aa4342b91854906b85e600a538ab942"
       ],
       "layout": "IPY_MODEL_e8d8b0ed3a8d4a87a3204a4e62bfc306"
      }
     },
     "ff10c9caf8a940f88d45494a76c4b96d": {
      "model_module": "@jupyter-widgets/base",
      "model_module_version": "1.2.0",
      "model_name": "LayoutModel",
      "state": {}
     },
     "ff1712e7845841c68a215860cdb2848a": {
      "model_module": "@jupyter-widgets/base",
      "model_module_version": "1.2.0",
      "model_name": "LayoutModel",
      "state": {}
     },
     "ff2712bad71946fea2f85f5338977534": {
      "model_module": "@jupyter-widgets/controls",
      "model_module_version": "1.5.0",
      "model_name": "ButtonStyleModel",
      "state": {}
     },
     "ff4253040f904ad5ae792c1bd714dab3": {
      "model_module": "@jupyter-widgets/controls",
      "model_module_version": "1.5.0",
      "model_name": "ButtonStyleModel",
      "state": {}
     },
     "ff4463c80ea0459ca23449f74959a59b": {
      "model_module": "@jupyter-widgets/base",
      "model_module_version": "1.2.0",
      "model_name": "LayoutModel",
      "state": {}
     },
     "ff452d3e67b445ec93162ae5c9f0645c": {
      "model_module": "@jupyter-widgets/controls",
      "model_module_version": "1.5.0",
      "model_name": "DescriptionStyleModel",
      "state": {
       "description_width": ""
      }
     },
     "ff786cadecfd4f70b6b38890d652e6ce": {
      "model_module": "@jupyter-widgets/controls",
      "model_module_version": "1.5.0",
      "model_name": "ButtonModel",
      "state": {
       "description": "Produce with recipe",
       "layout": "IPY_MODEL_c30a52b8378f4f5281a53605cb95b39e",
       "style": "IPY_MODEL_ea8ed775da184628a28e3edfc5ce64d3"
      }
     },
     "fff53b3ab7bb40318e12cacfc6b56c4a": {
      "model_module": "@jupyter-widgets/base",
      "model_module_version": "1.2.0",
      "model_name": "LayoutModel",
      "state": {}
     }
    },
    "version_major": 2,
    "version_minor": 0
   }
  }
 },
 "nbformat": 4,
 "nbformat_minor": 4
}
