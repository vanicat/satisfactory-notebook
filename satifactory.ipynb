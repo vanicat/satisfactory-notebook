{
 "cells": [
  {
   "cell_type": "code",
   "execution_count": 1,
   "metadata": {},
   "outputs": [],
   "source": [
    "from enum import Enum, auto\n",
    "import math\n",
    "import json\n",
    "import sqlalchemy"
   ]
  },
  {
   "cell_type": "code",
   "execution_count": 2,
   "metadata": {},
   "outputs": [],
   "source": [
    "datas = sqlalchemy.create_engine('sqlite:///satisfactory.db', echo = True)"
   ]
  },
  {
   "cell_type": "markdown",
   "metadata": {},
   "source": [
    "Todo\n",
    "- [X] circuit board\n",
    "- [ ] High speed connector\n",
    "- [ ] computeur\n",
    "- [X] Cristal oscilator"
   ]
  },
  {
   "cell_type": "code",
   "execution_count": 3,
   "metadata": {},
   "outputs": [],
   "source": [
    "class R(Enum):\n",
    "    IronOre = auto()\n",
    "    CopperOre = auto()\n",
    "    Limestone = auto()\n",
    "    CateriumOre = auto()\n",
    "\n",
    "    Sulfur = auto()\n",
    "    Coal = auto()\n",
    "    \n",
    "    IronIngot = auto()\n",
    "    IronPlate = auto()\n",
    "    ReinforcedIronPlate = auto()\n",
    "    IronRod = auto()\n",
    "    Screw = auto()\n",
    "    ModularFrame = auto()\n",
    "    \n",
    "    SteelIngot = auto()\n",
    "    SteelBeam = auto()\n",
    "    SteelPipe = auto()\n",
    "    \n",
    "    Concrete = auto()\n",
    "    EncasedIndustrialBeam = auto()\n",
    "    \n",
    "    CopperIngot = auto()\n",
    "    CopperSheet = auto()\n",
    "    Wire = auto()\n",
    "    Cable = auto()\n",
    "    \n",
    "    CateriumIngot = auto()\n",
    "    QuickWire = auto()\n",
    "    AILimiter = auto()\n",
    "    CircuitBoard = auto()  \n",
    "    HighSpeedConnector = auto()\n",
    "    Computer = auto()\n",
    "    \n",
    "    Rotor = auto()\n",
    "    Stator = auto()\n",
    "    Motor = auto()\n",
    "    \n",
    "    HeavyModularFrame = auto()\n",
    "    \n",
    "    Rubber = auto()\n",
    "    Plastic = auto()\n",
    "    \n",
    "ore = [R.IronOre, R.Limestone, R.Coal, R.CateriumOre, R.CopperOre]\n",
    "\n",
    "#False ore\n",
    "ore.append(R.Rubber)\n",
    "ore.append(R.Plastic)\n",
    "    "
   ]
  },
  {
   "cell_type": "code",
   "execution_count": 4,
   "metadata": {},
   "outputs": [
    {
     "ename": "NameError",
     "evalue": "name 'recipes' is not defined",
     "output_type": "error",
     "traceback": [
      "\u001b[1;31m---------------------------------------------------------------------------\u001b[0m",
      "\u001b[1;31mNameError\u001b[0m                                 Traceback (most recent call last)",
      "\u001b[1;32m<ipython-input-4-b60e01ec6a8d>\u001b[0m in \u001b[0;36m<module>\u001b[1;34m\u001b[0m\n\u001b[1;32m----> 1\u001b[1;33m \u001b[1;32mfor\u001b[0m \u001b[0mi\u001b[0m \u001b[1;32min\u001b[0m \u001b[0mrecipes\u001b[0m\u001b[1;33m:\u001b[0m\u001b[1;33m\u001b[0m\u001b[1;33m\u001b[0m\u001b[0m\n\u001b[0m\u001b[0;32m      2\u001b[0m     \u001b[0mprint\u001b[0m\u001b[1;33m(\u001b[0m\u001b[0mi\u001b[0m\u001b[1;33m,\u001b[0m \u001b[0mrecipes\u001b[0m\u001b[1;33m[\u001b[0m\u001b[0mi\u001b[0m\u001b[1;33m]\u001b[0m\u001b[1;33m)\u001b[0m\u001b[1;33m\u001b[0m\u001b[1;33m\u001b[0m\u001b[0m\n\u001b[0;32m      3\u001b[0m     \u001b[1;32mbreak\u001b[0m\u001b[1;33m\u001b[0m\u001b[1;33m\u001b[0m\u001b[0m\n",
      "\u001b[1;31mNameError\u001b[0m: name 'recipes' is not defined"
     ]
    }
   ],
   "source": [
    "for i in recipes:\n",
    "    print(i, recipes[i])\n",
    "    break"
   ]
  },
  {
   "cell_type": "code",
   "execution_count": 5,
   "metadata": {},
   "outputs": [],
   "source": [
    "production = {}\n",
    "\n",
    "def add_production(product : R, rates, ressource: dict, subproduct = {}):\n",
    "    production[product] = (rates, ressource, subproduct)\n",
    "\n",
    "for i in  ore:\n",
    "    add_production(i, 60, {})\n",
    "\n",
    "add_production(R.IronIngot, 30, {R.IronOre: 1})\n",
    "add_production(R.IronPlate, 20, {R.IronIngot: 3/2})\n",
    "add_production(R.IronRod, 15, {R.IronIngot: 1})\n",
    "add_production(R.ReinforcedIronPlate, 5, {R.IronPlate: 6, R.Screw: 12})\n",
    "add_production(R.Screw, 40, {R.IronRod: 1/4})\n",
    "\n",
    "add_production(R.CopperIngot, 30, {R.CopperOre: 1})\n",
    "add_production(R.Wire, 30, {R.CopperIngot: 1/2})\n",
    "add_production(R.Cable, 30, {R.Wire: 2})\n",
    "add_production(R.CopperSheet, 10, {R.CopperIngot: 2})\n",
    "\n",
    "add_production(R.SteelBeam, 15, {R.SteelIngot: 4})\n",
    "add_production(R.SteelPipe, 20, {R.SteelIngot: 3/2})\n",
    "add_production(R.SteelIngot, 45, {R.IronOre: 1, R.Coal: 1})\n",
    "\n",
    "add_production(R.Concrete, 15, {R.Limestone: 3})\n",
    "add_production(R.EncasedIndustrialBeam,6,{R.SteelBeam: 4, R.Concrete: 5})\n",
    "\n",
    "add_production(R.CateriumIngot, 15, {R.CateriumOre: 1/3})\n",
    "add_production(R.QuickWire, 60, {R.CateriumIngot: 1/5})\n",
    "add_production(R.AILimiter, 5, {R.QuickWire: 20, R.CopperSheet: 5 })\n",
    "add_production(R.CircuitBoard, 7.5, {R.Plastic: 4, R.CopperSheet: 2})\n",
    "add_production(R.Computer, 2.5, {R.CircuitBoard: 10, R.Cable: 9, R.Plastic: 18, R.Screw: 52 })\n",
    "add_production(R.HighSpeedConnector, 3.75, {R.QuickWire: 56, R.Cable: 10, R.CircuitBoard: 1})\n",
    "\n",
    "add_production(R.Stator, 5, {R.SteelPipe: 3, R.Wire: 8})\n",
    "add_production(R.Rotor, 5, {R.IronRod: 5, R.Screw: 25})\n",
    "add_production(R.Motor, 5, {R.Rotor: 2, R.Stator: 2})\n",
    "\n",
    "add_production(R.ModularFrame, 2, {R.ReinforcedIronPlate: 3/2, R.IronRod: 12/2})\n",
    "add_production(R.HeavyModularFrame, 3.75, {R.ModularFrame: 5, R.EncasedIndustrialBeam: 3, R.Rubber: 20, R.Screw: 104})"
   ]
  },
  {
   "cell_type": "code",
   "execution_count": 6,
   "metadata": {},
   "outputs": [
    {
     "data": {
      "text/plain": [
       "{<R.IronOre: 1>: (60, {}, {}),\n",
       " <R.Limestone: 3>: (60, {}, {}),\n",
       " <R.Coal: 6>: (60, {}, {}),\n",
       " <R.CateriumOre: 4>: (60, {}, {}),\n",
       " <R.CopperOre: 2>: (60, {}, {}),\n",
       " <R.Rubber: 32>: (60, {}, {}),\n",
       " <R.Plastic: 33>: (60, {}, {}),\n",
       " <R.IronIngot: 7>: (30, {<R.IronOre: 1>: 1}, {}),\n",
       " <R.IronPlate: 8>: (20, {<R.IronIngot: 7>: 1.5}, {}),\n",
       " <R.IronRod: 10>: (15, {<R.IronIngot: 7>: 1}, {}),\n",
       " <R.ReinforcedIronPlate: 9>: (5, {<R.IronPlate: 8>: 6, <R.Screw: 11>: 12}, {}),\n",
       " <R.Screw: 11>: (40, {<R.IronRod: 10>: 0.25}, {}),\n",
       " <R.CopperIngot: 18>: (30, {<R.CopperOre: 2>: 1}, {}),\n",
       " <R.Wire: 20>: (30, {<R.CopperIngot: 18>: 0.5}, {}),\n",
       " <R.Cable: 21>: (30, {<R.Wire: 20>: 2}, {}),\n",
       " <R.CopperSheet: 19>: (10, {<R.CopperIngot: 18>: 2}, {}),\n",
       " <R.SteelBeam: 14>: (15, {<R.SteelIngot: 13>: 4}, {}),\n",
       " <R.SteelPipe: 15>: (20, {<R.SteelIngot: 13>: 1.5}, {}),\n",
       " <R.SteelIngot: 13>: (45, {<R.IronOre: 1>: 1, <R.Coal: 6>: 1}, {}),\n",
       " <R.Concrete: 16>: (15, {<R.Limestone: 3>: 3}, {}),\n",
       " <R.EncasedIndustrialBeam: 17>: (6,\n",
       "  {<R.SteelBeam: 14>: 4, <R.Concrete: 16>: 5},\n",
       "  {}),\n",
       " <R.CateriumIngot: 22>: (15, {<R.CateriumOre: 4>: 0.3333333333333333}, {}),\n",
       " <R.QuickWire: 23>: (60, {<R.CateriumIngot: 22>: 0.2}, {}),\n",
       " <R.AILimiter: 24>: (5, {<R.QuickWire: 23>: 20, <R.CopperSheet: 19>: 5}, {}),\n",
       " <R.CircuitBoard: 25>: (7.5, {<R.Plastic: 33>: 4, <R.CopperSheet: 19>: 2}, {}),\n",
       " <R.Computer: 27>: (2.5,\n",
       "  {<R.CircuitBoard: 25>: 10,\n",
       "   <R.Cable: 21>: 9,\n",
       "   <R.Plastic: 33>: 18,\n",
       "   <R.Screw: 11>: 52},\n",
       "  {}),\n",
       " <R.HighSpeedConnector: 26>: (3.75,\n",
       "  {<R.QuickWire: 23>: 56, <R.Cable: 21>: 10, <R.CircuitBoard: 25>: 1},\n",
       "  {}),\n",
       " <R.Stator: 29>: (5, {<R.SteelPipe: 15>: 3, <R.Wire: 20>: 8}, {}),\n",
       " <R.Rotor: 28>: (5, {<R.IronRod: 10>: 5, <R.Screw: 11>: 25}, {}),\n",
       " <R.Motor: 30>: (5, {<R.Rotor: 28>: 2, <R.Stator: 29>: 2}, {}),\n",
       " <R.ModularFrame: 12>: (2,\n",
       "  {<R.ReinforcedIronPlate: 9>: 1.5, <R.IronRod: 10>: 6.0},\n",
       "  {}),\n",
       " <R.HeavyModularFrame: 31>: (3.75,\n",
       "  {<R.ModularFrame: 12>: 5,\n",
       "   <R.EncasedIndustrialBeam: 17>: 3,\n",
       "   <R.Rubber: 32>: 20,\n",
       "   <R.Screw: 11>: 104},\n",
       "  {})}"
      ]
     },
     "execution_count": 6,
     "metadata": {},
     "output_type": "execute_result"
    }
   ],
   "source": [
    "production\n"
   ]
  },
  {
   "cell_type": "code",
   "execution_count": 7,
   "metadata": {},
   "outputs": [],
   "source": [
    "def prod(*args):\n",
    "    result = {}\n",
    "    if len(args) == 1:\n",
    "        rest = args[0][:]\n",
    "    else:\n",
    "        product, rate = args\n",
    "        rest = [(product, rate)]\n",
    "    subproduct = []\n",
    "    while rest:\n",
    "        p, rate = rest.pop()\n",
    "        e_rate, needed, subprod = production[p]\n",
    "        for ress in needed:\n",
    "            rest.append((ress, needed[ress] * rate))\n",
    "        \n",
    "        if p not in result:\n",
    "            result[p] = (0, 0)\n",
    "        usine, prod = result[p]\n",
    "        result[p] = (usine + rate/e_rate, prod + rate)\n",
    "    \n",
    "    # il faudrait retirer les sousproduits qui sont utilisé\n",
    "    for p in result:\n",
    "        usine, prod = result[p]\n",
    "        result[p] = (usine, prod, usine/math.ceil(usine))\n",
    "    return result, subproduct\n",
    "\n",
    "def manual_prod(product, quantiti):\n",
    "    rest = [(product, quantiti)]\n",
    "    result = {}\n",
    "    while rest:\n",
    "        p, q = rest.pop()\n",
    "        _, needed, _ = production[p]\n",
    "        for ress in needed:\n",
    "            rest.append((ress, needed[ress] * q))\n",
    "        \n",
    "        if p not in result:\n",
    "            result[p] = 0\n",
    "        result[p] += q\n",
    "    \n",
    "    return result\n",
    "\n",
    "def add_needed(n1, n2):\n",
    "    items = set(n1).union(set(n2))\n",
    "    result = {}\n",
    "    for i in items:\n",
    "        if i in n1:\n",
    "            if i in n2:\n",
    "                u1, q1, p1 = n1[i]\n",
    "                u2, q2, p2 = n2[i]\n",
    "                result[i] = (u1 + u2, q1 + q2, (u1 + u2) / math.ceil(u1 + u2))\n",
    "            else:\n",
    "                result[i] = n1[i]\n",
    "        else:\n",
    "            assert i in n2\n",
    "            result[i] = n2[i]\n",
    "    return result\n",
    "\n",
    "def sub2_needed(n1, n2):\n",
    "    items = set(n1).union(set(n2))\n",
    "    result = {}\n",
    "    for i in items:\n",
    "        if i in n1:\n",
    "            if i in n2:\n",
    "                u1, q1, p1 = n1[i]\n",
    "                u2, q2, p2 = n2[i]\n",
    "                if q1 != q2:\n",
    "                    u = u1 - u2\n",
    "                    result[i] = (u, q1 - q2, u/math.ceil(u))\n",
    "            else:\n",
    "                result[i] = n1[i]\n",
    "        else:\n",
    "            assert i in n2\n",
    "            u2, q2, p2 = n2[i]\n",
    "            result[i] = (- u2, - q2, -p2)\n",
    "    return result\n",
    "\n",
    "def sub_needed(*args):\n",
    "    r = add_needed(args[0], args[0])\n",
    "    for k in args:\n",
    "        r = sub2_needed(r, k)\n",
    "    return r\n",
    "\n",
    "\n",
    "def pourcentage(needed):\n",
    "    return {i: needed[i][0] / math.ceil(needed[i][0]) for i in needed }\n",
    "        "
   ]
  },
  {
   "cell_type": "code",
   "execution_count": 8,
   "metadata": {},
   "outputs": [
    {
     "data": {
      "text/plain": [
       "{<R.Computer: 27>: (1.0, 2.5, 1.0),\n",
       " <R.Screw: 11>: (3.25, 130.0, 0.8125),\n",
       " <R.IronRod: 10>: (2.1666666666666665, 32.5, 0.7222222222222222),\n",
       " <R.IronIngot: 7>: (1.0833333333333333, 32.5, 0.5416666666666666),\n",
       " <R.IronOre: 1>: (0.5416666666666666, 32.5, 0.5416666666666666),\n",
       " <R.Plastic: 33>: (2.416666666666667, 145.0, 0.8055555555555557),\n",
       " <R.Cable: 21>: (0.75, 22.5, 0.75),\n",
       " <R.Wire: 20>: (1.5, 45.0, 0.75),\n",
       " <R.CopperIngot: 18>: (4.083333333333334, 122.5, 0.8166666666666668),\n",
       " <R.CopperOre: 2>: (2.041666666666667, 122.5, 0.6805555555555557),\n",
       " <R.CircuitBoard: 25>: (3.3333333333333335, 25.0, 0.8333333333333334),\n",
       " <R.CopperSheet: 19>: (5.0, 50.0, 1.0)}"
      ]
     },
     "execution_count": 8,
     "metadata": {},
     "output_type": "execute_result"
    }
   ],
   "source": [
    "comp, _ = prod(R.Computer, 2.5)\n",
    "comp"
   ]
  },
  {
   "cell_type": "code",
   "execution_count": 9,
   "metadata": {},
   "outputs": [
    {
     "data": {
      "text/plain": [
       "{<R.Computer: 27>: (1.0, 2.5, 1.0),\n",
       " <R.Plastic: 33>: (2.416666666666667, 145.0, 0.8055555555555557),\n",
       " <R.Screw: 11>: (3.25, 130.0, 0.8125),\n",
       " <R.CircuitBoard: 25>: (3.3333333333333335, 25.0, 0.8333333333333334)}"
      ]
     },
     "execution_count": 9,
     "metadata": {},
     "output_type": "execute_result"
    }
   ],
   "source": [
    "cable = prod(R.Cable, comp[R.Cable][1])[0]\n",
    "coppersheet = prod(R.CopperSheet, comp[R.CopperSheet][1])[0]\n",
    "rod = prod(R.IronRod, comp[R.IronIngot][1])[0]\n",
    "sub_needed(comp, cable, coppersheet, rod)"
   ]
  },
  {
   "cell_type": "code",
   "execution_count": 10,
   "metadata": {},
   "outputs": [
    {
     "ename": "TypeError",
     "evalue": "manual_prod() missing 2 required positional arguments: 'product' and 'quantiti'",
     "output_type": "error",
     "traceback": [
      "\u001b[1;31m---------------------------------------------------------------------------\u001b[0m",
      "\u001b[1;31mTypeError\u001b[0m                                 Traceback (most recent call last)",
      "\u001b[1;32m<ipython-input-10-822bd667c396>\u001b[0m in \u001b[0;36m<module>\u001b[1;34m\u001b[0m\n\u001b[1;32m----> 1\u001b[1;33m \u001b[0mmanual_prod\u001b[0m\u001b[1;33m(\u001b[0m\u001b[1;33m)\u001b[0m\u001b[1;33m\u001b[0m\u001b[1;33m\u001b[0m\u001b[0m\n\u001b[0m",
      "\u001b[1;31mTypeError\u001b[0m: manual_prod() missing 2 required positional arguments: 'product' and 'quantiti'"
     ]
    }
   ],
   "source": [
    "manual_prod()"
   ]
  },
  {
   "cell_type": "code",
   "execution_count": 11,
   "metadata": {},
   "outputs": [
    {
     "data": {
      "text/plain": [
       "750.0"
      ]
     },
     "execution_count": 11,
     "metadata": {},
     "output_type": "execute_result"
    }
   ],
   "source": [
    "100 * 7.5 "
   ]
  },
  {
   "cell_type": "code",
   "execution_count": 12,
   "metadata": {},
   "outputs": [
    {
     "data": {
      "text/plain": [
       "<function R.mro()>"
      ]
     },
     "execution_count": 12,
     "metadata": {},
     "output_type": "execute_result"
    }
   ],
   "source": [
    "R.mro"
   ]
  },
  {
   "cell_type": "code",
   "execution_count": 13,
   "metadata": {},
   "outputs": [
    {
     "data": {
      "text/plain": [
       "480"
      ]
     },
     "execution_count": 13,
     "metadata": {},
     "output_type": "execute_result"
    }
   ],
   "source": [
    "16*30"
   ]
  },
  {
   "cell_type": "code",
   "execution_count": 14,
   "metadata": {},
   "outputs": [
    {
     "data": {
      "text/plain": [
       "13.333333333333334"
      ]
     },
     "execution_count": 14,
     "metadata": {},
     "output_type": "execute_result"
    }
   ],
   "source": [
    "200/15"
   ]
  },
  {
   "cell_type": "code",
   "execution_count": null,
   "metadata": {},
   "outputs": [],
   "source": []
  },
  {
   "cell_type": "code",
   "execution_count": null,
   "metadata": {},
   "outputs": [],
   "source": []
  }
 ],
 "metadata": {
  "kernelspec": {
   "display_name": "Python 3",
   "language": "python",
   "name": "python3"
  },
  "language_info": {
   "codemirror_mode": {
    "name": "ipython",
    "version": 3
   },
   "file_extension": ".py",
   "mimetype": "text/x-python",
   "name": "python",
   "nbconvert_exporter": "python",
   "pygments_lexer": "ipython3",
   "version": "3.7.3"
  }
 },
 "nbformat": 4,
 "nbformat_minor": 4
}
