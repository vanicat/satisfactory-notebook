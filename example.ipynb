{
 "cells": [
  {
   "cell_type": "markdown",
   "id": "spanish-creation",
   "metadata": {},
   "source": [
    "# simple example notebook"
   ]
  },
  {
   "cell_type": "markdown",
   "id": "usual-nicaragua",
   "metadata": {},
   "source": [
    "If you read this, you probably already have installed jupyter.\n",
    "\n",
    "You need then to read the following cells"
   ]
  },
  {
   "cell_type": "markdown",
   "id": "surprising-minority",
   "metadata": {},
   "source": [
    "# some installation\n",
    "We need to install ipywidgets: the following will do it.\n",
    "If you use anaconda, conda can also do it.\n",
    "\n",
    "More information [on ipywidget web site](https://ipywidgets.readthedocs.io/en/latest/user_install.html)\n",
    "\n",
    "You just need to do this only once!"
   ]
  },
  {
   "cell_type": "code",
   "execution_count": null,
   "id": "dynamic-french",
   "metadata": {},
   "outputs": [],
   "source": [
    "!pip install ipywidgets\n",
    "!jupyter nbextension enable --py widgetsnbextension"
   ]
  },
  {
   "cell_type": "markdown",
   "id": "fitting-receipt",
   "metadata": {},
   "source": [
    "Then this use a database we must create: open the [create_satisfactory_db.ipynb](create_satisfactory_db.ipynb) notebook, run every cell, it will automaticaly create for us. \n",
    "\n",
    "The datas used comme from the source of Tomáš Blatný [Satisfacroy Tools](https://github.com/greeny/SatisfactoryTools/tree/dev/data), you can download the `data.json` file there, rename it `satisfactory.json` if you want to update it.\n",
    "\n",
    "(if you want to use his tools, you will find theme [there](https://www.satisfactorytools.com/))"
   ]
  },
  {
   "cell_type": "markdown",
   "id": "insured-bandwidth",
   "metadata": {},
   "source": [
    "# Satisfactory magic\n",
    "\n",
    "First, lets import my code"
   ]
  },
  {
   "cell_type": "code",
   "execution_count": 6,
   "id": "aware-crest",
   "metadata": {},
   "outputs": [],
   "source": [
    "from interactive_satisfactory import ResultOfProd, shopping_list"
   ]
  },
  {
   "cell_type": "markdown",
   "id": "binding-german",
   "metadata": {},
   "source": [
    "If not result is printed, its working.\n",
    "\n",
    "Then lets use one resultOfProd: "
   ]
  },
  {
   "cell_type": "code",
   "execution_count": 5,
   "id": "neither-english",
   "metadata": {},
   "outputs": [
    {
     "data": {
      "application/vnd.jupyter.widget-view+json": {
       "model_id": "b2b00e6cb3ca49cdb5e9fd4b0f275623",
       "version_major": 2,
       "version_minor": 0
      },
      "text/plain": [
       "VBox(children=(HBox(children=(VBox(children=(Label(value='Items'), VBox(children=(HBox(children=(Text(value=''…"
      ]
     },
     "metadata": {},
     "output_type": "display_data"
    }
   ],
   "source": [
    "with ResultOfProd(\"example\") as example:\n",
    "    pass\n"
   ]
  },
  {
   "cell_type": "markdown",
   "id": "arbitrary-peninsula",
   "metadata": {},
   "source": [
    "## How to use it? \n",
    "\n",
    "You can now search for items, or for recipe.\n",
    "\n",
    "When an item is selected, you can \n",
    "- click on `product` to find recipes that produce it\n",
    "- click on `ingredient` to find recipes thas consume it\n",
    "- choose a quantity, click on `Add` to tell the system that you already havec the items\n",
    "\n",
    "When a recipe is selected, you can\n",
    "- click on product to find what will be made by it\n",
    "- click on ingred to find what will be use by it.\n",
    "- choose a quantity, click on `Add factory` to tell the system you plan to build this amount of factory\n",
    "- choose a quantity, click on `Build factory` to tell the system you have built this amount of factory\n",
    "\n",
    "`Consume with recipe` and `produce with recipe` need a quantity, an item and a recipe, and will use this amount (or produce this amount) with the recipe.\n",
    "\n",
    "Most of this action will add line to `logs`: if you copy and paste those line to replace the `pass`. Then your plan will be rembered by jupyter on save (otherwise all may be lost). \n",
    "\n",
    "## Advanced topic\n",
    "\n",
    "In the code you copy, you can (most often) remove the quatity (and the leading comma): \n",
    "- `consume_with_recipe` will consume all that is available, \n",
    "- `produce_with_recipe` will produce all that is needed.\n",
    "\n",
    "If you know about sympy, you can also use sympy variable as quantity, and magic could happen!"
   ]
  },
  {
   "cell_type": "code",
   "execution_count": 11,
   "id": "focused-property",
   "metadata": {},
   "outputs": [
    {
     "name": "stdout",
     "output_type": "stream",
     "text": [
      "how much fabric we have: 2.8125\n"
     ]
    },
    {
     "data": {
      "application/vnd.jupyter.widget-view+json": {
       "model_id": "ef48ec4217444548a178221e9ac91727",
       "version_major": 2,
       "version_minor": 0
      },
      "text/plain": [
       "VBox(children=(HBox(children=(VBox(children=(Label(value='Items'), VBox(children=(HBox(children=(Text(value=''…"
      ]
     },
     "metadata": {},
     "output_type": "display_data"
    },
    {
     "data": {
      "text/plain": [
       "{'Motor': 110,\n",
       " 'Heavy Modular Frame': 30,\n",
       " 'Aluminum Casing': 150,\n",
       " 'Radio Control Unit': 15,\n",
       " 'Encased Industrial Beam': 50,\n",
       " 'Steel Pipe': 150,\n",
       " 'Copper Sheet': 100}"
      ]
     },
     "execution_count": 11,
     "metadata": {},
     "output_type": "execute_result"
    }
   ],
   "source": [
    "with ResultOfProd(\"example2\") as example2:\n",
    "    example2.add_recipe('Alternate: Turbo Blend Fuel', 2.0)\n",
    "\n",
    "    # Number has been removed : we produce what is needed\n",
    "    example2.produce_with_recipe('Petroleum Coke', 'Petroleum Coke')\n",
    "    example2.produce_with_recipe('Alternate: Diluted Fuel', 'Fuel')\n",
    "    example2.produce_with_recipe('Alternate: Heavy Oil Residue', 'Heavy Oil Residue')\n",
    "    \n",
    "    # For this one, we consume what is available\n",
    "    example2.consume_with_recipe('Alternate: Polyester Fabric', 'Polymer Resin')\n",
    "    \n",
    "    print(f\"how much fabric we have: {example2['Fabric']}\")\n",
    "# What is needed to build all this:\n",
    "shopping_list(example2.building())"
   ]
  }
 ],
 "metadata": {
  "kernelspec": {
   "display_name": "Python 3",
   "language": "python",
   "name": "python3"
  },
  "language_info": {
   "codemirror_mode": {
    "name": "ipython",
    "version": 3
   },
   "file_extension": ".py",
   "mimetype": "text/x-python",
   "name": "python",
   "nbconvert_exporter": "python",
   "pygments_lexer": "ipython3",
   "version": "3.7.3"
  }
 },
 "nbformat": 4,
 "nbformat_minor": 5
}
