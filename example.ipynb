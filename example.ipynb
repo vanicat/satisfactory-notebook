{
 "cells": [
  {
   "cell_type": "markdown",
   "id": "foster-statement",
   "metadata": {},
   "source": [
    "# simple example notebook"
   ]
  },
  {
   "cell_type": "markdown",
   "id": "exact-singapore",
   "metadata": {},
   "source": [
    "If you read this, you probably already have installed jupyter.\n",
    "\n",
    "You need then to read the following cells"
   ]
  },
  {
   "cell_type": "markdown",
   "id": "brown-republic",
   "metadata": {},
   "source": [
    "# some installation\n",
    "We need to install ipywidgets: the following will do it.\n",
    "If you use anaconda, conda can also do it.\n",
    "\n",
    "More information [on ipywidget web site](https://ipywidgets.readthedocs.io/en/latest/user_install.html)\n",
    "\n",
    "You just need to do this only once!"
   ]
  },
  {
   "cell_type": "code",
   "execution_count": null,
   "id": "average-ending",
   "metadata": {},
   "outputs": [],
   "source": [
    "!pip install ipywidgets\n",
    "!jupyter nbextension enable --py widgetsnbextension"
   ]
  },
  {
   "cell_type": "markdown",
   "id": "limited-optics",
   "metadata": {},
   "source": [
    "Then this use a database we must create: open the [create_satisfactory_db.ipynb] notebook, run every cell, it will automaticaly create for us. \n",
    "\n",
    "The datas used comme from the source of Tomáš Blatný [Satisfacroy Tools](https://github.com/greeny/SatisfactoryTools/tree/dev/data), you can download the `data.json` file there, rename it `satisfactory.json` if you want to update it.\n",
    "\n",
    "(if you want to use his tools, you will find theme [there](https://www.satisfactorytools.com/))"
   ]
  },
  {
   "cell_type": "markdown",
   "id": "proper-pointer",
   "metadata": {},
   "source": [
    "# Satisfactory magic\n",
    "\n",
    "First, lets import my code"
   ]
  },
  {
   "cell_type": "code",
   "execution_count": 5,
   "id": "immune-deviation",
   "metadata": {},
   "outputs": [],
   "source": [
    "from interactive_satisfactory import ResultOfProd"
   ]
  },
  {
   "cell_type": "markdown",
   "id": "remarkable-preserve",
   "metadata": {},
   "source": [
    "If not result is printed, its working.\n",
    "\n",
    "Then lets use one resultOfProd: (and yes, the leading space in `\"    example\"` are usefull)"
   ]
  },
  {
   "cell_type": "code",
   "execution_count": 7,
   "id": "pursuant-recognition",
   "metadata": {},
   "outputs": [
    {
     "data": {
      "application/vnd.jupyter.widget-view+json": {
       "model_id": "be7a700f6922404bb4b3e25a1da682bb",
       "version_major": 2,
       "version_minor": 0
      },
      "text/plain": [
       "VBox(children=(HBox(children=(VBox(children=(Label(value='Items'), VBox(children=(HBox(children=(Text(value=''…"
      ]
     },
     "metadata": {},
     "output_type": "display_data"
    }
   ],
   "source": [
    "with ResultOfProd(\"    example\") as example:\n",
    "    pass"
   ]
  },
  {
   "cell_type": "markdown",
   "id": "loving-trance",
   "metadata": {},
   "source": [
    "## How to use it? \n",
    "\n",
    "You can now search for items, or for recipe.\n",
    "\n",
    "When an item is selected, you can \n",
    "- click on `product` to find recipes that produce it\n",
    "- click on `ingredient` to find recipes thas consume it\n",
    "- choose a quantity, click on `Add` to tell the system that you already havec the items\n",
    "\n",
    "When a recipe is selected, you can\n",
    "- click on product to find what will be made by it\n",
    "- click on ingred to find what will be use by it.\n",
    "- choose a quantity, click on `Add factory` to tell the system you plan to build this amount of factory\n",
    "- choose a quantity, click on `Build factory` to tell the system you have built this amount of factory\n",
    "\n",
    "`Consume with recipe` and `produce with recipe` need a quantity, an item and a recipe, and will use this amount (or produce this amount) with the recipe.\n",
    "\n",
    "Most of this action will add line to `logs`: if you copy and paste those line to replace the `pass`. Then your plan will be rembered by jupyter on save (otherwise all may be lost). \n",
    "\n",
    "## Advanced topic\n",
    "\n",
    "In the code you copy, you can (most often) remove the quatity (and the leading comma): \n",
    "- `consume_with_recipe` will consume all that is available, \n",
    "- `produce_with_recipe` will produce all that is needed.\n",
    "\n",
    "If you know about sympy, you can also use sympy variable as quantity, and magic could happen!"
   ]
  },
  {
   "cell_type": "code",
   "execution_count": null,
   "id": "mighty-empire",
   "metadata": {},
   "outputs": [],
   "source": []
  }
 ],
 "metadata": {
  "kernelspec": {
   "display_name": "Python 3",
   "language": "python",
   "name": "python3"
  },
  "language_info": {
   "codemirror_mode": {
    "name": "ipython",
    "version": 3
   },
   "file_extension": ".py",
   "mimetype": "text/x-python",
   "name": "python",
   "nbconvert_exporter": "python",
   "pygments_lexer": "ipython3",
   "version": "3.7.3"
  }
 },
 "nbformat": 4,
 "nbformat_minor": 5
}
